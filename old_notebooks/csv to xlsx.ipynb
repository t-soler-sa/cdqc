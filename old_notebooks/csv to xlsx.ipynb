{
 "cells": [
  {
   "cell_type": "code",
   "execution_count": 1,
   "id": "3885df20",
   "metadata": {},
   "outputs": [],
   "source": [
    "# ¿Why are we doing this?\n",
    "\n",
    "\n",
    "## DF\n",
    "#Librerías\n",
    "import numpy as np\n",
    "import pandas as pd"
   ]
  },
  {
   "cell_type": "code",
   "execution_count": 2,
   "id": "51f3337f",
   "metadata": {},
   "outputs": [],
   "source": [
    "#Fichero Sustainalytics\n",
    "file = pd.read_csv('C:/Users/n629352/Downloads/new filter (4)_04032024.csv', sep=',',dtype='unicode',encoding='latin-1')"
   ]
  },
  {
   "cell_type": "code",
   "execution_count": 3,
   "id": "fd638c0b",
   "metadata": {},
   "outputs": [],
   "source": [
    "#Fichero Crossreference\n",
    "file = pd.read_csv('X:/INVDESPRO/INVESTIGACION/Fondos éticos/3. DATASETS/03_Cross Reference/0ld/Aladdin_Clarity_Issuers_20240301.csv', sep=',',dtype='unicode',encoding='latin-1')"
   ]
  },
  {
   "cell_type": "code",
   "execution_count": 4,
   "id": "616c2830",
   "metadata": {},
   "outputs": [
    {
     "name": "stdout",
     "output_type": "stream",
     "text": [
      "<class 'pandas.core.frame.DataFrame'>\n",
      "RangeIndex: 115452 entries, 0 to 115451\n",
      "Data columns (total 3 columns):\n",
      " #   Column          Non-Null Count   Dtype \n",
      "---  ------          --------------   ----- \n",
      " 0   Aladdin_Issuer  115452 non-null  object\n",
      " 1   Issuer_Name     115452 non-null  object\n",
      " 2   CLARITY_AI      115452 non-null  object\n",
      "dtypes: object(3)\n",
      "memory usage: 2.6+ MB\n"
     ]
    }
   ],
   "source": [
    "file.info()"
   ]
  },
  {
   "cell_type": "code",
   "execution_count": 4,
   "id": "c1bd0054",
   "metadata": {},
   "outputs": [],
   "source": [
    "#Fichero convertido Sustainalytics\n",
    "file.to_excel('C:/Users/n629352/Downloads/new filter (4)_04032024.xlsx', index=None, header=True)"
   ]
  },
  {
   "cell_type": "code",
   "execution_count": 5,
   "id": "e97b1493",
   "metadata": {},
   "outputs": [],
   "source": [
    "#Fichero convertido Crossreference\n",
    "file.to_excel('X:/INVDESPRO/INVESTIGACION/Fondos éticos/3. DATASETS/03_Cross Reference/20240301_Aladdin_Clarity_Issuers.xlsx', index=None, header=True)"
   ]
  },
  {
   "cell_type": "code",
   "execution_count": null,
   "id": "8f9c2824",
   "metadata": {},
   "outputs": [],
   "source": []
  }
 ],
 "metadata": {
  "kernelspec": {
   "display_name": "Python 3 (ipykernel)",
   "language": "python",
   "name": "python3"
  },
  "language_info": {
   "codemirror_mode": {
    "name": "ipython",
    "version": 3
   },
   "file_extension": ".py",
   "mimetype": "text/x-python",
   "name": "python",
   "nbconvert_exporter": "python",
   "pygments_lexer": "ipython3",
   "version": "3.9.12"
  }
 },
 "nbformat": 4,
 "nbformat_minor": 5
}
