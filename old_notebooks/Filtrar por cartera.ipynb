{
 "cells": [
  {
   "cell_type": "code",
   "execution_count": 1,
   "id": "01f653a8",
   "metadata": {},
   "outputs": [],
   "source": [
    "## DF\n",
    "#Librerías\n",
    "import numpy as np\n",
    "import pandas as pd"
   ]
  },
  {
   "cell_type": "code",
   "execution_count": 2,
   "id": "16d2c7fb",
   "metadata": {},
   "outputs": [],
   "source": [
    "#crossreference del mes \n",
    "\n",
    "crossreference=pd.read_excel('X:/INVDESPRO/INVESTIGACION/Fondos éticos/3. DATASETS/03_Cross Reference/20240101_Aladdin_Clarity_Issuers.xlsx')"
   ]
  },
  {
   "cell_type": "code",
   "execution_count": 3,
   "id": "6b47b90c",
   "metadata": {},
   "outputs": [
    {
     "name": "stderr",
     "output_type": "stream",
     "text": [
      "C:\\Program Files\\Anaconda3\\lib\\site-packages\\openpyxl\\styles\\stylesheet.py:226: UserWarning: Workbook contains no default style, apply openpyxl's default\n",
      "  warn(\"Workbook contains no default style, apply openpyxl's default\")\n"
     ]
    }
   ],
   "source": [
    "#Carteras, sustituir por cartera a utilizar --> `C:/Users/nXXXXXX/Downloads/xxxxxx.xlsx`. Descargar de Aladdin (Workspace: Descarga_Incumplimientos)\n",
    "file_path= 'C:/Users/n629352/Downloads/Risk and exposure - 2024-01-16T092912.080.xlsx'\n",
    "Carteras =pd.read_excel(file_path, sheet_name =None, skiprows=4)\n"
   ]
  },
  {
   "cell_type": "code",
   "execution_count": 4,
   "id": "c70bd9a9",
   "metadata": {},
   "outputs": [
    {
     "name": "stdout",
     "output_type": "stream",
     "text": [
      "<class 'pandas.core.frame.DataFrame'>\n",
      "RangeIndex: 75285 entries, 0 to 75284\n",
      "Data columns (total 5 columns):\n",
      " #   Column       Non-Null Count  Dtype  \n",
      "---  ------       --------------  -----  \n",
      " 0   SNT-WORLD    75284 non-null  object \n",
      " 1   SNT-WORLD.1  75282 non-null  object \n",
      " 2   1.0          75282 non-null  float64\n",
      " 3   Unnamed: 3   60405 non-null  object \n",
      " 4   Unnamed: 4   75282 non-null  object \n",
      "dtypes: float64(1), object(4)\n",
      "memory usage: 2.9+ MB\n"
     ]
    },
    {
     "data": {
      "text/html": [
       "<div>\n",
       "<style scoped>\n",
       "    .dataframe tbody tr th:only-of-type {\n",
       "        vertical-align: middle;\n",
       "    }\n",
       "\n",
       "    .dataframe tbody tr th {\n",
       "        vertical-align: top;\n",
       "    }\n",
       "\n",
       "    .dataframe thead th {\n",
       "        text-align: right;\n",
       "    }\n",
       "</style>\n",
       "<table border=\"1\" class=\"dataframe\">\n",
       "  <thead>\n",
       "    <tr style=\"text-align: right;\">\n",
       "      <th></th>\n",
       "      <th>SNT-WORLD</th>\n",
       "      <th>SNT-WORLD.1</th>\n",
       "      <th>1.0</th>\n",
       "      <th>Unnamed: 3</th>\n",
       "      <th>Unnamed: 4</th>\n",
       "    </tr>\n",
       "  </thead>\n",
       "  <tbody>\n",
       "    <tr>\n",
       "      <th>0</th>\n",
       "      <td>11 BIT STUDIOS SA</td>\n",
       "      <td>SNT-WORLD</td>\n",
       "      <td>0.0</td>\n",
       "      <td>F79892</td>\n",
       "      <td>PLSFIO0519</td>\n",
       "    </tr>\n",
       "    <tr>\n",
       "      <th>1</th>\n",
       "      <td>11 BIT STUDIOS SA</td>\n",
       "      <td>SNT-WORLD</td>\n",
       "      <td>0.0</td>\n",
       "      <td>F79892</td>\n",
       "      <td>PLSFIO0085</td>\n",
       "    </tr>\n",
       "    <tr>\n",
       "      <th>2</th>\n",
       "      <td>11 BIT STUDIOS SA</td>\n",
       "      <td>SNT-WORLD</td>\n",
       "      <td>0.0</td>\n",
       "      <td>F79892</td>\n",
       "      <td>PLFIO00337</td>\n",
       "    </tr>\n",
       "    <tr>\n",
       "      <th>3</th>\n",
       "      <td>11 BIT STUDIOS SA</td>\n",
       "      <td>SNT-WORLD</td>\n",
       "      <td>0.0</td>\n",
       "      <td>F79892</td>\n",
       "      <td>PLFIO00003</td>\n",
       "    </tr>\n",
       "    <tr>\n",
       "      <th>4</th>\n",
       "      <td>11 BIT STUDIOS SA</td>\n",
       "      <td>SNT-WORLD</td>\n",
       "      <td>0.0</td>\n",
       "      <td>F79892</td>\n",
       "      <td>PLFIO00004</td>\n",
       "    </tr>\n",
       "  </tbody>\n",
       "</table>\n",
       "</div>"
      ],
      "text/plain": [
       "           SNT-WORLD SNT-WORLD.1  1.0 Unnamed: 3  Unnamed: 4\n",
       "0  11 BIT STUDIOS SA   SNT-WORLD  0.0     F79892  PLSFIO0519\n",
       "1  11 BIT STUDIOS SA   SNT-WORLD  0.0     F79892  PLSFIO0085\n",
       "2  11 BIT STUDIOS SA   SNT-WORLD  0.0     F79892  PLFIO00337\n",
       "3  11 BIT STUDIOS SA   SNT-WORLD  0.0     F79892  PLFIO00003\n",
       "4  11 BIT STUDIOS SA   SNT-WORLD  0.0     F79892  PLFIO00004"
      ]
     },
     "execution_count": 4,
     "metadata": {},
     "output_type": "execute_result"
    }
   ],
   "source": [
    "Carteras= pd.concat(Carteras.values(), ignore_index=True)\n",
    "Carteras.info()\n",
    "Carteras.head()"
   ]
  },
  {
   "cell_type": "code",
   "execution_count": 5,
   "id": "f9cf54cd",
   "metadata": {},
   "outputs": [
    {
     "name": "stdout",
     "output_type": "stream",
     "text": [
      "<class 'pandas.core.frame.DataFrame'>\n",
      "RangeIndex: 75285 entries, 0 to 75284\n",
      "Data columns (total 3 columns):\n",
      " #   Column      Non-Null Count  Dtype \n",
      "---  ------      --------------  ----- \n",
      " 0   IssuerID    75284 non-null  object\n",
      " 1   IssuerName  60405 non-null  object\n",
      " 2   Portfolio   75282 non-null  object\n",
      "dtypes: object(3)\n",
      "memory usage: 1.7+ MB\n"
     ]
    },
    {
     "data": {
      "text/html": [
       "<div>\n",
       "<style scoped>\n",
       "    .dataframe tbody tr th:only-of-type {\n",
       "        vertical-align: middle;\n",
       "    }\n",
       "\n",
       "    .dataframe tbody tr th {\n",
       "        vertical-align: top;\n",
       "    }\n",
       "\n",
       "    .dataframe thead th {\n",
       "        text-align: right;\n",
       "    }\n",
       "</style>\n",
       "<table border=\"1\" class=\"dataframe\">\n",
       "  <thead>\n",
       "    <tr style=\"text-align: right;\">\n",
       "      <th></th>\n",
       "      <th>IssuerID</th>\n",
       "      <th>IssuerName</th>\n",
       "      <th>Portfolio</th>\n",
       "    </tr>\n",
       "  </thead>\n",
       "  <tbody>\n",
       "    <tr>\n",
       "      <th>0</th>\n",
       "      <td>11 BIT STUDIOS SA</td>\n",
       "      <td>F79892</td>\n",
       "      <td>PLSFIO0519</td>\n",
       "    </tr>\n",
       "    <tr>\n",
       "      <th>1</th>\n",
       "      <td>11 BIT STUDIOS SA</td>\n",
       "      <td>F79892</td>\n",
       "      <td>PLSFIO0085</td>\n",
       "    </tr>\n",
       "    <tr>\n",
       "      <th>2</th>\n",
       "      <td>11 BIT STUDIOS SA</td>\n",
       "      <td>F79892</td>\n",
       "      <td>PLFIO00337</td>\n",
       "    </tr>\n",
       "    <tr>\n",
       "      <th>3</th>\n",
       "      <td>11 BIT STUDIOS SA</td>\n",
       "      <td>F79892</td>\n",
       "      <td>PLFIO00003</td>\n",
       "    </tr>\n",
       "    <tr>\n",
       "      <th>4</th>\n",
       "      <td>11 BIT STUDIOS SA</td>\n",
       "      <td>F79892</td>\n",
       "      <td>PLFIO00004</td>\n",
       "    </tr>\n",
       "  </tbody>\n",
       "</table>\n",
       "</div>"
      ],
      "text/plain": [
       "            IssuerID IssuerName   Portfolio\n",
       "0  11 BIT STUDIOS SA     F79892  PLSFIO0519\n",
       "1  11 BIT STUDIOS SA     F79892  PLSFIO0085\n",
       "2  11 BIT STUDIOS SA     F79892  PLFIO00337\n",
       "3  11 BIT STUDIOS SA     F79892  PLFIO00003\n",
       "4  11 BIT STUDIOS SA     F79892  PLFIO00004"
      ]
     },
     "execution_count": 5,
     "metadata": {},
     "output_type": "execute_result"
    }
   ],
   "source": [
    "carteras_filtered=Carteras.iloc[:,[0,3,4]]\n",
    "carteras_filtered.columns = ['IssuerID', 'IssuerName','Portfolio']\n",
    "carteras_filtered.info()\n",
    "carteras_filtered.head()"
   ]
  },
  {
   "cell_type": "code",
   "execution_count": 6,
   "id": "59be0510",
   "metadata": {},
   "outputs": [
    {
     "name": "stdout",
     "output_type": "stream",
     "text": [
      "<class 'pandas.core.frame.DataFrame'>\n",
      "RangeIndex: 115452 entries, 0 to 115451\n",
      "Data columns (total 3 columns):\n",
      " #   Column      Non-Null Count   Dtype \n",
      "---  ------      --------------   ----- \n",
      " 0   permId      115452 non-null  int64 \n",
      " 1   IssuerID    115452 non-null  object\n",
      " 2   IssuerName  115452 non-null  object\n",
      "dtypes: int64(1), object(2)\n",
      "memory usage: 2.6+ MB\n"
     ]
    },
    {
     "data": {
      "text/html": [
       "<div>\n",
       "<style scoped>\n",
       "    .dataframe tbody tr th:only-of-type {\n",
       "        vertical-align: middle;\n",
       "    }\n",
       "\n",
       "    .dataframe tbody tr th {\n",
       "        vertical-align: top;\n",
       "    }\n",
       "\n",
       "    .dataframe thead th {\n",
       "        text-align: right;\n",
       "    }\n",
       "</style>\n",
       "<table border=\"1\" class=\"dataframe\">\n",
       "  <thead>\n",
       "    <tr style=\"text-align: right;\">\n",
       "      <th></th>\n",
       "      <th>permId</th>\n",
       "      <th>IssuerID</th>\n",
       "      <th>IssuerName</th>\n",
       "    </tr>\n",
       "  </thead>\n",
       "  <tbody>\n",
       "    <tr>\n",
       "      <th>0</th>\n",
       "      <td>4295903254</td>\n",
       "      <td>000176</td>\n",
       "      <td>AMERICAN AIRLINES GROUP INC</td>\n",
       "    </tr>\n",
       "    <tr>\n",
       "      <th>1</th>\n",
       "      <td>4295894740</td>\n",
       "      <td>000375</td>\n",
       "      <td>BP PLC</td>\n",
       "    </tr>\n",
       "    <tr>\n",
       "      <th>2</th>\n",
       "      <td>4295890743</td>\n",
       "      <td>00038A</td>\n",
       "      <td>ABB LTD</td>\n",
       "    </tr>\n",
       "    <tr>\n",
       "      <th>3</th>\n",
       "      <td>4296540158</td>\n",
       "      <td>00077B</td>\n",
       "      <td>NATWEST MARKETS NV</td>\n",
       "    </tr>\n",
       "    <tr>\n",
       "      <th>4</th>\n",
       "      <td>4296435746</td>\n",
       "      <td>00138E</td>\n",
       "      <td>AIG MATCHED FUNDING CORPORATION</td>\n",
       "    </tr>\n",
       "  </tbody>\n",
       "</table>\n",
       "</div>"
      ],
      "text/plain": [
       "       permId IssuerID                       IssuerName\n",
       "0  4295903254   000176      AMERICAN AIRLINES GROUP INC\n",
       "1  4295894740   000375                           BP PLC\n",
       "2  4295890743   00038A                          ABB LTD\n",
       "3  4296540158   00077B               NATWEST MARKETS NV\n",
       "4  4296435746   00138E  AIG MATCHED FUNDING CORPORATION"
      ]
     },
     "execution_count": 6,
     "metadata": {},
     "output_type": "execute_result"
    }
   ],
   "source": [
    "#Cambio de nombre, orden y tipo\n",
    "crossreference.columns= ['IssuerID', 'IssuerName', 'permId']\n",
    "crossreference= crossreference[['permId','IssuerID', 'IssuerName']]\n",
    "crossreference['permId']= crossreference['permId'].astype('int64')\n",
    "crossreference.info()\n",
    "crossreference.head()\n"
   ]
  },
  {
   "cell_type": "code",
   "execution_count": 7,
   "id": "beedf2c2",
   "metadata": {},
   "outputs": [],
   "source": [
    "#STR001\n",
    "carteras_filtered_1= carteras_filtered.copy()\n",
    "conditions= carteras_filtered_1['Portfolio'].isin([\"FPH00457\",\"EPH00107\",\"FPG00028\",\"FPG01214\",\"FPG00027\",\"FPG00603\",\"FPG01213\",\"EPV00060\",\"EPV00064\",\"EPV00063\",\"EPV00062\",\"EPV00061\",\"FIG05273\",\"FPB01158\",\"FIG05240\",\"FIG05241\",\"FIG05402\",\"FIG00677\",\"PFI01541\"])\n"
   ]
  },
  {
   "cell_type": "code",
   "execution_count": 8,
   "id": "26604410",
   "metadata": {},
   "outputs": [
    {
     "name": "stdout",
     "output_type": "stream",
     "text": [
      "<class 'pandas.core.frame.DataFrame'>\n",
      "Int64Index: 3717 entries, 80 to 75280\n",
      "Data columns (total 3 columns):\n",
      " #   Column      Non-Null Count  Dtype \n",
      "---  ------      --------------  ----- \n",
      " 0   IssuerName  3717 non-null   object\n",
      " 1   IssuerID    3717 non-null   object\n",
      " 2   Portfolio   3717 non-null   object\n",
      "dtypes: object(3)\n",
      "memory usage: 116.2+ KB\n"
     ]
    },
    {
     "data": {
      "text/html": [
       "<div>\n",
       "<style scoped>\n",
       "    .dataframe tbody tr th:only-of-type {\n",
       "        vertical-align: middle;\n",
       "    }\n",
       "\n",
       "    .dataframe tbody tr th {\n",
       "        vertical-align: top;\n",
       "    }\n",
       "\n",
       "    .dataframe thead th {\n",
       "        text-align: right;\n",
       "    }\n",
       "</style>\n",
       "<table border=\"1\" class=\"dataframe\">\n",
       "  <thead>\n",
       "    <tr style=\"text-align: right;\">\n",
       "      <th></th>\n",
       "      <th>IssuerName</th>\n",
       "      <th>IssuerID</th>\n",
       "      <th>Portfolio</th>\n",
       "    </tr>\n",
       "  </thead>\n",
       "  <tbody>\n",
       "    <tr>\n",
       "      <th>80</th>\n",
       "      <td>A2A SPA MTN RegS</td>\n",
       "      <td>R44750</td>\n",
       "      <td>FIG05402</td>\n",
       "    </tr>\n",
       "    <tr>\n",
       "      <th>86</th>\n",
       "      <td>A2A SPA MTN RegS</td>\n",
       "      <td>R44750</td>\n",
       "      <td>FIG00677</td>\n",
       "    </tr>\n",
       "    <tr>\n",
       "      <th>90</th>\n",
       "      <td>A2A SPA MTN RegS</td>\n",
       "      <td>R44750</td>\n",
       "      <td>FIG05240</td>\n",
       "    </tr>\n",
       "    <tr>\n",
       "      <th>91</th>\n",
       "      <td>A2A SPA MTN RegS</td>\n",
       "      <td>R44750</td>\n",
       "      <td>FIG05241</td>\n",
       "    </tr>\n",
       "    <tr>\n",
       "      <th>92</th>\n",
       "      <td>A2A SPA MTN RegS</td>\n",
       "      <td>R44750</td>\n",
       "      <td>FPB01158</td>\n",
       "    </tr>\n",
       "  </tbody>\n",
       "</table>\n",
       "</div>"
      ],
      "text/plain": [
       "          IssuerName IssuerID Portfolio\n",
       "80  A2A SPA MTN RegS   R44750  FIG05402\n",
       "86  A2A SPA MTN RegS   R44750  FIG00677\n",
       "90  A2A SPA MTN RegS   R44750  FIG05240\n",
       "91  A2A SPA MTN RegS   R44750  FIG05241\n",
       "92  A2A SPA MTN RegS   R44750  FPB01158"
      ]
     },
     "execution_count": 8,
     "metadata": {},
     "output_type": "execute_result"
    }
   ],
   "source": [
    "STR001= carteras_filtered_1[conditions].dropna().copy()#elimino datos vacios null\n",
    "STR001.columns= ['IssuerName', 'IssuerID', 'Portfolio']\n",
    "STR001.info()\n",
    "STR001.head()"
   ]
  },
  {
   "cell_type": "code",
   "execution_count": 9,
   "id": "a2fd7c18",
   "metadata": {},
   "outputs": [],
   "source": [
    "STR001=pd.merge(STR001,crossreference, on='IssuerID', how='left')"
   ]
  },
  {
   "cell_type": "code",
   "execution_count": 10,
   "id": "56334194",
   "metadata": {},
   "outputs": [
    {
     "data": {
      "text/html": [
       "<div>\n",
       "<style scoped>\n",
       "    .dataframe tbody tr th:only-of-type {\n",
       "        vertical-align: middle;\n",
       "    }\n",
       "\n",
       "    .dataframe tbody tr th {\n",
       "        vertical-align: top;\n",
       "    }\n",
       "\n",
       "    .dataframe thead th {\n",
       "        text-align: right;\n",
       "    }\n",
       "</style>\n",
       "<table border=\"1\" class=\"dataframe\">\n",
       "  <thead>\n",
       "    <tr style=\"text-align: right;\">\n",
       "      <th></th>\n",
       "      <th>IssuerName_x</th>\n",
       "      <th>IssuerID</th>\n",
       "      <th>Portfolio</th>\n",
       "      <th>permId</th>\n",
       "      <th>IssuerName_y</th>\n",
       "    </tr>\n",
       "  </thead>\n",
       "  <tbody>\n",
       "    <tr>\n",
       "      <th>0</th>\n",
       "      <td>A2A SPA MTN RegS</td>\n",
       "      <td>R44750</td>\n",
       "      <td>FIG05402</td>\n",
       "      <td>5.000005e+09</td>\n",
       "      <td>A2A SPA</td>\n",
       "    </tr>\n",
       "    <tr>\n",
       "      <th>1</th>\n",
       "      <td>A2A SPA MTN RegS</td>\n",
       "      <td>R44750</td>\n",
       "      <td>FIG00677</td>\n",
       "      <td>5.000005e+09</td>\n",
       "      <td>A2A SPA</td>\n",
       "    </tr>\n",
       "    <tr>\n",
       "      <th>2</th>\n",
       "      <td>A2A SPA MTN RegS</td>\n",
       "      <td>R44750</td>\n",
       "      <td>FIG05240</td>\n",
       "      <td>5.000005e+09</td>\n",
       "      <td>A2A SPA</td>\n",
       "    </tr>\n",
       "    <tr>\n",
       "      <th>3</th>\n",
       "      <td>A2A SPA MTN RegS</td>\n",
       "      <td>R44750</td>\n",
       "      <td>FIG05241</td>\n",
       "      <td>5.000005e+09</td>\n",
       "      <td>A2A SPA</td>\n",
       "    </tr>\n",
       "    <tr>\n",
       "      <th>4</th>\n",
       "      <td>A2A SPA MTN RegS</td>\n",
       "      <td>R44750</td>\n",
       "      <td>FPB01158</td>\n",
       "      <td>5.000005e+09</td>\n",
       "      <td>A2A SPA</td>\n",
       "    </tr>\n",
       "  </tbody>\n",
       "</table>\n",
       "</div>"
      ],
      "text/plain": [
       "       IssuerName_x IssuerID Portfolio        permId IssuerName_y\n",
       "0  A2A SPA MTN RegS   R44750  FIG05402  5.000005e+09      A2A SPA\n",
       "1  A2A SPA MTN RegS   R44750  FIG00677  5.000005e+09      A2A SPA\n",
       "2  A2A SPA MTN RegS   R44750  FIG05240  5.000005e+09      A2A SPA\n",
       "3  A2A SPA MTN RegS   R44750  FIG05241  5.000005e+09      A2A SPA\n",
       "4  A2A SPA MTN RegS   R44750  FPB01158  5.000005e+09      A2A SPA"
      ]
     },
     "execution_count": 10,
     "metadata": {},
     "output_type": "execute_result"
    }
   ],
   "source": [
    "STR001.head()"
   ]
  },
  {
   "cell_type": "code",
   "execution_count": 11,
   "id": "6c6dfaf4",
   "metadata": {},
   "outputs": [],
   "source": [
    "STR001 = STR001.drop(columns='IssuerName_y')"
   ]
  },
  {
   "cell_type": "code",
   "execution_count": 12,
   "id": "cbd4d102",
   "metadata": {},
   "outputs": [],
   "source": [
    "STR001 = STR001.drop(columns='IssuerID')"
   ]
  },
  {
   "cell_type": "code",
   "execution_count": 13,
   "id": "8009468f",
   "metadata": {},
   "outputs": [
    {
     "data": {
      "text/html": [
       "<div>\n",
       "<style scoped>\n",
       "    .dataframe tbody tr th:only-of-type {\n",
       "        vertical-align: middle;\n",
       "    }\n",
       "\n",
       "    .dataframe tbody tr th {\n",
       "        vertical-align: top;\n",
       "    }\n",
       "\n",
       "    .dataframe thead th {\n",
       "        text-align: right;\n",
       "    }\n",
       "</style>\n",
       "<table border=\"1\" class=\"dataframe\">\n",
       "  <thead>\n",
       "    <tr style=\"text-align: right;\">\n",
       "      <th></th>\n",
       "      <th>IssuerName_x</th>\n",
       "      <th>Portfolio</th>\n",
       "      <th>permId</th>\n",
       "    </tr>\n",
       "  </thead>\n",
       "  <tbody>\n",
       "    <tr>\n",
       "      <th>0</th>\n",
       "      <td>A2A SPA MTN RegS</td>\n",
       "      <td>FIG05402</td>\n",
       "      <td>5.000005e+09</td>\n",
       "    </tr>\n",
       "    <tr>\n",
       "      <th>1</th>\n",
       "      <td>A2A SPA MTN RegS</td>\n",
       "      <td>FIG00677</td>\n",
       "      <td>5.000005e+09</td>\n",
       "    </tr>\n",
       "    <tr>\n",
       "      <th>2</th>\n",
       "      <td>A2A SPA MTN RegS</td>\n",
       "      <td>FIG05240</td>\n",
       "      <td>5.000005e+09</td>\n",
       "    </tr>\n",
       "    <tr>\n",
       "      <th>3</th>\n",
       "      <td>A2A SPA MTN RegS</td>\n",
       "      <td>FIG05241</td>\n",
       "      <td>5.000005e+09</td>\n",
       "    </tr>\n",
       "    <tr>\n",
       "      <th>4</th>\n",
       "      <td>A2A SPA MTN RegS</td>\n",
       "      <td>FPB01158</td>\n",
       "      <td>5.000005e+09</td>\n",
       "    </tr>\n",
       "  </tbody>\n",
       "</table>\n",
       "</div>"
      ],
      "text/plain": [
       "       IssuerName_x Portfolio        permId\n",
       "0  A2A SPA MTN RegS  FIG05402  5.000005e+09\n",
       "1  A2A SPA MTN RegS  FIG00677  5.000005e+09\n",
       "2  A2A SPA MTN RegS  FIG05240  5.000005e+09\n",
       "3  A2A SPA MTN RegS  FIG05241  5.000005e+09\n",
       "4  A2A SPA MTN RegS  FPB01158  5.000005e+09"
      ]
     },
     "execution_count": 13,
     "metadata": {},
     "output_type": "execute_result"
    }
   ],
   "source": [
    "STR001.head()"
   ]
  },
  {
   "cell_type": "code",
   "execution_count": 14,
   "id": "0d26d695",
   "metadata": {},
   "outputs": [],
   "source": [
    "#Fichero convertido\n",
    "STR001.to_excel('C:/Users/n629352/Downloads/STR001.xlsx', index=None, header=True)"
   ]
  },
  {
   "cell_type": "code",
   "execution_count": null,
   "id": "2e36fc28",
   "metadata": {},
   "outputs": [],
   "source": []
  }
 ],
 "metadata": {
  "kernelspec": {
   "display_name": "Python 3 (ipykernel)",
   "language": "python",
   "name": "python3"
  },
  "language_info": {
   "codemirror_mode": {
    "name": "ipython",
    "version": 3
   },
   "file_extension": ".py",
   "mimetype": "text/x-python",
   "name": "python",
   "nbconvert_exporter": "python",
   "pygments_lexer": "ipython3",
   "version": "3.9.12"
  }
 },
 "nbformat": 4,
 "nbformat_minor": 5
}
