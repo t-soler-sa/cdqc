{
 "cells": [
  {
   "cell_type": "code",
   "execution_count": 1,
   "id": "b46cc518",
   "metadata": {},
   "outputs": [
    {
     "name": "stdout",
     "output_type": "stream",
     "text": [
      "1.4.2\n"
     ]
    }
   ],
   "source": [
    "## DF\n",
    "#Librerías\n",
    "import numpy as np\n",
    "import pandas as pd\n",
    "import pandas\n",
    "print(pandas.__version__)"
   ]
  },
  {
   "cell_type": "code",
   "execution_count": 2,
   "id": "b9bed08c",
   "metadata": {},
   "outputs": [
    {
     "name": "stdout",
     "output_type": "stream",
     "text": [
      "Python 3.9.12\n"
     ]
    }
   ],
   "source": [
    "!python --version"
   ]
  },
  {
   "cell_type": "code",
   "execution_count": 3,
   "id": "e2aa8de3",
   "metadata": {},
   "outputs": [
    {
     "data": {
      "text/plain": [
       "'1.4.2'"
      ]
     },
     "execution_count": 3,
     "metadata": {},
     "output_type": "execute_result"
    }
   ],
   "source": [
    "pd.__version__"
   ]
  },
  {
   "cell_type": "code",
   "execution_count": 4,
   "id": "8e7294ae",
   "metadata": {},
   "outputs": [],
   "source": [
    "#Read Sustainalytics file mes anterior\n",
    "Sust_before=pd.read_csv('X:/INVDESPRO/INVESTIGACION/Fondos éticos/3. DATASETS/04_Datos Clarity/01_Equities_feed/DF_para_python/Sustainalytics/new filter (4)_27122023.csv', sep=',', dtype='unicode', encoding='latin-1')"
   ]
  },
  {
   "cell_type": "code",
   "execution_count": 5,
   "id": "109de50c",
   "metadata": {},
   "outputs": [],
   "source": [
    "#Read Sustainalytics file mes actual\n",
    "Sust_after=pd.read_csv('X:/INVDESPRO/INVESTIGACION/Fondos éticos/3. DATASETS/04_Datos Clarity/01_Equities_feed/DF_para_python/Sustainalytics/new filter (4)_05022024.csv', sep=',', dtype='unicode', encoding='latin-1')"
   ]
  },
  {
   "cell_type": "code",
   "execution_count": 6,
   "id": "d2153d0a",
   "metadata": {},
   "outputs": [],
   "source": [
    "#columnas correspondientes en ambos dataframes\n",
    "Sust_before_sr = Sust_before.loc[:, ['Entity Name', 'Entity ID', 'Highest Controversy Level-Answer Category']]\n",
    "Sust_after_sr = Sust_after.loc[:, ['Entity Name', 'Entity ID', 'Highest Controversy Level-Answer Category']]"
   ]
  },
  {
   "cell_type": "code",
   "execution_count": 7,
   "id": "09b2faf7",
   "metadata": {},
   "outputs": [],
   "source": [
    "Sust_before_sr = Sust_before_sr.drop_duplicates()\n",
    "Sust_after_sr = Sust_after_sr.drop_duplicates()"
   ]
  },
  {
   "cell_type": "code",
   "execution_count": 8,
   "id": "2580f1e8",
   "metadata": {},
   "outputs": [
    {
     "name": "stdout",
     "output_type": "stream",
     "text": [
      "<class 'pandas.core.frame.DataFrame'>\n",
      "Int64Index: 17195 entries, 0 to 17194\n",
      "Data columns (total 3 columns):\n",
      " #   Column                                     Non-Null Count  Dtype \n",
      "---  ------                                     --------------  ----- \n",
      " 0   Entity Name                                17195 non-null  object\n",
      " 1   Entity ID                                  17195 non-null  object\n",
      " 2   Highest Controversy Level-Answer Category  17195 non-null  object\n",
      "dtypes: object(3)\n",
      "memory usage: 537.3+ KB\n",
      "<class 'pandas.core.frame.DataFrame'>\n",
      "Int64Index: 17100 entries, 0 to 17099\n",
      "Data columns (total 3 columns):\n",
      " #   Column                                     Non-Null Count  Dtype \n",
      "---  ------                                     --------------  ----- \n",
      " 0   Entity Name                                17100 non-null  object\n",
      " 1   Entity ID                                  17100 non-null  object\n",
      " 2   Highest Controversy Level-Answer Category  17100 non-null  object\n",
      "dtypes: object(3)\n",
      "memory usage: 534.4+ KB\n"
     ]
    }
   ],
   "source": [
    "Sust_before_sr.info()\n",
    "Sust_after_sr.info()"
   ]
  },
  {
   "cell_type": "code",
   "execution_count": 9,
   "id": "3d375074",
   "metadata": {},
   "outputs": [],
   "source": [
    "# Cambinar en función de Entity ID\n",
    "Sust_merged_sr = pd.merge(Sust_before_sr, Sust_after_sr, on='Entity ID',suffixes=('_before', '_after'))"
   ]
  },
  {
   "cell_type": "code",
   "execution_count": 10,
   "id": "e992ba23",
   "metadata": {},
   "outputs": [
    {
     "name": "stdout",
     "output_type": "stream",
     "text": [
      "<class 'pandas.core.frame.DataFrame'>\n",
      "Int64Index: 16728 entries, 0 to 16727\n",
      "Data columns (total 5 columns):\n",
      " #   Column                                            Non-Null Count  Dtype \n",
      "---  ------                                            --------------  ----- \n",
      " 0   Entity Name_before                                16728 non-null  object\n",
      " 1   Entity ID                                         16728 non-null  object\n",
      " 2   Highest Controversy Level-Answer Category_before  16728 non-null  object\n",
      " 3   Entity Name_after                                 16728 non-null  object\n",
      " 4   Highest Controversy Level-Answer Category_after   16728 non-null  object\n",
      "dtypes: object(5)\n",
      "memory usage: 784.1+ KB\n"
     ]
    }
   ],
   "source": [
    "Sust_merged_sr.head()\n",
    "Sust_merged_sr.info()"
   ]
  },
  {
   "cell_type": "code",
   "execution_count": 11,
   "id": "fa027943",
   "metadata": {},
   "outputs": [
    {
     "name": "stdout",
     "output_type": "stream",
     "text": [
      "<class 'pandas.core.frame.DataFrame'>\n",
      "Int64Index: 16728 entries, 0 to 16727\n",
      "Data columns (total 5 columns):\n",
      " #   Column                                            Non-Null Count  Dtype \n",
      "---  ------                                            --------------  ----- \n",
      " 0   Entity Name_before                                16728 non-null  object\n",
      " 1   Entity ID                                         16728 non-null  object\n",
      " 2   Highest Controversy Level-Answer Category_before  16728 non-null  object\n",
      " 3   Entity Name_after                                 16728 non-null  object\n",
      " 4   Highest Controversy Level-Answer Category_after   16728 non-null  object\n",
      "dtypes: object(5)\n",
      "memory usage: 784.1+ KB\n"
     ]
    }
   ],
   "source": [
    "Sust_merged_sr_without_duplicates = Sust_merged_sr.drop_duplicates()\n",
    "Sust_merged_sr_without_duplicates.info()"
   ]
  },
  {
   "cell_type": "code",
   "execution_count": 12,
   "id": "d98d0c1d",
   "metadata": {},
   "outputs": [],
   "source": [
    "Sust_merged_sr_without_duplicates.drop(['Entity Name_after'], axis = 'columns', inplace=True)\n",
    "Sust_merged_sr_without_duplicates.rename(columns = {'Entity Name_before':'Entity Name'},inplace =True)\n",
    "Sust_merged_sr_without_duplicates= Sust_merged_sr_without_duplicates[['Entity ID','Entity Name', 'Highest Controversy Level-Answer Category_before','Highest Controversy Level-Answer Category_after']] "
   ]
  },
  {
   "cell_type": "code",
   "execution_count": 13,
   "id": "d05cee3e",
   "metadata": {},
   "outputs": [
    {
     "name": "stdout",
     "output_type": "stream",
     "text": [
      "<class 'pandas.core.frame.DataFrame'>\n",
      "Int64Index: 16728 entries, 0 to 16727\n",
      "Data columns (total 4 columns):\n",
      " #   Column                                            Non-Null Count  Dtype \n",
      "---  ------                                            --------------  ----- \n",
      " 0   Entity ID                                         16728 non-null  object\n",
      " 1   Entity Name                                       16728 non-null  object\n",
      " 2   Highest Controversy Level-Answer Category_before  16728 non-null  object\n",
      " 3   Highest Controversy Level-Answer Category_after   16728 non-null  object\n",
      "dtypes: object(4)\n",
      "memory usage: 653.4+ KB\n"
     ]
    }
   ],
   "source": [
    "Sust_merged_sr_without_duplicates.info()"
   ]
  },
  {
   "cell_type": "code",
   "execution_count": 14,
   "id": "68f538a9",
   "metadata": {},
   "outputs": [],
   "source": [
    "# Crear columna de variación, verificación\n",
    "Sust_merged_sr_without_duplicates['Variation_Controversy'] = Sust_merged_sr_without_duplicates.apply(\n",
    "    lambda row: row['Highest Controversy Level-Answer Category_before'] != row['Highest Controversy Level-Answer Category_after'], axis=1)"
   ]
  },
  {
   "cell_type": "code",
   "execution_count": 15,
   "id": "eb09f502",
   "metadata": {},
   "outputs": [
    {
     "name": "stdout",
     "output_type": "stream",
     "text": [
      "<class 'pandas.core.frame.DataFrame'>\n",
      "Int64Index: 16728 entries, 0 to 16727\n",
      "Data columns (total 5 columns):\n",
      " #   Column                                            Non-Null Count  Dtype \n",
      "---  ------                                            --------------  ----- \n",
      " 0   Entity ID                                         16728 non-null  object\n",
      " 1   Entity Name                                       16728 non-null  object\n",
      " 2   Highest Controversy Level-Answer Category_before  16728 non-null  object\n",
      " 3   Highest Controversy Level-Answer Category_after   16728 non-null  object\n",
      " 4   Variation_Controversy                             16728 non-null  bool  \n",
      "dtypes: bool(1), object(4)\n",
      "memory usage: 669.8+ KB\n"
     ]
    }
   ],
   "source": [
    "Sust_merged_sr_without_duplicates.head()\n",
    "Sust_merged_sr_without_duplicates.info()"
   ]
  },
  {
   "cell_type": "code",
   "execution_count": 16,
   "id": "7c60d193",
   "metadata": {},
   "outputs": [
    {
     "data": {
      "text/plain": [
       "1264207944    1\n",
       "2008963406    1\n",
       "1020982926    1\n",
       "2008416189    1\n",
       "2000970938    1\n",
       "             ..\n",
       "2011201107    1\n",
       "2013521440    1\n",
       "2000062857    1\n",
       "2006841838    1\n",
       "2006129006    1\n",
       "Name: Entity ID, Length: 16728, dtype: int64"
      ]
     },
     "execution_count": 16,
     "metadata": {},
     "output_type": "execute_result"
    }
   ],
   "source": [
    "Sust_merged_sr_without_duplicates['Entity ID'].value_counts()"
   ]
  },
  {
   "cell_type": "code",
   "execution_count": 17,
   "id": "5b311ada",
   "metadata": {},
   "outputs": [],
   "source": [
    "# Crear una lista con el orden deseado de las columnas\n",
    "column_order = ['Entity ID','Entity Name'] + [col for col in Sust_merged_sr_without_duplicates.columns if col not in ['Entity ID','Entity Name']]\n",
    "\n",
    "# Reordenar las columnas del dataframe según la lista creada\n",
    "Sust_merged_sr_without_duplicates = Sust_merged_sr_without_duplicates.reindex(columns=column_order)"
   ]
  },
  {
   "cell_type": "code",
   "execution_count": 18,
   "id": "d2e8ce33",
   "metadata": {},
   "outputs": [
    {
     "data": {
      "text/html": [
       "<div>\n",
       "<style scoped>\n",
       "    .dataframe tbody tr th:only-of-type {\n",
       "        vertical-align: middle;\n",
       "    }\n",
       "\n",
       "    .dataframe tbody tr th {\n",
       "        vertical-align: top;\n",
       "    }\n",
       "\n",
       "    .dataframe thead th {\n",
       "        text-align: right;\n",
       "    }\n",
       "</style>\n",
       "<table border=\"1\" class=\"dataframe\">\n",
       "  <thead>\n",
       "    <tr style=\"text-align: right;\">\n",
       "      <th></th>\n",
       "      <th>Entity ID</th>\n",
       "      <th>Entity Name</th>\n",
       "      <th>Highest Controversy Level-Answer Category_before</th>\n",
       "      <th>Highest Controversy Level-Answer Category_after</th>\n",
       "      <th>Variation_Controversy</th>\n",
       "    </tr>\n",
       "  </thead>\n",
       "  <tbody>\n",
       "    <tr>\n",
       "      <th>0</th>\n",
       "      <td>1264207944</td>\n",
       "      <td>1&amp;1 AG</td>\n",
       "      <td>Category 1</td>\n",
       "      <td>Category 1</td>\n",
       "      <td>False</td>\n",
       "    </tr>\n",
       "    <tr>\n",
       "      <th>1</th>\n",
       "      <td>1007902331</td>\n",
       "      <td>1-800-FLOWERS.COM, Inc.</td>\n",
       "      <td>Category 1</td>\n",
       "      <td>Category 1</td>\n",
       "      <td>False</td>\n",
       "    </tr>\n",
       "    <tr>\n",
       "      <th>2</th>\n",
       "      <td>2000259050</td>\n",
       "      <td>10X Genomics, Inc.</td>\n",
       "      <td>Category 1</td>\n",
       "      <td>Category 1</td>\n",
       "      <td>False</td>\n",
       "    </tr>\n",
       "    <tr>\n",
       "      <th>3</th>\n",
       "      <td>2002992103</td>\n",
       "      <td>11 Bit Studios SA</td>\n",
       "      <td>No evidence of relevant controversies</td>\n",
       "      <td>No evidence of relevant controversies</td>\n",
       "      <td>False</td>\n",
       "    </tr>\n",
       "    <tr>\n",
       "      <th>4</th>\n",
       "      <td>1008054650</td>\n",
       "      <td>1st Source Corp.</td>\n",
       "      <td>Category 1</td>\n",
       "      <td>Category 1</td>\n",
       "      <td>False</td>\n",
       "    </tr>\n",
       "  </tbody>\n",
       "</table>\n",
       "</div>"
      ],
      "text/plain": [
       "    Entity ID              Entity Name  \\\n",
       "0  1264207944                   1&1 AG   \n",
       "1  1007902331  1-800-FLOWERS.COM, Inc.   \n",
       "2  2000259050       10X Genomics, Inc.   \n",
       "3  2002992103        11 Bit Studios SA   \n",
       "4  1008054650         1st Source Corp.   \n",
       "\n",
       "  Highest Controversy Level-Answer Category_before  \\\n",
       "0                                       Category 1   \n",
       "1                                       Category 1   \n",
       "2                                       Category 1   \n",
       "3            No evidence of relevant controversies   \n",
       "4                                       Category 1   \n",
       "\n",
       "  Highest Controversy Level-Answer Category_after  Variation_Controversy  \n",
       "0                                      Category 1                  False  \n",
       "1                                      Category 1                  False  \n",
       "2                                      Category 1                  False  \n",
       "3           No evidence of relevant controversies                  False  \n",
       "4                                      Category 1                  False  "
      ]
     },
     "execution_count": 18,
     "metadata": {},
     "output_type": "execute_result"
    }
   ],
   "source": [
    "Sust_merged_sr_without_duplicates.head()"
   ]
  },
  {
   "cell_type": "code",
   "execution_count": 19,
   "id": "412ca57f",
   "metadata": {},
   "outputs": [],
   "source": [
    "#Para solo seleecionar las col que a unir en el resumen \n",
    "V_Controversy=Sust_merged_sr_without_duplicates[['Entity ID','Entity Name','Variation_Controversy']]"
   ]
  },
  {
   "cell_type": "code",
   "execution_count": 20,
   "id": "4e852579",
   "metadata": {},
   "outputs": [
    {
     "name": "stdout",
     "output_type": "stream",
     "text": [
      "<class 'pandas.core.frame.DataFrame'>\n",
      "Int64Index: 16728 entries, 0 to 16727\n",
      "Data columns (total 3 columns):\n",
      " #   Column                 Non-Null Count  Dtype \n",
      "---  ------                 --------------  ----- \n",
      " 0   Entity ID              16728 non-null  object\n",
      " 1   Entity Name            16728 non-null  object\n",
      " 2   Variation_Controversy  16728 non-null  bool  \n",
      "dtypes: bool(1), object(2)\n",
      "memory usage: 408.4+ KB\n"
     ]
    }
   ],
   "source": [
    "V_Controversy.info()"
   ]
  },
  {
   "cell_type": "code",
   "execution_count": 21,
   "id": "85f0680f",
   "metadata": {},
   "outputs": [
    {
     "data": {
      "text/plain": [
       "False    16514\n",
       "True       214\n",
       "Name: Variation_Controversy, dtype: int64"
      ]
     },
     "execution_count": 21,
     "metadata": {},
     "output_type": "execute_result"
    }
   ],
   "source": [
    "pd.Series(V_Controversy.Variation_Controversy).value_counts()"
   ]
  },
  {
   "cell_type": "code",
   "execution_count": 22,
   "id": "fa8972d0",
   "metadata": {},
   "outputs": [],
   "source": [
    "Ctrv_True=Sust_merged_sr_without_duplicates\n",
    "in_True_Ctrv= Ctrv_True['Variation_Controversy']==True\n",
    "Ctrv_True= Ctrv_True[in_True_Ctrv]\n",
    "Ctrv_True.head()\n",
    "Ctrv_True.to_excel('X:/INVDESPRO/INVESTIGACION/Fondos éticos/3. DATASETS/04_Datos Clarity/01_Equities_feed/DF_para_python/Sustainalytics/Var_SR_True.xlsx',index=False)"
   ]
  },
  {
   "cell_type": "code",
   "execution_count": 23,
   "id": "d5e2dd82",
   "metadata": {},
   "outputs": [],
   "source": [
    "Ctrv_True = Ctrv_True[['Entity ID','Entity Name','Variation_Controversy','Highest Controversy Level-Answer Category_before','Highest Controversy Level-Answer Category_after']]"
   ]
  },
  {
   "cell_type": "code",
   "execution_count": 24,
   "id": "e447ad74",
   "metadata": {},
   "outputs": [
    {
     "name": "stdout",
     "output_type": "stream",
     "text": [
      "<class 'pandas.core.frame.DataFrame'>\n",
      "Int64Index: 214 entries, 92 to 16459\n",
      "Data columns (total 5 columns):\n",
      " #   Column                                            Non-Null Count  Dtype \n",
      "---  ------                                            --------------  ----- \n",
      " 0   Entity ID                                         214 non-null    object\n",
      " 1   Entity Name                                       214 non-null    object\n",
      " 2   Variation_Controversy                             214 non-null    bool  \n",
      " 3   Highest Controversy Level-Answer Category_before  214 non-null    object\n",
      " 4   Highest Controversy Level-Answer Category_after   214 non-null    object\n",
      "dtypes: bool(1), object(4)\n",
      "memory usage: 8.6+ KB\n"
     ]
    }
   ],
   "source": [
    "Ctrv_True.info()"
   ]
  },
  {
   "cell_type": "code",
   "execution_count": 25,
   "id": "afe4941f",
   "metadata": {},
   "outputs": [
    {
     "data": {
      "text/plain": [
       "True    214\n",
       "Name: Variation_Controversy, dtype: int64"
      ]
     },
     "execution_count": 25,
     "metadata": {},
     "output_type": "execute_result"
    }
   ],
   "source": [
    "pd.Series(Ctrv_True.Variation_Controversy).value_counts()"
   ]
  },
  {
   "cell_type": "code",
   "execution_count": 26,
   "id": "6d024209",
   "metadata": {},
   "outputs": [],
   "source": [
    "Ctrv_True.to_excel('X:/INVDESPRO/INVESTIGACION/Fondos éticos/3. DATASETS/04_Datos Clarity/01_Equities_feed/DF_para_python/Sustainalytics/Var_SR_True2.xlsx',index=False)"
   ]
  },
  {
   "cell_type": "code",
   "execution_count": null,
   "id": "1fb86ee8",
   "metadata": {},
   "outputs": [],
   "source": []
  }
 ],
 "metadata": {
  "kernelspec": {
   "display_name": "Python 3 (ipykernel)",
   "language": "python",
   "name": "python3"
  },
  "language_info": {
   "codemirror_mode": {
    "name": "ipython",
    "version": 3
   },
   "file_extension": ".py",
   "mimetype": "text/x-python",
   "name": "python",
   "nbconvert_exporter": "python",
   "pygments_lexer": "ipython3",
   "version": "3.9.12"
  }
 },
 "nbformat": 4,
 "nbformat_minor": 5
}
