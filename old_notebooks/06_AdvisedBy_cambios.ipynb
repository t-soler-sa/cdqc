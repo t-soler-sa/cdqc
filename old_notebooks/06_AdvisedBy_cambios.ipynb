{
 "cells": [
  {
   "cell_type": "code",
   "execution_count": 1,
   "id": "b46cc518",
   "metadata": {},
   "outputs": [
    {
     "name": "stdout",
     "output_type": "stream",
     "text": [
      "1.4.2\n"
     ]
    }
   ],
   "source": [
    "## DF\n",
    "#Librerías\n",
    "import numpy as np\n",
    "import pandas as pd\n",
    "import pandas\n",
    "print(pandas.__version__)"
   ]
  },
  {
   "cell_type": "code",
   "execution_count": 2,
   "id": "b9bed08c",
   "metadata": {},
   "outputs": [
    {
     "name": "stdout",
     "output_type": "stream",
     "text": [
      "Python 3.9.12\n"
     ]
    }
   ],
   "source": [
    "!python --version"
   ]
  },
  {
   "cell_type": "code",
   "execution_count": 3,
   "id": "e2aa8de3",
   "metadata": {},
   "outputs": [
    {
     "data": {
      "text/plain": [
       "'1.4.2'"
      ]
     },
     "execution_count": 3,
     "metadata": {},
     "output_type": "execute_result"
    }
   ],
   "source": [
    "pd.__version__"
   ]
  },
  {
   "cell_type": "code",
   "execution_count": 4,
   "id": "8d6f2e67",
   "metadata": {},
   "outputs": [],
   "source": [
    "#Read DF originales,mes anterior julio\n",
    "DF_before=pd.read_csv('X:/INVDESPRO/INVESTIGACION/Fondos éticos/3. DATASETS/04_Datos Clarity/01_Equities_feed/01_Ficheros_originales (Descarga en bruto)/20240101_Equities_feed_new_strategies_filtered_old_names_iso_permId.csv', sep=',', dtype='unicode')\n",
    "DF_after=pd.read_csv('X:/INVDESPRO/INVESTIGACION/Fondos éticos/3. DATASETS/04_Datos Clarity/01_Equities_feed/01_Ficheros_originales (Descarga en bruto)/20240201_Equities_feed_new_strategies_filtered_old_names_iso_permId.csv', sep=',', dtype='unicode')"
   ]
  },
  {
   "cell_type": "code",
   "execution_count": 5,
   "id": "f358d617",
   "metadata": {},
   "outputs": [],
   "source": [
    "#CROSS REFERENCE \n",
    "CROSS_REFERENCE_before=pd.read_excel('X:/INVDESPRO/INVESTIGACION/Fondos éticos/3. DATASETS/03_Cross Reference/20240101_Aladdin_Clarity_Issuers.xlsx')\n",
    "CROSS_REFERENCE_after=pd.read_excel('X:/INVDESPRO/INVESTIGACION/Fondos éticos/3. DATASETS/03_Cross Reference/20240201_Aladdin_Clarity_Issuers.xlsx')"
   ]
  },
  {
   "cell_type": "code",
   "execution_count": 6,
   "id": "9488f759",
   "metadata": {},
   "outputs": [
    {
     "name": "stdout",
     "output_type": "stream",
     "text": [
      "<class 'pandas.core.frame.DataFrame'>\n",
      "RangeIndex: 1275921 entries, 0 to 1275920\n",
      "Data columns (total 2 columns):\n",
      " #   Column     Non-Null Count    Dtype\n",
      "---  ------     --------------    -----\n",
      " 0   permId     1275921 non-null  int64\n",
      " 1   ClarityID  1275921 non-null  int64\n",
      "dtypes: int64(2)\n",
      "memory usage: 19.5 MB\n"
     ]
    }
   ],
   "source": [
    "#Pasar la etiquetas 'ClarityID' 'ClarityID' a int\n",
    "DF_before[['permId','ClarityID']] = DF_before[['permId', 'ClarityID']].astype('int64')\n",
    "DF_before[['permId', 'ClarityID']].info()"
   ]
  },
  {
   "cell_type": "code",
   "execution_count": 7,
   "id": "2fa0b373",
   "metadata": {},
   "outputs": [
    {
     "name": "stdout",
     "output_type": "stream",
     "text": [
      "<class 'pandas.core.frame.DataFrame'>\n",
      "RangeIndex: 1359858 entries, 0 to 1359857\n",
      "Data columns (total 2 columns):\n",
      " #   Column     Non-Null Count    Dtype\n",
      "---  ------     --------------    -----\n",
      " 0   permId     1359858 non-null  Int64\n",
      " 1   ClarityID  1359858 non-null  Int64\n",
      "dtypes: Int64(2)\n",
      "memory usage: 23.3 MB\n"
     ]
    }
   ],
   "source": [
    "DF_after['permId'] = DF_after['permId'].astype('float')\n",
    "DF_after['permId'] = DF_after['permId'].round().astype('Int64')\n",
    "DF_after['ClarityID'] = DF_after['ClarityID'].astype('Int64')\n",
    "DF_after[['permId', 'ClarityID']].info()"
   ]
  },
  {
   "cell_type": "code",
   "execution_count": 8,
   "id": "933068c6",
   "metadata": {},
   "outputs": [],
   "source": [
    "DF_before= DF_before.drop_duplicates(subset='permId')\n",
    "DF_after=DF_after.drop_duplicates(subset='permId')"
   ]
  },
  {
   "cell_type": "code",
   "execution_count": 9,
   "id": "0ba1e366",
   "metadata": {},
   "outputs": [
    {
     "name": "stdout",
     "output_type": "stream",
     "text": [
      "<class 'pandas.core.series.Series'>\n",
      "RangeIndex: 115452 entries, 0 to 115451\n",
      "Series name: CLARITY_AI\n",
      "Non-Null Count   Dtype\n",
      "--------------   -----\n",
      "115452 non-null  int64\n",
      "dtypes: int64(1)\n",
      "memory usage: 902.1 KB\n"
     ]
    }
   ],
   "source": [
    "CROSS_REFERENCE_before['CLARITY_AI'] = pd.to_numeric(CROSS_REFERENCE_before['CLARITY_AI'], errors='coerce')\n",
    "CROSS_REFERENCE_before['CLARITY_AI'].info()"
   ]
  },
  {
   "cell_type": "code",
   "execution_count": 10,
   "id": "463254ca",
   "metadata": {},
   "outputs": [
    {
     "data": {
      "text/plain": [
       "0    4295903254\n",
       "1    4295894740\n",
       "2    4295890743\n",
       "3    4296540158\n",
       "4    4296435746\n",
       "Name: CLARITY_AI, dtype: Int64"
      ]
     },
     "execution_count": 10,
     "metadata": {},
     "output_type": "execute_result"
    }
   ],
   "source": [
    "CROSS_REFERENCE_before['CLARITY_AI'] = CROSS_REFERENCE_before['CLARITY_AI'].round().astype('Int64')\n",
    "CROSS_REFERENCE_before['CLARITY_AI'].head()"
   ]
  },
  {
   "cell_type": "code",
   "execution_count": 11,
   "id": "6e359317",
   "metadata": {},
   "outputs": [
    {
     "data": {
      "text/plain": [
       "0    4295903254\n",
       "1    4295894740\n",
       "2    4295890743\n",
       "3    4296540158\n",
       "4    4296435746\n",
       "Name: CLARITY_AI, dtype: Int64"
      ]
     },
     "execution_count": 11,
     "metadata": {},
     "output_type": "execute_result"
    }
   ],
   "source": [
    "CROSS_REFERENCE_after['CLARITY_AI'] = CROSS_REFERENCE_after['CLARITY_AI'].round().astype('Int64')\n",
    "CROSS_REFERENCE_after['CLARITY_AI'].head()"
   ]
  },
  {
   "cell_type": "code",
   "execution_count": 12,
   "id": "8e7294ae",
   "metadata": {},
   "outputs": [],
   "source": [
    "#Read Advised \n",
    "Advby_before=pd.read_excel('X:/INVDESPRO/INVESTIGACION/Fondos éticos/7. MANDATOS ESG/01_Documentación_mandatos/Blackrock/Script_Resultados/012024_Advisedby.xlsx')\n",
    "Advby_after=pd.read_excel('X:/INVDESPRO/INVESTIGACION/Fondos éticos/7. MANDATOS ESG/01_Documentación_mandatos/Blackrock/Script_Resultados/022024_Advisedby.xlsx')"
   ]
  },
  {
   "cell_type": "code",
   "execution_count": 13,
   "id": "8f3b52e3",
   "metadata": {},
   "outputs": [
    {
     "name": "stdout",
     "output_type": "stream",
     "text": [
      "<class 'pandas.core.frame.DataFrame'>\n",
      "RangeIndex: 1234 entries, 0 to 1233\n",
      "Data columns (total 1 columns):\n",
      " #   Column     Non-Null Count  Dtype \n",
      "---  ------     --------------  ----- \n",
      " 0   Issuer ID  1234 non-null   object\n",
      "dtypes: object(1)\n",
      "memory usage: 9.8+ KB\n"
     ]
    }
   ],
   "source": [
    "Advby_before.info()"
   ]
  },
  {
   "cell_type": "code",
   "execution_count": 14,
   "id": "d2153d0a",
   "metadata": {},
   "outputs": [],
   "source": [
    "#columnas correspondientes en ambos dataframes\n",
    "Advby_before_sr = Advby_before.loc[:, ['Issuer ID']]\n",
    "Advby_after_sr = Advby_after.loc[:, ['Issuer ID']]"
   ]
  },
  {
   "cell_type": "code",
   "execution_count": 15,
   "id": "09b2faf7",
   "metadata": {},
   "outputs": [],
   "source": [
    "Advby_before_sr = Advby_before_sr.drop_duplicates()\n",
    "Advby_after_sr = Advby_after_sr.drop_duplicates()"
   ]
  },
  {
   "cell_type": "code",
   "execution_count": 16,
   "id": "2580f1e8",
   "metadata": {},
   "outputs": [
    {
     "name": "stdout",
     "output_type": "stream",
     "text": [
      "<class 'pandas.core.frame.DataFrame'>\n",
      "Int64Index: 1216 entries, 0 to 1233\n",
      "Data columns (total 1 columns):\n",
      " #   Column     Non-Null Count  Dtype \n",
      "---  ------     --------------  ----- \n",
      " 0   Issuer ID  1216 non-null   object\n",
      "dtypes: object(1)\n",
      "memory usage: 19.0+ KB\n",
      "<class 'pandas.core.frame.DataFrame'>\n",
      "Int64Index: 1213 entries, 0 to 1229\n",
      "Data columns (total 1 columns):\n",
      " #   Column     Non-Null Count  Dtype \n",
      "---  ------     --------------  ----- \n",
      " 0   Issuer ID  1213 non-null   object\n",
      "dtypes: object(1)\n",
      "memory usage: 19.0+ KB\n"
     ]
    }
   ],
   "source": [
    "Advby_before_sr.info()\n",
    "Advby_after_sr.info()"
   ]
  },
  {
   "cell_type": "code",
   "execution_count": 17,
   "id": "3c14aeb3",
   "metadata": {},
   "outputs": [],
   "source": [
    "CROSS_REFERENCE_after_filtered = CROSS_REFERENCE_after.loc[CROSS_REFERENCE_after['Aladdin_Issuer'].isin(Advby_after['Issuer ID'])]"
   ]
  },
  {
   "cell_type": "code",
   "execution_count": 18,
   "id": "1a2df6ce",
   "metadata": {},
   "outputs": [
    {
     "name": "stdout",
     "output_type": "stream",
     "text": [
      "<class 'pandas.core.frame.DataFrame'>\n",
      "Int64Index: 1207 entries, 0 to 115414\n",
      "Data columns (total 3 columns):\n",
      " #   Column          Non-Null Count  Dtype \n",
      "---  ------          --------------  ----- \n",
      " 0   Aladdin_Issuer  1207 non-null   object\n",
      " 1   Issuer_Name     1207 non-null   object\n",
      " 2   CLARITY_AI      1207 non-null   Int64 \n",
      "dtypes: Int64(1), object(2)\n",
      "memory usage: 38.9+ KB\n"
     ]
    },
    {
     "data": {
      "text/html": [
       "<div>\n",
       "<style scoped>\n",
       "    .dataframe tbody tr th:only-of-type {\n",
       "        vertical-align: middle;\n",
       "    }\n",
       "\n",
       "    .dataframe tbody tr th {\n",
       "        vertical-align: top;\n",
       "    }\n",
       "\n",
       "    .dataframe thead th {\n",
       "        text-align: right;\n",
       "    }\n",
       "</style>\n",
       "<table border=\"1\" class=\"dataframe\">\n",
       "  <thead>\n",
       "    <tr style=\"text-align: right;\">\n",
       "      <th></th>\n",
       "      <th>Aladdin_Issuer</th>\n",
       "      <th>Issuer_Name</th>\n",
       "      <th>CLARITY_AI</th>\n",
       "    </tr>\n",
       "  </thead>\n",
       "  <tbody>\n",
       "    <tr>\n",
       "      <th>0</th>\n",
       "      <td>000176</td>\n",
       "      <td>AMERICAN AIRLINES GROUP INC</td>\n",
       "      <td>4295903254</td>\n",
       "    </tr>\n",
       "    <tr>\n",
       "      <th>9</th>\n",
       "      <td>002824</td>\n",
       "      <td>ABBOTT LABORATORIES</td>\n",
       "      <td>4295903265</td>\n",
       "    </tr>\n",
       "    <tr>\n",
       "      <th>16</th>\n",
       "      <td>009158</td>\n",
       "      <td>AIR PRODUCTS AND CHEMICALS INC</td>\n",
       "      <td>4295903294</td>\n",
       "    </tr>\n",
       "    <tr>\n",
       "      <th>25</th>\n",
       "      <td>017900</td>\n",
       "      <td>ALLSTATE CORPORATION (THE)</td>\n",
       "      <td>4295903316</td>\n",
       "    </tr>\n",
       "    <tr>\n",
       "      <th>27</th>\n",
       "      <td>018802</td>\n",
       "      <td>ALLIANT ENERGY CORP</td>\n",
       "      <td>4295911995</td>\n",
       "    </tr>\n",
       "  </tbody>\n",
       "</table>\n",
       "</div>"
      ],
      "text/plain": [
       "   Aladdin_Issuer                     Issuer_Name  CLARITY_AI\n",
       "0          000176     AMERICAN AIRLINES GROUP INC  4295903254\n",
       "9          002824             ABBOTT LABORATORIES  4295903265\n",
       "16         009158  AIR PRODUCTS AND CHEMICALS INC  4295903294\n",
       "25         017900      ALLSTATE CORPORATION (THE)  4295903316\n",
       "27         018802             ALLIANT ENERGY CORP  4295911995"
      ]
     },
     "execution_count": 18,
     "metadata": {},
     "output_type": "execute_result"
    }
   ],
   "source": [
    "CROSS_REFERENCE_after_filtered.info()\n",
    "CROSS_REFERENCE_after_filtered.head()"
   ]
  },
  {
   "cell_type": "code",
   "execution_count": 19,
   "id": "637f704e",
   "metadata": {},
   "outputs": [],
   "source": [
    "CROSS_REFERENCE_before_filtered = CROSS_REFERENCE_before.loc[CROSS_REFERENCE_before['Aladdin_Issuer'].isin(Advby_before['Issuer ID'])]"
   ]
  },
  {
   "cell_type": "code",
   "execution_count": 20,
   "id": "e6d907b7",
   "metadata": {},
   "outputs": [
    {
     "name": "stdout",
     "output_type": "stream",
     "text": [
      "<class 'pandas.core.frame.DataFrame'>\n",
      "Int64Index: 1078 entries, 39 to 115414\n",
      "Data columns (total 3 columns):\n",
      " #   Column          Non-Null Count  Dtype \n",
      "---  ------          --------------  ----- \n",
      " 0   Aladdin_Issuer  1078 non-null   object\n",
      " 1   Issuer_Name     1078 non-null   object\n",
      " 2   CLARITY_AI      1078 non-null   Int64 \n",
      "dtypes: Int64(1), object(2)\n",
      "memory usage: 34.7+ KB\n"
     ]
    },
    {
     "data": {
      "text/html": [
       "<div>\n",
       "<style scoped>\n",
       "    .dataframe tbody tr th:only-of-type {\n",
       "        vertical-align: middle;\n",
       "    }\n",
       "\n",
       "    .dataframe tbody tr th {\n",
       "        vertical-align: top;\n",
       "    }\n",
       "\n",
       "    .dataframe thead th {\n",
       "        text-align: right;\n",
       "    }\n",
       "</style>\n",
       "<table border=\"1\" class=\"dataframe\">\n",
       "  <thead>\n",
       "    <tr style=\"text-align: right;\">\n",
       "      <th></th>\n",
       "      <th>Aladdin_Issuer</th>\n",
       "      <th>Issuer_Name</th>\n",
       "      <th>CLARITY_AI</th>\n",
       "    </tr>\n",
       "  </thead>\n",
       "  <tbody>\n",
       "    <tr>\n",
       "      <th>39</th>\n",
       "      <td>02553J</td>\n",
       "      <td>AMERICAN ELECTRIC POWER COMPANY INC</td>\n",
       "      <td>4295903333</td>\n",
       "    </tr>\n",
       "    <tr>\n",
       "      <th>63</th>\n",
       "      <td>04247A</td>\n",
       "      <td>ARMSTRONG WORLD INDUSTRIES INC</td>\n",
       "      <td>4295912011</td>\n",
       "    </tr>\n",
       "    <tr>\n",
       "      <th>79</th>\n",
       "      <td>05380R</td>\n",
       "      <td>AVNET INC</td>\n",
       "      <td>4295903504</td>\n",
       "    </tr>\n",
       "    <tr>\n",
       "      <th>119</th>\n",
       "      <td>10113T</td>\n",
       "      <td>BOSTON SCIENTIFIC CORPORATION</td>\n",
       "      <td>4295903586</td>\n",
       "    </tr>\n",
       "    <tr>\n",
       "      <th>137</th>\n",
       "      <td>12611L</td>\n",
       "      <td>CNA FINANCIAL CORP</td>\n",
       "      <td>4295903632</td>\n",
       "    </tr>\n",
       "  </tbody>\n",
       "</table>\n",
       "</div>"
      ],
      "text/plain": [
       "    Aladdin_Issuer                          Issuer_Name  CLARITY_AI\n",
       "39          02553J  AMERICAN ELECTRIC POWER COMPANY INC  4295903333\n",
       "63          04247A       ARMSTRONG WORLD INDUSTRIES INC  4295912011\n",
       "79          05380R                            AVNET INC  4295903504\n",
       "119         10113T        BOSTON SCIENTIFIC CORPORATION  4295903586\n",
       "137         12611L                   CNA FINANCIAL CORP  4295903632"
      ]
     },
     "execution_count": 20,
     "metadata": {},
     "output_type": "execute_result"
    }
   ],
   "source": [
    "CROSS_REFERENCE_before_filtered.info()\n",
    "CROSS_REFERENCE_before_filtered.head()"
   ]
  },
  {
   "cell_type": "code",
   "execution_count": 21,
   "id": "70d1db37",
   "metadata": {},
   "outputs": [],
   "source": [
    "DF_before_filtered = DF_before.loc[DF_before['permId'].isin(CROSS_REFERENCE_before_filtered['CLARITY_AI'])]"
   ]
  },
  {
   "cell_type": "code",
   "execution_count": 22,
   "id": "3ebe8bf3",
   "metadata": {},
   "outputs": [
    {
     "name": "stdout",
     "output_type": "stream",
     "text": [
      "<class 'pandas.core.frame.DataFrame'>\n",
      "Int64Index: 989 entries, 2609 to 1275394\n",
      "Columns: 276 entries, isin to maxexp_oil_fuels_part\n",
      "dtypes: int64(2), object(274)\n",
      "memory usage: 2.1+ MB\n"
     ]
    }
   ],
   "source": [
    "DF_before_filtered.info()"
   ]
  },
  {
   "cell_type": "code",
   "execution_count": 23,
   "id": "63681c6b",
   "metadata": {},
   "outputs": [
    {
     "data": {
      "text/html": [
       "<div>\n",
       "<style scoped>\n",
       "    .dataframe tbody tr th:only-of-type {\n",
       "        vertical-align: middle;\n",
       "    }\n",
       "\n",
       "    .dataframe tbody tr th {\n",
       "        vertical-align: top;\n",
       "    }\n",
       "\n",
       "    .dataframe thead th {\n",
       "        text-align: right;\n",
       "    }\n",
       "</style>\n",
       "<table border=\"1\" class=\"dataframe\">\n",
       "  <thead>\n",
       "    <tr style=\"text-align: right;\">\n",
       "      <th></th>\n",
       "      <th>isin</th>\n",
       "      <th>instrument_type</th>\n",
       "      <th>issuer_name</th>\n",
       "      <th>issuer_country</th>\n",
       "      <th>gics2_industry</th>\n",
       "      <th>region</th>\n",
       "      <th>company_inheriting</th>\n",
       "      <th>parent_company</th>\n",
       "      <th>esg_score</th>\n",
       "      <th>esg_score_relevance</th>\n",
       "      <th>...</th>\n",
       "      <th>maxexp_gas_fuels_prod</th>\n",
       "      <th>exp_gas_fuels_part</th>\n",
       "      <th>minexp_gas_fuels_part</th>\n",
       "      <th>maxexp_gas_fuels_part</th>\n",
       "      <th>exp_oil_fuels_prod</th>\n",
       "      <th>minexp_oil_fuels_prod</th>\n",
       "      <th>maxexp_oil_fuels_prod</th>\n",
       "      <th>exp_oil_fuels_part</th>\n",
       "      <th>minexp_oil_fuels_part</th>\n",
       "      <th>maxexp_oil_fuels_part</th>\n",
       "    </tr>\n",
       "  </thead>\n",
       "  <tbody>\n",
       "    <tr>\n",
       "      <th>2609</th>\n",
       "      <td>US11135FAS02</td>\n",
       "      <td>FIXED_INCOME</td>\n",
       "      <td>Broadcom Inc</td>\n",
       "      <td>United States of America</td>\n",
       "      <td>Semiconductors &amp; Semiconductor Equipment</td>\n",
       "      <td>N America</td>\n",
       "      <td>False</td>\n",
       "      <td>-</td>\n",
       "      <td>65</td>\n",
       "      <td>89.23</td>\n",
       "      <td>...</td>\n",
       "      <td>0.00</td>\n",
       "      <td>False</td>\n",
       "      <td>0.00</td>\n",
       "      <td>0.00</td>\n",
       "      <td>False</td>\n",
       "      <td>0.00</td>\n",
       "      <td>0.00</td>\n",
       "      <td>False</td>\n",
       "      <td>0.00</td>\n",
       "      <td>0.00</td>\n",
       "    </tr>\n",
       "    <tr>\n",
       "      <th>2991</th>\n",
       "      <td>US38141EC642</td>\n",
       "      <td>FIXED_INCOME</td>\n",
       "      <td>Goldman Sachs Group Inc</td>\n",
       "      <td>United States of America</td>\n",
       "      <td>Financial Services</td>\n",
       "      <td>N America</td>\n",
       "      <td>False</td>\n",
       "      <td>-</td>\n",
       "      <td>58</td>\n",
       "      <td>86.48</td>\n",
       "      <td>...</td>\n",
       "      <td>0.00</td>\n",
       "      <td>False</td>\n",
       "      <td>NaN</td>\n",
       "      <td>NaN</td>\n",
       "      <td>False</td>\n",
       "      <td>0.00</td>\n",
       "      <td>0.00</td>\n",
       "      <td>False</td>\n",
       "      <td>NaN</td>\n",
       "      <td>NaN</td>\n",
       "    </tr>\n",
       "    <tr>\n",
       "      <th>3096</th>\n",
       "      <td>BRP1NRBDR003</td>\n",
       "      <td>EQUITY</td>\n",
       "      <td>Pentair PLC</td>\n",
       "      <td>Ireland</td>\n",
       "      <td>Capital Goods</td>\n",
       "      <td>Europe</td>\n",
       "      <td>False</td>\n",
       "      <td>-</td>\n",
       "      <td>68</td>\n",
       "      <td>90.57</td>\n",
       "      <td>...</td>\n",
       "      <td>0.00</td>\n",
       "      <td>False</td>\n",
       "      <td>0.00</td>\n",
       "      <td>0.00</td>\n",
       "      <td>False</td>\n",
       "      <td>0.00</td>\n",
       "      <td>0.00</td>\n",
       "      <td>False</td>\n",
       "      <td>0.00</td>\n",
       "      <td>0.00</td>\n",
       "    </tr>\n",
       "    <tr>\n",
       "      <th>3097</th>\n",
       "      <td>USU94106AD04</td>\n",
       "      <td>FIXED_INCOME</td>\n",
       "      <td>Waste Management Inc</td>\n",
       "      <td>United States of America</td>\n",
       "      <td>Commercial &amp; Professional Services</td>\n",
       "      <td>N America</td>\n",
       "      <td>False</td>\n",
       "      <td>-</td>\n",
       "      <td>65</td>\n",
       "      <td>96.48</td>\n",
       "      <td>...</td>\n",
       "      <td>0.00</td>\n",
       "      <td>False</td>\n",
       "      <td>0.00</td>\n",
       "      <td>0.00</td>\n",
       "      <td>False</td>\n",
       "      <td>0.00</td>\n",
       "      <td>0.00</td>\n",
       "      <td>False</td>\n",
       "      <td>0.00</td>\n",
       "      <td>0.00</td>\n",
       "    </tr>\n",
       "    <tr>\n",
       "      <th>3128</th>\n",
       "      <td>US45866FAP99</td>\n",
       "      <td>FIXED_INCOME</td>\n",
       "      <td>Intercontinental Exchange Inc</td>\n",
       "      <td>United States of America</td>\n",
       "      <td>Financial Services</td>\n",
       "      <td>N America</td>\n",
       "      <td>False</td>\n",
       "      <td>-</td>\n",
       "      <td>53</td>\n",
       "      <td>78.68</td>\n",
       "      <td>...</td>\n",
       "      <td>0.00</td>\n",
       "      <td>False</td>\n",
       "      <td>0.00</td>\n",
       "      <td>0.00</td>\n",
       "      <td>False</td>\n",
       "      <td>0.00</td>\n",
       "      <td>0.00</td>\n",
       "      <td>False</td>\n",
       "      <td>0.00</td>\n",
       "      <td>0.00</td>\n",
       "    </tr>\n",
       "  </tbody>\n",
       "</table>\n",
       "<p>5 rows × 276 columns</p>\n",
       "</div>"
      ],
      "text/plain": [
       "              isin instrument_type                    issuer_name  \\\n",
       "2609  US11135FAS02    FIXED_INCOME                   Broadcom Inc   \n",
       "2991  US38141EC642    FIXED_INCOME        Goldman Sachs Group Inc   \n",
       "3096  BRP1NRBDR003          EQUITY                    Pentair PLC   \n",
       "3097  USU94106AD04    FIXED_INCOME           Waste Management Inc   \n",
       "3128  US45866FAP99    FIXED_INCOME  Intercontinental Exchange Inc   \n",
       "\n",
       "                issuer_country                            gics2_industry  \\\n",
       "2609  United States of America  Semiconductors & Semiconductor Equipment   \n",
       "2991  United States of America                        Financial Services   \n",
       "3096                   Ireland                             Capital Goods   \n",
       "3097  United States of America        Commercial & Professional Services   \n",
       "3128  United States of America                        Financial Services   \n",
       "\n",
       "         region company_inheriting parent_company esg_score  \\\n",
       "2609  N America              False              -        65   \n",
       "2991  N America              False              -        58   \n",
       "3096     Europe              False              -        68   \n",
       "3097  N America              False              -        65   \n",
       "3128  N America              False              -        53   \n",
       "\n",
       "     esg_score_relevance  ... maxexp_gas_fuels_prod exp_gas_fuels_part  \\\n",
       "2609               89.23  ...                  0.00              False   \n",
       "2991               86.48  ...                  0.00              False   \n",
       "3096               90.57  ...                  0.00              False   \n",
       "3097               96.48  ...                  0.00              False   \n",
       "3128               78.68  ...                  0.00              False   \n",
       "\n",
       "     minexp_gas_fuels_part maxexp_gas_fuels_part exp_oil_fuels_prod  \\\n",
       "2609                  0.00                  0.00              False   \n",
       "2991                   NaN                   NaN              False   \n",
       "3096                  0.00                  0.00              False   \n",
       "3097                  0.00                  0.00              False   \n",
       "3128                  0.00                  0.00              False   \n",
       "\n",
       "     minexp_oil_fuels_prod maxexp_oil_fuels_prod exp_oil_fuels_part  \\\n",
       "2609                  0.00                  0.00              False   \n",
       "2991                  0.00                  0.00              False   \n",
       "3096                  0.00                  0.00              False   \n",
       "3097                  0.00                  0.00              False   \n",
       "3128                  0.00                  0.00              False   \n",
       "\n",
       "     minexp_oil_fuels_part maxexp_oil_fuels_part  \n",
       "2609                  0.00                  0.00  \n",
       "2991                   NaN                   NaN  \n",
       "3096                  0.00                  0.00  \n",
       "3097                  0.00                  0.00  \n",
       "3128                  0.00                  0.00  \n",
       "\n",
       "[5 rows x 276 columns]"
      ]
     },
     "execution_count": 23,
     "metadata": {},
     "output_type": "execute_result"
    }
   ],
   "source": [
    "DF_before_filtered.head()"
   ]
  },
  {
   "cell_type": "code",
   "execution_count": 24,
   "id": "436e9658",
   "metadata": {},
   "outputs": [
    {
     "name": "stdout",
     "output_type": "stream",
     "text": [
      "<class 'pandas.core.frame.DataFrame'>\n",
      "Int64Index: 989 entries, 2609 to 1275394\n",
      "Columns: 276 entries, isin to maxexp_oil_fuels_part\n",
      "dtypes: int64(2), object(274)\n",
      "memory usage: 2.1+ MB\n"
     ]
    }
   ],
   "source": [
    "DF_before_filtered= DF_before_filtered.drop_duplicates(subset='ClarityID')\n",
    "DF_before_filtered.info()"
   ]
  },
  {
   "cell_type": "code",
   "execution_count": 25,
   "id": "6d72046e",
   "metadata": {},
   "outputs": [],
   "source": [
    "DF_after_filtered = DF_after.loc[DF_after['permId'].isin(CROSS_REFERENCE_after_filtered['CLARITY_AI'])]"
   ]
  },
  {
   "cell_type": "code",
   "execution_count": 26,
   "id": "74ff1d18",
   "metadata": {},
   "outputs": [
    {
     "name": "stdout",
     "output_type": "stream",
     "text": [
      "<class 'pandas.core.frame.DataFrame'>\n",
      "Int64Index: 1120 entries, 3929 to 1346952\n",
      "Columns: 276 entries, isin to maxexp_oil_fuels_part\n",
      "dtypes: Int64(2), object(274)\n",
      "memory usage: 2.4+ MB\n"
     ]
    }
   ],
   "source": [
    "DF_after_filtered.info()"
   ]
  },
  {
   "cell_type": "code",
   "execution_count": 27,
   "id": "e7f91a0f",
   "metadata": {},
   "outputs": [
    {
     "name": "stdout",
     "output_type": "stream",
     "text": [
      "<class 'pandas.core.frame.DataFrame'>\n",
      "Int64Index: 1120 entries, 3929 to 1346952\n",
      "Columns: 276 entries, isin to maxexp_oil_fuels_part\n",
      "dtypes: Int64(2), object(274)\n",
      "memory usage: 2.4+ MB\n"
     ]
    }
   ],
   "source": [
    "DF_after_filtered= DF_after_filtered.drop_duplicates(subset='ClarityID')\n",
    "DF_after_filtered.info()"
   ]
  },
  {
   "cell_type": "code",
   "execution_count": 28,
   "id": "d11bd10d",
   "metadata": {},
   "outputs": [
    {
     "name": "stdout",
     "output_type": "stream",
     "text": [
      "<class 'pandas.core.frame.DataFrame'>\n",
      "Int64Index: 1120 entries, 3929 to 1346952\n",
      "Columns: 276 entries, isin to maxexp_oil_fuels_part\n",
      "dtypes: Int64(2), object(274)\n",
      "memory usage: 2.4+ MB\n"
     ]
    }
   ],
   "source": [
    "DF_after_filtered = DF_after_filtered.drop_duplicates()\n",
    "DF_after_filtered.info()"
   ]
  },
  {
   "cell_type": "code",
   "execution_count": 29,
   "id": "097e5724",
   "metadata": {},
   "outputs": [],
   "source": [
    "#columnas correspondientes en ambos dataframes\n",
    "DF_before_filtered_sr = DF_before_filtered.loc[:, ['issuer_name', 'permId', 'art_8_basicos']]\n",
    "DF_after_filtered_sr = DF_after_filtered.loc[:, ['issuer_name','permId', 'art_8_basicos']]"
   ]
  },
  {
   "cell_type": "code",
   "execution_count": 30,
   "id": "901f869b",
   "metadata": {},
   "outputs": [],
   "source": [
    "DF_before_filtered_sr = DF_before_filtered_sr.drop_duplicates()\n",
    "DF_after_filtered_sr = DF_after_filtered_sr.drop_duplicates()"
   ]
  },
  {
   "cell_type": "code",
   "execution_count": 31,
   "id": "3d375074",
   "metadata": {},
   "outputs": [],
   "source": [
    "# Cambinar en función de permId\n",
    "DF_merged_sr = pd.merge(DF_before_filtered_sr, DF_after_filtered_sr, on='permId',suffixes=('_before', '_after'))"
   ]
  },
  {
   "cell_type": "code",
   "execution_count": 32,
   "id": "e992ba23",
   "metadata": {},
   "outputs": [
    {
     "name": "stdout",
     "output_type": "stream",
     "text": [
      "<class 'pandas.core.frame.DataFrame'>\n",
      "Int64Index: 978 entries, 0 to 977\n",
      "Data columns (total 5 columns):\n",
      " #   Column                Non-Null Count  Dtype \n",
      "---  ------                --------------  ----- \n",
      " 0   issuer_name_before    978 non-null    object\n",
      " 1   permId                978 non-null    int64 \n",
      " 2   art_8_basicos_before  978 non-null    object\n",
      " 3   issuer_name_after     978 non-null    object\n",
      " 4   art_8_basicos_after   978 non-null    object\n",
      "dtypes: int64(1), object(4)\n",
      "memory usage: 45.8+ KB\n"
     ]
    }
   ],
   "source": [
    "DF_merged_sr.head()\n",
    "DF_merged_sr.info()"
   ]
  },
  {
   "cell_type": "code",
   "execution_count": 33,
   "id": "fa027943",
   "metadata": {},
   "outputs": [
    {
     "name": "stdout",
     "output_type": "stream",
     "text": [
      "<class 'pandas.core.frame.DataFrame'>\n",
      "Int64Index: 978 entries, 0 to 977\n",
      "Data columns (total 5 columns):\n",
      " #   Column                Non-Null Count  Dtype \n",
      "---  ------                --------------  ----- \n",
      " 0   issuer_name_before    978 non-null    object\n",
      " 1   permId                978 non-null    int64 \n",
      " 2   art_8_basicos_before  978 non-null    object\n",
      " 3   issuer_name_after     978 non-null    object\n",
      " 4   art_8_basicos_after   978 non-null    object\n",
      "dtypes: int64(1), object(4)\n",
      "memory usage: 45.8+ KB\n"
     ]
    }
   ],
   "source": [
    "DF_merged_sr_without_duplicates = DF_merged_sr.drop_duplicates()\n",
    "DF_merged_sr_without_duplicates.info()"
   ]
  },
  {
   "cell_type": "code",
   "execution_count": 34,
   "id": "d98d0c1d",
   "metadata": {},
   "outputs": [],
   "source": [
    "DF_merged_sr_without_duplicates.drop(['issuer_name_after'], axis = 'columns', inplace=True)\n",
    "DF_merged_sr_without_duplicates.rename(columns = {'issuer_name_before':'issuer_name'},inplace =True)\n",
    "DF_merged_sr_without_duplicates= DF_merged_sr_without_duplicates[['permId','issuer_name', 'art_8_basicos_before','art_8_basicos_after']]"
   ]
  },
  {
   "cell_type": "code",
   "execution_count": 35,
   "id": "d05cee3e",
   "metadata": {},
   "outputs": [
    {
     "name": "stdout",
     "output_type": "stream",
     "text": [
      "<class 'pandas.core.frame.DataFrame'>\n",
      "Int64Index: 978 entries, 0 to 977\n",
      "Data columns (total 4 columns):\n",
      " #   Column                Non-Null Count  Dtype \n",
      "---  ------                --------------  ----- \n",
      " 0   permId                978 non-null    int64 \n",
      " 1   issuer_name           978 non-null    object\n",
      " 2   art_8_basicos_before  978 non-null    object\n",
      " 3   art_8_basicos_after   978 non-null    object\n",
      "dtypes: int64(1), object(3)\n",
      "memory usage: 38.2+ KB\n"
     ]
    }
   ],
   "source": [
    "DF_merged_sr_without_duplicates.info()"
   ]
  },
  {
   "cell_type": "code",
   "execution_count": 36,
   "id": "68f538a9",
   "metadata": {},
   "outputs": [],
   "source": [
    "# Crear columna de variación, verificación\n",
    "DF_merged_sr_without_duplicates['Variation_art_8_basicos'] = DF_merged_sr_without_duplicates.apply(\n",
    "    lambda row: row['art_8_basicos_before'] != row['art_8_basicos_after'], axis=1)"
   ]
  },
  {
   "cell_type": "code",
   "execution_count": 37,
   "id": "eb09f502",
   "metadata": {},
   "outputs": [
    {
     "name": "stdout",
     "output_type": "stream",
     "text": [
      "<class 'pandas.core.frame.DataFrame'>\n",
      "Int64Index: 978 entries, 0 to 977\n",
      "Data columns (total 5 columns):\n",
      " #   Column                   Non-Null Count  Dtype \n",
      "---  ------                   --------------  ----- \n",
      " 0   permId                   978 non-null    int64 \n",
      " 1   issuer_name              978 non-null    object\n",
      " 2   art_8_basicos_before     978 non-null    object\n",
      " 3   art_8_basicos_after      978 non-null    object\n",
      " 4   Variation_art_8_basicos  978 non-null    bool  \n",
      "dtypes: bool(1), int64(1), object(3)\n",
      "memory usage: 39.2+ KB\n"
     ]
    }
   ],
   "source": [
    "DF_merged_sr_without_duplicates.head()\n",
    "DF_merged_sr_without_duplicates.info()"
   ]
  },
  {
   "cell_type": "code",
   "execution_count": 38,
   "id": "7c60d193",
   "metadata": {},
   "outputs": [
    {
     "data": {
      "text/plain": [
       "5060689053    1\n",
       "5057776667    1\n",
       "4297849840    1\n",
       "4295904043    1\n",
       "5068663165    1\n",
       "             ..\n",
       "4295907850    1\n",
       "4295900037    1\n",
       "4295900158    1\n",
       "4295905539    1\n",
       "4298034272    1\n",
       "Name: permId, Length: 978, dtype: int64"
      ]
     },
     "execution_count": 38,
     "metadata": {},
     "output_type": "execute_result"
    }
   ],
   "source": [
    "DF_merged_sr_without_duplicates['permId'].value_counts()"
   ]
  },
  {
   "cell_type": "code",
   "execution_count": 39,
   "id": "5b311ada",
   "metadata": {},
   "outputs": [],
   "source": [
    "# Crear una lista con el orden deseado de las columnas\n",
    "column_order = ['permId','issuer_name'] + [col for col in DF_merged_sr_without_duplicates.columns if col not in ['permId','issuer_name']]\n",
    "\n",
    "# Reordenar las columnas del dataframe según la lista creada\n",
    "DF_merged_sr_without_duplicates = DF_merged_sr_without_duplicates.reindex(columns=column_order)"
   ]
  },
  {
   "cell_type": "code",
   "execution_count": 40,
   "id": "d2e8ce33",
   "metadata": {},
   "outputs": [
    {
     "data": {
      "text/html": [
       "<div>\n",
       "<style scoped>\n",
       "    .dataframe tbody tr th:only-of-type {\n",
       "        vertical-align: middle;\n",
       "    }\n",
       "\n",
       "    .dataframe tbody tr th {\n",
       "        vertical-align: top;\n",
       "    }\n",
       "\n",
       "    .dataframe thead th {\n",
       "        text-align: right;\n",
       "    }\n",
       "</style>\n",
       "<table border=\"1\" class=\"dataframe\">\n",
       "  <thead>\n",
       "    <tr style=\"text-align: right;\">\n",
       "      <th></th>\n",
       "      <th>permId</th>\n",
       "      <th>issuer_name</th>\n",
       "      <th>art_8_basicos_before</th>\n",
       "      <th>art_8_basicos_after</th>\n",
       "      <th>Variation_art_8_basicos</th>\n",
       "    </tr>\n",
       "  </thead>\n",
       "  <tbody>\n",
       "    <tr>\n",
       "      <th>0</th>\n",
       "      <td>5060689053</td>\n",
       "      <td>Broadcom Inc</td>\n",
       "      <td>OK</td>\n",
       "      <td>OK</td>\n",
       "      <td>False</td>\n",
       "    </tr>\n",
       "    <tr>\n",
       "      <th>1</th>\n",
       "      <td>4295911963</td>\n",
       "      <td>Goldman Sachs Group Inc</td>\n",
       "      <td>FLAG</td>\n",
       "      <td>FLAG</td>\n",
       "      <td>False</td>\n",
       "    </tr>\n",
       "    <tr>\n",
       "      <th>2</th>\n",
       "      <td>5040925358</td>\n",
       "      <td>Pentair PLC</td>\n",
       "      <td>OK</td>\n",
       "      <td>OK</td>\n",
       "      <td>False</td>\n",
       "    </tr>\n",
       "    <tr>\n",
       "      <th>3</th>\n",
       "      <td>4295905311</td>\n",
       "      <td>Waste Management Inc</td>\n",
       "      <td>OK</td>\n",
       "      <td>OK</td>\n",
       "      <td>False</td>\n",
       "    </tr>\n",
       "    <tr>\n",
       "      <th>4</th>\n",
       "      <td>5038915059</td>\n",
       "      <td>Intercontinental Exchange Inc</td>\n",
       "      <td>OK</td>\n",
       "      <td>OK</td>\n",
       "      <td>False</td>\n",
       "    </tr>\n",
       "  </tbody>\n",
       "</table>\n",
       "</div>"
      ],
      "text/plain": [
       "       permId                    issuer_name art_8_basicos_before  \\\n",
       "0  5060689053                   Broadcom Inc                   OK   \n",
       "1  4295911963        Goldman Sachs Group Inc                 FLAG   \n",
       "2  5040925358                    Pentair PLC                   OK   \n",
       "3  4295905311           Waste Management Inc                   OK   \n",
       "4  5038915059  Intercontinental Exchange Inc                   OK   \n",
       "\n",
       "  art_8_basicos_after  Variation_art_8_basicos  \n",
       "0                  OK                    False  \n",
       "1                FLAG                    False  \n",
       "2                  OK                    False  \n",
       "3                  OK                    False  \n",
       "4                  OK                    False  "
      ]
     },
     "execution_count": 40,
     "metadata": {},
     "output_type": "execute_result"
    }
   ],
   "source": [
    "DF_merged_sr_without_duplicates.head()"
   ]
  },
  {
   "cell_type": "code",
   "execution_count": 41,
   "id": "412ca57f",
   "metadata": {},
   "outputs": [],
   "source": [
    "#Para solo seleecionar las col que a unir en el resumen \n",
    "V_art_8_basicos=DF_merged_sr_without_duplicates[['permId','issuer_name','Variation_art_8_basicos']]"
   ]
  },
  {
   "cell_type": "code",
   "execution_count": 42,
   "id": "4e852579",
   "metadata": {},
   "outputs": [
    {
     "name": "stdout",
     "output_type": "stream",
     "text": [
      "<class 'pandas.core.frame.DataFrame'>\n",
      "Int64Index: 978 entries, 0 to 977\n",
      "Data columns (total 3 columns):\n",
      " #   Column                   Non-Null Count  Dtype \n",
      "---  ------                   --------------  ----- \n",
      " 0   permId                   978 non-null    int64 \n",
      " 1   issuer_name              978 non-null    object\n",
      " 2   Variation_art_8_basicos  978 non-null    bool  \n",
      "dtypes: bool(1), int64(1), object(1)\n",
      "memory usage: 23.9+ KB\n"
     ]
    }
   ],
   "source": [
    "V_art_8_basicos.info()"
   ]
  },
  {
   "cell_type": "code",
   "execution_count": 43,
   "id": "85f0680f",
   "metadata": {},
   "outputs": [
    {
     "data": {
      "text/plain": [
       "False    953\n",
       "True      25\n",
       "Name: Variation_art_8_basicos, dtype: int64"
      ]
     },
     "execution_count": 43,
     "metadata": {},
     "output_type": "execute_result"
    }
   ],
   "source": [
    "pd.Series(V_art_8_basicos.Variation_art_8_basicos).value_counts()"
   ]
  },
  {
   "cell_type": "code",
   "execution_count": 44,
   "id": "fa8972d0",
   "metadata": {},
   "outputs": [],
   "source": [
    "True_art_8_basicos=DF_merged_sr_without_duplicates\n",
    "in_True_art_8_basicos= True_art_8_basicos['Variation_art_8_basicos']==True\n",
    "True_art_8_basicos= True_art_8_basicos[in_True_art_8_basicos]"
   ]
  },
  {
   "cell_type": "code",
   "execution_count": 45,
   "id": "5a8d43c3",
   "metadata": {},
   "outputs": [
    {
     "data": {
      "text/html": [
       "<div>\n",
       "<style scoped>\n",
       "    .dataframe tbody tr th:only-of-type {\n",
       "        vertical-align: middle;\n",
       "    }\n",
       "\n",
       "    .dataframe tbody tr th {\n",
       "        vertical-align: top;\n",
       "    }\n",
       "\n",
       "    .dataframe thead th {\n",
       "        text-align: right;\n",
       "    }\n",
       "</style>\n",
       "<table border=\"1\" class=\"dataframe\">\n",
       "  <thead>\n",
       "    <tr style=\"text-align: right;\">\n",
       "      <th></th>\n",
       "      <th>permId</th>\n",
       "      <th>issuer_name</th>\n",
       "      <th>art_8_basicos_before</th>\n",
       "      <th>art_8_basicos_after</th>\n",
       "      <th>Variation_art_8_basicos</th>\n",
       "    </tr>\n",
       "  </thead>\n",
       "  <tbody>\n",
       "    <tr>\n",
       "      <th>5</th>\n",
       "      <td>4295905573</td>\n",
       "      <td>Apple Inc</td>\n",
       "      <td>EXCLUDED</td>\n",
       "      <td>FLAG</td>\n",
       "      <td>True</td>\n",
       "    </tr>\n",
       "    <tr>\n",
       "      <th>10</th>\n",
       "      <td>5035523437</td>\n",
       "      <td>Viatris Inc</td>\n",
       "      <td>OK</td>\n",
       "      <td>FLAG</td>\n",
       "      <td>True</td>\n",
       "    </tr>\n",
       "    <tr>\n",
       "      <th>32</th>\n",
       "      <td>4295908552</td>\n",
       "      <td>Berkshire Hathaway Inc</td>\n",
       "      <td>OK</td>\n",
       "      <td>FLAG</td>\n",
       "      <td>True</td>\n",
       "    </tr>\n",
       "    <tr>\n",
       "      <th>33</th>\n",
       "      <td>5030853586</td>\n",
       "      <td>Alphabet Inc</td>\n",
       "      <td>EXCLUDED</td>\n",
       "      <td>FLAG</td>\n",
       "      <td>True</td>\n",
       "    </tr>\n",
       "    <tr>\n",
       "      <th>48</th>\n",
       "      <td>4295903829</td>\n",
       "      <td>Cummins Inc</td>\n",
       "      <td>OK</td>\n",
       "      <td>EXCLUDED</td>\n",
       "      <td>True</td>\n",
       "    </tr>\n",
       "  </tbody>\n",
       "</table>\n",
       "</div>"
      ],
      "text/plain": [
       "        permId             issuer_name art_8_basicos_before  \\\n",
       "5   4295905573               Apple Inc             EXCLUDED   \n",
       "10  5035523437             Viatris Inc                   OK   \n",
       "32  4295908552  Berkshire Hathaway Inc                   OK   \n",
       "33  5030853586            Alphabet Inc             EXCLUDED   \n",
       "48  4295903829             Cummins Inc                   OK   \n",
       "\n",
       "   art_8_basicos_after  Variation_art_8_basicos  \n",
       "5                 FLAG                     True  \n",
       "10                FLAG                     True  \n",
       "32                FLAG                     True  \n",
       "33                FLAG                     True  \n",
       "48            EXCLUDED                     True  "
      ]
     },
     "execution_count": 45,
     "metadata": {},
     "output_type": "execute_result"
    }
   ],
   "source": [
    "True_art_8_basicos.head()"
   ]
  },
  {
   "cell_type": "code",
   "execution_count": 46,
   "id": "d5e2dd82",
   "metadata": {},
   "outputs": [],
   "source": [
    "True_art_8_basicos = True_art_8_basicos[['permId','issuer_name','Variation_art_8_basicos','art_8_basicos_before','art_8_basicos_after',]]"
   ]
  },
  {
   "cell_type": "code",
   "execution_count": 47,
   "id": "e447ad74",
   "metadata": {},
   "outputs": [
    {
     "name": "stdout",
     "output_type": "stream",
     "text": [
      "<class 'pandas.core.frame.DataFrame'>\n",
      "Int64Index: 25 entries, 5 to 901\n",
      "Data columns (total 5 columns):\n",
      " #   Column                   Non-Null Count  Dtype \n",
      "---  ------                   --------------  ----- \n",
      " 0   permId                   25 non-null     int64 \n",
      " 1   issuer_name              25 non-null     object\n",
      " 2   Variation_art_8_basicos  25 non-null     bool  \n",
      " 3   art_8_basicos_before     25 non-null     object\n",
      " 4   art_8_basicos_after      25 non-null     object\n",
      "dtypes: bool(1), int64(1), object(3)\n",
      "memory usage: 1.0+ KB\n"
     ]
    }
   ],
   "source": [
    "True_art_8_basicos.info()"
   ]
  },
  {
   "cell_type": "code",
   "execution_count": 48,
   "id": "afe4941f",
   "metadata": {},
   "outputs": [
    {
     "data": {
      "text/plain": [
       "True    25\n",
       "Name: Variation_art_8_basicos, dtype: int64"
      ]
     },
     "execution_count": 48,
     "metadata": {},
     "output_type": "execute_result"
    }
   ],
   "source": [
    "pd.Series(True_art_8_basicos.Variation_art_8_basicos).value_counts()"
   ]
  },
  {
   "cell_type": "code",
   "execution_count": 49,
   "id": "fa8bbd3c",
   "metadata": {},
   "outputs": [
    {
     "data": {
      "text/html": [
       "<div>\n",
       "<style scoped>\n",
       "    .dataframe tbody tr th:only-of-type {\n",
       "        vertical-align: middle;\n",
       "    }\n",
       "\n",
       "    .dataframe tbody tr th {\n",
       "        vertical-align: top;\n",
       "    }\n",
       "\n",
       "    .dataframe thead th {\n",
       "        text-align: right;\n",
       "    }\n",
       "</style>\n",
       "<table border=\"1\" class=\"dataframe\">\n",
       "  <thead>\n",
       "    <tr style=\"text-align: right;\">\n",
       "      <th></th>\n",
       "      <th>Aladdin_Issuer</th>\n",
       "      <th>Issuer_Name</th>\n",
       "      <th>CLARITY_AI</th>\n",
       "    </tr>\n",
       "  </thead>\n",
       "  <tbody>\n",
       "    <tr>\n",
       "      <th>0</th>\n",
       "      <td>000176</td>\n",
       "      <td>AMERICAN AIRLINES GROUP INC</td>\n",
       "      <td>4295903254</td>\n",
       "    </tr>\n",
       "    <tr>\n",
       "      <th>1</th>\n",
       "      <td>000375</td>\n",
       "      <td>BP PLC</td>\n",
       "      <td>4295894740</td>\n",
       "    </tr>\n",
       "    <tr>\n",
       "      <th>2</th>\n",
       "      <td>00038A</td>\n",
       "      <td>ABB LTD</td>\n",
       "      <td>4295890743</td>\n",
       "    </tr>\n",
       "    <tr>\n",
       "      <th>3</th>\n",
       "      <td>00077B</td>\n",
       "      <td>NATWEST MARKETS NV</td>\n",
       "      <td>4296540158</td>\n",
       "    </tr>\n",
       "    <tr>\n",
       "      <th>4</th>\n",
       "      <td>00138E</td>\n",
       "      <td>AIG MATCHED FUNDING CORPORATION</td>\n",
       "      <td>4296435746</td>\n",
       "    </tr>\n",
       "  </tbody>\n",
       "</table>\n",
       "</div>"
      ],
      "text/plain": [
       "  Aladdin_Issuer                      Issuer_Name  CLARITY_AI\n",
       "0         000176      AMERICAN AIRLINES GROUP INC  4295903254\n",
       "1         000375                           BP PLC  4295894740\n",
       "2         00038A                          ABB LTD  4295890743\n",
       "3         00077B               NATWEST MARKETS NV  4296540158\n",
       "4         00138E  AIG MATCHED FUNDING CORPORATION  4296435746"
      ]
     },
     "execution_count": 49,
     "metadata": {},
     "output_type": "execute_result"
    }
   ],
   "source": [
    "CROSS_REFERENCE_after.head()"
   ]
  },
  {
   "cell_type": "code",
   "execution_count": 50,
   "id": "4ccd675a",
   "metadata": {},
   "outputs": [],
   "source": [
    "CROSS_REFERENCE_after = CROSS_REFERENCE_after.rename(columns={'Aladdin_Issuer': 'Issuer ID', 'Issuer_Name': 'Issuer_Name','CLARITY_AI': 'permId'})"
   ]
  },
  {
   "cell_type": "code",
   "execution_count": 51,
   "id": "67765cfd",
   "metadata": {},
   "outputs": [
    {
     "data": {
      "text/html": [
       "<div>\n",
       "<style scoped>\n",
       "    .dataframe tbody tr th:only-of-type {\n",
       "        vertical-align: middle;\n",
       "    }\n",
       "\n",
       "    .dataframe tbody tr th {\n",
       "        vertical-align: top;\n",
       "    }\n",
       "\n",
       "    .dataframe thead th {\n",
       "        text-align: right;\n",
       "    }\n",
       "</style>\n",
       "<table border=\"1\" class=\"dataframe\">\n",
       "  <thead>\n",
       "    <tr style=\"text-align: right;\">\n",
       "      <th></th>\n",
       "      <th>Issuer ID</th>\n",
       "      <th>Issuer_Name</th>\n",
       "      <th>permId</th>\n",
       "    </tr>\n",
       "  </thead>\n",
       "  <tbody>\n",
       "    <tr>\n",
       "      <th>0</th>\n",
       "      <td>000176</td>\n",
       "      <td>AMERICAN AIRLINES GROUP INC</td>\n",
       "      <td>4295903254</td>\n",
       "    </tr>\n",
       "    <tr>\n",
       "      <th>1</th>\n",
       "      <td>000375</td>\n",
       "      <td>BP PLC</td>\n",
       "      <td>4295894740</td>\n",
       "    </tr>\n",
       "    <tr>\n",
       "      <th>2</th>\n",
       "      <td>00038A</td>\n",
       "      <td>ABB LTD</td>\n",
       "      <td>4295890743</td>\n",
       "    </tr>\n",
       "    <tr>\n",
       "      <th>3</th>\n",
       "      <td>00077B</td>\n",
       "      <td>NATWEST MARKETS NV</td>\n",
       "      <td>4296540158</td>\n",
       "    </tr>\n",
       "    <tr>\n",
       "      <th>4</th>\n",
       "      <td>00138E</td>\n",
       "      <td>AIG MATCHED FUNDING CORPORATION</td>\n",
       "      <td>4296435746</td>\n",
       "    </tr>\n",
       "  </tbody>\n",
       "</table>\n",
       "</div>"
      ],
      "text/plain": [
       "  Issuer ID                      Issuer_Name      permId\n",
       "0    000176      AMERICAN AIRLINES GROUP INC  4295903254\n",
       "1    000375                           BP PLC  4295894740\n",
       "2    00038A                          ABB LTD  4295890743\n",
       "3    00077B               NATWEST MARKETS NV  4296540158\n",
       "4    00138E  AIG MATCHED FUNDING CORPORATION  4296435746"
      ]
     },
     "execution_count": 51,
     "metadata": {},
     "output_type": "execute_result"
    }
   ],
   "source": [
    "CROSS_REFERENCE_after.head()"
   ]
  },
  {
   "cell_type": "code",
   "execution_count": 52,
   "id": "cddd0ba4",
   "metadata": {},
   "outputs": [],
   "source": [
    "# Cambinar en función de permId\n",
    "True_art_8_basicos_merged = pd.merge(True_art_8_basicos, CROSS_REFERENCE_after, on='permId')"
   ]
  },
  {
   "cell_type": "code",
   "execution_count": 53,
   "id": "84bdbd08",
   "metadata": {},
   "outputs": [
    {
     "data": {
      "text/html": [
       "<div>\n",
       "<style scoped>\n",
       "    .dataframe tbody tr th:only-of-type {\n",
       "        vertical-align: middle;\n",
       "    }\n",
       "\n",
       "    .dataframe tbody tr th {\n",
       "        vertical-align: top;\n",
       "    }\n",
       "\n",
       "    .dataframe thead th {\n",
       "        text-align: right;\n",
       "    }\n",
       "</style>\n",
       "<table border=\"1\" class=\"dataframe\">\n",
       "  <thead>\n",
       "    <tr style=\"text-align: right;\">\n",
       "      <th></th>\n",
       "      <th>permId</th>\n",
       "      <th>issuer_name</th>\n",
       "      <th>Variation_art_8_basicos</th>\n",
       "      <th>art_8_basicos_before</th>\n",
       "      <th>art_8_basicos_after</th>\n",
       "      <th>Issuer ID</th>\n",
       "      <th>Issuer_Name</th>\n",
       "    </tr>\n",
       "  </thead>\n",
       "  <tbody>\n",
       "    <tr>\n",
       "      <th>0</th>\n",
       "      <td>4295905573</td>\n",
       "      <td>Apple Inc</td>\n",
       "      <td>True</td>\n",
       "      <td>EXCLUDED</td>\n",
       "      <td>FLAG</td>\n",
       "      <td>D00340</td>\n",
       "      <td>APPLE INC</td>\n",
       "    </tr>\n",
       "    <tr>\n",
       "      <th>1</th>\n",
       "      <td>5035523437</td>\n",
       "      <td>Viatris Inc</td>\n",
       "      <td>True</td>\n",
       "      <td>OK</td>\n",
       "      <td>FLAG</td>\n",
       "      <td>J20073</td>\n",
       "      <td>VIATRIS INC</td>\n",
       "    </tr>\n",
       "    <tr>\n",
       "      <th>2</th>\n",
       "      <td>4295908552</td>\n",
       "      <td>Berkshire Hathaway Inc</td>\n",
       "      <td>True</td>\n",
       "      <td>OK</td>\n",
       "      <td>FLAG</td>\n",
       "      <td>R49515</td>\n",
       "      <td>BERKSHIRE HATHAWAY INC</td>\n",
       "    </tr>\n",
       "    <tr>\n",
       "      <th>3</th>\n",
       "      <td>5030853586</td>\n",
       "      <td>Alphabet Inc</td>\n",
       "      <td>True</td>\n",
       "      <td>EXCLUDED</td>\n",
       "      <td>FLAG</td>\n",
       "      <td>H27234</td>\n",
       "      <td>ALPHABET INC</td>\n",
       "    </tr>\n",
       "    <tr>\n",
       "      <th>4</th>\n",
       "      <td>4295903829</td>\n",
       "      <td>Cummins Inc</td>\n",
       "      <td>True</td>\n",
       "      <td>OK</td>\n",
       "      <td>EXCLUDED</td>\n",
       "      <td>21302L</td>\n",
       "      <td>CUMMINS INC</td>\n",
       "    </tr>\n",
       "  </tbody>\n",
       "</table>\n",
       "</div>"
      ],
      "text/plain": [
       "       permId             issuer_name  Variation_art_8_basicos  \\\n",
       "0  4295905573               Apple Inc                     True   \n",
       "1  5035523437             Viatris Inc                     True   \n",
       "2  4295908552  Berkshire Hathaway Inc                     True   \n",
       "3  5030853586            Alphabet Inc                     True   \n",
       "4  4295903829             Cummins Inc                     True   \n",
       "\n",
       "  art_8_basicos_before art_8_basicos_after Issuer ID             Issuer_Name  \n",
       "0             EXCLUDED                FLAG    D00340               APPLE INC  \n",
       "1                   OK                FLAG    J20073             VIATRIS INC  \n",
       "2                   OK                FLAG    R49515  BERKSHIRE HATHAWAY INC  \n",
       "3             EXCLUDED                FLAG    H27234            ALPHABET INC  \n",
       "4                   OK            EXCLUDED    21302L             CUMMINS INC  "
      ]
     },
     "execution_count": 53,
     "metadata": {},
     "output_type": "execute_result"
    }
   ],
   "source": [
    "True_art_8_basicos_merged.head()"
   ]
  },
  {
   "cell_type": "code",
   "execution_count": 54,
   "id": "9821e14f",
   "metadata": {},
   "outputs": [],
   "source": [
    "True_art_8_basicos_merged=True_art_8_basicos_merged.drop(columns='Issuer_Name')"
   ]
  },
  {
   "cell_type": "code",
   "execution_count": 55,
   "id": "42483d11",
   "metadata": {},
   "outputs": [],
   "source": [
    "True_art_8_basicos_merged=True_art_8_basicos_merged.drop(columns='permId')"
   ]
  },
  {
   "cell_type": "code",
   "execution_count": 56,
   "id": "73a6325d",
   "metadata": {},
   "outputs": [],
   "source": [
    "True_art_8_basicos_merged=True_art_8_basicos_merged.drop(columns='Variation_art_8_basicos')"
   ]
  },
  {
   "cell_type": "code",
   "execution_count": 57,
   "id": "83ef0189",
   "metadata": {},
   "outputs": [
    {
     "data": {
      "text/html": [
       "<div>\n",
       "<style scoped>\n",
       "    .dataframe tbody tr th:only-of-type {\n",
       "        vertical-align: middle;\n",
       "    }\n",
       "\n",
       "    .dataframe tbody tr th {\n",
       "        vertical-align: top;\n",
       "    }\n",
       "\n",
       "    .dataframe thead th {\n",
       "        text-align: right;\n",
       "    }\n",
       "</style>\n",
       "<table border=\"1\" class=\"dataframe\">\n",
       "  <thead>\n",
       "    <tr style=\"text-align: right;\">\n",
       "      <th></th>\n",
       "      <th>issuer_name</th>\n",
       "      <th>art_8_basicos_before</th>\n",
       "      <th>art_8_basicos_after</th>\n",
       "      <th>Issuer ID</th>\n",
       "    </tr>\n",
       "  </thead>\n",
       "  <tbody>\n",
       "    <tr>\n",
       "      <th>0</th>\n",
       "      <td>Apple Inc</td>\n",
       "      <td>EXCLUDED</td>\n",
       "      <td>FLAG</td>\n",
       "      <td>D00340</td>\n",
       "    </tr>\n",
       "    <tr>\n",
       "      <th>1</th>\n",
       "      <td>Viatris Inc</td>\n",
       "      <td>OK</td>\n",
       "      <td>FLAG</td>\n",
       "      <td>J20073</td>\n",
       "    </tr>\n",
       "    <tr>\n",
       "      <th>2</th>\n",
       "      <td>Berkshire Hathaway Inc</td>\n",
       "      <td>OK</td>\n",
       "      <td>FLAG</td>\n",
       "      <td>R49515</td>\n",
       "    </tr>\n",
       "    <tr>\n",
       "      <th>3</th>\n",
       "      <td>Alphabet Inc</td>\n",
       "      <td>EXCLUDED</td>\n",
       "      <td>FLAG</td>\n",
       "      <td>H27234</td>\n",
       "    </tr>\n",
       "    <tr>\n",
       "      <th>4</th>\n",
       "      <td>Cummins Inc</td>\n",
       "      <td>OK</td>\n",
       "      <td>EXCLUDED</td>\n",
       "      <td>21302L</td>\n",
       "    </tr>\n",
       "  </tbody>\n",
       "</table>\n",
       "</div>"
      ],
      "text/plain": [
       "              issuer_name art_8_basicos_before art_8_basicos_after Issuer ID\n",
       "0               Apple Inc             EXCLUDED                FLAG    D00340\n",
       "1             Viatris Inc                   OK                FLAG    J20073\n",
       "2  Berkshire Hathaway Inc                   OK                FLAG    R49515\n",
       "3            Alphabet Inc             EXCLUDED                FLAG    H27234\n",
       "4             Cummins Inc                   OK            EXCLUDED    21302L"
      ]
     },
     "execution_count": 57,
     "metadata": {},
     "output_type": "execute_result"
    }
   ],
   "source": [
    "True_art_8_basicos_merged.head()"
   ]
  },
  {
   "cell_type": "code",
   "execution_count": 58,
   "id": "d74f4dce",
   "metadata": {},
   "outputs": [],
   "source": [
    "True_art_8_basicos_merged = True_art_8_basicos_merged[['Issuer ID','issuer_name','art_8_basicos_before','art_8_basicos_after',]]"
   ]
  },
  {
   "cell_type": "code",
   "execution_count": 59,
   "id": "6d024209",
   "metadata": {},
   "outputs": [],
   "source": [
    "True_art_8_basicos_merged.to_excel('X:/INVDESPRO/INVESTIGACION/Fondos éticos/7. MANDATOS ESG/01_Documentación_mandatos/Blackrock/Script_Resultados/Advisedby_cambios_022024.xlsx',index=False)"
   ]
  },
  {
   "cell_type": "code",
   "execution_count": null,
   "id": "1fb86ee8",
   "metadata": {},
   "outputs": [],
   "source": []
  }
 ],
 "metadata": {
  "kernelspec": {
   "display_name": "Python 3 (ipykernel)",
   "language": "python",
   "name": "python3"
  },
  "language_info": {
   "codemirror_mode": {
    "name": "ipython",
    "version": 3
   },
   "file_extension": ".py",
   "mimetype": "text/x-python",
   "name": "python",
   "nbconvert_exporter": "python",
   "pygments_lexer": "ipython3",
   "version": "3.9.12"
  }
 },
 "nbformat": 4,
 "nbformat_minor": 5
}
