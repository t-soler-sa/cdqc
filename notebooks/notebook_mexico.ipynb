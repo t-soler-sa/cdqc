{
 "cells": [
  {
   "cell_type": "code",
   "execution_count": 1,
   "metadata": {},
   "outputs": [],
   "source": [
    "import pandas as pd\n",
    "import numpy as np\n",
    "\n",
    "import sys\n",
    "import os\n",
    "\n",
    "# Add the project root (one level up from notebooks/) to sys.path\n",
    "sys.path.append(os.path.abspath(os.path.join(os.getcwd(), '..')))"
   ]
  },
  {
   "cell_type": "code",
   "execution_count": 3,
   "metadata": {},
   "outputs": [],
   "source": [
    "from scripts.utils.dataloaders import load_clarity_data\n",
    "from scripts.utils.config import get_config"
   ]
  },
  {
   "cell_type": "code",
   "execution_count": 4,
   "metadata": {},
   "outputs": [],
   "source": [
    "config = get_config(\n",
    "    \"notebook-datafeeds-explorer\", \n",
    "    interactive=False,\n",
    "    auto_date= False,\n",
    "    fixed_date= \"202506\")"
   ]
  },
  {
   "cell_type": "code",
   "execution_count": 5,
   "metadata": {},
   "outputs": [],
   "source": [
    "DATE = config[\"DATE\"]\n",
    "paths = config[\"paths\"]\n",
    "df_path = paths[\"CURRENT_DF_WOUTOVR_SEC_PATH\"]"
   ]
  },
  {
   "cell_type": "code",
   "execution_count": 9,
   "metadata": {},
   "outputs": [
    {
     "name": "stdout",
     "output_type": "stream",
     "text": [
      "2025-06-02 11:16:33,949 - scripts.utils.dataloaders - INFO - Loading Clarity data from: C:\\Users\\n740789\\Documents\\Projects_local\\datasets\\datafeeds\\raw_dataset\\2025\\20250601_Production\\20250601_Equities_feed_new_strategies_filtered_old_names_iso_permId.csv\n",
      "2025-06-02 11:16:48,259 - scripts.utils.dataloaders - INFO - Successfully loaded Clarity data from: C:\\Users\\n740789\\Documents\\Projects_local\\datasets\\datafeeds\\raw_dataset\\2025\\20250601_Production\\20250601_Equities_feed_new_strategies_filtered_old_names_iso_permId.csv\n"
     ]
    }
   ],
   "source": [
    "df = load_clarity_data(\n",
    "    file_path=df_path,\n",
    "    target_cols=[\"isin\", \"issuer_name\", \"permId\", \"esg_score\", \"region\", \"countryCode\",\"gics2_industry\"]\n",
    ")"
   ]
  },
  {
   "cell_type": "code",
   "execution_count": 10,
   "metadata": {},
   "outputs": [],
   "source": [
    "df.columns = [c.lower() for c in df.columns]"
   ]
  },
  {
   "cell_type": "code",
   "execution_count": 11,
   "metadata": {},
   "outputs": [
    {
     "data": {
      "text/html": [
       "<div>\n",
       "<style scoped>\n",
       "    .dataframe tbody tr th:only-of-type {\n",
       "        vertical-align: middle;\n",
       "    }\n",
       "\n",
       "    .dataframe tbody tr th {\n",
       "        vertical-align: top;\n",
       "    }\n",
       "\n",
       "    .dataframe thead th {\n",
       "        text-align: right;\n",
       "    }\n",
       "</style>\n",
       "<table border=\"1\" class=\"dataframe\">\n",
       "  <thead>\n",
       "    <tr style=\"text-align: right;\">\n",
       "      <th></th>\n",
       "      <th>isin</th>\n",
       "      <th>issuer_name</th>\n",
       "      <th>gics2_industry</th>\n",
       "      <th>region</th>\n",
       "      <th>esg_score</th>\n",
       "      <th>permid</th>\n",
       "      <th>countrycode</th>\n",
       "    </tr>\n",
       "  </thead>\n",
       "  <tbody>\n",
       "    <tr>\n",
       "      <th>0</th>\n",
       "      <td>XS1842065010</td>\n",
       "      <td>SG Issuer SA</td>\n",
       "      <td>Financial Services</td>\n",
       "      <td>Europe</td>\n",
       "      <td>75</td>\n",
       "      <td>5036159086</td>\n",
       "      <td>LU</td>\n",
       "    </tr>\n",
       "    <tr>\n",
       "      <th>1</th>\n",
       "      <td>FR0012558716</td>\n",
       "      <td>SG Issuer SA</td>\n",
       "      <td>Financial Services</td>\n",
       "      <td>Europe</td>\n",
       "      <td>75</td>\n",
       "      <td>5036159086</td>\n",
       "      <td>LU</td>\n",
       "    </tr>\n",
       "    <tr>\n",
       "      <th>2</th>\n",
       "      <td>XS1597030961</td>\n",
       "      <td>SG Issuer SA</td>\n",
       "      <td>Financial Services</td>\n",
       "      <td>Europe</td>\n",
       "      <td>75</td>\n",
       "      <td>5036159086</td>\n",
       "      <td>LU</td>\n",
       "    </tr>\n",
       "    <tr>\n",
       "      <th>3</th>\n",
       "      <td>XS2065400280</td>\n",
       "      <td>SG Issuer SA</td>\n",
       "      <td>Financial Services</td>\n",
       "      <td>Europe</td>\n",
       "      <td>75</td>\n",
       "      <td>5036159086</td>\n",
       "      <td>LU</td>\n",
       "    </tr>\n",
       "    <tr>\n",
       "      <th>4</th>\n",
       "      <td>XS2176074420</td>\n",
       "      <td>SG Issuer SA</td>\n",
       "      <td>Financial Services</td>\n",
       "      <td>Europe</td>\n",
       "      <td>75</td>\n",
       "      <td>5036159086</td>\n",
       "      <td>LU</td>\n",
       "    </tr>\n",
       "  </tbody>\n",
       "</table>\n",
       "</div>"
      ],
      "text/plain": [
       "           isin   issuer_name      gics2_industry  region  esg_score  \\\n",
       "0  XS1842065010  SG Issuer SA  Financial Services  Europe         75   \n",
       "1  FR0012558716  SG Issuer SA  Financial Services  Europe         75   \n",
       "2  XS1597030961  SG Issuer SA  Financial Services  Europe         75   \n",
       "3  XS2065400280  SG Issuer SA  Financial Services  Europe         75   \n",
       "4  XS2176074420  SG Issuer SA  Financial Services  Europe         75   \n",
       "\n",
       "       permid countrycode  \n",
       "0  5036159086          LU  \n",
       "1  5036159086          LU  \n",
       "2  5036159086          LU  \n",
       "3  5036159086          LU  \n",
       "4  5036159086          LU  "
      ]
     },
     "execution_count": 11,
     "metadata": {},
     "output_type": "execute_result"
    }
   ],
   "source": [
    "df.head()"
   ]
  },
  {
   "cell_type": "code",
   "execution_count": 15,
   "metadata": {},
   "outputs": [],
   "source": [
    "latam = df[(df.region == \"LATAM\") | (df.region.isna())]"
   ]
  },
  {
   "cell_type": "code",
   "execution_count": 16,
   "metadata": {},
   "outputs": [
    {
     "data": {
      "text/plain": [
       "(6350, 7)"
      ]
     },
     "execution_count": 16,
     "metadata": {},
     "output_type": "execute_result"
    }
   ],
   "source": [
    "latam.shape"
   ]
  },
  {
   "cell_type": "code",
   "execution_count": null,
   "metadata": {},
   "outputs": [],
   "source": []
  }
 ],
 "metadata": {
  "kernelspec": {
   "display_name": ".venv",
   "language": "python",
   "name": "python3"
  },
  "language_info": {
   "codemirror_mode": {
    "name": "ipython",
    "version": 3
   },
   "file_extension": ".py",
   "mimetype": "text/x-python",
   "name": "python",
   "nbconvert_exporter": "python",
   "pygments_lexer": "ipython3",
   "version": "3.13.0"
  }
 },
 "nbformat": 4,
 "nbformat_minor": 2
}
