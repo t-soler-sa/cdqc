{
 "cells": [
  {
   "cell_type": "code",
   "execution_count": 1,
   "metadata": {},
   "outputs": [],
   "source": [
    "import pandas as pd\n",
    "import numpy as np\n",
    "from datetime import datetime\n",
    "from typing import List, Dict, Tuple\n",
    "import os\n",
    "import re"
   ]
  },
  {
   "cell_type": "code",
   "execution_count": 2,
   "metadata": {},
   "outputs": [],
   "source": [
    "# translate column of secondary reason for override"
   ]
  },
  {
   "cell_type": "code",
   "execution_count": null,
   "metadata": {},
   "outputs": [],
   "source": []
  },
  {
   "cell_type": "code",
   "execution_count": 3,
   "metadata": {},
   "outputs": [],
   "source": [
    "overrides = pd.read_excel(r\"C:\\Users\\n740789\\Documents\\Projects_local\\DataSets\\overrides\\202503_BBDD_Overrides.xlsx\",\n",
    "                   sheet_name=\"MAPEO P-S\",\n",
    "                   dtype={'permId (Clarity)':str, 'ClarityID':str},\n",
    "                   )"
   ]
  },
  {
   "cell_type": "code",
   "execution_count": 4,
   "metadata": {},
   "outputs": [
    {
     "data": {
      "text/plain": [
       "Index(['#', 'ClarityID', 'permId (Clarity)', 'IssuerID', 'Issuer Name',\n",
       "       'SNT-WORLD\\n(Y/-)', 'PARENT NAME (Aladdin)',\n",
       "       'PARENT IssuerID (Aladdin)', 'Parent (P) / Subsidiaria (S)',\n",
       "       'PARENT NAME (Clarity)', 'Parent ClarityID', 'GICS_2', 'GICS_2\\nParent',\n",
       "       'Sustainability Rating Parent', 'OVR Inheritance BiC',\n",
       "       'OVR STR001\\n(SEC)', 'OVR STR002\\n(EC*)', 'OVR STR003\\n(EC)',\n",
       "       'OVR STR003B\\n(EC*)', 'OVR STR004\\n(SEC)', 'OVR STR005\\n(EC*)',\n",
       "       'OVR STR006\\n(SEC)', 'OVR STR007\\n(SEC)', 'OVR CS001\\n(SEC*)',\n",
       "       'OVR CS002\\n(EC*)', 'OVR CS003\\n(SEC)', 'OVR ARTICULO 8\\n(C)',\n",
       "       'Motivo principal OVR', 'Motivo secundario OVR',\n",
       "       'Detalle OVR/Observación adicional', 'Fecha aplicación OVR'],\n",
       "      dtype='object')"
      ]
     },
     "execution_count": 4,
     "metadata": {},
     "output_type": "execute_result"
    }
   ],
   "source": [
    "overrides.columns"
   ]
  },
  {
   "cell_type": "code",
   "execution_count": 5,
   "metadata": {},
   "outputs": [],
   "source": [
    "overrides.columns = (\n",
    "    overrides.columns.str.strip()\n",
    "    .str.replace(' ', '_')\n",
    "    .str.replace(\")\",\"\")\\\n",
    "    .str.replace(\"(\",\"\")\n",
    "    .str.replace(\"/\",\"\")\n",
    "    .str.lower()\n",
    "    .str.replace(\"\\n\",\"_\")\n",
    "    .str.replace(\"*\",\"\")\n",
    "    .str.replace(\"__\",\"_\")\n",
    "    )"
   ]
  },
  {
   "cell_type": "code",
   "execution_count": 6,
   "metadata": {},
   "outputs": [
    {
     "data": {
      "text/plain": [
       "Index(['#', 'clarityid', 'permid_clarity', 'issuerid', 'issuer_name',\n",
       "       'snt-world_y-', 'parent_name_aladdin', 'parent_issuerid_aladdin',\n",
       "       'parent_p_subsidiaria_s', 'parent_name_clarity', 'parent_clarityid',\n",
       "       'gics_2', 'gics_2_parent', 'sustainability_rating_parent',\n",
       "       'ovr_inheritance_bic', 'ovr_str001_sec', 'ovr_str002_ec',\n",
       "       'ovr_str003_ec', 'ovr_str003b_ec', 'ovr_str004_sec', 'ovr_str005_ec',\n",
       "       'ovr_str006_sec', 'ovr_str007_sec', 'ovr_cs001_sec', 'ovr_cs002_ec',\n",
       "       'ovr_cs003_sec', 'ovr_articulo_8_c', 'motivo_principal_ovr',\n",
       "       'motivo_secundario_ovr', 'detalle_ovrobservación_adicional',\n",
       "       'fecha_aplicación_ovr'],\n",
       "      dtype='object')"
      ]
     },
     "execution_count": 6,
     "metadata": {},
     "output_type": "execute_result"
    }
   ],
   "source": [
    "overrides.columns"
   ]
  },
  {
   "cell_type": "code",
   "execution_count": 7,
   "metadata": {},
   "outputs": [],
   "source": [
    "ovr_filtered = overrides[\n",
    "    [\n",
    "        \"clarityid\", \n",
    "        \"permid_clarity\",\n",
    "        \"issuerid\",\n",
    "        \"issuer_name\",\n",
    "        \"parent_p_subsidiaria_s\",\n",
    "        \"parent_name_clarity\",\n",
    "        \"parent_clarityid\",\n",
    "        \"parent_name_aladdin\",\n",
    "        \"parent_issuerid_aladdin\",\n",
    "        \"ovr_str001_sec\",\n",
    "        \"ovr_str002_ec\",\n",
    "        \"ovr_str003_ec\",\n",
    "        \"ovr_str003b_ec\",\n",
    "        \"ovr_str004_sec\",\n",
    "        \"ovr_str005_ec\",\n",
    "        \"ovr_str006_sec\",\n",
    "        \"ovr_articulo_8_c\",\n",
    "        \"ovr_cs001_sec\",\n",
    "        \"ovr_cs002_ec\",\n",
    "        \"ovr_cs003_sec\",\n",
    "        'motivo_principal_ovr',\n",
    "        'motivo_secundario_ovr'\n",
    "\n",
    "    ]\n",
    "].copy()"
   ]
  },
  {
   "cell_type": "code",
   "execution_count": 8,
   "metadata": {},
   "outputs": [],
   "source": [
    "ovr_filtered.rename(\n",
    "    columns={\n",
    "        \"parent_p_subsidiaria_s\":\"parent_sub\",\n",
    "        \"issuerid\":\"brs_id\",\n",
    "        \"permid_clarity\":\"permid\",\n",
    "        \"parent_name_aladdin\" : \"parent_name_brs\",\n",
    "        \"parent_issuerid_aladdin\" : \"parent_brs_id\",\n",
    "        \"ovr_str001_sec\" : \"str_001\",\n",
    "        \"ovr_str002_ec\" : \"str_002\",\n",
    "        \"ovr_str003_ec\" : \"str_003\",\n",
    "        \"ovr_str003b_ec\" : \"str_003b\",\n",
    "        \"ovr_str004_sec\" : \"str_004\",\n",
    "        \"ovr_str005_ec\" : \"str_005\",\n",
    "        \"ovr_str006_sec\" : \"str_006\",\n",
    "        \"ovr_articulo_8_c\" : \"art_8\", \n",
    "        \"ovr_cs001_sec\" : \"cs_001\",\n",
    "        \"ovr_cs002_ec\" : \"cs_003\",\n",
    "        \"ovr_cs003_sec\" : \"cs_002\"\n",
    "        }, \n",
    "        inplace=True\n",
    ")"
   ]
  },
  {
   "cell_type": "code",
   "execution_count": 9,
   "metadata": {},
   "outputs": [],
   "source": [
    "#get crossreference\n",
    "crossreference = pd.read_csv(r\"C:\\Users\\n740789\\Documents\\Projects_local\\DataSets\\crossreference\\Aladdin_Clarity_Issuers_20250301.csv\", \n",
    "                             dtype={\"CLARITY_AI\": str})\n",
    "crossreference.columns = [\"brs_id\", \"brs_issuer_name\", \"permid\", \"msci_id\", \"sustainalytics_id\"]\n",
    "# drop from crossreference columns msci_id and susctainalytics_id\n",
    "crossreference.drop(columns=[\"msci_id\", \"sustainalytics_id\"], inplace=True)"
   ]
  },
  {
   "cell_type": "code",
   "execution_count": 10,
   "metadata": {},
   "outputs": [
    {
     "name": "stdout",
     "output_type": "stream",
     "text": [
      "<class 'pandas.core.frame.DataFrame'>\n",
      "RangeIndex: 134952 entries, 0 to 134951\n",
      "Data columns (total 3 columns):\n",
      " #   Column           Non-Null Count   Dtype \n",
      "---  ------           --------------   ----- \n",
      " 0   brs_id           134952 non-null  object\n",
      " 1   brs_issuer_name  134952 non-null  object\n",
      " 2   permid           131894 non-null  object\n",
      "dtypes: object(3)\n",
      "memory usage: 3.1+ MB\n"
     ]
    }
   ],
   "source": [
    "crossreference.info()"
   ]
  },
  {
   "cell_type": "code",
   "execution_count": 11,
   "metadata": {},
   "outputs": [],
   "source": [
    "# read latest datafeed at the issuer level\n",
    "target_columns = [\n",
    "    \"issuer_name\",\n",
    "    \"permid\",\n",
    "    \"clarityid\",\n",
    "    \"company_inheriting\",\n",
    "    \"parent_company\",\n",
    "    \"str_001_s\",\n",
    "    \"str_002_ec\",\n",
    "    \"str_003_ec\",\n",
    "    \"str_003b_ec\",\n",
    "    \"str_004_asec\",\n",
    "    \"str_005_ec\",\n",
    "    \"cs_001_sec\",\n",
    "    \"cs_003_sec\",\n",
    "    \"cs_002_ec\",\n",
    "    \"str_006_sec\",\n",
    "    \"art_8_basicos\"\n",
    "]\n",
    "\n",
    "datafeed = pd.read_csv(\n",
    "    r\"C:\\Users\\n740789\\Documents\\Projects_local\\DataSets\\DATAFEED\\ficheros_tratados\\2025\\20250401_Equities_feed_IssuerLevel_sinOVR.csv\",\n",
    "    usecols=target_columns,\n",
    "    dtype={\"permid\": str, \"clarityid\": str}\n",
    ")"
   ]
  },
  {
   "cell_type": "code",
   "execution_count": 12,
   "metadata": {},
   "outputs": [
    {
     "data": {
      "text/html": [
       "<div>\n",
       "<style scoped>\n",
       "    .dataframe tbody tr th:only-of-type {\n",
       "        vertical-align: middle;\n",
       "    }\n",
       "\n",
       "    .dataframe tbody tr th {\n",
       "        vertical-align: top;\n",
       "    }\n",
       "\n",
       "    .dataframe thead th {\n",
       "        text-align: right;\n",
       "    }\n",
       "</style>\n",
       "<table border=\"1\" class=\"dataframe\">\n",
       "  <thead>\n",
       "    <tr style=\"text-align: right;\">\n",
       "      <th></th>\n",
       "      <th>issuer_name</th>\n",
       "      <th>company_inheriting</th>\n",
       "      <th>parent_company</th>\n",
       "      <th>str_001_s</th>\n",
       "      <th>str_002_ec</th>\n",
       "      <th>str_003_ec</th>\n",
       "      <th>str_004_asec</th>\n",
       "      <th>clarityid</th>\n",
       "      <th>str_005_ec</th>\n",
       "      <th>cs_001_sec</th>\n",
       "      <th>cs_003_sec</th>\n",
       "      <th>cs_002_ec</th>\n",
       "      <th>str_006_sec</th>\n",
       "      <th>art_8_basicos</th>\n",
       "      <th>permid</th>\n",
       "      <th>str_003b_ec</th>\n",
       "    </tr>\n",
       "  </thead>\n",
       "  <tbody>\n",
       "    <tr>\n",
       "      <th>1172</th>\n",
       "      <td>Sncf Reseau SA</td>\n",
       "      <td>False</td>\n",
       "      <td>-</td>\n",
       "      <td>OK</td>\n",
       "      <td>OK</td>\n",
       "      <td>OK</td>\n",
       "      <td>EXCLUDED</td>\n",
       "      <td>182012</td>\n",
       "      <td>OK</td>\n",
       "      <td>EXCLUDED</td>\n",
       "      <td>EXCLUDED</td>\n",
       "      <td>OK</td>\n",
       "      <td>OK</td>\n",
       "      <td>OK</td>\n",
       "      <td>4295867872</td>\n",
       "      <td>OK</td>\n",
       "    </tr>\n",
       "  </tbody>\n",
       "</table>\n",
       "</div>"
      ],
      "text/plain": [
       "         issuer_name  company_inheriting parent_company str_001_s str_002_ec  \\\n",
       "1172  Sncf Reseau SA               False              -        OK         OK   \n",
       "\n",
       "     str_003_ec str_004_asec clarityid str_005_ec cs_001_sec cs_003_sec  \\\n",
       "1172         OK     EXCLUDED    182012         OK   EXCLUDED   EXCLUDED   \n",
       "\n",
       "     cs_002_ec str_006_sec art_8_basicos      permid str_003b_ec  \n",
       "1172        OK          OK            OK  4295867872          OK  "
      ]
     },
     "execution_count": 12,
     "metadata": {},
     "output_type": "execute_result"
    }
   ],
   "source": [
    "# find issuer names in datafeed that contain the word sncf\n",
    "datafeed[\n",
    "    datafeed[\"issuer_name\"].str.contains(\"sncf re\", case=False)\n",
    "]"
   ]
  },
  {
   "cell_type": "markdown",
   "metadata": {},
   "source": [
    "69278, 69264, 69259"
   ]
  },
  {
   "cell_type": "code",
   "execution_count": 13,
   "metadata": {},
   "outputs": [],
   "source": [
    "datafeed.rename(\n",
    "    columns={\n",
    "        \"str_001_s\"     :   \"str_001\",\n",
    "        \"str_002_ec\"    :   \"str_002\",\n",
    "        \"str_003_ec\"    :   \"str_003\",\n",
    "        \"str_003b_ec\"   :   \"str_003b\",\n",
    "        \"str_004_asec\"  :   \"str_004\",\n",
    "        \"str_005_ec\"    :   \"str_005\",\n",
    "        \"str_006_sec\"   :   \"str_006\",\n",
    "        \"cs_001_sec\"    :   \"cs_001\",\n",
    "        \"cs_003_sec\"    :   \"cs_003\",\n",
    "        \"cs_002_ec\"     :   \"cs_002\", \n",
    "        \"art_8_basicos\" :   \"art_8\"    \n",
    "    },\n",
    "    inplace=True\n",
    ")"
   ]
  },
  {
   "cell_type": "code",
   "execution_count": 14,
   "metadata": {},
   "outputs": [
    {
     "name": "stdout",
     "output_type": "stream",
     "text": [
      "<class 'pandas.core.frame.DataFrame'>\n",
      "RangeIndex: 7760 entries, 0 to 7759\n",
      "Data columns (total 22 columns):\n",
      " #   Column                 Non-Null Count  Dtype \n",
      "---  ------                 --------------  ----- \n",
      " 0   clarityid              7759 non-null   object\n",
      " 1   permid                 7759 non-null   object\n",
      " 2   brs_id                 2518 non-null   object\n",
      " 3   issuer_name            7759 non-null   object\n",
      " 4   parent_sub             7759 non-null   object\n",
      " 5   parent_name_clarity    7757 non-null   object\n",
      " 6   parent_clarityid       7759 non-null   object\n",
      " 7   parent_name_brs        7688 non-null   object\n",
      " 8   parent_brs_id          7685 non-null   object\n",
      " 9   str_001                7119 non-null   object\n",
      " 10  str_002                7133 non-null   object\n",
      " 11  str_003                7116 non-null   object\n",
      " 12  str_003b               7096 non-null   object\n",
      " 13  str_004                7124 non-null   object\n",
      " 14  str_005                7050 non-null   object\n",
      " 15  str_006                7116 non-null   object\n",
      " 16  art_8                  7069 non-null   object\n",
      " 17  cs_001                 7050 non-null   object\n",
      " 18  cs_003                 7107 non-null   object\n",
      " 19  cs_002                 7115 non-null   object\n",
      " 20  motivo_principal_ovr   7758 non-null   object\n",
      " 21  motivo_secundario_ovr  7307 non-null   object\n",
      "dtypes: object(22)\n",
      "memory usage: 1.3+ MB\n"
     ]
    }
   ],
   "source": [
    "ovr_filtered.info()"
   ]
  },
  {
   "cell_type": "code",
   "execution_count": 15,
   "metadata": {},
   "outputs": [
    {
     "name": "stdout",
     "output_type": "stream",
     "text": [
      "<class 'pandas.core.frame.DataFrame'>\n",
      "RangeIndex: 134952 entries, 0 to 134951\n",
      "Data columns (total 3 columns):\n",
      " #   Column           Non-Null Count   Dtype \n",
      "---  ------           --------------   ----- \n",
      " 0   brs_id           134952 non-null  object\n",
      " 1   brs_issuer_name  134952 non-null  object\n",
      " 2   permid           131894 non-null  object\n",
      "dtypes: object(3)\n",
      "memory usage: 3.1+ MB\n"
     ]
    }
   ],
   "source": [
    "crossreference.info()"
   ]
  },
  {
   "cell_type": "code",
   "execution_count": 16,
   "metadata": {},
   "outputs": [],
   "source": [
    "# Create a mapping dictionary from permid to brs_id in the crossreference dataframe\n",
    "mapping = crossreference.set_index('permid')['brs_id'].to_dict()\n",
    "\n",
    "# Use the mapping to fill missing brs_id values in ovr_filtered based on the permid column\n",
    "ovr_filtered['brs_id'] = ovr_filtered['brs_id'].fillna(ovr_filtered['permid'].map(mapping))"
   ]
  },
  {
   "cell_type": "code",
   "execution_count": 17,
   "metadata": {},
   "outputs": [
    {
     "name": "stdout",
     "output_type": "stream",
     "text": [
      "clarityid\n",
      "permid\n",
      "brs_id\n",
      "issuer_name\n",
      "parent_sub\n",
      "parent_name_clarity\n",
      "parent_clarityid\n",
      "parent_name_brs\n",
      "parent_brs_id\n",
      "str_001\n",
      "str_002\n",
      "str_003\n",
      "str_003b\n",
      "str_004\n",
      "str_005\n",
      "str_006\n",
      "art_8\n",
      "cs_001\n",
      "cs_003\n",
      "cs_002\n",
      "motivo_principal_ovr\n",
      "motivo_secundario_ovr\n"
     ]
    }
   ],
   "source": [
    "for c in ovr_filtered.columns:\n",
    "    print(c)"
   ]
  },
  {
   "cell_type": "code",
   "execution_count": 18,
   "metadata": {},
   "outputs": [],
   "source": [
    "# List of columns to check\n",
    "columns_to_check = [\n",
    "    \"str_001\",\n",
    "    \"str_002\",\n",
    "    \"str_003\",\n",
    "    \"str_003b\",\n",
    "    \"str_004\",\n",
    "    \"str_005\",\n",
    "    \"str_006\",\n",
    "    \"art_8\", \n",
    "    \"cs_001\",\n",
    "    \"cs_003\",\n",
    "    \"cs_002\"\n",
    "]\n",
    "\n",
    "# Filter rows where all specified columns are empty or NaN\n",
    "ovr_clean = ovr_filtered[~ovr_filtered[columns_to_check].apply(lambda row: row.isna().all() or (row == '').all(), axis=1)]"
   ]
  },
  {
   "cell_type": "code",
   "execution_count": 19,
   "metadata": {},
   "outputs": [
    {
     "name": "stdout",
     "output_type": "stream",
     "text": [
      "<class 'pandas.core.frame.DataFrame'>\n",
      "Index: 7201 entries, 1 to 7758\n",
      "Data columns (total 22 columns):\n",
      " #   Column                 Non-Null Count  Dtype \n",
      "---  ------                 --------------  ----- \n",
      " 0   clarityid              7201 non-null   object\n",
      " 1   permid                 7201 non-null   object\n",
      " 2   brs_id                 2731 non-null   object\n",
      " 3   issuer_name            7201 non-null   object\n",
      " 4   parent_sub             7201 non-null   object\n",
      " 5   parent_name_clarity    7200 non-null   object\n",
      " 6   parent_clarityid       7201 non-null   object\n",
      " 7   parent_name_brs        7163 non-null   object\n",
      " 8   parent_brs_id          7160 non-null   object\n",
      " 9   str_001                7119 non-null   object\n",
      " 10  str_002                7133 non-null   object\n",
      " 11  str_003                7116 non-null   object\n",
      " 12  str_003b               7096 non-null   object\n",
      " 13  str_004                7124 non-null   object\n",
      " 14  str_005                7050 non-null   object\n",
      " 15  str_006                7116 non-null   object\n",
      " 16  art_8                  7069 non-null   object\n",
      " 17  cs_001                 7050 non-null   object\n",
      " 18  cs_003                 7107 non-null   object\n",
      " 19  cs_002                 7115 non-null   object\n",
      " 20  motivo_principal_ovr   7200 non-null   object\n",
      " 21  motivo_secundario_ovr  6911 non-null   object\n",
      "dtypes: object(22)\n",
      "memory usage: 1.3+ MB\n"
     ]
    }
   ],
   "source": [
    "ovr_clean.info()"
   ]
  },
  {
   "cell_type": "code",
   "execution_count": 20,
   "metadata": {},
   "outputs": [],
   "source": [
    "df_target_col =[\n",
    "    \"permid\",\n",
    "    \"company_inheriting\", \n",
    "    \"parent_company\", \n",
    "    \"str_001\",\n",
    "    \"str_002\",\n",
    "    \"str_003\",\n",
    "    \"str_003b\",\n",
    "    \"str_004\",\n",
    "    \"str_005\",\n",
    "    \"str_006\",\n",
    "    \"art_8\", \n",
    "    \"cs_001\",\n",
    "    \"cs_003\",\n",
    "    \"cs_002\"\n",
    "]"
   ]
  },
  {
   "cell_type": "code",
   "execution_count": 21,
   "metadata": {},
   "outputs": [],
   "source": [
    "ovr_merged = pd.merge(ovr_clean, datafeed[df_target_col], how='left', on='permid', suffixes=('_ovr', '_df'))"
   ]
  },
  {
   "cell_type": "code",
   "execution_count": 22,
   "metadata": {},
   "outputs": [
    {
     "name": "stdout",
     "output_type": "stream",
     "text": [
      "<class 'pandas.core.frame.DataFrame'>\n",
      "RangeIndex: 7201 entries, 0 to 7200\n",
      "Data columns (total 35 columns):\n",
      " #   Column                 Non-Null Count  Dtype \n",
      "---  ------                 --------------  ----- \n",
      " 0   clarityid              7201 non-null   object\n",
      " 1   permid                 7201 non-null   object\n",
      " 2   brs_id                 2731 non-null   object\n",
      " 3   issuer_name            7201 non-null   object\n",
      " 4   parent_sub             7201 non-null   object\n",
      " 5   parent_name_clarity    7200 non-null   object\n",
      " 6   parent_clarityid       7201 non-null   object\n",
      " 7   parent_name_brs        7163 non-null   object\n",
      " 8   parent_brs_id          7160 non-null   object\n",
      " 9   str_001_ovr            7119 non-null   object\n",
      " 10  str_002_ovr            7133 non-null   object\n",
      " 11  str_003_ovr            7116 non-null   object\n",
      " 12  str_003b_ovr           7096 non-null   object\n",
      " 13  str_004_ovr            7124 non-null   object\n",
      " 14  str_005_ovr            7050 non-null   object\n",
      " 15  str_006_ovr            7116 non-null   object\n",
      " 16  art_8_ovr              7069 non-null   object\n",
      " 17  cs_001_ovr             7050 non-null   object\n",
      " 18  cs_003_ovr             7107 non-null   object\n",
      " 19  cs_002_ovr             7115 non-null   object\n",
      " 20  motivo_principal_ovr   7200 non-null   object\n",
      " 21  motivo_secundario_ovr  6911 non-null   object\n",
      " 22  company_inheriting     3074 non-null   object\n",
      " 23  parent_company         3074 non-null   object\n",
      " 24  str_001_df             3074 non-null   object\n",
      " 25  str_002_df             3074 non-null   object\n",
      " 26  str_003_df             3074 non-null   object\n",
      " 27  str_003b_df            3074 non-null   object\n",
      " 28  str_004_df             3074 non-null   object\n",
      " 29  str_005_df             3074 non-null   object\n",
      " 30  str_006_df             3074 non-null   object\n",
      " 31  art_8_df               3074 non-null   object\n",
      " 32  cs_001_df              3074 non-null   object\n",
      " 33  cs_003_df              3074 non-null   object\n",
      " 34  cs_002_df              3074 non-null   object\n",
      "dtypes: object(35)\n",
      "memory usage: 1.9+ MB\n"
     ]
    }
   ],
   "source": [
    "ovr_merged.info()"
   ]
  },
  {
   "cell_type": "code",
   "execution_count": 23,
   "metadata": {},
   "outputs": [
    {
     "name": "stdout",
     "output_type": "stream",
     "text": [
      "art_8_df\n",
      "art_8_ovr\n",
      "brs_id\n",
      "clarityid\n",
      "company_inheriting\n",
      "cs_001_df\n",
      "cs_001_ovr\n",
      "cs_002_df\n",
      "cs_002_ovr\n",
      "cs_003_df\n",
      "cs_003_ovr\n",
      "issuer_name\n",
      "motivo_principal_ovr\n",
      "motivo_secundario_ovr\n",
      "parent_brs_id\n",
      "parent_clarityid\n",
      "parent_company\n",
      "parent_name_brs\n",
      "parent_name_clarity\n",
      "parent_sub\n",
      "permid\n",
      "str_001_df\n",
      "str_001_ovr\n",
      "str_002_df\n",
      "str_002_ovr\n",
      "str_003_df\n",
      "str_003_ovr\n",
      "str_003b_df\n",
      "str_003b_ovr\n",
      "str_004_df\n",
      "str_004_ovr\n",
      "str_005_df\n",
      "str_005_ovr\n",
      "str_006_df\n",
      "str_006_ovr\n"
     ]
    }
   ],
   "source": [
    "for c in sorted(ovr_merged.columns):\n",
    "    print(c)"
   ]
  },
  {
   "cell_type": "code",
   "execution_count": 24,
   "metadata": {},
   "outputs": [],
   "source": [
    "def active_ovr(row, column_pairs):\n",
    "    result = {}\n",
    "    for ovr_col, base_col in column_pairs:\n",
    "        if pd.isna(row[ovr_col]) or pd.isna(row[base_col]):\n",
    "            result[f\"{ovr_col}_active\"] = np.nan\n",
    "        else:\n",
    "            result[f\"{ovr_col}_active\"] = row[ovr_col] != row[base_col]\n",
    "    return result"
   ]
  },
  {
   "cell_type": "code",
   "execution_count": 25,
   "metadata": {},
   "outputs": [],
   "source": [
    "# Define column pairs to compare based on the provided columns\n",
    "column_pairs_to_compare = [\n",
    "    (\"str_001_ovr\", \"str_001_df\"),\n",
    "    (\"str_002_ovr\", \"str_002_df\"),\n",
    "    (\"str_003_ovr\", \"str_003_df\"),\n",
    "    (\"str_003b_ovr\", \"str_003b_df\"),\n",
    "    (\"str_004_ovr\", \"str_004_df\"),\n",
    "    (\"str_005_ovr\", \"str_005_df\"),\n",
    "    (\"str_006_ovr\", \"str_006_df\"),\n",
    "    (\"art_8_ovr\", \"art_8_df\"),\n",
    "    (\"cs_001_ovr\", \"cs_001_df\"),\n",
    "    (\"cs_002_ovr\", \"cs_002_df\"),\n",
    "    (\"cs_003_ovr\", \"cs_003_df\")\n",
    "]"
   ]
  },
  {
   "cell_type": "code",
   "execution_count": 26,
   "metadata": {},
   "outputs": [],
   "source": [
    "\n",
    "# Add new columns for each override\n",
    "for index, row in ovr_merged.iterrows():\n",
    "    active_overrides = active_ovr(row, column_pairs_to_compare)\n",
    "    for col, value in active_overrides.items():\n",
    "        ovr_merged.at[index, col] = value"
   ]
  },
  {
   "cell_type": "code",
   "execution_count": 27,
   "metadata": {},
   "outputs": [],
   "source": [
    "# Fix override grounds\n",
    "def fix_spell(ground: str) -> str:\n",
    "    if ground in ['BIC', 'BiC']:\n",
    "        return 'SR'\n",
    "    elif ground == 'Exposición':\n",
    "        return 'exposure'\n",
    "    elif ground in ['Inheritance', 'Inheritance de subsidiaria', 'Inheritance por caida de SR']:\n",
    "        return 'inheritance'\n",
    "    elif ground == 'Comité':\n",
    "        return 'committee'\n",
    "    elif ground in ['Controversia', 'Fallo controversias Clarity', 'OVR por controversia nivel 3/5 en Susta pero en Clarity 1/100']:\n",
    "        return 'controversy'\n",
    "    else:\n",
    "        return ground  # Return the original input if no conditions match\n",
    "\n",
    "ovr_merged.motivo_principal_ovr = overrides.motivo_principal_ovr.apply(fix_spell)"
   ]
  },
  {
   "cell_type": "code",
   "execution_count": 28,
   "metadata": {},
   "outputs": [],
   "source": [
    "result_df = ovr_merged.copy()"
   ]
  },
  {
   "cell_type": "code",
   "execution_count": 29,
   "metadata": {},
   "outputs": [],
   "source": [
    "\"\"\"\n",
    "add these columns to result_df:     \n",
    "    \"ovr_grounds_srating\",\n",
    "    \"ovr_grounds_exposure\",\n",
    "    \"ovr_grounds_controversy\",\n",
    "    \"ovr_grounds_committee\",\n",
    "    \"ovr_grounds_inheritance\"\n",
    "\"\"\"\n",
    "result_df[\"ovr_grounds_srating\"] = result_df[\"motivo_principal_ovr\"] == \"SR\"\n",
    "result_df[\"ovr_grounds_exposure\"] = result_df[\"motivo_principal_ovr\"] == \"exposure\"\n",
    "result_df[\"ovr_grounds_controversy\"] = result_df[\"motivo_principal_ovr\"] == \"controversy\"\n",
    "result_df[\"ovr_grounds_committee\"] = result_df[\"motivo_principal_ovr\"] == \"committee\"\n",
    "result_df[\"ovr_grounds_inheritance\"] = result_df[\"motivo_principal_ovr\"] == \"inheritance\"\n",
    "\n",
    "ground_columns = [\n",
    "    \"ovr_grounds_srating\",\n",
    "    \"ovr_grounds_exposure\",\n",
    "    \"ovr_grounds_controversy\",\n",
    "    \"ovr_grounds_committee\",\n",
    "    \"ovr_grounds_inheritance\"]\n",
    "\n",
    "# for every column in in ground_columns, if value is not nan, then set the value to \"x\"\n",
    "for col in ground_columns:\n",
    "    result_df[col] = result_df[col].apply(lambda x: 'x' if x else np.nan)\n"
   ]
  },
  {
   "cell_type": "code",
   "execution_count": 30,
   "metadata": {},
   "outputs": [
    {
     "data": {
      "text/plain": [
       "ovr_grounds_srating\n",
       "NaN    7180\n",
       "x        21\n",
       "Name: count, dtype: int64"
      ]
     },
     "execution_count": 30,
     "metadata": {},
     "output_type": "execute_result"
    }
   ],
   "source": [
    "result_df[\"ovr_grounds_srating\"].value_counts(dropna=False)"
   ]
  },
  {
   "cell_type": "code",
   "execution_count": 31,
   "metadata": {},
   "outputs": [
    {
     "name": "stdout",
     "output_type": "stream",
     "text": [
      "clarityid\n",
      "permid\n",
      "brs_id\n",
      "issuer_name\n",
      "parent_sub\n",
      "parent_name_clarity\n",
      "parent_clarityid\n",
      "parent_name_brs\n",
      "parent_brs_id\n",
      "str_001_ovr\n",
      "str_002_ovr\n",
      "str_003_ovr\n",
      "str_003b_ovr\n",
      "str_004_ovr\n",
      "str_005_ovr\n",
      "str_006_ovr\n",
      "art_8_ovr\n",
      "cs_001_ovr\n",
      "cs_003_ovr\n",
      "cs_002_ovr\n",
      "motivo_principal_ovr\n",
      "motivo_secundario_ovr\n",
      "company_inheriting\n",
      "parent_company\n",
      "str_001_df\n",
      "str_002_df\n",
      "str_003_df\n",
      "str_003b_df\n",
      "str_004_df\n",
      "str_005_df\n",
      "str_006_df\n",
      "art_8_df\n",
      "cs_001_df\n",
      "cs_003_df\n",
      "cs_002_df\n",
      "str_001_ovr_active\n",
      "str_002_ovr_active\n",
      "str_003_ovr_active\n",
      "str_003b_ovr_active\n",
      "str_004_ovr_active\n",
      "str_005_ovr_active\n",
      "str_006_ovr_active\n",
      "art_8_ovr_active\n",
      "cs_001_ovr_active\n",
      "cs_002_ovr_active\n",
      "cs_003_ovr_active\n",
      "ovr_grounds_srating\n",
      "ovr_grounds_exposure\n",
      "ovr_grounds_controversy\n",
      "ovr_grounds_committee\n",
      "ovr_grounds_inheritance\n"
     ]
    }
   ],
   "source": [
    "for c in result_df.columns:\n",
    "    print(c)"
   ]
  },
  {
   "cell_type": "code",
   "execution_count": 32,
   "metadata": {},
   "outputs": [],
   "source": [
    "def load_result_to_dfs(result_df, basic_columns) -> list[pd.DataFrame]:\n",
    "\n",
    "    dfs_list = []\n",
    "\n",
    "    aux_col = [\n",
    "    \"ovr_grounds_srating\",\n",
    "    \"ovr_grounds_exposure\",\n",
    "    \"ovr_grounds_controversy\",\n",
    "    \"ovr_grounds_committee\",\n",
    "    \"ovr_grounds_inheritance\",\n",
    "    \"motivo_principal_ovr\",\n",
    "    \"motivo_secundario_ovr\",\n",
    "    \"company_inheriting\",\n",
    "    \"parent_company\",\n",
    "    ]\n",
    "\n",
    "    strategy_columns = [\n",
    "        \"str_001_df\", \"str_002_df\", \"str_003_df\", \"str_003b_df\",\n",
    "        \"str_004_df\", \"str_005_df\", \"str_006_df\", \"art_8_df\",\n",
    "        \"cs_001_df\", \"cs_003_df\", \"cs_002_df\",\n",
    "    ]\n",
    "\n",
    "    ovr_columns = [\n",
    "        \"str_001_ovr\", \"str_002_ovr\", \"str_003_ovr\", \"str_003b_ovr\", \n",
    "        \"str_004_ovr\", \"str_005_ovr\", \"str_006_ovr\", \"art_8_ovr\", \n",
    "        \"cs_001_ovr\", \"cs_003_ovr\", \"cs_002_ovr\", \n",
    "    ]\n",
    "\n",
    "    ovr_active_columns = [\n",
    "        \"str_001_ovr_active\", \"str_002_ovr_active\", \"str_003_ovr_active\", \"str_003b_ovr_active\", \n",
    "        \"str_004_ovr_active\", \"str_005_ovr_active\", \"str_006_ovr_active\", \"art_8_ovr_active\", \n",
    "        \"cs_001_ovr_active\", \"cs_002_ovr_active\", \"cs_003_ovr_active\",     \n",
    "    ]\n",
    "\n",
    "\n",
    "    for strategy, ovr_col, active_col in zip(strategy_columns, ovr_columns, ovr_active_columns):\n",
    "        result_df[\"ovr_target\"] = strategy\n",
    "        relevant_columns = basic_columns + [\"ovr_target\"] + [\n",
    "            col for col in [strategy, ovr_col, active_col] if col in result_df.columns\n",
    "        ] + aux_col\n",
    "        if relevant_columns:\n",
    "            dfs_list.append(result_df[relevant_columns])\n",
    "\n",
    "    return dfs_list\n"
   ]
  },
  {
   "cell_type": "code",
   "execution_count": 33,
   "metadata": {},
   "outputs": [],
   "source": [
    "# define basic columns before saving\n",
    "basic_columns = [\n",
    "    \"clarityid\",\n",
    "    \"permid\",\n",
    "    \"brs_id\",\n",
    "    \"issuer_name\",\n",
    "    \"parent_sub\",\n",
    "    \"parent_name_clarity\",\n",
    "    \"parent_clarityid\",\n",
    "    \"parent_name_brs\",\n",
    "    \"parent_brs_id\",\n",
    "]\n",
    "str_df_list = load_result_to_dfs(result_df, basic_columns=basic_columns)"
   ]
  },
  {
   "cell_type": "code",
   "execution_count": 34,
   "metadata": {},
   "outputs": [],
   "source": [
    "# Loop through each strategy DataFrame in str_df_list to modify the names of the columns\n",
    "\n",
    "def rename_column(col_name: str) -> str:\n",
    "    \"\"\"\n",
    "    Check if the column name matches any of the patterns and\n",
    "    return the appropriate replacement. If a column name matches\n",
    "    more than one pattern, only the first match (in order) is used.\n",
    "    \"\"\"\n",
    "    # Check for pattern ending with _ovr_active first.\n",
    "    if re.search(r'.*_ovr_active$', col_name):\n",
    "        return 'ovr_active'\n",
    "    # Then check for pattern ending with _df.\n",
    "    elif re.search(r'.*_df$', col_name):\n",
    "        return 'df_value'\n",
    "    # Then check for pattern ending with _ovr.\n",
    "    elif re.search(r'.*_ovr$', col_name):\n",
    "        return 'ovr_value'\n",
    "    else:\n",
    "        return col_name\n",
    "\n",
    "def rename_dataframe_columns(df: pd.DataFrame) -> pd.DataFrame:\n",
    "    \"\"\"\n",
    "    Returns a new DataFrame with the column names renamed according\n",
    "    to the rename_column function.\n",
    "    \"\"\"\n",
    "    new_columns = {col: rename_column(col) for col in df.columns}\n",
    "    # Rename the DataFrame columns using the dictionary mapping.\n",
    "    return df.rename(columns=new_columns)\n",
    "\n",
    "# Apply the renaming function to each DataFrame in your list.\n",
    "for i, df in enumerate(str_df_list):\n",
    "    str_df_list[i] = rename_dataframe_columns(df)\n"
   ]
  },
  {
   "cell_type": "code",
   "execution_count": 35,
   "metadata": {},
   "outputs": [],
   "source": [
    "# loop for str_df_list to filter non active overrides\n",
    "str_df_list = [df[df['ovr_active'] == True] for df in str_df_list]"
   ]
  },
  {
   "cell_type": "code",
   "execution_count": 36,
   "metadata": {},
   "outputs": [],
   "source": [
    "for df in str_df_list:\n",
    "    df[\"ovr_target\"] = df[\"ovr_target\"].str.replace(\"_df\", \"\")\n"
   ]
  },
  {
   "cell_type": "code",
   "execution_count": 37,
   "metadata": {},
   "outputs": [],
   "source": [
    "# let's stack dataframes horizontally\n",
    "final_df = pd.concat(str_df_list, axis=0, ignore_index=True)"
   ]
  },
  {
   "cell_type": "code",
   "execution_count": 38,
   "metadata": {},
   "outputs": [],
   "source": [
    "ovr_target_columns_names={\n",
    "        \"str_001\"   : \"str_001_s\",\n",
    "        \"str_002\"   : \"str_002_ec\",\n",
    "        \"str_003\"   : \"str_003_ec\",\n",
    "        \"str_003b\"  : \"str_003b_ec\",\n",
    "        \"str_004\"   : \"str_004_asec\",\n",
    "        \"str_005\"   : \"str_005_ec\",\n",
    "        \"str_006\"   : \"str_006_sec\",\n",
    "        \"cs_001\"    : \"cs_001_sec\",\n",
    "        \"cs_003\"    : \"cs_003_sec\",\n",
    "        \"cs_002\"    : \"cs_002_ec\", \n",
    "        \"art_8\"     : \"art_8_basicos\"    \n",
    "    }"
   ]
  },
  {
   "cell_type": "code",
   "execution_count": 39,
   "metadata": {},
   "outputs": [],
   "source": [
    "# rename values of ovr_target column using ovr_target_columns_names\n",
    "final_df[\"ovr_target\"] = final_df[\"ovr_target\"].map(ovr_target_columns_names)\n",
    "\n",
    "for df in str_df_list:\n",
    "    df[\"ovr_target\"] = df[\"ovr_target\"].map(ovr_target_columns_names)"
   ]
  },
  {
   "cell_type": "code",
   "execution_count": 40,
   "metadata": {},
   "outputs": [
    {
     "data": {
      "text/html": [
       "<div>\n",
       "<style scoped>\n",
       "    .dataframe tbody tr th:only-of-type {\n",
       "        vertical-align: middle;\n",
       "    }\n",
       "\n",
       "    .dataframe tbody tr th {\n",
       "        vertical-align: top;\n",
       "    }\n",
       "\n",
       "    .dataframe thead th {\n",
       "        text-align: right;\n",
       "    }\n",
       "</style>\n",
       "<table border=\"1\" class=\"dataframe\">\n",
       "  <thead>\n",
       "    <tr style=\"text-align: right;\">\n",
       "      <th></th>\n",
       "      <th>clarityid</th>\n",
       "      <th>permid</th>\n",
       "      <th>brs_id</th>\n",
       "      <th>issuer_name</th>\n",
       "      <th>parent_sub</th>\n",
       "      <th>parent_name_clarity</th>\n",
       "      <th>parent_clarityid</th>\n",
       "      <th>parent_name_brs</th>\n",
       "      <th>parent_brs_id</th>\n",
       "      <th>ovr_target</th>\n",
       "      <th>...</th>\n",
       "      <th>ovr_active</th>\n",
       "      <th>ovr_grounds_srating</th>\n",
       "      <th>ovr_grounds_exposure</th>\n",
       "      <th>ovr_grounds_controversy</th>\n",
       "      <th>ovr_grounds_committee</th>\n",
       "      <th>ovr_grounds_inheritance</th>\n",
       "      <th>ovr_value</th>\n",
       "      <th>ovr_value</th>\n",
       "      <th>company_inheriting</th>\n",
       "      <th>parent_company</th>\n",
       "    </tr>\n",
       "  </thead>\n",
       "  <tbody>\n",
       "    <tr>\n",
       "      <th>0</th>\n",
       "      <td>150114</td>\n",
       "      <td>5000014265</td>\n",
       "      <td>R65372</td>\n",
       "      <td>Agricultural Bank of China Ltd</td>\n",
       "      <td>P</td>\n",
       "      <td>-</td>\n",
       "      <td>150114</td>\n",
       "      <td>-</td>\n",
       "      <td>R65372</td>\n",
       "      <td>str_001_s</td>\n",
       "      <td>...</td>\n",
       "      <td>True</td>\n",
       "      <td>NaN</td>\n",
       "      <td>NaN</td>\n",
       "      <td>NaN</td>\n",
       "      <td>NaN</td>\n",
       "      <td>x</td>\n",
       "      <td>inheritance</td>\n",
       "      <td>-</td>\n",
       "      <td>False</td>\n",
       "      <td>-</td>\n",
       "    </tr>\n",
       "    <tr>\n",
       "      <th>1</th>\n",
       "      <td>66251</td>\n",
       "      <td>4295884955</td>\n",
       "      <td>R63005</td>\n",
       "      <td>Airbus SE</td>\n",
       "      <td>P</td>\n",
       "      <td>-</td>\n",
       "      <td>66251</td>\n",
       "      <td>Airbus SE</td>\n",
       "      <td>R63005</td>\n",
       "      <td>str_001_s</td>\n",
       "      <td>...</td>\n",
       "      <td>True</td>\n",
       "      <td>NaN</td>\n",
       "      <td>NaN</td>\n",
       "      <td>NaN</td>\n",
       "      <td>NaN</td>\n",
       "      <td>x</td>\n",
       "      <td>inheritance</td>\n",
       "      <td>-</td>\n",
       "      <td>False</td>\n",
       "      <td>-</td>\n",
       "    </tr>\n",
       "    <tr>\n",
       "      <th>2</th>\n",
       "      <td>262152</td>\n",
       "      <td>4297202523</td>\n",
       "      <td>R89955</td>\n",
       "      <td>Airbus Finance BV</td>\n",
       "      <td>S</td>\n",
       "      <td>Airbus SE</td>\n",
       "      <td>66251</td>\n",
       "      <td>Airbus SE</td>\n",
       "      <td>R63005</td>\n",
       "      <td>str_001_s</td>\n",
       "      <td>...</td>\n",
       "      <td>True</td>\n",
       "      <td>NaN</td>\n",
       "      <td>NaN</td>\n",
       "      <td>NaN</td>\n",
       "      <td>NaN</td>\n",
       "      <td>x</td>\n",
       "      <td>inheritance</td>\n",
       "      <td>-</td>\n",
       "      <td>True</td>\n",
       "      <td>Airbus SE</td>\n",
       "    </tr>\n",
       "    <tr>\n",
       "      <th>3</th>\n",
       "      <td>15657</td>\n",
       "      <td>4295869482</td>\n",
       "      <td>251525</td>\n",
       "      <td>Deutsche Bank AG</td>\n",
       "      <td>P</td>\n",
       "      <td>-</td>\n",
       "      <td>15657</td>\n",
       "      <td>DEUTSCHE BANK AG</td>\n",
       "      <td>251525</td>\n",
       "      <td>str_001_s</td>\n",
       "      <td>...</td>\n",
       "      <td>True</td>\n",
       "      <td>NaN</td>\n",
       "      <td>x</td>\n",
       "      <td>NaN</td>\n",
       "      <td>NaN</td>\n",
       "      <td>NaN</td>\n",
       "      <td>exposure</td>\n",
       "      <td>Controversia</td>\n",
       "      <td>False</td>\n",
       "      <td>-</td>\n",
       "    </tr>\n",
       "    <tr>\n",
       "      <th>4</th>\n",
       "      <td>171531900</td>\n",
       "      <td>5044066787</td>\n",
       "      <td>G88795</td>\n",
       "      <td>Al Shindagha Sukuk Ltd</td>\n",
       "      <td>S</td>\n",
       "      <td>Deutsche Bank AG</td>\n",
       "      <td>15657</td>\n",
       "      <td>DEUTSCHE BANK AG</td>\n",
       "      <td>251525</td>\n",
       "      <td>str_001_s</td>\n",
       "      <td>...</td>\n",
       "      <td>True</td>\n",
       "      <td>NaN</td>\n",
       "      <td>NaN</td>\n",
       "      <td>NaN</td>\n",
       "      <td>NaN</td>\n",
       "      <td>x</td>\n",
       "      <td>inheritance</td>\n",
       "      <td>-</td>\n",
       "      <td>True</td>\n",
       "      <td>Deutsche Bank AG</td>\n",
       "    </tr>\n",
       "  </tbody>\n",
       "</table>\n",
       "<p>5 rows × 22 columns</p>\n",
       "</div>"
      ],
      "text/plain": [
       "   clarityid      permid  brs_id                     issuer_name parent_sub  \\\n",
       "0     150114  5000014265  R65372  Agricultural Bank of China Ltd          P   \n",
       "1      66251  4295884955  R63005                       Airbus SE          P   \n",
       "2     262152  4297202523  R89955               Airbus Finance BV          S   \n",
       "3      15657  4295869482  251525                Deutsche Bank AG          P   \n",
       "4  171531900  5044066787  G88795          Al Shindagha Sukuk Ltd          S   \n",
       "\n",
       "  parent_name_clarity parent_clarityid   parent_name_brs parent_brs_id  \\\n",
       "0                   -           150114                 -        R65372   \n",
       "1                   -            66251         Airbus SE        R63005   \n",
       "2           Airbus SE            66251         Airbus SE        R63005   \n",
       "3                   -            15657  DEUTSCHE BANK AG        251525   \n",
       "4    Deutsche Bank AG            15657  DEUTSCHE BANK AG        251525   \n",
       "\n",
       "  ovr_target  ... ovr_active ovr_grounds_srating ovr_grounds_exposure  \\\n",
       "0  str_001_s  ...       True                 NaN                  NaN   \n",
       "1  str_001_s  ...       True                 NaN                  NaN   \n",
       "2  str_001_s  ...       True                 NaN                  NaN   \n",
       "3  str_001_s  ...       True                 NaN                    x   \n",
       "4  str_001_s  ...       True                 NaN                  NaN   \n",
       "\n",
       "  ovr_grounds_controversy ovr_grounds_committee ovr_grounds_inheritance  \\\n",
       "0                     NaN                   NaN                       x   \n",
       "1                     NaN                   NaN                       x   \n",
       "2                     NaN                   NaN                       x   \n",
       "3                     NaN                   NaN                     NaN   \n",
       "4                     NaN                   NaN                       x   \n",
       "\n",
       "     ovr_value     ovr_value company_inheriting    parent_company  \n",
       "0  inheritance             -              False                 -  \n",
       "1  inheritance             -              False                 -  \n",
       "2  inheritance             -               True         Airbus SE  \n",
       "3     exposure  Controversia              False                 -  \n",
       "4  inheritance             -               True  Deutsche Bank AG  \n",
       "\n",
       "[5 rows x 22 columns]"
      ]
     },
     "execution_count": 40,
     "metadata": {},
     "output_type": "execute_result"
    }
   ],
   "source": [
    "final_df.head()"
   ]
  },
  {
   "cell_type": "markdown",
   "metadata": {},
   "source": [
    "Now, let's save the results"
   ]
  },
  {
   "cell_type": "code",
   "execution_count": 41,
   "metadata": {},
   "outputs": [],
   "source": [
    "# Define the mapping for sheet names based on the index in str_df_list.\n",
    "sheet_names = [\n",
    "    \"str_001\",  # index 0\n",
    "    \"str_002\",  # index 1\n",
    "    \"str_003\",  # index 2\n",
    "    \"str_003b\", # index 3\n",
    "    \"str_004\",  # index 4\n",
    "    \"str_005\",  # index 5\n",
    "    \"str_006\",  # index 6\n",
    "    \"art_8\",    # index 7\n",
    "    \"cs_001\",   # index 8\n",
    "    \"cs_003\",   # index 9\n",
    "    \"cs_002\",   # index 10\n",
    "]\n",
    "# define DATE\n",
    "DATE = datetime.now().strftime(\"%Y%m%d\")\n",
    "\n",
    "# Specify the output Excel file name.\n",
    "output_file = rf\"output\\{DATE}_override_analysis_subs.xlsx\"\n",
    "\n",
    "# Create an ExcelWriter object using the desired engine (e.g., xlsxwriter).\n",
    "with pd.ExcelWriter(output_file, engine=\"xlsxwriter\") as writer:\n",
    "    # Write final_df to the first sheet named \"summary\".\n",
    "    final_df.to_excel(writer, sheet_name=\"summary\", index=False)\n",
    "    \n",
    "    # Loop over the list of DataFrames and write each to its corresponding sheet.\n",
    "    for idx, df in enumerate(str_df_list):\n",
    "        # Use the appropriate sheet name from the list.\n",
    "        sheet_name = sheet_names[idx]\n",
    "        df.to_excel(writer, sheet_name=sheet_name, index=False)\n"
   ]
  },
  {
   "cell_type": "code",
   "execution_count": 43,
   "metadata": {},
   "outputs": [
    {
     "name": "stdout",
     "output_type": "stream",
     "text": [
      "The strategy str_001_s has: 580 issuers and 581 overrides\n",
      "The strategy str_002_ec has: 724 issuers and 725 overrides\n",
      "The strategy str_003_ec has: 532 issuers and 533 overrides\n",
      "The strategy str_003b_ec has: 298 issuers and 299 overrides\n",
      "The strategy str_004_asec has: 722 issuers and 723 overrides\n",
      "The strategy str_005_ec has: 1288 issuers and 1289 overrides\n",
      "The strategy str_006_sec has: 837 issuers and 838 overrides\n",
      "The strategy art_8_basicos has: 391 issuers and 391 overrides\n",
      "The strategy cs_001_sec has: 593 issuers and 593 overrides\n",
      "The strategy cs_003_sec has: 587 issuers and 589 overrides\n",
      "The strategy cs_002_ec has: 1108 issuers and 1110 overrides\n"
     ]
    }
   ],
   "source": [
    "for df in str_df_list:\n",
    "    print(f\"The strategy {df.ovr_target.unique()[0]} has: {len(df.issuer_name.unique())} issuers and {len(df)} overrides\")"
   ]
  },
  {
   "cell_type": "code",
   "execution_count": 42,
   "metadata": {},
   "outputs": [
    {
     "data": {
      "text/plain": [
       "778.6666666666666"
      ]
     },
     "execution_count": 42,
     "metadata": {},
     "output_type": "execute_result"
    }
   ],
   "source": [
    "len(final_df.issuer_name.unique()) / 3"
   ]
  },
  {
   "cell_type": "code",
   "execution_count": 45,
   "metadata": {},
   "outputs": [
    {
     "data": {
      "text/plain": [
       "2336"
      ]
     },
     "execution_count": 45,
     "metadata": {},
     "output_type": "execute_result"
    }
   ],
   "source": [
    "len(final_df.issuer_name.unique())"
   ]
  },
  {
   "cell_type": "code",
   "execution_count": 46,
   "metadata": {},
   "outputs": [
    {
     "data": {
      "text/plain": [
       "219"
      ]
     },
     "execution_count": 46,
     "metadata": {},
     "output_type": "execute_result"
    }
   ],
   "source": [
    "len(final_df.parent_brs_id.unique())"
   ]
  },
  {
   "cell_type": "code",
   "execution_count": 48,
   "metadata": {},
   "outputs": [
    {
     "data": {
      "text/plain": [
       "556.0"
      ]
     },
     "execution_count": 48,
     "metadata": {},
     "output_type": "execute_result"
    }
   ],
   "source": [
    "len(final_df.brs_id.unique()) / 3\n"
   ]
  },
  {
   "cell_type": "code",
   "execution_count": 44,
   "metadata": {},
   "outputs": [
    {
     "name": "stdout",
     "output_type": "stream",
     "text": [
      "str_001_s\n",
      "issuer_name\n",
      "Unicredit SPA    2\n",
      "Name: count, dtype: int64\n",
      "\n",
      "\n",
      "str_002_ec\n",
      "issuer_name\n",
      "Unicredit SPA    2\n",
      "Name: count, dtype: int64\n",
      "\n",
      "\n",
      "str_003_ec\n",
      "issuer_name\n",
      "Unicredit SPA    2\n",
      "Name: count, dtype: int64\n",
      "\n",
      "\n",
      "str_003b_ec\n",
      "issuer_name\n",
      "Unicredit SPA    2\n",
      "Name: count, dtype: int64\n",
      "\n",
      "\n",
      "str_004_asec\n",
      "issuer_name\n",
      "Unicredit SPA    2\n",
      "Name: count, dtype: int64\n",
      "\n",
      "\n",
      "str_005_ec\n",
      "issuer_name\n",
      "Macquarie Bank Ltd    2\n",
      "Name: count, dtype: int64\n",
      "\n",
      "\n",
      "str_006_sec\n",
      "issuer_name\n",
      "Unicredit SPA    2\n",
      "Name: count, dtype: int64\n",
      "\n",
      "\n",
      "art_8_basicos\n",
      "Series([], Name: count, dtype: int64)\n",
      "\n",
      "\n",
      "cs_001_sec\n",
      "Series([], Name: count, dtype: int64)\n",
      "\n",
      "\n",
      "cs_003_sec\n",
      "issuer_name\n",
      "Unicredit SPA      2\n",
      "CSOB Leasing as    2\n",
      "Name: count, dtype: int64\n",
      "\n",
      "\n",
      "cs_002_ec\n",
      "issuer_name\n",
      "Unicredit SPA      2\n",
      "CSOB Leasing as    2\n",
      "Name: count, dtype: int64\n",
      "\n",
      "\n"
     ]
    }
   ],
   "source": [
    "# print names that appear more than once in the df from str_df_list\n",
    "for df in str_df_list:\n",
    "    print(df.ovr_target.unique()[0])\n",
    "    print(df.issuer_name.value_counts()[df.issuer_name.value_counts() > 1])\n",
    "    print(\"\\n\")"
   ]
  }
 ],
 "metadata": {
  "kernelspec": {
   "display_name": ".venv",
   "language": "python",
   "name": "python3"
  },
  "language_info": {
   "codemirror_mode": {
    "name": "ipython",
    "version": 3
   },
   "file_extension": ".py",
   "mimetype": "text/x-python",
   "name": "python",
   "nbconvert_exporter": "python",
   "pygments_lexer": "ipython3",
   "version": "3.12.0"
  }
 },
 "nbformat": 4,
 "nbformat_minor": 2
}
