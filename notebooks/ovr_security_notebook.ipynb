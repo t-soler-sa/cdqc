{
 "cells": [
  {
   "cell_type": "code",
   "execution_count": 1,
   "metadata": {},
   "outputs": [],
   "source": [
    "import pandas as pd\n",
    "import numpy as np\n",
    "from datetime import datetime\n",
    "import os"
   ]
  },
  {
   "cell_type": "code",
   "execution_count": 2,
   "metadata": {},
   "outputs": [],
   "source": [
    "overrides = pd.read_excel(r\"C:\\Users\\n740789\\Documents\\Projects_local\\DataSets\\overrides\\202502_BBDD_Overrides.xlsx\",\n",
    "                   sheet_name=\"MAPEO P-S\",\n",
    "                   dtype={'permId (Clarity)':str, 'ClarityID':str},\n",
    "                   )"
   ]
  },
  {
   "cell_type": "code",
   "execution_count": 3,
   "metadata": {},
   "outputs": [
    {
     "data": {
      "text/plain": [
       "Index(['#', 'ClarityID', 'permId (Clarity)', 'IssuerID', 'Issuer Name',\n",
       "       'SNT-WORLD\\n(Y/-)', 'PARENT NAME (Aladdin)',\n",
       "       'PARENT IssuerID (Aladdin)', 'Parent (P) / Subsidiaria (S)',\n",
       "       'PARENT NAME (Clarity)', 'Parent ClarityID', 'GICS_2', 'GICS_2\\nParent',\n",
       "       'Sustainability Rating Parent', 'OVR Inheritance BiC',\n",
       "       'OVR STR001\\n(SEC)', 'OVR STR002\\n(EC*)', 'OVR STR003\\n(EC)',\n",
       "       'OVR STR003B\\n(EC*)', 'OVR STR004\\n(SEC)', 'OVR STR005\\n(EC*)',\n",
       "       'OVR STR006\\n(SEC)', 'OVR STR007\\n(SEC)', 'OVR CS001\\n(SEC*)',\n",
       "       'OVR CS002\\n(EC*)', 'OVR CS003\\n(SEC)', 'OVR ARTICULO 8\\n(C)',\n",
       "       'Motivo principal OVR', 'Motivo secundario OVR',\n",
       "       'Detalle OVR/Observación adicional', 'Fecha aplicación OVR'],\n",
       "      dtype='object')"
      ]
     },
     "execution_count": 3,
     "metadata": {},
     "output_type": "execute_result"
    }
   ],
   "source": [
    "overrides.columns"
   ]
  },
  {
   "cell_type": "code",
   "execution_count": 5,
   "metadata": {},
   "outputs": [],
   "source": [
    "overrides.columns = (\n",
    "    overrides.columns.str.strip()\n",
    "    .str.replace(' ', '_')\n",
    "    .str.replace(\")\",\"\")\\\n",
    "    .str.replace(\"(\",\"\")\n",
    "    .str.replace(\"/\",\"\")\n",
    "    .str.lower()\n",
    "    .str.replace(\"\\n\",\"_\")\n",
    "    .str.replace(\"*\",\"\")\n",
    "    .str.replace(\"__\",\"_\")\n",
    "    )"
   ]
  },
  {
   "cell_type": "code",
   "execution_count": 6,
   "metadata": {},
   "outputs": [
    {
     "data": {
      "text/plain": [
       "Index(['#', 'clarityid', 'permid_clarity', 'issuerid', 'issuer_name',\n",
       "       'snt-world_y-', 'parent_name_aladdin', 'parent_issuerid_aladdin',\n",
       "       'parent_p_subsidiaria_s', 'parent_name_clarity', 'parent_clarityid',\n",
       "       'gics_2', 'gics_2_parent', 'sustainability_rating_parent',\n",
       "       'ovr_inheritance_bic', 'ovr_str001_sec', 'ovr_str002_ec',\n",
       "       'ovr_str003_ec', 'ovr_str003b_ec', 'ovr_str004_sec', 'ovr_str005_ec',\n",
       "       'ovr_str006_sec', 'ovr_str007_sec', 'ovr_cs001_sec', 'ovr_cs002_ec',\n",
       "       'ovr_cs003_sec', 'ovr_articulo_8_c', 'motivo_principal_ovr',\n",
       "       'motivo_secundario_ovr', 'detalle_ovrobservación_adicional',\n",
       "       'fecha_aplicación_ovr'],\n",
       "      dtype='object')"
      ]
     },
     "execution_count": 6,
     "metadata": {},
     "output_type": "execute_result"
    }
   ],
   "source": [
    "overrides.columns"
   ]
  },
  {
   "cell_type": "code",
   "execution_count": 7,
   "metadata": {},
   "outputs": [],
   "source": [
    "ovr_filtered = overrides[\n",
    "    [\n",
    "        \"clarityid\", \n",
    "        \"permid_clarity\",\n",
    "        \"issuerid\",\n",
    "        \"issuer_name\",\n",
    "        \"parent_p_subsidiaria_s\",\n",
    "        \"parent_name_clarity\",\n",
    "        \"parent_clarityid\",\n",
    "        \"parent_name_aladdin\",\n",
    "        \"parent_issuerid_aladdin\",\n",
    "        \"ovr_str001_sec\",\n",
    "        \"ovr_str002_ec\",\n",
    "        \"ovr_str003_ec\",\n",
    "        \"ovr_str003b_ec\",\n",
    "        \"ovr_str004_sec\",\n",
    "        \"ovr_str005_ec\",\n",
    "        \"ovr_str006_sec\",\n",
    "        \"ovr_articulo_8_c\",\n",
    "        \"ovr_cs001_sec\",\n",
    "        \"ovr_cs002_ec\",\n",
    "        \"ovr_cs003_sec\",\n",
    "        'motivo_principal_ovr',\n",
    "        'motivo_secundario_ovr'\n",
    "\n",
    "    ]\n",
    "].copy()"
   ]
  },
  {
   "cell_type": "code",
   "execution_count": 8,
   "metadata": {},
   "outputs": [],
   "source": [
    "ovr_filtered.rename(\n",
    "    columns={\n",
    "        \"parent_p_subsidiaria_s\":\"parent_sub\",\n",
    "        \"issuerid\":\"brs_id\",\n",
    "        \"permid_clarity\":\"permid\",\n",
    "        \"parent_name_aladdin\" : \"parent_name_brs\",\n",
    "        \"parent_issuerid_aladdin\" : \"parent_brs_id\",\n",
    "        \"ovr_str001_sec\" : \"str_001\",\n",
    "        \"ovr_str002_ec\" : \"str_002\",\n",
    "        \"ovr_str003_ec\" : \"str_003\",\n",
    "        \"ovr_str003b_ec\" : \"str_003b\",\n",
    "        \"ovr_str004_sec\" : \"str_004\",\n",
    "        \"ovr_str005_ec\" : \"str_005\",\n",
    "        \"ovr_str006_sec\" : \"str_006\",\n",
    "        \"ovr_articulo_8_c\" : \"art_8\", \n",
    "        \"ovr_cs001_sec\" : \"cs_001\",\n",
    "        \"ovr_cs002_ec\" : \"cs_003\",\n",
    "        \"ovr_cs003_sec\" : \"cs_002\"\n",
    "        }, \n",
    "        inplace=True\n",
    ")"
   ]
  },
  {
   "cell_type": "code",
   "execution_count": 27,
   "metadata": {},
   "outputs": [],
   "source": [
    "#get crossreference\n",
    "crossreference = pd.read_csv(r\"C:\\Users\\n740789\\Documents\\Projects_local\\DataSets\\crossreference\\Aladdin_Clarity_Issuers_20250301.csv\", \n",
    "                             dtype={\"CLARITY_AI\": str})"
   ]
  },
  {
   "cell_type": "code",
   "execution_count": 10,
   "metadata": {},
   "outputs": [],
   "source": [
    "crossreference.columns = [\"brs_id\", \"brs_issuer_name\", \"permid\", \"msci_id\", \"sustainalytics_id\"]"
   ]
  },
  {
   "cell_type": "code",
   "execution_count": 11,
   "metadata": {},
   "outputs": [],
   "source": [
    "# drop from crossreference columns msci_id and susctainalytics_id\n",
    "crossreference.drop(columns=[\"msci_id\", \"sustainalytics_id\"], inplace=True)"
   ]
  },
  {
   "cell_type": "code",
   "execution_count": 12,
   "metadata": {},
   "outputs": [
    {
     "name": "stdout",
     "output_type": "stream",
     "text": [
      "<class 'pandas.core.frame.DataFrame'>\n",
      "RangeIndex: 134709 entries, 0 to 134708\n",
      "Data columns (total 3 columns):\n",
      " #   Column           Non-Null Count   Dtype \n",
      "---  ------           --------------   ----- \n",
      " 0   brs_id           134709 non-null  object\n",
      " 1   brs_issuer_name  134709 non-null  object\n",
      " 2   permid           131821 non-null  object\n",
      "dtypes: object(3)\n",
      "memory usage: 3.1+ MB\n"
     ]
    }
   ],
   "source": [
    "crossreference.info()"
   ]
  },
  {
   "cell_type": "code",
   "execution_count": 33,
   "metadata": {},
   "outputs": [],
   "source": [
    "# read latest datafeed at the issuer level\n",
    "target_columns = [\n",
    "    \"issuer_name\",\n",
    "    \"permid\",\n",
    "    \"clarityid\",\n",
    "    \"company_inheriting\",\n",
    "    \"parent_company\",\n",
    "    \"str_001_s\",\n",
    "    \"str_002_ec\",\n",
    "    \"str_003_ec\",\n",
    "    \"str_003b_ec\",\n",
    "    \"str_004_asec\",\n",
    "    \"str_005_ec\",\n",
    "    \"cs_001_sec\",\n",
    "    \"cs_003_sec\",\n",
    "    \"cs_002_ec\",\n",
    "    \"str_006_sec\",\n",
    "    \"art_8_basicos\"\n",
    "]\n",
    "\n",
    "datafeed = pd.read_csv(\n",
    "    r\"C:\\Users\\n740789\\Documents\\Projects_local\\DataSets\\DATAFEED\\ficheros_tratados\\2025\\20250301_Equities_feed_IssuerLevel_sinOVR.csv\",\n",
    "    usecols=target_columns,\n",
    "    dtype={\"permid\": str, \"clarityid\": str}\n",
    ")"
   ]
  },
  {
   "cell_type": "code",
   "execution_count": 34,
   "metadata": {},
   "outputs": [
    {
     "data": {
      "text/plain": [
       "69278"
      ]
     },
     "execution_count": 34,
     "metadata": {},
     "output_type": "execute_result"
    }
   ],
   "source": [
    "datafeed.shape[0]"
   ]
  },
  {
   "cell_type": "markdown",
   "metadata": {},
   "source": [
    "69278, 69264, 69259"
   ]
  },
  {
   "cell_type": "code",
   "execution_count": 14,
   "metadata": {},
   "outputs": [],
   "source": [
    "datafeed.rename(\n",
    "    columns={\n",
    "        \"str_001_s\"  : \"str_001\",\n",
    "        \"str_002_ec\"  : \"str_002\",\n",
    "        \"str_003_ec\"  : \"str_003\",\n",
    "        \"str_003b_ec\"  : \"str_003b\",\n",
    "        \"str_004_asec\"  : \"str_004\",\n",
    "        \"str_005_ec\"  : \"str_005\",\n",
    "        \"cs_001_sec\"  : \"str_006\",\n",
    "        \"cs_003_sec\"  : \"art_8\", \n",
    "        \"cs_002_ec\"  : \"cs_001\",\n",
    "        \"str_006_sec\"  : \"cs_003\",\n",
    "        \"art_8_basicos\"  : \"cs_002\"    \n",
    "    },\n",
    "    inplace=True\n",
    ")"
   ]
  },
  {
   "cell_type": "code",
   "execution_count": null,
   "metadata": {},
   "outputs": [],
   "source": [
    "ovr_filtered.info()"
   ]
  },
  {
   "cell_type": "code",
   "execution_count": null,
   "metadata": {},
   "outputs": [],
   "source": [
    "crossreference.info()"
   ]
  },
  {
   "cell_type": "code",
   "execution_count": 15,
   "metadata": {},
   "outputs": [],
   "source": [
    "# Create a mapping dictionary from permid to brs_id in the crossreference dataframe\n",
    "mapping = crossreference.set_index('permid')['brs_id'].to_dict()\n",
    "\n",
    "# Use the mapping to fill missing brs_id values in ovr_filtered based on the permid column\n",
    "ovr_filtered['brs_id'] = ovr_filtered['brs_id'].fillna(ovr_filtered['permid'].map(mapping))"
   ]
  },
  {
   "cell_type": "code",
   "execution_count": null,
   "metadata": {},
   "outputs": [],
   "source": [
    "for c in ovr_filtered.columns:\n",
    "    print(c)"
   ]
  },
  {
   "cell_type": "code",
   "execution_count": 16,
   "metadata": {},
   "outputs": [],
   "source": [
    "# List of columns to check\n",
    "columns_to_check = [\n",
    "    \"str_001\",\n",
    "    \"str_002\",\n",
    "    \"str_003\",\n",
    "    \"str_003b\",\n",
    "    \"str_004\",\n",
    "    \"str_005\",\n",
    "    \"str_006\",\n",
    "    \"art_8\", \n",
    "    \"cs_001\",\n",
    "    \"cs_003\",\n",
    "    \"cs_002\"\n",
    "]\n",
    "\n",
    "# Filter rows where all specified columns are empty or NaN\n",
    "ovr_clean = ovr_filtered[~ovr_filtered[columns_to_check].apply(lambda row: row.isna().all() or (row == '').all(), axis=1)]"
   ]
  },
  {
   "cell_type": "code",
   "execution_count": null,
   "metadata": {},
   "outputs": [],
   "source": [
    "ovr_clean.info()"
   ]
  },
  {
   "cell_type": "code",
   "execution_count": 17,
   "metadata": {},
   "outputs": [],
   "source": [
    "df_target_col =[\n",
    "    \"permid\",\n",
    "    \"company_inheriting\", \n",
    "    \"parent_company\", \n",
    "    \"str_001\",\n",
    "    \"str_002\",\n",
    "    \"str_003\",\n",
    "    \"str_003b\",\n",
    "    \"str_004\",\n",
    "    \"str_005\",\n",
    "    \"str_006\",\n",
    "    \"art_8\", \n",
    "    \"cs_001\",\n",
    "    \"cs_003\",\n",
    "    \"cs_002\"\n",
    "]"
   ]
  },
  {
   "cell_type": "code",
   "execution_count": 18,
   "metadata": {},
   "outputs": [],
   "source": [
    "ovr_merged = pd.merge(ovr_clean, datafeed[df_target_col], how='left', on='permid', suffixes=('_ovr', '_df'))"
   ]
  },
  {
   "cell_type": "code",
   "execution_count": 19,
   "metadata": {},
   "outputs": [
    {
     "name": "stdout",
     "output_type": "stream",
     "text": [
      "<class 'pandas.core.frame.DataFrame'>\n",
      "RangeIndex: 7190 entries, 0 to 7189\n",
      "Data columns (total 35 columns):\n",
      " #   Column                 Non-Null Count  Dtype \n",
      "---  ------                 --------------  ----- \n",
      " 0   clarityid              7190 non-null   object\n",
      " 1   permid                 7190 non-null   object\n",
      " 2   brs_id                 2703 non-null   object\n",
      " 3   issuer_name            7190 non-null   object\n",
      " 4   parent_sub             7190 non-null   object\n",
      " 5   parent_name_clarity    7189 non-null   object\n",
      " 6   parent_clarityid       7190 non-null   object\n",
      " 7   parent_name_brs        7154 non-null   object\n",
      " 8   parent_brs_id          7151 non-null   object\n",
      " 9   str_001_ovr            7120 non-null   object\n",
      " 10  str_002_ovr            7106 non-null   object\n",
      " 11  str_003_ovr            7099 non-null   object\n",
      " 12  str_003b_ovr           7095 non-null   object\n",
      " 13  str_004_ovr            7122 non-null   object\n",
      " 14  str_005_ovr            7072 non-null   object\n",
      " 15  str_006_ovr            7118 non-null   object\n",
      " 16  art_8_ovr              7065 non-null   object\n",
      " 17  cs_001_ovr             7050 non-null   object\n",
      " 18  cs_003_ovr             7098 non-null   object\n",
      " 19  cs_002_ovr             7100 non-null   object\n",
      " 20  motivo_principal_ovr   7189 non-null   object\n",
      " 21  motivo_secundario_ovr  6901 non-null   object\n",
      " 22  company_inheriting     3063 non-null   object\n",
      " 23  parent_company         3063 non-null   object\n",
      " 24  str_001_df             3063 non-null   object\n",
      " 25  str_002_df             3063 non-null   object\n",
      " 26  str_003_df             3063 non-null   object\n",
      " 27  str_003b_df            3063 non-null   object\n",
      " 28  str_004_df             3063 non-null   object\n",
      " 29  str_005_df             3063 non-null   object\n",
      " 30  str_006_df             3063 non-null   object\n",
      " 31  art_8_df               3063 non-null   object\n",
      " 32  cs_001_df              3063 non-null   object\n",
      " 33  cs_003_df              3063 non-null   object\n",
      " 34  cs_002_df              3063 non-null   object\n",
      "dtypes: object(35)\n",
      "memory usage: 1.9+ MB\n"
     ]
    }
   ],
   "source": [
    "ovr_merged.info()"
   ]
  },
  {
   "cell_type": "code",
   "execution_count": null,
   "metadata": {},
   "outputs": [],
   "source": [
    "for c in sorted(ovr_merged.columns):\n",
    "    print(c)"
   ]
  },
  {
   "cell_type": "code",
   "execution_count": 20,
   "metadata": {},
   "outputs": [],
   "source": [
    "def active_ovr(row, column_pairs):\n",
    "    result = {}\n",
    "    for ovr_col, base_col in column_pairs:\n",
    "        if pd.isna(row[ovr_col]) or pd.isna(row[base_col]):\n",
    "            result[f\"{ovr_col}_active\"] = np.nan\n",
    "        else:\n",
    "            result[f\"{ovr_col}_active\"] = row[ovr_col] != row[base_col]\n",
    "    return result"
   ]
  },
  {
   "cell_type": "code",
   "execution_count": 21,
   "metadata": {},
   "outputs": [],
   "source": [
    "# Define column pairs to compare based on the provided columns\n",
    "column_pairs_to_compare = [\n",
    "    (\"str_001_ovr\", \"str_001_df\"),\n",
    "    (\"str_002_ovr\", \"str_002_df\"),\n",
    "    (\"str_003_ovr\", \"str_003_df\"),\n",
    "    (\"str_003b_ovr\", \"str_003b_df\"),\n",
    "    (\"str_004_ovr\", \"str_004_df\"),\n",
    "    (\"str_005_ovr\", \"str_005_df\"),\n",
    "    (\"str_006_ovr\", \"str_006_df\"),\n",
    "    (\"art_8_ovr\", \"art_8_df\"),\n",
    "    (\"cs_001_ovr\", \"cs_001_df\"),\n",
    "    (\"cs_002_ovr\", \"cs_002_df\"),\n",
    "    (\"cs_003_ovr\", \"cs_003_df\")\n",
    "]"
   ]
  },
  {
   "cell_type": "code",
   "execution_count": 22,
   "metadata": {},
   "outputs": [],
   "source": [
    "\n",
    "# Add new columns for each override\n",
    "for index, row in ovr_merged.iterrows():\n",
    "    active_overrides = active_ovr(row, column_pairs_to_compare)\n",
    "    for col, value in active_overrides.items():\n",
    "        ovr_merged.at[index, col] = value"
   ]
  },
  {
   "cell_type": "code",
   "execution_count": 23,
   "metadata": {},
   "outputs": [],
   "source": [
    "# Fix override grounds\n",
    "def fix_spell(ground: str) -> str:\n",
    "    if ground in ['BIC', 'BiC']:\n",
    "        return 'SR'\n",
    "    elif ground == 'Exposición':\n",
    "        return 'exposure'\n",
    "    elif ground in ['Inheritance', 'Inheritance de subsidiaria', 'Inheritance por caida de SR']:\n",
    "        return 'inheritance'\n",
    "    elif ground == 'Comité':\n",
    "        return 'committee'\n",
    "    elif ground in ['Controversia', 'Fallo controversias Clarity', 'OVR por controversia nivel 3/5 en Susta pero en Clarity 1/100']:\n",
    "        return 'controversy'\n",
    "    else:\n",
    "        return ground  # Return the original input if no conditions match\n",
    "\n",
    "ovr_merged.motivo_principal_ovr = overrides.motivo_principal_ovr.apply(fix_spell)"
   ]
  },
  {
   "cell_type": "code",
   "execution_count": 24,
   "metadata": {},
   "outputs": [],
   "source": [
    "result_df = ovr_merged.copy()"
   ]
  },
  {
   "cell_type": "code",
   "execution_count": 25,
   "metadata": {},
   "outputs": [],
   "source": [
    "\"\"\"\n",
    "add these columns to result_df:     \n",
    "    \"ovr_grounds_srating\",\n",
    "    \"ovr_grounds_exposure\",\n",
    "    \"ovr_grounds_controversy\",\n",
    "    \"ovr_grounds_committee\",\n",
    "    \"ovr_grounds_inheritance\"\n",
    "\"\"\"\n",
    "result_df[\"ovr_grounds_srating\"] = result_df[\"motivo_principal_ovr\"] == \"SR\"\n",
    "result_df[\"ovr_grounds_exposure\"] = result_df[\"motivo_principal_ovr\"] == \"exposure\"\n",
    "result_df[\"ovr_grounds_controversy\"] = result_df[\"motivo_principal_ovr\"] == \"controversy\"\n",
    "result_df[\"ovr_grounds_committee\"] = result_df[\"motivo_principal_ovr\"] == \"committee\"\n",
    "result_df[\"ovr_grounds_inheritance\"] = result_df[\"motivo_principal_ovr\"] == \"inheritance\"\n",
    "\n",
    "ground_columns = [\n",
    "    \"ovr_grounds_srating\",\n",
    "    \"ovr_grounds_exposure\",\n",
    "    \"ovr_grounds_controversy\",\n",
    "    \"ovr_grounds_committee\",\n",
    "    \"ovr_grounds_inheritance\"]\n",
    "\n",
    "# for every column in in ground_columns, if value is not nan, then set the value to \"x\"\n",
    "for col in ground_columns:\n",
    "    result_df[col] = result_df[col].apply(lambda x: 'x' if x else np.nan)\n"
   ]
  },
  {
   "cell_type": "code",
   "execution_count": 26,
   "metadata": {},
   "outputs": [
    {
     "data": {
      "text/plain": [
       "ovr_grounds_srating\n",
       "NaN    7169\n",
       "x        21\n",
       "Name: count, dtype: int64"
      ]
     },
     "execution_count": 26,
     "metadata": {},
     "output_type": "execute_result"
    }
   ],
   "source": [
    "result_df[\"ovr_grounds_srating\"].value_counts(dropna=False)"
   ]
  },
  {
   "cell_type": "code",
   "execution_count": 36,
   "metadata": {},
   "outputs": [
    {
     "name": "stdout",
     "output_type": "stream",
     "text": [
      "clarityid\n",
      "permid\n",
      "brs_id\n",
      "issuer_name\n",
      "parent_sub\n",
      "parent_name_clarity\n",
      "parent_clarityid\n",
      "parent_name_brs\n",
      "parent_brs_id\n",
      "str_001_ovr\n",
      "str_002_ovr\n",
      "str_003_ovr\n",
      "str_003b_ovr\n",
      "str_004_ovr\n",
      "str_005_ovr\n",
      "str_006_ovr\n",
      "art_8_ovr\n",
      "cs_001_ovr\n",
      "cs_003_ovr\n",
      "cs_002_ovr\n",
      "motivo_principal_ovr\n",
      "motivo_secundario_ovr\n",
      "company_inheriting\n",
      "parent_company\n",
      "str_001_df\n",
      "str_002_df\n",
      "str_003_df\n",
      "str_003b_df\n",
      "str_004_df\n",
      "str_005_df\n",
      "str_006_df\n",
      "art_8_df\n",
      "cs_001_df\n",
      "cs_003_df\n",
      "cs_002_df\n",
      "str_001_ovr_active\n",
      "str_002_ovr_active\n",
      "str_003_ovr_active\n",
      "str_003b_ovr_active\n",
      "str_004_ovr_active\n",
      "str_005_ovr_active\n",
      "str_006_ovr_active\n",
      "art_8_ovr_active\n",
      "cs_001_ovr_active\n",
      "cs_002_ovr_active\n",
      "cs_003_ovr_active\n",
      "ovr_grounds_srating\n",
      "ovr_grounds_exposure\n",
      "ovr_grounds_controversy\n",
      "ovr_grounds_committee\n",
      "ovr_grounds_inheritance\n"
     ]
    }
   ],
   "source": [
    "for c in result_df.columns:\n",
    "    print(c)"
   ]
  },
  {
   "cell_type": "code",
   "execution_count": 41,
   "metadata": {},
   "outputs": [],
   "source": [
    "def save_result_df_to_excel(result_df, output_file, basic_columns):\n",
    "\n",
    "    aux_col = [\n",
    "    \"ovr_grounds_srating\",\n",
    "    \"ovr_grounds_exposure\",\n",
    "    \"ovr_grounds_controversy\",\n",
    "    \"ovr_grounds_committee\",\n",
    "    \"ovr_grounds_inheritance\",\n",
    "    \"motivo_principal_ovr\",\n",
    "    \"motivo_secundario_ovr\",\n",
    "    \"company_inheriting\",\n",
    "    \"parent_company\",\n",
    "    ]\n",
    "\n",
    "\n",
    "    output_dir = os.path.dirname(output_file)\n",
    "    if not os.path.exists(output_dir):\n",
    "        os.makedirs(output_dir)\n",
    "\n",
    "    strategy_columns = [\n",
    "        \"str_001_df\", \"str_002_df\", \"str_003_df\", \"str_003b_df\",\n",
    "        \"str_004_df\", \"str_005_df\", \"str_006_df\", \"art_8_df\",\n",
    "        \"cs_001_df\", \"cs_003_df\", \"cs_002_df\",\n",
    "    ]\n",
    "\n",
    "    ovr_columns = [\n",
    "        \"str_001_ovr\", \"str_002_ovr\", \"str_003_ovr\", \"str_003b_ovr\", \n",
    "        \"str_004_ovr\", \"str_005_ovr\", \"str_006_ovr\", \"art_8_ovr\", \n",
    "        \"cs_001_ovr\", \"cs_003_ovr\", \"cs_002_ovr\", \n",
    "    ]\n",
    "\n",
    "    ovr_active_columns = [\n",
    "        \"str_001_ovr_active\", \"str_002_ovr_active\", \"str_003_ovr_active\", \"str_003b_ovr_active\", \n",
    "        \"str_004_ovr_active\", \"str_005_ovr_active\", \"str_006_ovr_active\", \"art_8_ovr_active\", \n",
    "        \"cs_001_ovr_active\", \"cs_002_ovr_active\", \"cs_003_ovr_active\",     \n",
    "    ]\n",
    "\n",
    "    with pd.ExcelWriter(output_file, engine=\"xlsxwriter\") as writer:\n",
    "        result_df.to_excel(writer, sheet_name=\"Full_Data\", index=False)\n",
    "\n",
    "        for strategy, ovr_col, active_col in zip(strategy_columns, ovr_columns, ovr_active_columns):\n",
    "            result_df[\"ovr_target\"] = strategy\n",
    "            relevant_columns = basic_columns + [\"ovr_target\"] + [\n",
    "                col for col in [strategy, ovr_col, active_col] if col in result_df.columns\n",
    "            ] + aux_col\n",
    "\n",
    "            if relevant_columns:\n",
    "                result_df[relevant_columns].to_excel(writer, sheet_name=f\"{strategy}\", index=False)\n",
    "\n",
    "    print(f\"Data has been successfully saved to {output_file}\")\n",
    "\n"
   ]
  },
  {
   "cell_type": "code",
   "execution_count": 42,
   "metadata": {},
   "outputs": [
    {
     "name": "stdout",
     "output_type": "stream",
     "text": [
      "Data has been successfully saved to output\\20250312_override_analysis_subs.xlsx\n"
     ]
    }
   ],
   "source": [
    "DATE = datetime.now().strftime(\"%Y%m%d\")\n",
    "\n",
    "# define basic columns before saving\n",
    "basic_columns = [\n",
    "    \"clarityid\",\n",
    "    \"permid\",\n",
    "    \"brs_id\",\n",
    "    \"issuer_name\",\n",
    "    \"parent_sub\",\n",
    "    \"parent_name_clarity\",\n",
    "    \"parent_clarityid\",\n",
    "    \"parent_name_brs\",\n",
    "    \"parent_brs_id\",\n",
    "]\n",
    "save_result_df_to_excel(result_df, rf\"output\\{DATE}_override_analysis_subs.xlsx\", basic_columns=basic_columns)"
   ]
  },
  {
   "cell_type": "code",
   "execution_count": null,
   "metadata": {},
   "outputs": [],
   "source": [
    "ovr_merged.head()"
   ]
  },
  {
   "cell_type": "code",
   "execution_count": null,
   "metadata": {},
   "outputs": [],
   "source": [
    "result_df.info()"
   ]
  },
  {
   "cell_type": "markdown",
   "metadata": {},
   "source": [
    "Display results"
   ]
  },
  {
   "cell_type": "code",
   "execution_count": 17,
   "metadata": {},
   "outputs": [],
   "source": [
    "# merge map_df with datafeed on permid\n",
    "map_datafeed = pd.merge(overrides, datafeed, on='permid', how='left')"
   ]
  },
  {
   "cell_type": "code",
   "execution_count": 18,
   "metadata": {},
   "outputs": [],
   "source": [
    "# merge map_df with crossreference on permid\n",
    "map_datafeed = pd.merge(map_datafeed, crossreference, on='permid', how='left', suffixes=['_x', '_y'])"
   ]
  },
  {
   "cell_type": "code",
   "execution_count": 19,
   "metadata": {},
   "outputs": [],
   "source": [
    "def drop_columns_by_prefix(df, prefixes):\n",
    "    columns_to_drop = [col for col in df.columns if any(col.startswith(prefix) for prefix in prefixes)]\n",
    "    return df.drop(columns=columns_to_drop)\n",
    "\n",
    "# Drop columns starting with \"original_\" or \"final_\"\n",
    "prefixes_to_remove = [\"original_\", \"final_\"]"
   ]
  },
  {
   "cell_type": "code",
   "execution_count": 20,
   "metadata": {},
   "outputs": [],
   "source": [
    "#rename column permid_x and issuer_name_x map_datafeed to permid and issuer_name\n",
    "map_datafeed.rename(columns={\n",
    "    'clarityid_map':'clarityid',\n",
    "    'issuer_name_map':'issuer_name',\n",
    "    'clarityid_x':'clarityid',\n",
    "    'issuer_name_x':'issuer_name',\n",
    "}, inplace=True)\n"
   ]
  },
  {
   "cell_type": "code",
   "execution_count": null,
   "metadata": {},
   "outputs": [],
   "source": [
    "map_datafeed.info()"
   ]
  },
  {
   "cell_type": "code",
   "execution_count": 22,
   "metadata": {},
   "outputs": [],
   "source": [
    "result_target_columns_map = [\n",
    "    'permid',\n",
    "    \"clarityid\",\n",
    "    'brs_id',\n",
    "    'issuer_name',\n",
    "    'brs_issuer_name',\n",
    "    \"company_inheriting\",\n",
    "    \"parent_company\",\n",
    "    \"parent_name_aladdin\",\n",
    "    \"parent_clarityid\",\n",
    "    \"ovr_str001\",\n",
    "    \"ovr_str002\",\n",
    "    \"ovr_str003\",\n",
    "    \"ovr_str003b\",\n",
    "    \"ovr_str004\",\n",
    "    \"ovr_str005\",\n",
    "    \"ovr_str006\",\n",
    "    \"ovr_cs001\",\n",
    "    \"ovr_cs002\",\n",
    "    \"ovr_cs003\",\n",
    "    \"ovr_art_8\",\n",
    "    \"str_001\",\n",
    "    \"str_002\",\n",
    "    \"str_003\",\n",
    "    \"str_003b\",\n",
    "    \"str_004\",\n",
    "    \"str_005\",\n",
    "    \"str_006\",\n",
    "    \"art_8\",\n",
    "    \"cs_001\",\n",
    "    \"cs_003\",\n",
    "    \"cs_002\",\n",
    "    \"parent_clarityid\",\n",
    "]\n",
    "\n",
    "# filter map_datafeed to only include the columns in result_target_columns\n",
    "result_map_df = map_datafeed[result_target_columns_map].copy()"
   ]
  },
  {
   "cell_type": "code",
   "execution_count": null,
   "metadata": {},
   "outputs": [],
   "source": [
    "for c in result_map_df.columns:\n",
    "    print(c)"
   ]
  },
  {
   "cell_type": "code",
   "execution_count": 24,
   "metadata": {},
   "outputs": [],
   "source": [
    "def active_ovr(row, column_pairs):\n",
    "    result = {}\n",
    "    for ovr_col, base_col in column_pairs:\n",
    "        if pd.isna(row[ovr_col]) or pd.isna(row[base_col]):\n",
    "            result[f\"{ovr_col}_active\"] = np.nan\n",
    "        else:\n",
    "            result[f\"{ovr_col}_active\"] = row[ovr_col] != row[base_col]\n",
    "    return result"
   ]
  },
  {
   "cell_type": "code",
   "execution_count": null,
   "metadata": {},
   "outputs": [],
   "source": [
    "# Define column pairs to compare based on the provided columns\n",
    "column_pairs_to_compare = [\n",
    "    (\"ovr_str001\", \"str_001\"),\n",
    "    (\"ovr_str002\", \"str_002\"),\n",
    "    (\"ovr_str003\", \"str_003\"),\n",
    "    (\"ovr_str003b\", \"str_003b\"),\n",
    "    (\"ovr_str004\", \"str_004\"),\n",
    "    (\"ovr_str005\", \"str_005\"),\n",
    "    (\"ovr_str006\", \"str_006\"),\n",
    "    (\"ovr_cs001\", \"cs_001\"),\n",
    "    (\"ovr_cs002\", \"cs_002\"),\n",
    "    (\"ovr_cs003\", \"cs_003\"),\n",
    "    (\"ovr_art_8\", \"art_8\"),\n",
    "]\n",
    "\n",
    "# Add new columns for each override \n",
    "for index, row in result_map_df.iterrows():\n",
    "    active_overrides = active_ovr(row, column_pairs_to_compare)\n",
    "    for col, value in active_overrides.items():\n",
    "        result_map_df.at[index, col] = value\n"
   ]
  },
  {
   "cell_type": "code",
   "execution_count": null,
   "metadata": {},
   "outputs": [],
   "source": [
    "result_map_df.info()"
   ]
  },
  {
   "cell_type": "code",
   "execution_count": 27,
   "metadata": {},
   "outputs": [],
   "source": [
    "def save_result_df_to_excel(result_df, output_file, basic_columns):\n",
    "\n",
    "    output_dir = os.path.dirname(output_file)\n",
    "    if not os.path.exists(output_dir):\n",
    "        os.makedirs(output_dir)\n",
    "\n",
    "    strategy_columns = [\n",
    "        \"str_001\", \"str_002\", \"str_003\", \"str_003b\", \n",
    "        \"str_004\", \"str_005\",\"str_006\", \"art_8\",\n",
    "        \"cs_001\", \"cs_002\", \"cs_003\" \n",
    "    ]\n",
    "\n",
    "    ovr_columns = [\n",
    "        \"ovr_str001\", \"ovr_str002\", \"ovr_str003\", \"ovr_str003b\", \n",
    "        \"ovr_str004\", \"ovr_str005\", \"ovr_str006\", \"ovr_art_8\",\n",
    "        \"ovr_cs001\", \"ovr_cs002\", \"ovr_cs003\"\n",
    "    ]\n",
    "\n",
    "    ovr_active_columns = [\n",
    "        \"ovr_str001_active\", \"ovr_str002_active\", \"ovr_str003_active\", \"ovr_str003b_active\",\n",
    "        \"ovr_str004_active\", \"ovr_str005_active\", \"ovr_str006_active\", \"ovr_art_8_active\",\n",
    "        \"ovr_cs001_active\", \"ovr_cs002_active\", \"ovr_cs003_active\", \n",
    "    ]\n",
    "\n",
    "    with pd.ExcelWriter(output_file, engine=\"xlsxwriter\") as writer:\n",
    "        result_df.to_excel(writer, sheet_name=\"Full_Data\", index=False)\n",
    "\n",
    "        for strategy, ovr_col, active_col in zip(strategy_columns, ovr_columns, ovr_active_columns):\n",
    "            result_df[\"ovr_target\"] = strategy\n",
    "            relevant_columns = basic_columns + [\"ovr_target\"] + [\n",
    "                col for col in [strategy, ovr_col, active_col] if col in result_df.columns\n",
    "            ]\n",
    "\n",
    "            if relevant_columns:\n",
    "                result_df[relevant_columns].to_excel(writer, sheet_name=f\"{strategy}\", index=False)\n",
    "\n",
    "    print(f\"Data has been successfully saved to {output_file}\")\n",
    "\n"
   ]
  },
  {
   "cell_type": "code",
   "execution_count": 28,
   "metadata": {},
   "outputs": [],
   "source": [
    "DATE = datetime.today().strftime('%Y%m%d')\n",
    "\n",
    "basic_columns = [\n",
    "    \"permid\",\n",
    "    \"clarityid\",\n",
    "    \"brs_id\",\n",
    "    \"issuer_name\",\n",
    "    \"brs_issuer_name\",\n",
    "    \"company_inheriting\",\n",
    "    \"parent_company\",\n",
    "    \"parent_name_aladdin\",\n",
    "    \"parent_clarityid\"\n",
    "]\n",
    "#save_result_df_to_excel(result_map_df, rf\"output\\{DATE}_override_analysis_mapsheet.xlsx\", basic_columns=basic_columns)"
   ]
  },
  {
   "cell_type": "code",
   "execution_count": 29,
   "metadata": {},
   "outputs": [],
   "source": [
    "final_df = result_map_df[basic_columns].copy()"
   ]
  },
  {
   "cell_type": "code",
   "execution_count": null,
   "metadata": {},
   "outputs": [],
   "source": [
    "final_df.head()"
   ]
  },
  {
   "cell_type": "code",
   "execution_count": 31,
   "metadata": {},
   "outputs": [],
   "source": [
    "final_df[\"issuer_name\"] = final_df[\"issuer_name\"].str.upper().str.strip()\n",
    "final_df[\"parent_company\"] = final_df[\"parent_company\"].str.upper().str.strip()"
   ]
  },
  {
   "cell_type": "code",
   "execution_count": null,
   "metadata": {},
   "outputs": [],
   "source": [
    "final_df.info()"
   ]
  },
  {
   "cell_type": "code",
   "execution_count": 33,
   "metadata": {},
   "outputs": [],
   "source": [
    "# merge final_df with crossreference on issuer_name=brs_issuer_name\n",
    "final_df = pd.merge(final_df, crossreference, left_on=\"issuer_name\", right_on=\"brs_issuer_name\", how=\"left\", suffixes=('_x', '_y'))"
   ]
  },
  {
   "cell_type": "code",
   "execution_count": null,
   "metadata": {},
   "outputs": [],
   "source": [
    "final_df.info()"
   ]
  },
  {
   "cell_type": "code",
   "execution_count": 35,
   "metadata": {},
   "outputs": [],
   "source": [
    "def fill_missing_values(df, col1, col2):\n",
    "    \"\"\"\n",
    "    For each row:\n",
    "      - If col1 is missing, fill it from col2.\n",
    "      - If col2 is missing, fill it from col1.\n",
    "      - If both are missing, they remain missing.\n",
    "      - If both have values, no change.\n",
    "    \"\"\"\n",
    "    missing_values = [\"\", \"-\", np.nan, pd.NA, None, \"NaN\", \"nan\"]\n",
    "\n",
    "    # Work on a copy to avoid any chained-assignment warnings\n",
    "    df = df.copy()\n",
    "\n",
    "    # Convert both columns to string type, then replace any 'missing_values' with np.nan\n",
    "    df[col1] = df[col1].astype(str).replace(missing_values, np.nan)\n",
    "    df[col2] = df[col2].astype(str).replace(missing_values, np.nan)\n",
    "\n",
    "    # 1) Fill col1 from col2\n",
    "    df[col1] = df[col1].fillna(df[col2])\n",
    "    # 2) Fill col2 from col1\n",
    "    df[col2] = df[col2].fillna(df[col1])\n",
    "\n",
    "    return df\n",
    "\n",
    "\n",
    "\n",
    "final_df = fill_missing_values(final_df, \"permid_x\", \"permid_y\")\n",
    "final_df = fill_missing_values(final_df, \"brs_id_x\", \"brs_id_y\")\n",
    "final_df = fill_missing_values(final_df, \"brs_issuer_name_x\", \"brs_issuer_name_y\")\n",
    "final_df = fill_missing_values(final_df, \"parent_company\", \"parent_name_aladdin\")\n"
   ]
  },
  {
   "cell_type": "code",
   "execution_count": null,
   "metadata": {},
   "outputs": [],
   "source": [
    "final_df.head()"
   ]
  },
  {
   "cell_type": "code",
   "execution_count": null,
   "metadata": {},
   "outputs": [],
   "source": [
    "final_df[[\"permid_x\",\"permid_y\",\"brs_id_x\",\"brs_id_y\", \"clarityid\", \"issuer_name\",\"brs_issuer_name_x\", \"brs_issuer_name_y\", \"company_inheriting\",\"parent_company\", \"parent_name_aladdin\", \"parent_clarityid\"]].head()"
   ]
  },
  {
   "cell_type": "code",
   "execution_count": 38,
   "metadata": {},
   "outputs": [],
   "source": [
    "final_df = final_df[[\"permid_x\",\"brs_id_x\", \"clarityid\", \"issuer_name\",\"brs_issuer_name_x\", \"company_inheriting\",\"parent_company\", \"parent_name_aladdin\", \"parent_clarityid\"]].copy()\n"
   ]
  },
  {
   "cell_type": "code",
   "execution_count": 41,
   "metadata": {},
   "outputs": [],
   "source": [
    "final_df = final_df.loc[:, ~final_df.columns.duplicated()] # Removes one of the duplicate columns\n"
   ]
  },
  {
   "cell_type": "code",
   "execution_count": null,
   "metadata": {},
   "outputs": [],
   "source": [
    "final_df.head()"
   ]
  },
  {
   "cell_type": "code",
   "execution_count": null,
   "metadata": {},
   "outputs": [],
   "source": [
    "final_df.columns = [\"permid\",\"brs_id\", \"clarityid\", \"issuer_name\",\"brs_issuer_name\", \"company_inheriting\",\"parent_company\", \"parent_name_aladdin\", \"parent_clarityid\"]\n",
    "final_df.head()"
   ]
  },
  {
   "cell_type": "code",
   "execution_count": null,
   "metadata": {},
   "outputs": [],
   "source": [
    "final_df.info()"
   ]
  },
  {
   "cell_type": "code",
   "execution_count": 45,
   "metadata": {},
   "outputs": [],
   "source": [
    "# from df_issuers add \"isin\" to final_df\n",
    "final_df = final_df.merge(df_security[[\"permid\", \"isin\"]], on=\"permid\", how=\"left\")\n",
    "final_df = final_df.merge(df_security[[\"clarityid\", \"isin\"]], on=\"clarityid\", how=\"left\")"
   ]
  },
  {
   "cell_type": "code",
   "execution_count": 46,
   "metadata": {},
   "outputs": [],
   "source": [
    "final_df = fill_missing_values(final_df, \"isin_x\", \"isin_y\")"
   ]
  },
  {
   "cell_type": "code",
   "execution_count": 47,
   "metadata": {},
   "outputs": [],
   "source": [
    "# drop isin_y and rename isin_x\n",
    "final_df.drop(columns=[\"isin_y\"], inplace=True)\n",
    "final_df.rename(columns={\"isin_x\":\"isin\"}, inplace=True)"
   ]
  },
  {
   "cell_type": "code",
   "execution_count": null,
   "metadata": {},
   "outputs": [],
   "source": [
    "final_df.head()"
   ]
  },
  {
   "cell_type": "code",
   "execution_count": null,
   "metadata": {},
   "outputs": [],
   "source": [
    "final_df.info()"
   ]
  },
  {
   "cell_type": "code",
   "execution_count": 54,
   "metadata": {},
   "outputs": [],
   "source": [
    "missing_permid = final_df[final_df.permid.isna()]"
   ]
  },
  {
   "cell_type": "code",
   "execution_count": 55,
   "metadata": {},
   "outputs": [],
   "source": [
    "# safe missing permid\n",
    "missing_permid.to_excel(rf\"output\\{DATE}_missing_permid.xlsx\", index=False)"
   ]
  },
  {
   "cell_type": "code",
   "execution_count": 49,
   "metadata": {},
   "outputs": [],
   "source": [
    "# safe final_df to csv\n",
    "final_df.to_csv(rf\"output\\{DATE}_final_mapeo.csv\", index=False)"
   ]
  },
  {
   "cell_type": "code",
   "execution_count": 45,
   "metadata": {},
   "outputs": [],
   "source": [
    "# Filtering: One column is empty (NaN or \"\"), but not both at the same time\n",
    "#filtered_df = final_df[(final_df[\"brs_id_x\"].isna() | (final_df[\"brs_id_x\"] == \"\") | (final_df[\"brs_id_x\"]==\"-\")) &\n",
    "#                    ~(final_df[\"brs_id_y\"].isna() | (final_df[\"brs_id_y\"] == \"\") | (final_df[\"brs_id_y\"]==\"-\"))].copy()\n"
   ]
  },
  {
   "cell_type": "code",
   "execution_count": 46,
   "metadata": {},
   "outputs": [],
   "source": [
    "#filtered_df.info()"
   ]
  },
  {
   "cell_type": "code",
   "execution_count": 47,
   "metadata": {},
   "outputs": [],
   "source": [
    "# remove max col display \n",
    "pd.options.display.max_rows = 200\n",
    "#filtered_df[[\"permid\",\"permid_crossref\",\"clarityid\",\"brs_id\", \"brs_id_crossref\",\"issuer_name\", \"brs_issuer_name\",\"brs_issuer_name_crossref\"]].head(100)"
   ]
  },
  {
   "cell_type": "code",
   "execution_count": 48,
   "metadata": {},
   "outputs": [],
   "source": [
    "# save filtered_df to csv\n",
    "#filtered_df[[\"permid\",\"permid_crossref\",\"clarityid\",\"brs_id\", \"brs_id_crossref\",\"issuer_name\", \"brs_issuer_name\",\"brs_issuer_name_crossref\"]].to_csv(rF\"output\\{DATE}_gap_issuer_id_aladdin.csv\", index=False)"
   ]
  }
 ],
 "metadata": {
  "kernelspec": {
   "display_name": ".venv",
   "language": "python",
   "name": "python3"
  },
  "language_info": {
   "codemirror_mode": {
    "name": "ipython",
    "version": 3
   },
   "file_extension": ".py",
   "mimetype": "text/x-python",
   "name": "python",
   "nbconvert_exporter": "python",
   "pygments_lexer": "ipython3",
   "version": "3.12.0"
  }
 },
 "nbformat": 4,
 "nbformat_minor": 2
}
