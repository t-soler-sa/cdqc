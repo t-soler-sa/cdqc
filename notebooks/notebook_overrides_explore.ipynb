{
 "cells": [
  {
   "cell_type": "code",
   "execution_count": 1,
   "metadata": {},
   "outputs": [],
   "source": [
    "import pandas as pd\n",
    "import numpy as np\n",
    "\n",
    "import sys\n",
    "import os\n",
    "\n",
    "\n",
    "# Add the project root (one level up from notebooks/) to sys.path\n",
    "sys.path.append(os.path.abspath(os.path.join(os.getcwd(), '..')))"
   ]
  },
  {
   "cell_type": "code",
   "execution_count": 2,
   "metadata": {},
   "outputs": [],
   "source": [
    "from scripts.utils.dataloaders import (\n",
    "    load_clarity_data,\n",
    "    load_crossreference,\n",
    "    load_overrides,\n",
    ")\n",
    "from scripts.utils.config import get_config\n",
    "from scripts.utils.clarity_data_quality_control_functions import get_issuer_level_df, pad_identifiers"
   ]
  },
  {
   "cell_type": "code",
   "execution_count": 5,
   "metadata": {},
   "outputs": [],
   "source": [
    "# Get the common configuration for the Pre-OVR-Analysis script.\n",
    "config = get_config(\n",
    "    \"notebook-datafeeds-explorer\", \n",
    "    interactive=False,\n",
    "    auto_date= False,\n",
    "    fixed_date= \"202506\",)\n",
    "\n",
    "\n",
    "logger = config[\"logger\"]\n",
    "DATE = config[\"DATE\"]\n",
    "YEAR = config[\"YEAR\"]\n",
    "DATE_PREV = config[\"DATE_PREV\"]\n",
    "REPO_DIR = config[\"REPO_DIR\"]\n",
    "DATAFEED_DIR = config[\"DATAFEED_DIR\"]\n",
    "SRI_DATA_DIR = config[\"SRI_DATA_DIR\"]\n",
    "paths = config[\"paths\"]\n",
    "# Use the paths from config\n",
    "DF_PREV_PATH = paths[\"PRE_DF_WOVR_PATH\"]\n",
    "DF_NEW_PATH = paths[\"CURRENT_DF_WOUTOVR_PATH\"]\n",
    "CROSSREFERENCE_PATH = paths[\"CROSSREFERENCE_PATH\"]\n",
    "BMK_PORTF_STR_PATH = paths[\"BMK_PORTF_STR_PATH\"]\n",
    "OVR_PATH = paths[\"OVR_PATH\"]"
   ]
  },
  {
   "cell_type": "code",
   "execution_count": 6,
   "metadata": {},
   "outputs": [],
   "source": [
    "target_permid = [\n",
    "\"4295869482\",\n",
    "\"4296555278\",\n",
    "\"4296358021\",\n",
    "]\n",
    "target_cols = [\"permid\", \"aladdin_id\",\"issuer_name\"]\n",
    "targat_cols_brs = [\"aladdin_id\", \"issuer_name\"]\n",
    "target_cols_clarity = [\"permid\", \"issuer_name\", \"clarityid\"]\n",
    "target_cols_ovr = [\"aladdin_id\", \"issuer_name\", \"clarityid\", \"permid\", \"ovr_target\", \"ovr_value\",\"ovr_active\"]\n",
    "target_aladdin_id = [\n",
    "    \"000375\",\n",
    "    \"003001\",\n",
    "    \"007699\",\n",
    "    \"010199\",\n",
    "    \"055262\",\n",
    "    \"059456\",\n",
    "    \"072730\",\n",
    "    \"M58534\",\n",
    "    \"R48483\",\n",
    "    \"F05671\"]"
   ]
  },
  {
   "cell_type": "code",
   "execution_count": 7,
   "metadata": {},
   "outputs": [
    {
     "name": "stdout",
     "output_type": "stream",
     "text": [
      "2025-06-04 12:14:48,240 - scripts.utils.dataloaders - INFO - Loading overrides from: C:\\Users\\n740789\\Documents\\esg-sri-repos\\clarity_data_quality_controls\\excel_books\\sri_data\\overrides\\overrides_db.xlsx\n"
     ]
    }
   ],
   "source": [
    "override = load_overrides(OVR_PATH, target_cols=target_cols_ovr, drop_active=False)"
   ]
  },
  {
   "cell_type": "code",
   "execution_count": 8,
   "metadata": {},
   "outputs": [],
   "source": [
    "override_beta = pd.read_csv(r\"C:\\Users\\n740789\\Documents\\esg-sri-repos\\clarity_data_quality_controls\\excel_books\\sri_data\\overrides\\20250604_202506_overrides_db_beta.csv\")"
   ]
  },
  {
   "cell_type": "code",
   "execution_count": 9,
   "metadata": {},
   "outputs": [],
   "source": [
    "override[\"aladdin_id\"] = pad_identifiers(override[\"aladdin_id\"])\n",
    "override_beta[\"aladdin_id\"] = pad_identifiers(override_beta[\"aladdin_id\"])"
   ]
  },
  {
   "cell_type": "code",
   "execution_count": 10,
   "metadata": {},
   "outputs": [
    {
     "data": {
      "text/html": [
       "<div>\n",
       "<style scoped>\n",
       "    .dataframe tbody tr th:only-of-type {\n",
       "        vertical-align: middle;\n",
       "    }\n",
       "\n",
       "    .dataframe tbody tr th {\n",
       "        vertical-align: top;\n",
       "    }\n",
       "\n",
       "    .dataframe thead th {\n",
       "        text-align: right;\n",
       "    }\n",
       "</style>\n",
       "<table border=\"1\" class=\"dataframe\">\n",
       "  <thead>\n",
       "    <tr style=\"text-align: right;\">\n",
       "      <th></th>\n",
       "      <th>clarityid</th>\n",
       "      <th>permid</th>\n",
       "      <th>aladdin_id</th>\n",
       "      <th>issuer_name</th>\n",
       "      <th>ovr_target</th>\n",
       "      <th>df_value</th>\n",
       "      <th>ovr_value</th>\n",
       "      <th>ovr_active</th>\n",
       "      <th>ultimate_issuer_id</th>\n",
       "    </tr>\n",
       "  </thead>\n",
       "  <tbody>\n",
       "    <tr>\n",
       "      <th>0</th>\n",
       "      <td>18621.0</td>\n",
       "      <td>4.295895e+09</td>\n",
       "      <td>000375</td>\n",
       "      <td>BP PLC</td>\n",
       "      <td>str_002_ec</td>\n",
       "      <td>OK</td>\n",
       "      <td>EXCLUDED</td>\n",
       "      <td>True</td>\n",
       "      <td>NaN</td>\n",
       "    </tr>\n",
       "    <tr>\n",
       "      <th>1</th>\n",
       "      <td>NaN</td>\n",
       "      <td>4.295895e+09</td>\n",
       "      <td>002800</td>\n",
       "      <td>SANTANDER UK PLC</td>\n",
       "      <td>str_005_ec</td>\n",
       "      <td>NaN</td>\n",
       "      <td>OK</td>\n",
       "      <td>True</td>\n",
       "      <td>NaN</td>\n",
       "    </tr>\n",
       "    <tr>\n",
       "      <th>2</th>\n",
       "      <td>NaN</td>\n",
       "      <td>4.296457e+09</td>\n",
       "      <td>002801</td>\n",
       "      <td>SANTANDER FINANCIAL SERVICES PLC</td>\n",
       "      <td>str_005_ec</td>\n",
       "      <td>NaN</td>\n",
       "      <td>OK</td>\n",
       "      <td>True</td>\n",
       "      <td>NaN</td>\n",
       "    </tr>\n",
       "    <tr>\n",
       "      <th>3</th>\n",
       "      <td>27220.0</td>\n",
       "      <td>4.295903e+09</td>\n",
       "      <td>002824</td>\n",
       "      <td>Abbott Laboratories</td>\n",
       "      <td>str_001_s</td>\n",
       "      <td>FLAG</td>\n",
       "      <td>OK</td>\n",
       "      <td>True</td>\n",
       "      <td>NaN</td>\n",
       "    </tr>\n",
       "    <tr>\n",
       "      <th>4</th>\n",
       "      <td>27220.0</td>\n",
       "      <td>4.295903e+09</td>\n",
       "      <td>002824</td>\n",
       "      <td>Abbott Laboratories</td>\n",
       "      <td>str_003_ec</td>\n",
       "      <td>FLAG</td>\n",
       "      <td>OK</td>\n",
       "      <td>True</td>\n",
       "      <td>NaN</td>\n",
       "    </tr>\n",
       "  </tbody>\n",
       "</table>\n",
       "</div>"
      ],
      "text/plain": [
       "   clarityid        permid aladdin_id                       issuer_name  \\\n",
       "0    18621.0  4.295895e+09     000375                            BP PLC   \n",
       "1        NaN  4.295895e+09     002800                  SANTANDER UK PLC   \n",
       "2        NaN  4.296457e+09     002801  SANTANDER FINANCIAL SERVICES PLC   \n",
       "3    27220.0  4.295903e+09     002824               Abbott Laboratories   \n",
       "4    27220.0  4.295903e+09     002824               Abbott Laboratories   \n",
       "\n",
       "   ovr_target df_value ovr_value  ovr_active ultimate_issuer_id  \n",
       "0  str_002_ec       OK  EXCLUDED        True                NaN  \n",
       "1  str_005_ec      NaN        OK        True                NaN  \n",
       "2  str_005_ec      NaN        OK        True                NaN  \n",
       "3   str_001_s     FLAG        OK        True                NaN  \n",
       "4  str_003_ec     FLAG        OK        True                NaN  "
      ]
     },
     "execution_count": 10,
     "metadata": {},
     "output_type": "execute_result"
    }
   ],
   "source": [
    "override_beta.head()"
   ]
  },
  {
   "cell_type": "code",
   "execution_count": 11,
   "metadata": {},
   "outputs": [
    {
     "data": {
      "text/html": [
       "<div>\n",
       "<style scoped>\n",
       "    .dataframe tbody tr th:only-of-type {\n",
       "        vertical-align: middle;\n",
       "    }\n",
       "\n",
       "    .dataframe tbody tr th {\n",
       "        vertical-align: top;\n",
       "    }\n",
       "\n",
       "    .dataframe thead th {\n",
       "        text-align: right;\n",
       "    }\n",
       "</style>\n",
       "<table border=\"1\" class=\"dataframe\">\n",
       "  <thead>\n",
       "    <tr style=\"text-align: right;\">\n",
       "      <th></th>\n",
       "      <th>clarityid</th>\n",
       "      <th>permid</th>\n",
       "      <th>aladdin_id</th>\n",
       "      <th>issuer_name</th>\n",
       "      <th>ovr_target</th>\n",
       "      <th>ovr_value</th>\n",
       "      <th>ovr_active</th>\n",
       "    </tr>\n",
       "  </thead>\n",
       "  <tbody>\n",
       "    <tr>\n",
       "      <th>0</th>\n",
       "      <td>18621</td>\n",
       "      <td>4295894740</td>\n",
       "      <td>000375</td>\n",
       "      <td>BP PLC</td>\n",
       "      <td>str_002_ec</td>\n",
       "      <td>EXCLUDED</td>\n",
       "      <td>True</td>\n",
       "    </tr>\n",
       "    <tr>\n",
       "      <th>1</th>\n",
       "      <td>NaN</td>\n",
       "      <td>4295895363</td>\n",
       "      <td>002800</td>\n",
       "      <td>SANTANDER UK PLC</td>\n",
       "      <td>str_005_ec</td>\n",
       "      <td>OK</td>\n",
       "      <td>True</td>\n",
       "    </tr>\n",
       "    <tr>\n",
       "      <th>2</th>\n",
       "      <td>NaN</td>\n",
       "      <td>4296457498</td>\n",
       "      <td>002801</td>\n",
       "      <td>SANTANDER FINANCIAL SERVICES PLC</td>\n",
       "      <td>str_005_ec</td>\n",
       "      <td>OK</td>\n",
       "      <td>True</td>\n",
       "    </tr>\n",
       "    <tr>\n",
       "      <th>3</th>\n",
       "      <td>27220</td>\n",
       "      <td>4295903265</td>\n",
       "      <td>002824</td>\n",
       "      <td>Abbott Laboratories</td>\n",
       "      <td>str_001_s</td>\n",
       "      <td>OK</td>\n",
       "      <td>True</td>\n",
       "    </tr>\n",
       "    <tr>\n",
       "      <th>4</th>\n",
       "      <td>27220</td>\n",
       "      <td>4295903265</td>\n",
       "      <td>002824</td>\n",
       "      <td>Abbott Laboratories</td>\n",
       "      <td>str_003_ec</td>\n",
       "      <td>OK</td>\n",
       "      <td>True</td>\n",
       "    </tr>\n",
       "  </tbody>\n",
       "</table>\n",
       "</div>"
      ],
      "text/plain": [
       "  clarityid      permid aladdin_id                       issuer_name  \\\n",
       "0     18621  4295894740     000375                            BP PLC   \n",
       "1       NaN  4295895363     002800                  SANTANDER UK PLC   \n",
       "2       NaN  4296457498     002801  SANTANDER FINANCIAL SERVICES PLC   \n",
       "3     27220  4295903265     002824               Abbott Laboratories   \n",
       "4     27220  4295903265     002824               Abbott Laboratories   \n",
       "\n",
       "   ovr_target ovr_value  ovr_active  \n",
       "0  str_002_ec  EXCLUDED        True  \n",
       "1  str_005_ec        OK        True  \n",
       "2  str_005_ec        OK        True  \n",
       "3   str_001_s        OK        True  \n",
       "4  str_003_ec        OK        True  "
      ]
     },
     "execution_count": 11,
     "metadata": {},
     "output_type": "execute_result"
    }
   ],
   "source": [
    "override.head()"
   ]
  },
  {
   "cell_type": "code",
   "execution_count": null,
   "metadata": {},
   "outputs": [],
   "source": [
    "override.info()"
   ]
  },
  {
   "cell_type": "code",
   "execution_count": 7,
   "metadata": {},
   "outputs": [],
   "source": [
    "missing_permid = override[override[\"permid\"].isna()][[\"aladdin_id\", \"issuer_name\"]].copy()"
   ]
  },
  {
   "cell_type": "code",
   "execution_count": 8,
   "metadata": {},
   "outputs": [],
   "source": [
    "missing_permid.drop_duplicates(subset=[\"aladdin_id\"], inplace=True)"
   ]
  },
  {
   "cell_type": "code",
   "execution_count": 9,
   "metadata": {},
   "outputs": [],
   "source": [
    "missing_permid.sort_values(by=[\"issuer_name\"], inplace=True)"
   ]
  },
  {
   "cell_type": "code",
   "execution_count": 10,
   "metadata": {},
   "outputs": [],
   "source": [
    "missing_permid.rename(columns={\"aladdin_id\": \"aladdin_issuer\"}, inplace=True)"
   ]
  },
  {
   "cell_type": "code",
   "execution_count": 11,
   "metadata": {},
   "outputs": [],
   "source": [
    "missing_permid.to_csv(r\"C:\\Users\\n740789\\Downloads\\missing_permid.csv\", index=False)"
   ]
  },
  {
   "cell_type": "code",
   "execution_count": null,
   "metadata": {},
   "outputs": [],
   "source": [
    "datafeed = load_clarity_data(DF_NEW_PATH, target_cols=target_cols_clarity)\n",
    "datafeed.loc[:,\"permid\"] = datafeed[\"permid\"].astype(str)"
   ]
  },
  {
   "cell_type": "code",
   "execution_count": null,
   "metadata": {},
   "outputs": [],
   "source": [
    "crossreference = load_crossreference(CROSSREFERENCE_PATH)"
   ]
  },
  {
   "cell_type": "code",
   "execution_count": null,
   "metadata": {},
   "outputs": [],
   "source": [
    "crossreference.info()"
   ]
  },
  {
   "cell_type": "code",
   "execution_count": 15,
   "metadata": {},
   "outputs": [],
   "source": [
    "cross_filter = crossreference[crossreference[\"permid\"].isin(target_permid)]\n",
    "datafeed_filter = datafeed[datafeed[\"permid\"].isin(target_permid)]\n",
    "override_filter = override[override[\"permid\"].isin(target_permid)]"
   ]
  },
  {
   "cell_type": "code",
   "execution_count": null,
   "metadata": {},
   "outputs": [],
   "source": [
    "cross_filter.set_index(\"aladdin_id\").head()"
   ]
  },
  {
   "cell_type": "code",
   "execution_count": null,
   "metadata": {},
   "outputs": [],
   "source": [
    "datafeed_filter.set_index(\"permid\").head()"
   ]
  },
  {
   "cell_type": "code",
   "execution_count": 18,
   "metadata": {},
   "outputs": [],
   "source": [
    "(override_filter.sort_values(by=[\"aladdin_id\", \"ovr_target\"])).to_excel(r\"C:\\Users\\n740789\\Downloads\\info_target_permid_deutsche_overrides.xlsx\", index=False)"
   ]
  },
  {
   "cell_type": "code",
   "execution_count": null,
   "metadata": {},
   "outputs": [],
   "source": [
    "override.info()"
   ]
  },
  {
   "cell_type": "code",
   "execution_count": 20,
   "metadata": {},
   "outputs": [],
   "source": [
    "def find_conflicting_permid(df: pd.DataFrame) -> pd.DataFrame:\n",
    "    # Step 1: Count unique permids per aladdin_id\n",
    "    permid_counts = df.groupby(\"aladdin_id\")[\"permid\"].nunique()\n",
    "\n",
    "    # Step 2: Filter aladdin_ids with more than one unique permid\n",
    "    conflicting_ids = permid_counts[permid_counts > 1].index\n",
    "\n",
    "    # Step 3: Return all rows in df where aladdin_id is in the list\n",
    "    return df[df[\"aladdin_id\"].isin(conflicting_ids)]"
   ]
  },
  {
   "cell_type": "code",
   "execution_count": 21,
   "metadata": {},
   "outputs": [],
   "source": [
    "def find_conflicting_columns(\n",
    "    df: pd.DataFrame,\n",
    "    id_col: str = \"aladdin_id\",\n",
    "    conflict_col_a: str = \"ovr_target\",\n",
    "    conflict_col_b: str = \"ovr_value\"\n",
    ") -> pd.DataFrame:\n",
    "    grouping_cols = [id_col, conflict_col_a]\n",
    "\n",
    "    # Step 1: Count unique conflict_col_b values per group\n",
    "    grouped_df = df.groupby(grouping_cols)[conflict_col_b].nunique()\n",
    "\n",
    "    # Step 2: Filter to groups with more than one unique conflict_col_b\n",
    "    conflicting_keys = grouped_df[grouped_df > 1].index\n",
    "\n",
    "    # Step 3: Use a mask to filter original DataFrame\n",
    "    mask = df.set_index(grouping_cols).index.isin(conflicting_keys)\n",
    "    return df[mask].sort_values(by=grouping_cols).copy()\n"
   ]
  },
  {
   "cell_type": "code",
   "execution_count": 22,
   "metadata": {},
   "outputs": [],
   "source": [
    "override_target = find_conflicting_permid(override)"
   ]
  },
  {
   "cell_type": "code",
   "execution_count": null,
   "metadata": {},
   "outputs": [],
   "source": [
    "override_target.head()"
   ]
  },
  {
   "cell_type": "code",
   "execution_count": 23,
   "metadata": {},
   "outputs": [],
   "source": [
    "overrides_troubles = find_conflicting_columns(override)"
   ]
  },
  {
   "cell_type": "code",
   "execution_count": null,
   "metadata": {},
   "outputs": [],
   "source": [
    "overrides_troubles.head()"
   ]
  },
  {
   "cell_type": "code",
   "execution_count": 24,
   "metadata": {},
   "outputs": [],
   "source": [
    "overrides_troubles.to_csv(r\"C:\\Users\\n740789\\Downloads\\issuers_with_multiple_permids_per_aladdin_id_same_str_same_value.csv\", index=False)"
   ]
  },
  {
   "cell_type": "code",
   "execution_count": 25,
   "metadata": {},
   "outputs": [],
   "source": [
    "override_target.to_csv(r\"C:\\Users\\n740789\\Downloads\\issuers_with_multiple_permids_per_aladdin_id.csv\", index=False)"
   ]
  },
  {
   "cell_type": "code",
   "execution_count": null,
   "metadata": {},
   "outputs": [],
   "source": [
    "for c in [\"aladdin_id\", \"permid\", \"issuer_name\", \"clarityid\"]:\n",
    "    if c in override_target.columns:\n",
    "        print(f\"{c} has {override_target[c].nunique()} unique values\")"
   ]
  },
  {
   "cell_type": "code",
   "execution_count": 27,
   "metadata": {},
   "outputs": [],
   "source": [
    "for id in override_target[\"aladdin_id\"].unique():\n",
    "    print(f\"aladdin_id {id} has {override_target[override_target.aladdin_id==id][\"permid\"].nunique()} different permids\")"
   ]
  },
  {
   "cell_type": "code",
   "execution_count": null,
   "metadata": {},
   "outputs": [],
   "source": []
  }
 ],
 "metadata": {
  "kernelspec": {
   "display_name": ".venv",
   "language": "python",
   "name": "python3"
  },
  "language_info": {
   "codemirror_mode": {
    "name": "ipython",
    "version": 3
   },
   "file_extension": ".py",
   "mimetype": "text/x-python",
   "name": "python",
   "nbconvert_exporter": "python",
   "pygments_lexer": "ipython3",
   "version": "3.13.0"
  }
 },
 "nbformat": 4,
 "nbformat_minor": 2
}
