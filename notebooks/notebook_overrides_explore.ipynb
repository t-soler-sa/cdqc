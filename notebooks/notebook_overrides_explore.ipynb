{
 "cells": [
  {
   "cell_type": "code",
   "execution_count": 1,
   "metadata": {},
   "outputs": [],
   "source": [
    "import pandas as pd\n",
    "import numpy as np\n",
    "\n",
    "import sys\n",
    "import os\n",
    "\n",
    "\n",
    "# Add the project root (one level up from notebooks/) to sys.path\n",
    "sys.path.append(os.path.abspath(os.path.join(os.getcwd(), '..')))"
   ]
  },
  {
   "cell_type": "code",
   "execution_count": 2,
   "metadata": {},
   "outputs": [],
   "source": [
    "from scripts.utils.dataloaders import (\n",
    "    load_clarity_data,\n",
    "    load_crossreference,\n",
    "    load_overrides,\n",
    ")\n",
    "from scripts.utils.config import get_config\n",
    "from scripts.utils.clarity_data_quality_control_functions import get_issuer_level_df"
   ]
  },
  {
   "cell_type": "code",
   "execution_count": 3,
   "metadata": {},
   "outputs": [],
   "source": [
    "# Get the common configuration for the Pre-OVR-Analysis script.\n",
    "config = get_config(\n",
    "    \"notebook-datafeeds-explorer\", \n",
    "    interactive=False,\n",
    "    auto_date= False,\n",
    "    fixed_date= \"202506\",)\n",
    "\n",
    "\n",
    "logger = config[\"logger\"]\n",
    "DATE = config[\"DATE\"]\n",
    "YEAR = config[\"YEAR\"]\n",
    "DATE_PREV = config[\"DATE_PREV\"]\n",
    "REPO_DIR = config[\"REPO_DIR\"]\n",
    "DATAFEED_DIR = config[\"DATAFEED_DIR\"]\n",
    "SRI_DATA_DIR = config[\"SRI_DATA_DIR\"]\n",
    "paths = config[\"paths\"]\n",
    "# Use the paths from config\n",
    "DF_PREV_PATH = paths[\"PRE_DF_WOVR_PATH\"]\n",
    "DF_NEW_PATH = paths[\"CURRENT_DF_WOUTOVR_PATH\"]\n",
    "CROSSREFERENCE_PATH = paths[\"CROSSREFERENCE_PATH\"]\n",
    "BMK_PORTF_STR_PATH = paths[\"BMK_PORTF_STR_PATH\"]\n",
    "OVR_PATH = paths[\"OVR_PATH\"]"
   ]
  },
  {
   "cell_type": "code",
   "execution_count": 4,
   "metadata": {},
   "outputs": [],
   "source": [
    "target_permid = [\n",
    "\"4295869482\",\n",
    "\"4296555278\",\n",
    "\"4296358021\",\n",
    "]\n",
    "target_cols = [\"permid\", \"aladdin_id\",\"issuer_name\"]\n",
    "targat_cols_brs = [\"aladdin_id\", \"issuer_name\"]\n",
    "target_cols_clarity = [\"permid\", \"issuer_name\", \"clarityid\"]\n",
    "target_cols_ovr = [\"aladdin_id\", \"issuer_name\", \"clarityid\", \"permid\", \"ovr_target\", \"ovr_value\",\"ovr_active\"]\n",
    "target_aladdin_id = [\n",
    "    \"000375\",\n",
    "    \"003001\",\n",
    "    \"007699\",\n",
    "    \"010199\",\n",
    "    \"055262\",\n",
    "    \"059456\",\n",
    "    \"072730\",\n",
    "    \"M58534\",\n",
    "    \"R48483\",\n",
    "    \"F05671\"]"
   ]
  },
  {
   "cell_type": "code",
   "execution_count": 5,
   "metadata": {},
   "outputs": [
    {
     "name": "stdout",
     "output_type": "stream",
     "text": [
      "2025-05-23 13:14:04,262 - scripts.utils.dataloaders - INFO - Loading overrides from: C:\\Users\\n740789\\Documents\\clarity_data_quality_controls\\excel_books\\sri_data\\overrides\\overrides_db.xlsx\n"
     ]
    }
   ],
   "source": [
    "override = load_overrides(OVR_PATH, target_cols=target_cols_ovr, drop_active=False)"
   ]
  },
  {
   "cell_type": "code",
   "execution_count": 6,
   "metadata": {},
   "outputs": [
    {
     "name": "stdout",
     "output_type": "stream",
     "text": [
      "<class 'pandas.core.frame.DataFrame'>\n",
      "Index: 3184 entries, 0 to 3193\n",
      "Data columns (total 7 columns):\n",
      " #   Column       Non-Null Count  Dtype \n",
      "---  ------       --------------  ----- \n",
      " 0   clarityid    1504 non-null   object\n",
      " 1   permid       2990 non-null   object\n",
      " 2   aladdin_id   3184 non-null   object\n",
      " 3   issuer_name  3184 non-null   object\n",
      " 4   ovr_target   3184 non-null   object\n",
      " 5   ovr_value    3184 non-null   object\n",
      " 6   ovr_active   3184 non-null   bool  \n",
      "dtypes: bool(1), object(6)\n",
      "memory usage: 177.2+ KB\n"
     ]
    }
   ],
   "source": [
    "override.info()"
   ]
  },
  {
   "cell_type": "code",
   "execution_count": 7,
   "metadata": {},
   "outputs": [],
   "source": [
    "missing_permid = override[override[\"permid\"].isna()][[\"aladdin_id\", \"issuer_name\"]].copy()"
   ]
  },
  {
   "cell_type": "code",
   "execution_count": 8,
   "metadata": {},
   "outputs": [],
   "source": [
    "missing_permid.drop_duplicates(subset=[\"aladdin_id\"], inplace=True)"
   ]
  },
  {
   "cell_type": "code",
   "execution_count": 9,
   "metadata": {},
   "outputs": [],
   "source": [
    "missing_permid.sort_values(by=[\"issuer_name\"], inplace=True)"
   ]
  },
  {
   "cell_type": "code",
   "execution_count": 10,
   "metadata": {},
   "outputs": [],
   "source": [
    "missing_permid.rename(columns={\"aladdin_id\": \"aladdin_issuer\"}, inplace=True)"
   ]
  },
  {
   "cell_type": "code",
   "execution_count": 11,
   "metadata": {},
   "outputs": [],
   "source": [
    "missing_permid.to_csv(r\"C:\\Users\\n740789\\Downloads\\missing_permid.csv\", index=False)"
   ]
  },
  {
   "cell_type": "code",
   "execution_count": 12,
   "metadata": {},
   "outputs": [
    {
     "name": "stdout",
     "output_type": "stream",
     "text": [
      "2025-05-23 13:14:04,850 - scripts.utils.dataloaders - INFO - Loading Clarity data from: C:\\Users\\n740789\\Documents\\Projects_local\\datasets\\datafeeds\\datafeeds_without_ovr\\2025\\20250601_df_issuer_level_without_ovr.csv\n",
      "2025-05-23 13:14:05,341 - scripts.utils.dataloaders - INFO - Successfully loaded Clarity data from: C:\\Users\\n740789\\Documents\\Projects_local\\datasets\\datafeeds\\datafeeds_without_ovr\\2025\\20250601_df_issuer_level_without_ovr.csv\n"
     ]
    }
   ],
   "source": [
    "datafeed = load_clarity_data(DF_NEW_PATH, target_cols=target_cols_clarity)\n",
    "datafeed.loc[:,\"permid\"] = datafeed[\"permid\"].astype(str)"
   ]
  },
  {
   "cell_type": "code",
   "execution_count": 13,
   "metadata": {},
   "outputs": [
    {
     "name": "stdout",
     "output_type": "stream",
     "text": [
      "2025-05-23 13:14:05,358 - scripts.utils.dataloaders - INFO - Loading crossreference data from: C:\\Users\\n740789\\Documents\\clarity_data_quality_controls\\excel_books\\aladdin_data\\crossreference\\Aladdin_Clarity_Issuers_20250601.csv\n",
      "2025-05-23 13:14:05,618 - scripts.utils.dataloaders - INFO - Cleaning columns and renaming crossreference data\n",
      "2025-05-23 13:14:05,619 - scripts.utils.dataloaders - INFO - Successfully loaded crossreference from: C:\\Users\\n740789\\Documents\\clarity_data_quality_controls\\excel_books\\aladdin_data\\crossreference\\Aladdin_Clarity_Issuers_20250601.csv\n"
     ]
    }
   ],
   "source": [
    "crossreference = load_crossreference(CROSSREFERENCE_PATH)"
   ]
  },
  {
   "cell_type": "code",
   "execution_count": 14,
   "metadata": {},
   "outputs": [
    {
     "name": "stdout",
     "output_type": "stream",
     "text": [
      "<class 'pandas.core.frame.DataFrame'>\n",
      "RangeIndex: 135076 entries, 0 to 135075\n",
      "Data columns (total 5 columns):\n",
      " #   Column       Non-Null Count   Dtype \n",
      "---  ------       --------------   ----- \n",
      " 0   aladdin_id   135076 non-null  object\n",
      " 1   issuer_name  135076 non-null  object\n",
      " 2   permid       131893 non-null  object\n",
      " 3   msci         64839 non-null   object\n",
      " 4   sust         23233 non-null   object\n",
      "dtypes: object(5)\n",
      "memory usage: 5.2+ MB\n"
     ]
    }
   ],
   "source": [
    "crossreference.info()"
   ]
  },
  {
   "cell_type": "code",
   "execution_count": 15,
   "metadata": {},
   "outputs": [],
   "source": [
    "cross_filter = crossreference[crossreference[\"permid\"].isin(target_permid)]\n",
    "datafeed_filter = datafeed[datafeed[\"permid\"].isin(target_permid)]\n",
    "override_filter = override[override[\"permid\"].isin(target_permid)]"
   ]
  },
  {
   "cell_type": "code",
   "execution_count": 16,
   "metadata": {},
   "outputs": [
    {
     "data": {
      "text/html": [
       "<div>\n",
       "<style scoped>\n",
       "    .dataframe tbody tr th:only-of-type {\n",
       "        vertical-align: middle;\n",
       "    }\n",
       "\n",
       "    .dataframe tbody tr th {\n",
       "        vertical-align: top;\n",
       "    }\n",
       "\n",
       "    .dataframe thead th {\n",
       "        text-align: right;\n",
       "    }\n",
       "</style>\n",
       "<table border=\"1\" class=\"dataframe\">\n",
       "  <thead>\n",
       "    <tr style=\"text-align: right;\">\n",
       "      <th></th>\n",
       "      <th>issuer_name</th>\n",
       "      <th>permid</th>\n",
       "      <th>msci</th>\n",
       "      <th>sust</th>\n",
       "    </tr>\n",
       "    <tr>\n",
       "      <th>aladdin_id</th>\n",
       "      <th></th>\n",
       "      <th></th>\n",
       "      <th></th>\n",
       "      <th></th>\n",
       "    </tr>\n",
       "  </thead>\n",
       "  <tbody>\n",
       "    <tr>\n",
       "      <th>251525</th>\n",
       "      <td>DEUTSCHE BANK AG</td>\n",
       "      <td>4295869482</td>\n",
       "      <td>IID000000002140460</td>\n",
       "      <td>1008288713</td>\n",
       "    </tr>\n",
       "    <tr>\n",
       "      <th>R59631</th>\n",
       "      <td>DEUTSCHE BANK AG (LONDON BRANCH)</td>\n",
       "      <td>4296555278</td>\n",
       "      <td>NaN</td>\n",
       "      <td>NaN</td>\n",
       "    </tr>\n",
       "    <tr>\n",
       "      <th>R61248</th>\n",
       "      <td>DEUTSCHE BANK AG (NEW YORK BRANCH)</td>\n",
       "      <td>4296358021</td>\n",
       "      <td>IID000000002226160</td>\n",
       "      <td>NaN</td>\n",
       "    </tr>\n",
       "  </tbody>\n",
       "</table>\n",
       "</div>"
      ],
      "text/plain": [
       "                                   issuer_name      permid  \\\n",
       "aladdin_id                                                   \n",
       "251525                        DEUTSCHE BANK AG  4295869482   \n",
       "R59631        DEUTSCHE BANK AG (LONDON BRANCH)  4296555278   \n",
       "R61248      DEUTSCHE BANK AG (NEW YORK BRANCH)  4296358021   \n",
       "\n",
       "                          msci        sust  \n",
       "aladdin_id                                  \n",
       "251525      IID000000002140460  1008288713  \n",
       "R59631                     NaN         NaN  \n",
       "R61248      IID000000002226160         NaN  "
      ]
     },
     "execution_count": 16,
     "metadata": {},
     "output_type": "execute_result"
    }
   ],
   "source": [
    "cross_filter.set_index(\"aladdin_id\").head()"
   ]
  },
  {
   "cell_type": "code",
   "execution_count": 17,
   "metadata": {},
   "outputs": [
    {
     "data": {
      "text/html": [
       "<div>\n",
       "<style scoped>\n",
       "    .dataframe tbody tr th:only-of-type {\n",
       "        vertical-align: middle;\n",
       "    }\n",
       "\n",
       "    .dataframe tbody tr th {\n",
       "        vertical-align: top;\n",
       "    }\n",
       "\n",
       "    .dataframe thead th {\n",
       "        text-align: right;\n",
       "    }\n",
       "</style>\n",
       "<table border=\"1\" class=\"dataframe\">\n",
       "  <thead>\n",
       "    <tr style=\"text-align: right;\">\n",
       "      <th></th>\n",
       "      <th>issuer_name</th>\n",
       "      <th>clarityid</th>\n",
       "    </tr>\n",
       "    <tr>\n",
       "      <th>permid</th>\n",
       "      <th></th>\n",
       "      <th></th>\n",
       "    </tr>\n",
       "  </thead>\n",
       "  <tbody>\n",
       "    <tr>\n",
       "      <th>4296555278</th>\n",
       "      <td>Deutsche Bank Ag (London Branch)</td>\n",
       "      <td>237878</td>\n",
       "    </tr>\n",
       "    <tr>\n",
       "      <th>4296358021</th>\n",
       "      <td>Deutsche Bank AG (New York Branch)</td>\n",
       "      <td>235769</td>\n",
       "    </tr>\n",
       "    <tr>\n",
       "      <th>4295869482</th>\n",
       "      <td>Deutsche Bank AG</td>\n",
       "      <td>15657</td>\n",
       "    </tr>\n",
       "  </tbody>\n",
       "</table>\n",
       "</div>"
      ],
      "text/plain": [
       "                                   issuer_name  clarityid\n",
       "permid                                                   \n",
       "4296555278    Deutsche Bank Ag (London Branch)     237878\n",
       "4296358021  Deutsche Bank AG (New York Branch)     235769\n",
       "4295869482                    Deutsche Bank AG      15657"
      ]
     },
     "execution_count": 17,
     "metadata": {},
     "output_type": "execute_result"
    }
   ],
   "source": [
    "datafeed_filter.set_index(\"permid\").head()"
   ]
  },
  {
   "cell_type": "code",
   "execution_count": 18,
   "metadata": {},
   "outputs": [],
   "source": [
    "(override_filter.sort_values(by=[\"aladdin_id\", \"ovr_target\"])).to_excel(r\"C:\\Users\\n740789\\Downloads\\info_target_permid_deutsche_overrides.xlsx\", index=False)"
   ]
  },
  {
   "cell_type": "code",
   "execution_count": 19,
   "metadata": {},
   "outputs": [
    {
     "name": "stdout",
     "output_type": "stream",
     "text": [
      "<class 'pandas.core.frame.DataFrame'>\n",
      "Index: 3184 entries, 0 to 3193\n",
      "Data columns (total 7 columns):\n",
      " #   Column       Non-Null Count  Dtype \n",
      "---  ------       --------------  ----- \n",
      " 0   clarityid    1504 non-null   object\n",
      " 1   permid       2990 non-null   object\n",
      " 2   aladdin_id   3184 non-null   object\n",
      " 3   issuer_name  3184 non-null   object\n",
      " 4   ovr_target   3184 non-null   object\n",
      " 5   ovr_value    3184 non-null   object\n",
      " 6   ovr_active   3184 non-null   bool  \n",
      "dtypes: bool(1), object(6)\n",
      "memory usage: 177.2+ KB\n"
     ]
    }
   ],
   "source": [
    "override.info()"
   ]
  },
  {
   "cell_type": "code",
   "execution_count": 20,
   "metadata": {},
   "outputs": [],
   "source": [
    "def find_conflicting_permid(df: pd.DataFrame) -> pd.DataFrame:\n",
    "    # Step 1: Count unique permids per aladdin_id\n",
    "    permid_counts = df.groupby(\"aladdin_id\")[\"permid\"].nunique()\n",
    "\n",
    "    # Step 2: Filter aladdin_ids with more than one unique permid\n",
    "    conflicting_ids = permid_counts[permid_counts > 1].index\n",
    "\n",
    "    # Step 3: Return all rows in df where aladdin_id is in the list\n",
    "    return df[df[\"aladdin_id\"].isin(conflicting_ids)]"
   ]
  },
  {
   "cell_type": "code",
   "execution_count": 21,
   "metadata": {},
   "outputs": [],
   "source": [
    "def find_conflicting_columns(\n",
    "    df: pd.DataFrame,\n",
    "    id_col: str = \"aladdin_id\",\n",
    "    conflict_col_a: str = \"ovr_target\",\n",
    "    conflict_col_b: str = \"ovr_value\"\n",
    ") -> pd.DataFrame:\n",
    "    grouping_cols = [id_col, conflict_col_a]\n",
    "\n",
    "    # Step 1: Count unique conflict_col_b values per group\n",
    "    grouped_df = df.groupby(grouping_cols)[conflict_col_b].nunique()\n",
    "\n",
    "    # Step 2: Filter to groups with more than one unique conflict_col_b\n",
    "    conflicting_keys = grouped_df[grouped_df > 1].index\n",
    "\n",
    "    # Step 3: Use a mask to filter original DataFrame\n",
    "    mask = df.set_index(grouping_cols).index.isin(conflicting_keys)\n",
    "    return df[mask].sort_values(by=grouping_cols).copy()\n"
   ]
  },
  {
   "cell_type": "code",
   "execution_count": 22,
   "metadata": {},
   "outputs": [],
   "source": [
    "override_target = find_conflicting_permid(override)"
   ]
  },
  {
   "cell_type": "code",
   "execution_count": 28,
   "metadata": {},
   "outputs": [
    {
     "data": {
      "text/html": [
       "<div>\n",
       "<style scoped>\n",
       "    .dataframe tbody tr th:only-of-type {\n",
       "        vertical-align: middle;\n",
       "    }\n",
       "\n",
       "    .dataframe tbody tr th {\n",
       "        vertical-align: top;\n",
       "    }\n",
       "\n",
       "    .dataframe thead th {\n",
       "        text-align: right;\n",
       "    }\n",
       "</style>\n",
       "<table border=\"1\" class=\"dataframe\">\n",
       "  <thead>\n",
       "    <tr style=\"text-align: right;\">\n",
       "      <th></th>\n",
       "      <th>clarityid</th>\n",
       "      <th>permid</th>\n",
       "      <th>aladdin_id</th>\n",
       "      <th>issuer_name</th>\n",
       "      <th>ovr_target</th>\n",
       "      <th>ovr_value</th>\n",
       "      <th>ovr_active</th>\n",
       "    </tr>\n",
       "  </thead>\n",
       "  <tbody>\n",
       "  </tbody>\n",
       "</table>\n",
       "</div>"
      ],
      "text/plain": [
       "Empty DataFrame\n",
       "Columns: [clarityid, permid, aladdin_id, issuer_name, ovr_target, ovr_value, ovr_active]\n",
       "Index: []"
      ]
     },
     "execution_count": 28,
     "metadata": {},
     "output_type": "execute_result"
    }
   ],
   "source": [
    "override_target.head()"
   ]
  },
  {
   "cell_type": "code",
   "execution_count": 23,
   "metadata": {},
   "outputs": [],
   "source": [
    "overrides_troubles = find_conflicting_columns(override)"
   ]
  },
  {
   "cell_type": "code",
   "execution_count": 29,
   "metadata": {},
   "outputs": [
    {
     "data": {
      "text/html": [
       "<div>\n",
       "<style scoped>\n",
       "    .dataframe tbody tr th:only-of-type {\n",
       "        vertical-align: middle;\n",
       "    }\n",
       "\n",
       "    .dataframe tbody tr th {\n",
       "        vertical-align: top;\n",
       "    }\n",
       "\n",
       "    .dataframe thead th {\n",
       "        text-align: right;\n",
       "    }\n",
       "</style>\n",
       "<table border=\"1\" class=\"dataframe\">\n",
       "  <thead>\n",
       "    <tr style=\"text-align: right;\">\n",
       "      <th></th>\n",
       "      <th>clarityid</th>\n",
       "      <th>permid</th>\n",
       "      <th>aladdin_id</th>\n",
       "      <th>issuer_name</th>\n",
       "      <th>ovr_target</th>\n",
       "      <th>ovr_value</th>\n",
       "      <th>ovr_active</th>\n",
       "    </tr>\n",
       "  </thead>\n",
       "  <tbody>\n",
       "  </tbody>\n",
       "</table>\n",
       "</div>"
      ],
      "text/plain": [
       "Empty DataFrame\n",
       "Columns: [clarityid, permid, aladdin_id, issuer_name, ovr_target, ovr_value, ovr_active]\n",
       "Index: []"
      ]
     },
     "execution_count": 29,
     "metadata": {},
     "output_type": "execute_result"
    }
   ],
   "source": [
    "overrides_troubles.head()"
   ]
  },
  {
   "cell_type": "code",
   "execution_count": 24,
   "metadata": {},
   "outputs": [],
   "source": [
    "overrides_troubles.to_csv(r\"C:\\Users\\n740789\\Downloads\\issuers_with_multiple_permids_per_aladdin_id_same_str_same_value.csv\", index=False)"
   ]
  },
  {
   "cell_type": "code",
   "execution_count": 25,
   "metadata": {},
   "outputs": [],
   "source": [
    "override_target.to_csv(r\"C:\\Users\\n740789\\Downloads\\issuers_with_multiple_permids_per_aladdin_id.csv\", index=False)"
   ]
  },
  {
   "cell_type": "code",
   "execution_count": 26,
   "metadata": {},
   "outputs": [
    {
     "name": "stdout",
     "output_type": "stream",
     "text": [
      "aladdin_id has 0 unique values\n",
      "permid has 0 unique values\n",
      "issuer_name has 0 unique values\n",
      "clarityid has 0 unique values\n"
     ]
    }
   ],
   "source": [
    "for c in [\"aladdin_id\", \"permid\", \"issuer_name\", \"clarityid\"]:\n",
    "    if c in override_target.columns:\n",
    "        print(f\"{c} has {override_target[c].nunique()} unique values\")"
   ]
  },
  {
   "cell_type": "code",
   "execution_count": 27,
   "metadata": {},
   "outputs": [],
   "source": [
    "for id in override_target[\"aladdin_id\"].unique():\n",
    "    print(f\"aladdin_id {id} has {override_target[override_target.aladdin_id==id][\"permid\"].nunique()} different permids\")"
   ]
  },
  {
   "cell_type": "code",
   "execution_count": null,
   "metadata": {},
   "outputs": [],
   "source": []
  }
 ],
 "metadata": {
  "kernelspec": {
   "display_name": ".venv",
   "language": "python",
   "name": "python3"
  },
  "language_info": {
   "codemirror_mode": {
    "name": "ipython",
    "version": 3
   },
   "file_extension": ".py",
   "mimetype": "text/x-python",
   "name": "python",
   "nbconvert_exporter": "python",
   "pygments_lexer": "ipython3",
   "version": "3.13.0"
  }
 },
 "nbformat": 4,
 "nbformat_minor": 2
}
