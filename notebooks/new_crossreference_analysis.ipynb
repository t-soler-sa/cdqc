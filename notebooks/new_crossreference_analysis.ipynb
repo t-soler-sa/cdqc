{
 "cells": [
  {
   "cell_type": "code",
   "execution_count": 1,
   "metadata": {},
   "outputs": [],
   "source": [
    "import pandas as pd\n",
    "from pathlib import Path"
   ]
  },
  {
   "cell_type": "code",
   "execution_count": 2,
   "metadata": {},
   "outputs": [
    {
     "name": "stderr",
     "output_type": "stream",
     "text": [
      "C:\\Users\\n740789\\AppData\\Local\\Temp\\ipykernel_26732\\532183200.py:3: DtypeWarning: Columns (3,5) have mixed types. Specify dtype option on import or set low_memory=False.\n",
      "  crossreference = pd.read_csv(path)\n"
     ]
    }
   ],
   "source": [
    "path = r\"C:\\Users\\n740789\\Downloads\\Issuer report with PERMID column.csv\"\n",
    "path_out = r\"C:\\Users\\n740789\\Downloads\\duplicated_permids.csv\"\n",
    "crossreference = pd.read_csv(path)"
   ]
  },
  {
   "cell_type": "code",
   "execution_count": 3,
   "metadata": {},
   "outputs": [
    {
     "name": "stdout",
     "output_type": "stream",
     "text": [
      "<class 'pandas.core.frame.DataFrame'>\n",
      "RangeIndex: 455522 entries, 0 to 455521\n",
      "Data columns (total 6 columns):\n",
      " #   Column   Non-Null Count   Dtype  \n",
      "---  ------   --------------   -----  \n",
      " 0   issuer   455522 non-null  object \n",
      " 1   name     455522 non-null  object \n",
      " 2   Clarity  131992 non-null  float64\n",
      " 3   MSCI     64835 non-null   object \n",
      " 4   SUST     23304 non-null   float64\n",
      " 5   PERMID   443792 non-null  object \n",
      "dtypes: float64(2), object(4)\n",
      "memory usage: 20.9+ MB\n"
     ]
    }
   ],
   "source": [
    "crossreference.info()"
   ]
  },
  {
   "cell_type": "code",
   "execution_count": 4,
   "metadata": {},
   "outputs": [
    {
     "data": {
      "text/plain": [
       "455237"
      ]
     },
     "execution_count": 4,
     "metadata": {},
     "output_type": "execute_result"
    }
   ],
   "source": [
    "len(crossreference.issuer.unique())"
   ]
  },
  {
   "cell_type": "code",
   "execution_count": 5,
   "metadata": {},
   "outputs": [],
   "source": [
    "test_issuer_id = [\n",
    "    \"C15407\",\n",
    "    \"F28750\",\n",
    "    \"G26205\",\n",
    "    \"G26206\",\n",
    "    \"G27752\",\n",
    "    \"I56013\",\n",
    "    \"I76843\",\n",
    "    \"I76942\",\n",
    "    \"J25597\",\n",
    "    \"J62238\",\n",
    "    \"J84685\",\n",
    "    \"K33979\",\n",
    "    \"K56502\",\n",
    "    \"K75466\",\n",
    "    \"L07105\",\n",
    "    \"L31015\",\n",
    "    \"L77787\",\n",
    "]"
   ]
  },
  {
   "cell_type": "code",
   "execution_count": 6,
   "metadata": {},
   "outputs": [],
   "source": [
    "base_path = Path(r\"C:\\Users\\n740789\\Documents\\Projects_local\\DataSets\\crossreference\")\n",
    "months = [\n",
    "    f\"2024{month:02}01\" for month in range(1, 13)\n",
    "] + [\n",
    "    f\"2025{month:02}01\" for month in range(1, 3)\n",
    "]\n",
    "\n",
    "xref_list = []\n",
    "\n",
    "for date_str in months:\n",
    "    file_path = base_path / f\"Aladdin_Clarity_Issuers_{date_str}.csv\"\n",
    "    df = pd.read_csv(file_path, dtype={'Aladdin_Issuer':str})\n",
    "    df.rename(columns={\n",
    "        'Aladdin_Issuer': 'issuer_id',\n",
    "        'Issuer_Name': 'issuer_name',\n",
    "        'CLARITY_AI': 'permid'\n",
    "    }, inplace=True)\n",
    "\n",
    "    xref_list.append(df)\n"
   ]
  },
  {
   "cell_type": "code",
   "execution_count": 7,
   "metadata": {},
   "outputs": [
    {
     "name": "stdout",
     "output_type": "stream",
     "text": [
      "crossreference of 20240101\n",
      "Empty DataFrame\n",
      "Columns: [issuer_id, issuer_name, permid]\n",
      "Index: []\n",
      "\n",
      "\n",
      "crossreference of 20240201\n",
      "Empty DataFrame\n",
      "Columns: [issuer_id, issuer_name, permid]\n",
      "Index: []\n",
      "\n",
      "\n",
      "crossreference of 20240301\n",
      "Empty DataFrame\n",
      "Columns: [issuer_id, issuer_name, permid]\n",
      "Index: []\n",
      "\n",
      "\n",
      "crossreference of 20240401\n",
      "Empty DataFrame\n",
      "Columns: [issuer_id, issuer_name, permid]\n",
      "Index: []\n",
      "\n",
      "\n",
      "crossreference of 20240501\n",
      "Empty DataFrame\n",
      "Columns: [issuer_id, issuer_name, permid]\n",
      "Index: []\n",
      "\n",
      "\n",
      "crossreference of 20240601\n",
      "Empty DataFrame\n",
      "Columns: [issuer_id, issuer_name, permid]\n",
      "Index: []\n",
      "\n",
      "\n",
      "crossreference of 20240701\n",
      "Empty DataFrame\n",
      "Columns: [issuer_id, issuer_name, permid]\n",
      "Index: []\n",
      "\n",
      "\n",
      "crossreference of 20240801\n",
      "Empty DataFrame\n",
      "Columns: [issuer_id, issuer_name, permid]\n",
      "Index: []\n",
      "\n",
      "\n",
      "crossreference of 20240901\n",
      "Empty DataFrame\n",
      "Columns: [issuer_id, issuer_name, permid]\n",
      "Index: []\n",
      "\n",
      "\n",
      "crossreference of 20241001\n",
      "Empty DataFrame\n",
      "Columns: [issuer_id, issuer_name, permid]\n",
      "Index: []\n",
      "\n",
      "\n",
      "crossreference of 20241101\n",
      "Empty DataFrame\n",
      "Columns: [issuer_id, issuer_name, permid]\n",
      "Index: []\n",
      "\n",
      "\n",
      "crossreference of 20241201\n",
      "Empty DataFrame\n",
      "Columns: [issuer_id, issuer_name, permid]\n",
      "Index: []\n",
      "\n",
      "\n",
      "crossreference of 20250101\n",
      "Empty DataFrame\n",
      "Columns: [issuer_id, issuer_name, permid]\n",
      "Index: []\n",
      "\n",
      "\n",
      "crossreference of 20250201\n",
      "Empty DataFrame\n",
      "Columns: [issuer_id, issuer_name, permid]\n",
      "Index: []\n",
      "\n",
      "\n"
     ]
    }
   ],
   "source": [
    "for date, df in zip(months, xref_list):\n",
    "    print(f\"crossreference of {date}\")\n",
    "    print(df[df.issuer_id.isin(test_issuer_id)][[\"issuer_id\", \"issuer_name\", \"permid\"]])\n",
    "    print(\"\\n\")"
   ]
  },
  {
   "cell_type": "code",
   "execution_count": 8,
   "metadata": {},
   "outputs": [],
   "source": [
    "#path_xref2401 = r\"C:\\Users\\n740789\\Documents\\Projects_local\\DataSets\\crossreference\\Aladdin_Clarity_Issuers_20240101.csv\"\n",
    "#path_xref2402 = r\"C:\\Users\\n740789\\Documents\\Projects_local\\DataSets\\crossreference\\Aladdin_Clarity_Issuers_20240201.csv\"\n",
    "#path_xref2403 = r\"C:\\Users\\n740789\\Documents\\Projects_local\\DataSets\\crossreference\\Aladdin_Clarity_Issuers_20240301.csv\"\n",
    "#path_xref2404 = r\"C:\\Users\\n740789\\Documents\\Projects_local\\DataSets\\crossreference\\Aladdin_Clarity_Issuers_20240401.csv\"\n",
    "#path_xref2405 = r\"C:\\Users\\n740789\\Documents\\Projects_local\\DataSets\\crossreference\\Aladdin_Clarity_Issuers_20240501.csv\"\n",
    "#path_xref2406 = r\"C:\\Users\\n740789\\Documents\\Projects_local\\DataSets\\crossreference\\Aladdin_Clarity_Issuers_20240601.csv\"\n",
    "#path_xref2407 = r\"C:\\Users\\n740789\\Documents\\Projects_local\\DataSets\\crossreference\\Aladdin_Clarity_Issuers_20240701.csv\"\n",
    "#path_xref2408 = r\"C:\\Users\\n740789\\Documents\\Projects_local\\DataSets\\crossreference\\Aladdin_Clarity_Issuers_20240801.csv\"\n",
    "#path_xref2409 = r\"C:\\Users\\n740789\\Documents\\Projects_local\\DataSets\\crossreference\\Aladdin_Clarity_Issuers_20240901.csv\"\n",
    "#path_xref2410 = r\"C:\\Users\\n740789\\Documents\\Projects_local\\DataSets\\crossreference\\Aladdin_Clarity_Issuers_20241001.csv\"\n",
    "#path_xref2411 = r\"C:\\Users\\n740789\\Documents\\Projects_local\\DataSets\\crossreference\\Aladdin_Clarity_Issuers_20241101.csv\"\n",
    "#path_xref2412 = r\"C:\\Users\\n740789\\Documents\\Projects_local\\DataSets\\crossreference\\Aladdin_Clarity_Issuers_20241201.csv\"\n",
    "#path_xref2501 = r\"C:\\Users\\n740789\\Documents\\Projects_local\\DataSets\\crossreference\\Aladdin_Clarity_Issuers_20250101.csv\"\n",
    "#path_xref2502 = r\"C:\\Users\\n740789\\Documents\\Projects_local\\DataSets\\crossreference\\Aladdin_Clarity_Issuers_20250201.csv\"\n",
    "#path_xref2503 = r\"excel_books/aladdin_data/crossreference/Aladdin_Clarity_Issuers_20250301.csv\"\n",
    "#path_xref2504 = r\"excel_books/aladdin_data/crossreference/Aladdin_Clarity_Issuers_20250401.csv\"\n",
    "#xref2401 = pd.read_csv(path_xref2401)\n",
    "#xref2402 = pd.read_csv(path_xref2402)\n",
    "#xref2403 = pd.read_csv(path_xref2403)\n",
    "#xref2404 = pd.read_csv(path_xref2404)\n",
    "#xref2405 = pd.read_csv(path_xref2405)\n",
    "#xref2406 = pd.read_csv(path_xref2406)\n",
    "#xref2407 = pd.read_csv(path_xref2407)\n",
    "#xref2408 = pd.read_csv(path_xref2408)\n",
    "#xref2409 = pd.read_csv(path_xref2409)\n",
    "#xref2410 = pd.read_csv(path_xref2410)\n",
    "#xref2411 = pd.read_csv(path_xref2411)\n",
    "#xref2412 = pd.read_csv(path_xref2412)\n",
    "#xref2501 = pd.read_csv(path_xref2501)\n",
    "#xref2502 = pd.read_csv(path_xref2502)\n",
    "#xref2503 = pd.read_csv(path_xref2503)\n",
    "#xref2504 = pd.read_csv(path_xref2504)\n",
    "#\n",
    "#xref_list = [\n",
    "#    xref2401,\n",
    "#    xref2402,\n",
    "#    xref2403,\n",
    "#    xref2404,\n",
    "#    xref2405,\n",
    "#    xref2406,\n",
    "#    xref2407,\n",
    "#    xref2408,\n",
    "#    xref2409,\n",
    "#    xref2410,\n",
    "#    xref2411,\n",
    "#    xref2412,\n",
    "#    xref2501,\n",
    "#    xref2502,\n",
    "#    xref2503,\n",
    "#    xref2504,\n",
    "#]\n",
    "#\n",
    "#for crossreference in xref_list:\n",
    "#    crossreference.rename(columns={'Aladdin_Issuer':'issuer_id','Issuer_Name':'issuer_name','CLARITY_AI':'permid'}, inplace=True)\n",
    "#    print(crossreference[crossreference.issuer_id.str.contains(\"C15407\")])\n",
    "#    print(\"\\n\")"
   ]
  },
  {
   "cell_type": "code",
   "execution_count": 9,
   "metadata": {},
   "outputs": [
    {
     "name": "stdout",
     "output_type": "stream",
     "text": [
      "<class 'pandas.core.frame.DataFrame'>\n",
      "RangeIndex: 455522 entries, 0 to 455521\n",
      "Data columns (total 6 columns):\n",
      " #   Column   Non-Null Count   Dtype  \n",
      "---  ------   --------------   -----  \n",
      " 0   issuer   455522 non-null  object \n",
      " 1   name     455522 non-null  object \n",
      " 2   Clarity  131992 non-null  float64\n",
      " 3   MSCI     64835 non-null   object \n",
      " 4   SUST     23304 non-null   float64\n",
      " 5   PERMID   443792 non-null  object \n",
      "dtypes: float64(2), object(4)\n",
      "memory usage: 20.9+ MB\n"
     ]
    }
   ],
   "source": [
    "crossreference.info()"
   ]
  },
  {
   "cell_type": "code",
   "execution_count": 10,
   "metadata": {},
   "outputs": [
    {
     "data": {
      "text/html": [
       "<div>\n",
       "<style scoped>\n",
       "    .dataframe tbody tr th:only-of-type {\n",
       "        vertical-align: middle;\n",
       "    }\n",
       "\n",
       "    .dataframe tbody tr th {\n",
       "        vertical-align: top;\n",
       "    }\n",
       "\n",
       "    .dataframe thead th {\n",
       "        text-align: right;\n",
       "    }\n",
       "</style>\n",
       "<table border=\"1\" class=\"dataframe\">\n",
       "  <thead>\n",
       "    <tr style=\"text-align: right;\">\n",
       "      <th></th>\n",
       "      <th>issuer</th>\n",
       "      <th>name</th>\n",
       "      <th>Clarity</th>\n",
       "      <th>MSCI</th>\n",
       "      <th>SUST</th>\n",
       "      <th>PERMID</th>\n",
       "    </tr>\n",
       "  </thead>\n",
       "  <tbody>\n",
       "  </tbody>\n",
       "</table>\n",
       "</div>"
      ],
      "text/plain": [
       "Empty DataFrame\n",
       "Columns: [issuer, name, Clarity, MSCI, SUST, PERMID]\n",
       "Index: []"
      ]
     },
     "execution_count": 10,
     "metadata": {},
     "output_type": "execute_result"
    }
   ],
   "source": [
    "crossreference[crossreference.issuer.str.contains(\"C15407\")]"
   ]
  },
  {
   "cell_type": "code",
   "execution_count": 11,
   "metadata": {},
   "outputs": [],
   "source": [
    "df = crossreference[[\"issuer\",\"PERMID\",\"name\"]].copy()"
   ]
  },
  {
   "cell_type": "code",
   "execution_count": 12,
   "metadata": {},
   "outputs": [],
   "source": [
    "df.rename(columns={\"issuer\":\"issuer_id\", \"PERMID\":\"permid\", \"name\":\"issuer_name\"}, inplace=True)"
   ]
  },
  {
   "cell_type": "code",
   "execution_count": 13,
   "metadata": {},
   "outputs": [
    {
     "data": {
      "text/html": [
       "<div>\n",
       "<style scoped>\n",
       "    .dataframe tbody tr th:only-of-type {\n",
       "        vertical-align: middle;\n",
       "    }\n",
       "\n",
       "    .dataframe tbody tr th {\n",
       "        vertical-align: top;\n",
       "    }\n",
       "\n",
       "    .dataframe thead th {\n",
       "        text-align: right;\n",
       "    }\n",
       "</style>\n",
       "<table border=\"1\" class=\"dataframe\">\n",
       "  <thead>\n",
       "    <tr style=\"text-align: right;\">\n",
       "      <th></th>\n",
       "      <th>issuer_id</th>\n",
       "      <th>permid</th>\n",
       "      <th>issuer_name</th>\n",
       "    </tr>\n",
       "  </thead>\n",
       "  <tbody>\n",
       "    <tr>\n",
       "      <th>0</th>\n",
       "      <td>Z27537</td>\n",
       "      <td>5090656669</td>\n",
       "      <td>ARUNA ENERGIAS RENOVAVEIS LTDA</td>\n",
       "    </tr>\n",
       "    <tr>\n",
       "      <th>1</th>\n",
       "      <td>Z27359</td>\n",
       "      <td>5093618813</td>\n",
       "      <td>ALAMOS GOLD INC</td>\n",
       "    </tr>\n",
       "    <tr>\n",
       "      <th>2</th>\n",
       "      <td>M83996</td>\n",
       "      <td>5090737325</td>\n",
       "      <td>ALAMOS GOLD INC</td>\n",
       "    </tr>\n",
       "    <tr>\n",
       "      <th>3</th>\n",
       "      <td>Z27264</td>\n",
       "      <td>5079209310</td>\n",
       "      <td>PNC GOMTI HIGHWAYS PVT LTD</td>\n",
       "    </tr>\n",
       "    <tr>\n",
       "      <th>4</th>\n",
       "      <td>Z27272</td>\n",
       "      <td>5079222200</td>\n",
       "      <td>PNC BITHUR KANPUR HIGHWAYS PVT LTD</td>\n",
       "    </tr>\n",
       "  </tbody>\n",
       "</table>\n",
       "</div>"
      ],
      "text/plain": [
       "  issuer_id      permid                         issuer_name\n",
       "0    Z27537  5090656669      ARUNA ENERGIAS RENOVAVEIS LTDA\n",
       "1    Z27359  5093618813                     ALAMOS GOLD INC\n",
       "2    M83996  5090737325                     ALAMOS GOLD INC\n",
       "3    Z27264  5079209310          PNC GOMTI HIGHWAYS PVT LTD\n",
       "4    Z27272  5079222200  PNC BITHUR KANPUR HIGHWAYS PVT LTD"
      ]
     },
     "execution_count": 13,
     "metadata": {},
     "output_type": "execute_result"
    }
   ],
   "source": [
    "df.head()"
   ]
  },
  {
   "cell_type": "code",
   "execution_count": 14,
   "metadata": {},
   "outputs": [],
   "source": [
    "repeated_permid = df[df.permid.duplicated() & df.permid.notna()].copy()"
   ]
  },
  {
   "cell_type": "code",
   "execution_count": 15,
   "metadata": {},
   "outputs": [
    {
     "data": {
      "text/html": [
       "<div>\n",
       "<style scoped>\n",
       "    .dataframe tbody tr th:only-of-type {\n",
       "        vertical-align: middle;\n",
       "    }\n",
       "\n",
       "    .dataframe tbody tr th {\n",
       "        vertical-align: top;\n",
       "    }\n",
       "\n",
       "    .dataframe thead th {\n",
       "        text-align: right;\n",
       "    }\n",
       "</style>\n",
       "<table border=\"1\" class=\"dataframe\">\n",
       "  <thead>\n",
       "    <tr style=\"text-align: right;\">\n",
       "      <th></th>\n",
       "      <th>issuer_id</th>\n",
       "      <th>permid</th>\n",
       "      <th>issuer_name</th>\n",
       "    </tr>\n",
       "  </thead>\n",
       "  <tbody>\n",
       "    <tr>\n",
       "      <th>221000</th>\n",
       "      <td>R55576</td>\n",
       "      <td>4295862077</td>\n",
       "      <td>ROMARCO MINERALS INC.</td>\n",
       "    </tr>\n",
       "    <tr>\n",
       "      <th>54496</th>\n",
       "      <td>R48483</td>\n",
       "      <td>4295866829</td>\n",
       "      <td>ACCOR SA</td>\n",
       "    </tr>\n",
       "    <tr>\n",
       "      <th>209045</th>\n",
       "      <td>R95782</td>\n",
       "      <td>4295868079</td>\n",
       "      <td>INETUM SA</td>\n",
       "    </tr>\n",
       "    <tr>\n",
       "      <th>389910</th>\n",
       "      <td>L48161</td>\n",
       "      <td>4295868143</td>\n",
       "      <td>NOMOTECH SAS</td>\n",
       "    </tr>\n",
       "    <tr>\n",
       "      <th>83322</th>\n",
       "      <td>L44914</td>\n",
       "      <td>4295878838</td>\n",
       "      <td>MORI TRUST REIT INC</td>\n",
       "    </tr>\n",
       "    <tr>\n",
       "      <th>...</th>\n",
       "      <td>...</td>\n",
       "      <td>...</td>\n",
       "      <td>...</td>\n",
       "    </tr>\n",
       "    <tr>\n",
       "      <th>66851</th>\n",
       "      <td>M85640</td>\n",
       "      <td>5090741049</td>\n",
       "      <td>PEREGRINE DEVCO HOLDINGS LLC</td>\n",
       "    </tr>\n",
       "    <tr>\n",
       "      <th>167376</th>\n",
       "      <td>M85274</td>\n",
       "      <td>5090763992</td>\n",
       "      <td>APTIV HOLDINGS LTD</td>\n",
       "    </tr>\n",
       "    <tr>\n",
       "      <th>368978</th>\n",
       "      <td>Z23287</td>\n",
       "      <td>5090780055</td>\n",
       "      <td>KENTANIX SUPRA INTERNATIONAL TBK PT</td>\n",
       "    </tr>\n",
       "    <tr>\n",
       "      <th>87766</th>\n",
       "      <td>Z21265</td>\n",
       "      <td>5091376575</td>\n",
       "      <td>HERO GLOBAL INVESTMENT TBK PT</td>\n",
       "    </tr>\n",
       "    <tr>\n",
       "      <th>90401</th>\n",
       "      <td>N00345</td>\n",
       "      <td>5093733498</td>\n",
       "      <td>SG ENTERPRISES (VADODARA)</td>\n",
       "    </tr>\n",
       "  </tbody>\n",
       "</table>\n",
       "<p>134 rows × 3 columns</p>\n",
       "</div>"
      ],
      "text/plain": [
       "       issuer_id      permid                          issuer_name\n",
       "221000    R55576  4295862077                ROMARCO MINERALS INC.\n",
       "54496     R48483  4295866829                             ACCOR SA\n",
       "209045    R95782  4295868079                            INETUM SA\n",
       "389910    L48161  4295868143                         NOMOTECH SAS\n",
       "83322     L44914  4295878838                  MORI TRUST REIT INC\n",
       "...          ...         ...                                  ...\n",
       "66851     M85640  5090741049         PEREGRINE DEVCO HOLDINGS LLC\n",
       "167376    M85274  5090763992                   APTIV HOLDINGS LTD\n",
       "368978    Z23287  5090780055  KENTANIX SUPRA INTERNATIONAL TBK PT\n",
       "87766     Z21265  5091376575        HERO GLOBAL INVESTMENT TBK PT\n",
       "90401     N00345  5093733498            SG ENTERPRISES (VADODARA)\n",
       "\n",
       "[134 rows x 3 columns]"
      ]
     },
     "execution_count": 15,
     "metadata": {},
     "output_type": "execute_result"
    }
   ],
   "source": [
    "df[df.permid.duplicated() & df.permid.notna()].sort_values(by=\"permid\", key=lambda x: x.astype(str))"
   ]
  },
  {
   "cell_type": "code",
   "execution_count": 16,
   "metadata": {},
   "outputs": [],
   "source": [
    "duplicated_permid = df.groupby(\"permid\").filter(lambda x: len(x) > 1).reset_index(drop=True)"
   ]
  },
  {
   "cell_type": "code",
   "execution_count": 17,
   "metadata": {},
   "outputs": [],
   "source": [
    "duplicated_permid.sort_values(by=\"permid\", key=lambda x: x.astype(str), inplace=True)"
   ]
  },
  {
   "cell_type": "code",
   "execution_count": 18,
   "metadata": {},
   "outputs": [
    {
     "data": {
      "text/plain": [
       "267"
      ]
     },
     "execution_count": 18,
     "metadata": {},
     "output_type": "execute_result"
    }
   ],
   "source": [
    "duplicated_permid.shape[0]"
   ]
  },
  {
   "cell_type": "code",
   "execution_count": 19,
   "metadata": {},
   "outputs": [
    {
     "data": {
      "text/plain": [
       "133"
      ]
     },
     "execution_count": 19,
     "metadata": {},
     "output_type": "execute_result"
    }
   ],
   "source": [
    "len(duplicated_permid.permid.unique())"
   ]
  },
  {
   "cell_type": "code",
   "execution_count": 20,
   "metadata": {},
   "outputs": [
    {
     "data": {
      "text/plain": [
       "permid\n",
       "5080021702    3\n",
       "4295866829    2\n",
       "4295868079    2\n",
       "4295868143    2\n",
       "4295862077    2\n",
       "             ..\n",
       "5090741049    2\n",
       "5090763992    2\n",
       "5090780055    2\n",
       "5091376575    2\n",
       "5093733498    2\n",
       "Name: count, Length: 133, dtype: int64"
      ]
     },
     "execution_count": 20,
     "metadata": {},
     "output_type": "execute_result"
    }
   ],
   "source": [
    "duplicated_permid.permid.value_counts()"
   ]
  },
  {
   "cell_type": "code",
   "execution_count": 21,
   "metadata": {},
   "outputs": [
    {
     "data": {
      "text/html": [
       "<div>\n",
       "<style scoped>\n",
       "    .dataframe tbody tr th:only-of-type {\n",
       "        vertical-align: middle;\n",
       "    }\n",
       "\n",
       "    .dataframe tbody tr th {\n",
       "        vertical-align: top;\n",
       "    }\n",
       "\n",
       "    .dataframe thead th {\n",
       "        text-align: right;\n",
       "    }\n",
       "</style>\n",
       "<table border=\"1\" class=\"dataframe\">\n",
       "  <thead>\n",
       "    <tr style=\"text-align: right;\">\n",
       "      <th></th>\n",
       "      <th>issuer_id</th>\n",
       "      <th>permid</th>\n",
       "      <th>issuer_name</th>\n",
       "    </tr>\n",
       "  </thead>\n",
       "  <tbody>\n",
       "    <tr>\n",
       "      <th>102</th>\n",
       "      <td>K80212</td>\n",
       "      <td>5080021702</td>\n",
       "      <td>STONEBRIDGE ACQUISITION CORP</td>\n",
       "    </tr>\n",
       "    <tr>\n",
       "      <th>66</th>\n",
       "      <td>Z27302</td>\n",
       "      <td>5080021702</td>\n",
       "      <td>DIGIASIA CORP</td>\n",
       "    </tr>\n",
       "    <tr>\n",
       "      <th>43</th>\n",
       "      <td>L78558</td>\n",
       "      <td>5080021702</td>\n",
       "      <td>DIGIASIA CORP</td>\n",
       "    </tr>\n",
       "  </tbody>\n",
       "</table>\n",
       "</div>"
      ],
      "text/plain": [
       "    issuer_id      permid                   issuer_name\n",
       "102    K80212  5080021702  STONEBRIDGE ACQUISITION CORP\n",
       "66     Z27302  5080021702                 DIGIASIA CORP\n",
       "43     L78558  5080021702                 DIGIASIA CORP"
      ]
     },
     "execution_count": 21,
     "metadata": {},
     "output_type": "execute_result"
    }
   ],
   "source": [
    "duplicated_permid[duplicated_permid.permid==\"5080021702\"]"
   ]
  },
  {
   "cell_type": "code",
   "execution_count": 23,
   "metadata": {},
   "outputs": [],
   "source": [
    "# save duplicate_permid to downloads as csv\n",
    "duplicated_permid.to_csv(path_out, index=False)"
   ]
  },
  {
   "cell_type": "markdown",
   "metadata": {},
   "source": [
    "### Summary: Differences Between `duplicated()` and `groupby().filter()` for Finding Duplicates\n",
    "\n",
    "#### Method 1: Using `duplicated()`\n",
    "\n",
    "```python\n",
    "df[df.permid.duplicated() & df.permid.notna()]\n",
    "```\n",
    "\n",
    "- Returns only the **subsequent occurrences** of duplicated `permid` values.\n",
    "- **Excludes the first occurrence** of each duplicate.\n",
    "- Operates **row-wise**.\n",
    "- NaN values are excluded explicitly using `.notna()`.\n",
    "- Fast and simple, good for quickly identifying repeated entries.\n",
    "\n",
    "#### Method 2: Using `groupby().filter()`\n",
    "\n",
    "```python\n",
    "df.groupby(\"permid\").filter(lambda x: len(x) > 1)\n",
    "```\n",
    "\n",
    "- Returns **all rows** where `permid` appears more than once.\n",
    "- **Includes the first and all subsequent occurrences** of each duplicate.\n",
    "- Operates **group-wise**.\n",
    "- Automatically **excludes NaN values**, since `groupby()` does not include `NaN` in group keys by default.\n",
    "- Useful for preserving the full group of duplicate entries.\n",
    "\n",
    "#### Key Difference\n",
    "\n",
    "- `duplicated()` is useful for identifying repeated values but misses the first instance.\n",
    "- `groupby().filter()` includes all occurrences but does not handle `NaN` unless explicitly grouped with `dropna=False`.\n"
   ]
  },
  {
   "cell_type": "markdown",
   "metadata": {},
   "source": []
  }
 ],
 "metadata": {
  "kernelspec": {
   "display_name": ".venv",
   "language": "python",
   "name": "python3"
  },
  "language_info": {
   "codemirror_mode": {
    "name": "ipython",
    "version": 3
   },
   "file_extension": ".py",
   "mimetype": "text/x-python",
   "name": "python",
   "nbconvert_exporter": "python",
   "pygments_lexer": "ipython3",
   "version": "3.13.0"
  }
 },
 "nbformat": 4,
 "nbformat_minor": 2
}
