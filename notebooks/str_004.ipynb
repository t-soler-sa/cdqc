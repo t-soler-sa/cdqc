{
 "cells": [
  {
   "cell_type": "code",
   "execution_count": 1,
   "metadata": {},
   "outputs": [],
   "source": [
    "import pandas as pd"
   ]
  },
  {
   "cell_type": "code",
   "execution_count": 2,
   "metadata": {},
   "outputs": [],
   "source": [
    "str004b = pd.read_excel(r\"C:\\Users\\n740789\\Documents\\clarity_data_quality_controls\\excel_books\\aladdin_data\\STR_004_GRE_OK.xlsx\", engine='openpyxl')"
   ]
  },
  {
   "cell_type": "code",
   "execution_count": 3,
   "metadata": {},
   "outputs": [
    {
     "data": {
      "text/html": [
       "<div>\n",
       "<style scoped>\n",
       "    .dataframe tbody tr th:only-of-type {\n",
       "        vertical-align: middle;\n",
       "    }\n",
       "\n",
       "    .dataframe tbody tr th {\n",
       "        vertical-align: top;\n",
       "    }\n",
       "\n",
       "    .dataframe thead th {\n",
       "        text-align: right;\n",
       "    }\n",
       "</style>\n",
       "<table border=\"1\" class=\"dataframe\">\n",
       "  <thead>\n",
       "    <tr style=\"text-align: right;\">\n",
       "      <th></th>\n",
       "      <th>List Name</th>\n",
       "      <th>Member</th>\n",
       "      <th>Description</th>\n",
       "      <th>Start Date</th>\n",
       "      <th>End Date</th>\n",
       "      <th>Comment</th>\n",
       "      <th>Modified By</th>\n",
       "      <th>Modified Time</th>\n",
       "      <th>ISIN</th>\n",
       "    </tr>\n",
       "  </thead>\n",
       "  <tbody>\n",
       "    <tr>\n",
       "      <th>0</th>\n",
       "      <td>STR_004_GRE_OK</td>\n",
       "      <td>00130HCE3</td>\n",
       "      <td>AES CORPORATION (THE)  1.375 15-Jan-2026</td>\n",
       "      <td>13-Mar-2025</td>\n",
       "      <td>15-Jan-2026</td>\n",
       "      <td>NaN</td>\n",
       "      <td>t4anamar</td>\n",
       "      <td>13-Mar-2025 09:49:01 GMT+0100</td>\n",
       "      <td>NaN</td>\n",
       "    </tr>\n",
       "    <tr>\n",
       "      <th>1</th>\n",
       "      <td>STR_004_GRE_OK</td>\n",
       "      <td>00130HCG8</td>\n",
       "      <td>AES CORPORATION (THE)  2.45 15-Jan-2031</td>\n",
       "      <td>13-Mar-2025</td>\n",
       "      <td>15-Jan-2031</td>\n",
       "      <td>NaN</td>\n",
       "      <td>t4anamar</td>\n",
       "      <td>13-Mar-2025 09:49:01 GMT+0100</td>\n",
       "      <td>NaN</td>\n",
       "    </tr>\n",
       "    <tr>\n",
       "      <th>2</th>\n",
       "      <td>STR_004_GRE_OK</td>\n",
       "      <td>00130HCH6</td>\n",
       "      <td>AES CORPORATION (THE)  5.45 01-Jun-2028</td>\n",
       "      <td>13-Mar-2025</td>\n",
       "      <td>01-Jun-2028</td>\n",
       "      <td>NaN</td>\n",
       "      <td>t4anamar</td>\n",
       "      <td>13-Mar-2025 09:49:01 GMT+0100</td>\n",
       "      <td>NaN</td>\n",
       "    </tr>\n",
       "    <tr>\n",
       "      <th>3</th>\n",
       "      <td>STR_004_GRE_OK</td>\n",
       "      <td>00130HCK9</td>\n",
       "      <td>AES CORPORATION (THE)  -99 15-Jan-2055</td>\n",
       "      <td>13-Mar-2025</td>\n",
       "      <td>15-Jan-2055</td>\n",
       "      <td>NaN</td>\n",
       "      <td>t4anamar</td>\n",
       "      <td>13-Mar-2025 09:49:01 GMT+0100</td>\n",
       "      <td>NaN</td>\n",
       "    </tr>\n",
       "    <tr>\n",
       "      <th>4</th>\n",
       "      <td>STR_004_GRE_OK</td>\n",
       "      <td>00388WAM3</td>\n",
       "      <td>ABU DHABI NATIONAL ENERGY COMPANY  4.696 24-Ap...</td>\n",
       "      <td>13-Mar-2025</td>\n",
       "      <td>24-Apr-2033</td>\n",
       "      <td>NaN</td>\n",
       "      <td>t4anamar</td>\n",
       "      <td>13-Mar-2025 09:49:01 GMT+0100</td>\n",
       "      <td>NaN</td>\n",
       "    </tr>\n",
       "  </tbody>\n",
       "</table>\n",
       "</div>"
      ],
      "text/plain": [
       "        List Name     Member  \\\n",
       "0  STR_004_GRE_OK  00130HCE3   \n",
       "1  STR_004_GRE_OK  00130HCG8   \n",
       "2  STR_004_GRE_OK  00130HCH6   \n",
       "3  STR_004_GRE_OK  00130HCK9   \n",
       "4  STR_004_GRE_OK  00388WAM3   \n",
       "\n",
       "                                         Description   Start Date  \\\n",
       "0           AES CORPORATION (THE)  1.375 15-Jan-2026  13-Mar-2025   \n",
       "1            AES CORPORATION (THE)  2.45 15-Jan-2031  13-Mar-2025   \n",
       "2            AES CORPORATION (THE)  5.45 01-Jun-2028  13-Mar-2025   \n",
       "3             AES CORPORATION (THE)  -99 15-Jan-2055  13-Mar-2025   \n",
       "4  ABU DHABI NATIONAL ENERGY COMPANY  4.696 24-Ap...  13-Mar-2025   \n",
       "\n",
       "      End Date  Comment Modified By                  Modified Time ISIN  \n",
       "0  15-Jan-2026      NaN    t4anamar  13-Mar-2025 09:49:01 GMT+0100  NaN  \n",
       "1  15-Jan-2031      NaN    t4anamar  13-Mar-2025 09:49:01 GMT+0100  NaN  \n",
       "2  01-Jun-2028      NaN    t4anamar  13-Mar-2025 09:49:01 GMT+0100  NaN  \n",
       "3  15-Jan-2055      NaN    t4anamar  13-Mar-2025 09:49:01 GMT+0100  NaN  \n",
       "4  24-Apr-2033      NaN    t4anamar  13-Mar-2025 09:49:01 GMT+0100  NaN  "
      ]
     },
     "execution_count": 3,
     "metadata": {},
     "output_type": "execute_result"
    }
   ],
   "source": [
    "str004b.head()\n",
    "sost_bonds = pd.read_excel(r\"C:\\Users\\n740789\\Documents\\Projects_local\\DataSets\\impact_analysis\\2503\\analysis_output\\sustainable_analysis\\FIG05402 17-03-2025 SustFunds_check_analysis.xlsx\")\n",
    "rf_ahorro = pd.read_excel(r\"C:\\Users\\n740789\\Documents\\Projects_local\\DataSets\\impact_analysis\\2503\\analysis_output\\sustainable_analysis\\FIG00677 17-03-2025 SustFunds_check_analysis.xlsx\")\n",
    "sost_crecimiento = pd.read_excel(r\"C:\\Users\\n740789\\Documents\\Projects_local\\DataSets\\impact_analysis\\2503\\analysis_output\\sustainable_analysis\\FIG05240 17-03-2025 SustFunds_check_analysis.xlsx\")\n",
    "sost_evolucion = pd.read_excel(r\"C:\\Users\\n740789\\Documents\\Projects_local\\DataSets\\impact_analysis\\2503\\analysis_output\\sustainable_analysis\\FIG05240 17-03-2025 SustFunds_check_analysis.xlsx\")"
   ]
  },
  {
   "cell_type": "code",
   "execution_count": 12,
   "metadata": {},
   "outputs": [
    {
     "data": {
      "text/plain": [
       "GB\n",
       "False    348\n",
       "True      22\n",
       "Name: count, dtype: int64"
      ]
     },
     "execution_count": 12,
     "metadata": {},
     "output_type": "execute_result"
    }
   ],
   "source": [
    "sost_bonds.GB.value_counts()"
   ]
  },
  {
   "cell_type": "code",
   "execution_count": 8,
   "metadata": {},
   "outputs": [],
   "source": [
    "def add_gb_colum(df):\n",
    "    # if value column \"CUSIP\" in str004b.Member, add TRUE to new column \"GB\"\n",
    "    df['GB'] = df['CUSIP'].isin(str004b.Member)\n",
    "    return df\n"
   ]
  },
  {
   "cell_type": "code",
   "execution_count": 16,
   "metadata": {},
   "outputs": [],
   "source": [
    "rf_ahorro = add_gb_colum(rf_ahorro)\n",
    "sost_bonds = add_gb_colum(sost_bonds)\n",
    "sost_crecimiento = add_gb_colum(sost_crecimiento)\n",
    "sost_evolucion = add_gb_colum(sost_evolucion)"
   ]
  },
  {
   "cell_type": "code",
   "execution_count": 18,
   "metadata": {},
   "outputs": [],
   "source": [
    "# save to downloads rf_ahorro and sost_bonds\n",
    "rf_ahorro.to_excel(r\"C:\\Users\\n740789\\Downloads\\rf_ahorro.xlsx\", index=False)\n",
    "sost_bonds.to_excel(r\"C:\\Users\\n740789\\Downloads\\sost_bonds.xlsx\", index=False)\n",
    "sost_crecimiento.to_excel(r\"C:\\Users\\n740789\\Downloads\\sost_crecimiento.xlsx\", index=False)\n",
    "sost_evolucion.to_excel(r\"C:\\Users\\n740789\\Downloads\\sost_evolucion.xlsx\", index=False)"
   ]
  },
  {
   "cell_type": "code",
   "execution_count": null,
   "metadata": {},
   "outputs": [],
   "source": []
  }
 ],
 "metadata": {
  "kernelspec": {
   "display_name": ".venv",
   "language": "python",
   "name": "python3"
  },
  "language_info": {
   "codemirror_mode": {
    "name": "ipython",
    "version": 3
   },
   "file_extension": ".py",
   "mimetype": "text/x-python",
   "name": "python",
   "nbconvert_exporter": "python",
   "pygments_lexer": "ipython3",
   "version": "3.12.0"
  }
 },
 "nbformat": 4,
 "nbformat_minor": 2
}
