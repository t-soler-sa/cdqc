{
 "cells": [
  {
   "cell_type": "code",
   "execution_count": 1,
   "metadata": {},
   "outputs": [],
   "source": [
    "import pandas as pd\n",
    "import numpy as np\n",
    "from datetime import datetime\n",
    "import json"
   ]
  },
  {
   "cell_type": "code",
   "execution_count": 2,
   "metadata": {},
   "outputs": [
    {
     "name": "stderr",
     "output_type": "stream",
     "text": [
      "C:\\Users\\n740789\\AppData\\Local\\Temp\\ipykernel_12624\\2138886499.py:1: DtypeWarning: Columns (6,21,27,31) have mixed types. Specify dtype option on import or set low_memory=False.\n",
      "  nz = pd.read_csv(r\"C:\\Users\\n740789\\Documents\\Projects_local\\DataSets\\DATAFEED\\netzero\\20250201_nz.csv\")\n"
     ]
    }
   ],
   "source": [
    "nz = pd.read_csv(r\"C:\\Users\\n740789\\Documents\\Projects_local\\DataSets\\DATAFEED\\netzero\\20250201_nz.csv\")"
   ]
  },
  {
   "cell_type": "code",
   "execution_count": 3,
   "metadata": {},
   "outputs": [
    {
     "name": "stdout",
     "output_type": "stream",
     "text": [
      "<class 'pandas.core.frame.DataFrame'>\n",
      "RangeIndex: 1375226 entries, 0 to 1375225\n",
      "Data columns (total 49 columns):\n",
      " #   Column                                  Non-Null Count    Dtype  \n",
      "---  ------                                  --------------    -----  \n",
      " 0   permId                                  1375226 non-null  int64  \n",
      " 1   ClarityID                               1375226 non-null  int64  \n",
      " 2   isin                                    1371447 non-null  object \n",
      " 3   instrument_type                         1371447 non-null  object \n",
      " 4   issuer_name                             1371447 non-null  object \n",
      " 5   issuer_country                          1366419 non-null  object \n",
      " 6   gics2_industry                          1113134 non-null  object \n",
      " 7   region                                  1366089 non-null  object \n",
      " 8   countryCode                             1366359 non-null  object \n",
      " 9   flag_material_scope_3_value             461783 non-null   float64\n",
      " 10  flag_material_scope_3_meta              1375226 non-null  object \n",
      " 11  ambition_compliant_value                1115413 non-null  float64\n",
      " 12  ambition_compliant_meta                 1375226 non-null  object \n",
      " 13  ambition_statement_value                0 non-null        float64\n",
      " 14  ambition_statement_meta                 0 non-null        float64\n",
      " 15  ambition_year_value                     0 non-null        float64\n",
      " 16  ambition_year_meta                      0 non-null        float64\n",
      " 17  near_term_compliant_scope_1_2_value     1056991 non-null  float64\n",
      " 18  near_term_compliant_scope_1_2_meta      1375226 non-null  object \n",
      " 19  near_term_valid_target_scope_1_2_value  1056991 non-null  float64\n",
      " 20  near_term_valid_target_scope_1_2_meta   1375226 non-null  object \n",
      " 21  near_term_itr_scope_1_2_value           1056990 non-null  object \n",
      " 22  near_term_itr_scope_1_2_meta            1375226 non-null  object \n",
      " 23  near_term_compliant_scope_1_2_3_value   1056991 non-null  float64\n",
      " 24  near_term_compliant_scope_1_2_3_meta    1375226 non-null  object \n",
      " 25  near_term_valid_target_scope_3_value    958958 non-null   float64\n",
      " 26  near_term_valid_target_scope_3_meta     1375226 non-null  object \n",
      " 27  near_term_itr_scope_3_value             958958 non-null   object \n",
      " 28  near_term_itr_scope_3_meta              1375226 non-null  object \n",
      " 29  emissions_performance_compliant_value   669816 non-null   float64\n",
      " 30  emissions_performance_compliant_meta    1375226 non-null  object \n",
      " 31  emissions_performance_value             669816 non-null   object \n",
      " 32  emissions_performance_meta              1375226 non-null  object \n",
      " 33  disclosure_compliant_value              1375226 non-null  float64\n",
      " 34  disclosure_compliant_meta               1375226 non-null  object \n",
      " 35  scope_1_reported_value                  1352697 non-null  float64\n",
      " 36  scope_1_reported_meta                   1375226 non-null  object \n",
      " 37  scope_2_reported_value                  1352464 non-null  float64\n",
      " 38  scope_2_reported_meta                   1375226 non-null  object \n",
      " 39  scope_3_reported_value                  1231199 non-null  float64\n",
      " 40  scope_3_reported_meta                   1375226 non-null  object \n",
      " 41  decarbonization_compliant_value         1069311 non-null  float64\n",
      " 42  decarbonization_compliant_meta          1375226 non-null  object \n",
      " 43  decarbonization_value                   1069311 non-null  object \n",
      " 44  decarbonization_meta                    1375226 non-null  object \n",
      " 45  flag_high_impact_value                  461783 non-null   float64\n",
      " 46  flag_high_impact_meta                   1375226 non-null  object \n",
      " 47  nz_alignment_value                      1181846 non-null  object \n",
      " 48  nz_alignment_meta                       1375226 non-null  object \n",
      "dtypes: float64(17), int64(2), object(30)\n",
      "memory usage: 514.1+ MB\n"
     ]
    }
   ],
   "source": [
    "nz.info()"
   ]
  },
  {
   "cell_type": "code",
   "execution_count": 4,
   "metadata": {},
   "outputs": [],
   "source": [
    "# create dict column name column type\n",
    "nz_dict = {col: nz[col].dtype.name for col in nz.columns}\n",
    "\n",
    "type_swap = {\n",
    "    \"int64\": \"int\",\n",
    "    \"float64\": \"float\",\n",
    "    \"object\": \"string\" \n",
    "}    \n",
    "\n",
    "# itarate over dict and change dtype names\n",
    "nz_dict = {key: type_swap.get(value, value) for key, value in nz_dict.items()}  \n",
    "\n",
    "# save dict to json\n",
    "with open(r\"C:\\Users\\n740789\\Documents\\Projects_local\\DataSets\\DATAFEED\\netzero\\nz_dict.json\", \"w\") as f:\n",
    "    json.dump(nz_dict, f, indent=4) # added indent for better readability"
   ]
  },
  {
   "cell_type": "code",
   "execution_count": null,
   "metadata": {},
   "outputs": [],
   "source": []
  }
 ],
 "metadata": {
  "kernelspec": {
   "display_name": ".venv",
   "language": "python",
   "name": "python3"
  },
  "language_info": {
   "codemirror_mode": {
    "name": "ipython",
    "version": 3
   },
   "file_extension": ".py",
   "mimetype": "text/x-python",
   "name": "python",
   "nbconvert_exporter": "python",
   "pygments_lexer": "ipython3",
   "version": "3.12.0"
  }
 },
 "nbformat": 4,
 "nbformat_minor": 2
}
