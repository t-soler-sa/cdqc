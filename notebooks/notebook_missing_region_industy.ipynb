{
 "cells": [
  {
   "cell_type": "code",
   "execution_count": 1,
   "metadata": {},
   "outputs": [],
   "source": [
    "import pandas as pd\n",
    "from pathlib import Path\n",
    "from datetime import datetime"
   ]
  },
  {
   "cell_type": "code",
   "execution_count": 2,
   "metadata": {},
   "outputs": [],
   "source": [
    "df_path = Path(r\"C:\\Users\\n740789\\Documents\\Projects_local\\DataSets\\DATAFEED\\ficheros_tratados\\2025\\20250401_Equities_feed_IssuerLevel_sinOVR.csv\")\n",
    "crossreference_path = Path(r\"C:\\Users\\n740789\\Documents\\clarity_data_quality_controls\\excel_books\\aladdin_data\\crossreference\\Aladdin_Clarity_Issuers_20250401.csv\")"
   ]
  },
  {
   "cell_type": "code",
   "execution_count": 5,
   "metadata": {},
   "outputs": [],
   "source": [
    "df = pd.read_csv(df_path, low_memory=False, encoding=\"utf-8\", dtype={\"permid\":str})"
   ]
  },
  {
   "cell_type": "code",
   "execution_count": null,
   "metadata": {},
   "outputs": [],
   "source": [
    "\n",
    "crossreference = pd.read_csv(crossreference_path, low_memory=False, encoding=\"utf-8\", dtype={\"CLARITY_AI\":str})    "
   ]
  },
  {
   "cell_type": "code",
   "execution_count": 17,
   "metadata": {},
   "outputs": [],
   "source": [
    "crossreference.columns = crossreference.columns.str.strip().str.lower()"
   ]
  },
  {
   "cell_type": "code",
   "execution_count": 3,
   "metadata": {},
   "outputs": [],
   "source": [
    "str_list = [    \"str_001_s\",\n",
    "    \"str_002_ec\",\n",
    "    \"str_003_ec\",\n",
    "    \"str_003b_ec\",\n",
    "    \"str_004_asec\",\n",
    "    \"str_005_ec\",\n",
    "    \"art_8_basicos\",\n",
    "    \"str_006_sec\",\n",
    "    \"cs_001_sec\",\n",
    "    \"cs_002_ec\"]"
   ]
  },
  {
   "cell_type": "code",
   "execution_count": null,
   "metadata": {},
   "outputs": [],
   "source": [
    "for i in str_list:\n",
    "    if i in df.columns:\n",
    "        print(f\"{i} is in df\")\n",
    "    else:\n",
    "        print(f\"{i} is NOT in df\")"
   ]
  },
  {
   "cell_type": "code",
   "execution_count": null,
   "metadata": {},
   "outputs": [],
   "source": [
    "crossreference.info()"
   ]
  },
  {
   "cell_type": "code",
   "execution_count": 19,
   "metadata": {},
   "outputs": [],
   "source": [
    "crossreference.rename(columns={\"clarity_ai\":\"permid\"}, inplace=True)"
   ]
  },
  {
   "cell_type": "code",
   "execution_count": 21,
   "metadata": {},
   "outputs": [],
   "source": [
    "df = df.merge(crossreference[[\"aladdin_issuer\", \"permid\"]], how=\"left\", on='permid')"
   ]
  },
  {
   "cell_type": "code",
   "execution_count": 22,
   "metadata": {},
   "outputs": [],
   "source": [
    "# reorder df columns so that \"aladdin_issuer\" is the first column and \"permid\" is the second column\n",
    "cols = df.columns.tolist()\n",
    "cols.insert(0, cols.pop(cols.index(\"aladdin_issuer\")))\n",
    "cols.insert(1, cols.pop(cols.index(\"permid\")))\n",
    "df = df[cols]"
   ]
  },
  {
   "cell_type": "code",
   "execution_count": null,
   "metadata": {},
   "outputs": [],
   "source": [
    "df.iloc[:, :10].info()"
   ]
  },
  {
   "cell_type": "code",
   "execution_count": 24,
   "metadata": {},
   "outputs": [],
   "source": [
    "# if aladdin_issuer nan drop row\n",
    "df.dropna(subset=[\"aladdin_issuer\"], inplace=True)"
   ]
  },
  {
   "cell_type": "code",
   "execution_count": 26,
   "metadata": {},
   "outputs": [],
   "source": [
    "# add columnn datadate with date in string format\n",
    "df[\"datadate\"] = datetime.strptime(df_path.stem.split(\"_\")[0], \"%Y%m%d\").strftime(\"%Y%m%d\")"
   ]
  },
  {
   "cell_type": "code",
   "execution_count": null,
   "metadata": {},
   "outputs": [],
   "source": [
    "df.datadate.value_counts()"
   ]
  },
  {
   "cell_type": "code",
   "execution_count": 28,
   "metadata": {},
   "outputs": [],
   "source": [
    "df.to_csv(Path(r\"C:\\Users\\n740789\\Downloads\\20250401_clarity_equities_issuer.csv\"), index=False)"
   ]
  },
  {
   "cell_type": "code",
   "execution_count": 3,
   "metadata": {},
   "outputs": [],
   "source": [
    "#df_path = Path(r\"C:\\Users\\n740789\\Documents\\Projects_local\\DataSets\\DATAFEED\\ficheros_tratados\\2025\\20250401_Equities_feed_IssuerLevel_sinOVR.csv\")\n",
    "#target_cols = ['permid','issuer_name', 'company_inheriting','gics2_industry', 'region','sustainability_rating']\n",
    "#df = pd.read_csv(df_path, low_memory=False, usecols=target_cols)\n",
    "#target_ratings = ['Sufficient', 'Limited', 'Poor']\n",
    "## print number of empty gics2_industry\n",
    "##print(df.gics2_industry.isna().sum())\n",
    "## print number of empty region\n",
    "##print(df.region.isna().sum())\n",
    "## print number of empty gics & region\n",
    "##print(df[(df.gics2_industry.isna()) & (df.region.isna())].shape[0])\n",
    "## get new df with rows where gics2_industry, or region or both are empty\n",
    "#empty_gics2_industry = df[df.gics2_industry.isna()]\n",
    "## get final df where sustainability_rating is in target_ratings\n",
    "#final_df = empty_gics2_industry[empty_gics2_industry.sustainability_rating.isin(target_ratings)]\n",
    "## save final_df to csv on downloads\n",
    "#final_df.to_csv(Path(r\"C:\\Users\\n740789\\Downloads\\final_df.csv\"), index=False)"
   ]
  },
  {
   "cell_type": "code",
   "execution_count": 4,
   "metadata": {},
   "outputs": [],
   "source": []
  },
  {
   "cell_type": "code",
   "execution_count": 5,
   "metadata": {},
   "outputs": [],
   "source": []
  },
  {
   "cell_type": "code",
   "execution_count": null,
   "metadata": {},
   "outputs": [],
   "source": []
  },
  {
   "cell_type": "code",
   "execution_count": 9,
   "metadata": {},
   "outputs": [],
   "source": []
  }
 ],
 "metadata": {
  "kernelspec": {
   "display_name": ".venv",
   "language": "python",
   "name": "python3"
  },
  "language_info": {
   "codemirror_mode": {
    "name": "ipython",
    "version": 3
   },
   "file_extension": ".py",
   "mimetype": "text/x-python",
   "name": "python",
   "nbconvert_exporter": "python",
   "pygments_lexer": "ipython3",
   "version": "3.12.0"
  }
 },
 "nbformat": 4,
 "nbformat_minor": 2
}
