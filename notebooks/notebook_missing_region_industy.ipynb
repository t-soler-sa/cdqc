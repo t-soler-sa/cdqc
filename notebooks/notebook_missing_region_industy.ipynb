{
 "cells": [
  {
   "cell_type": "code",
   "execution_count": 14,
   "metadata": {},
   "outputs": [],
   "source": [
    "import pandas as pd\n",
    "from pathlib import Path\n",
    "from datetime import datetime"
   ]
  },
  {
   "cell_type": "code",
   "execution_count": 15,
   "metadata": {},
   "outputs": [],
   "source": [
    "df_path = Path(r\"C:\\Users\\n740789\\Documents\\Projects_local\\DataSets\\DATAFEED\\ficheros_tratados\\2025\\20250401_Equities_feed_IssuerLevel_sinOVR.csv\")\n",
    "crossreference_path = Path(r\"C:\\Users\\n740789\\Documents\\clarity_data_quality_controls\\excel_books\\aladdin_data\\crossreference\\Aladdin_Clarity_Issuers_20250401.csv\")"
   ]
  },
  {
   "cell_type": "code",
   "execution_count": 16,
   "metadata": {},
   "outputs": [],
   "source": [
    "df = pd.read_csv(df_path, low_memory=False, encoding=\"utf-8\", dtype={\"permid\":str})\n",
    "crossreference = pd.read_csv(crossreference_path, low_memory=False, encoding=\"utf-8\", dtype={\"CLARITY_AI\":str})    "
   ]
  },
  {
   "cell_type": "code",
   "execution_count": 17,
   "metadata": {},
   "outputs": [],
   "source": [
    "crossreference.columns = crossreference.columns.str.strip().str.lower()"
   ]
  },
  {
   "cell_type": "code",
   "execution_count": null,
   "metadata": {},
   "outputs": [],
   "source": []
  },
  {
   "cell_type": "code",
   "execution_count": 20,
   "metadata": {},
   "outputs": [
    {
     "name": "stdout",
     "output_type": "stream",
     "text": [
      "<class 'pandas.core.frame.DataFrame'>\n",
      "RangeIndex: 134991 entries, 0 to 134990\n",
      "Data columns (total 5 columns):\n",
      " #   Column          Non-Null Count   Dtype  \n",
      "---  ------          --------------   -----  \n",
      " 0   aladdin_issuer  134991 non-null  object \n",
      " 1   issuer_name     134991 non-null  object \n",
      " 2   permid          131893 non-null  object \n",
      " 3   msci            65026 non-null   object \n",
      " 4   sust            23308 non-null   float64\n",
      "dtypes: float64(1), object(4)\n",
      "memory usage: 5.1+ MB\n"
     ]
    }
   ],
   "source": [
    "crossreference.info()"
   ]
  },
  {
   "cell_type": "code",
   "execution_count": 19,
   "metadata": {},
   "outputs": [],
   "source": [
    "crossreference.rename(columns={\"clarity_ai\":\"permid\"}, inplace=True)"
   ]
  },
  {
   "cell_type": "code",
   "execution_count": 21,
   "metadata": {},
   "outputs": [],
   "source": [
    "df = df.merge(crossreference[[\"aladdin_issuer\", \"permid\"]], how=\"left\", on='permid')"
   ]
  },
  {
   "cell_type": "code",
   "execution_count": 22,
   "metadata": {},
   "outputs": [],
   "source": [
    "# reorder df columns so that \"aladdin_issuer\" is the first column and \"permid\" is the second column\n",
    "cols = df.columns.tolist()\n",
    "cols.insert(0, cols.pop(cols.index(\"aladdin_issuer\")))\n",
    "cols.insert(1, cols.pop(cols.index(\"permid\")))\n",
    "df = df[cols]"
   ]
  },
  {
   "cell_type": "code",
   "execution_count": 25,
   "metadata": {},
   "outputs": [
    {
     "name": "stdout",
     "output_type": "stream",
     "text": [
      "<class 'pandas.core.frame.DataFrame'>\n",
      "Index: 51590 entries, 0 to 69327\n",
      "Data columns (total 10 columns):\n",
      " #   Column              Non-Null Count  Dtype \n",
      "---  ------              --------------  ----- \n",
      " 0   aladdin_issuer      51590 non-null  object\n",
      " 1   permid              51590 non-null  object\n",
      " 2   isin                51590 non-null  object\n",
      " 3   instrument_type     51590 non-null  object\n",
      " 4   issuer_name         51590 non-null  object\n",
      " 5   issuer_country      51029 non-null  object\n",
      " 6   gics2_industry      43644 non-null  object\n",
      " 7   region              51002 non-null  object\n",
      " 8   company_inheriting  51590 non-null  bool  \n",
      " 9   parent_company      51590 non-null  object\n",
      "dtypes: bool(1), object(9)\n",
      "memory usage: 4.0+ MB\n"
     ]
    }
   ],
   "source": [
    "df.iloc[:, :10].info()"
   ]
  },
  {
   "cell_type": "code",
   "execution_count": 24,
   "metadata": {},
   "outputs": [],
   "source": [
    "# if aladdin_issuer nan drop row\n",
    "df.dropna(subset=[\"aladdin_issuer\"], inplace=True)"
   ]
  },
  {
   "cell_type": "code",
   "execution_count": 26,
   "metadata": {},
   "outputs": [],
   "source": [
    "# add columnn datadate with date in string format\n",
    "df[\"datadate\"] = datetime.strptime(df_path.stem.split(\"_\")[0], \"%Y%m%d\").strftime(\"%Y%m%d\")"
   ]
  },
  {
   "cell_type": "code",
   "execution_count": 27,
   "metadata": {},
   "outputs": [
    {
     "data": {
      "text/plain": [
       "datadate\n",
       "20250401    51590\n",
       "Name: count, dtype: int64"
      ]
     },
     "execution_count": 27,
     "metadata": {},
     "output_type": "execute_result"
    }
   ],
   "source": [
    "df.datadate.value_counts()"
   ]
  },
  {
   "cell_type": "code",
   "execution_count": 28,
   "metadata": {},
   "outputs": [],
   "source": [
    "df.to_csv(Path(r\"C:\\Users\\n740789\\Downloads\\20250401_clarity_equities_issuer.csv\"), index=False)"
   ]
  },
  {
   "cell_type": "code",
   "execution_count": 3,
   "metadata": {},
   "outputs": [],
   "source": [
    "#df_path = Path(r\"C:\\Users\\n740789\\Documents\\Projects_local\\DataSets\\DATAFEED\\ficheros_tratados\\2025\\20250401_Equities_feed_IssuerLevel_sinOVR.csv\")\n",
    "#target_cols = ['permid','issuer_name', 'company_inheriting','gics2_industry', 'region','sustainability_rating']\n",
    "#df = pd.read_csv(df_path, low_memory=False, usecols=target_cols)\n",
    "#target_ratings = ['Sufficient', 'Limited', 'Poor']\n",
    "## print number of empty gics2_industry\n",
    "##print(df.gics2_industry.isna().sum())\n",
    "## print number of empty region\n",
    "##print(df.region.isna().sum())\n",
    "## print number of empty gics & region\n",
    "##print(df[(df.gics2_industry.isna()) & (df.region.isna())].shape[0])\n",
    "## get new df with rows where gics2_industry, or region or both are empty\n",
    "#empty_gics2_industry = df[df.gics2_industry.isna()]\n",
    "## get final df where sustainability_rating is in target_ratings\n",
    "#final_df = empty_gics2_industry[empty_gics2_industry.sustainability_rating.isin(target_ratings)]\n",
    "## save final_df to csv on downloads\n",
    "#final_df.to_csv(Path(r\"C:\\Users\\n740789\\Downloads\\final_df.csv\"), index=False)"
   ]
  },
  {
   "cell_type": "code",
   "execution_count": 4,
   "metadata": {},
   "outputs": [],
   "source": []
  },
  {
   "cell_type": "code",
   "execution_count": 5,
   "metadata": {},
   "outputs": [],
   "source": []
  },
  {
   "cell_type": "code",
   "execution_count": null,
   "metadata": {},
   "outputs": [],
   "source": []
  },
  {
   "cell_type": "code",
   "execution_count": 9,
   "metadata": {},
   "outputs": [],
   "source": []
  }
 ],
 "metadata": {
  "kernelspec": {
   "display_name": ".venv",
   "language": "python",
   "name": "python3"
  },
  "language_info": {
   "codemirror_mode": {
    "name": "ipython",
    "version": 3
   },
   "file_extension": ".py",
   "mimetype": "text/x-python",
   "name": "python",
   "nbconvert_exporter": "python",
   "pygments_lexer": "ipython3",
   "version": "3.12.0"
  }
 },
 "nbformat": 4,
 "nbformat_minor": 2
}
