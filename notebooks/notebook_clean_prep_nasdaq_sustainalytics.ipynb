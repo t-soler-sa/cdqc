{
 "cells": [
  {
   "cell_type": "code",
   "execution_count": 1,
   "metadata": {},
   "outputs": [
    {
     "name": "stdout",
     "output_type": "stream",
     "text": [
      "Added to sys.path: c:\\Users\\n740789\\Documents\\clarity_data_quality_controls\n"
     ]
    }
   ],
   "source": [
    "import sys\n",
    "from pathlib import Path\n",
    "from datetime import datetime\n",
    "\n",
    "# Get the parent directory of current notebook dir, which is the repo root\n",
    "repo_root = Path.cwd().parent\n",
    "sys.path.insert(0, str(repo_root))\n",
    "\n",
    "# Verify the path is correct:\n",
    "print(f\"Added to sys.path: {repo_root}\")\n",
    "\n",
    "import pandas as pd\n",
    "\n",
    "\n",
    "# Now import your module\n",
    "from scripts.utils.config import get_config\n"
   ]
  },
  {
   "cell_type": "code",
   "execution_count": 2,
   "metadata": {},
   "outputs": [],
   "source": [
    "config = get_config(\"explore-sustainalytics-nasdaq-meetrics\", auto_date=False, fixed_date=\"202505\")\n",
    "logger = config[\"logger\"]\n",
    "sutainalytics_path = config[\"paths\"][\"SUSTAINALYTICS_DATA_PATH\"]\n",
    "nasdaq_path = config[\"paths\"][\"NASDAQ_DATA_PATH\"]"
   ]
  },
  {
   "cell_type": "code",
   "execution_count": 3,
   "metadata": {},
   "outputs": [
    {
     "name": "stderr",
     "output_type": "stream",
     "text": [
      "c:\\Users\\n740789\\Documents\\clarity_data_quality_controls\\.venv\\Lib\\site-packages\\openpyxl\\styles\\stylesheet.py:237: UserWarning: Workbook contains no default style, apply openpyxl's default\n",
      "  warn(\"Workbook contains no default style, apply openpyxl's default\")\n",
      "c:\\Users\\n740789\\Documents\\clarity_data_quality_controls\\.venv\\Lib\\site-packages\\openpyxl\\styles\\stylesheet.py:237: UserWarning: Workbook contains no default style, apply openpyxl's default\n",
      "  warn(\"Workbook contains no default style, apply openpyxl's default\")\n"
     ]
    }
   ],
   "source": [
    "nasdaq = pd.read_excel(nasdaq_path, skiprows=3)\n",
    "sutainalytics = pd.read_excel(sutainalytics_path, skiprows=3)"
   ]
  },
  {
   "cell_type": "code",
   "execution_count": 9,
   "metadata": {},
   "outputs": [
    {
     "data": {
      "text/html": [
       "<div>\n",
       "<style scoped>\n",
       "    .dataframe tbody tr th:only-of-type {\n",
       "        vertical-align: middle;\n",
       "    }\n",
       "\n",
       "    .dataframe tbody tr th {\n",
       "        vertical-align: top;\n",
       "    }\n",
       "\n",
       "    .dataframe thead th {\n",
       "        text-align: right;\n",
       "    }\n",
       "</style>\n",
       "<table border=\"1\" class=\"dataframe\">\n",
       "  <thead>\n",
       "    <tr style=\"text-align: right;\">\n",
       "      <th></th>\n",
       "      <th>cusip</th>\n",
       "      <th>issuer_id</th>\n",
       "      <th>security_description</th>\n",
       "      <th>nasdaq_bnd</th>\n",
       "    </tr>\n",
       "  </thead>\n",
       "  <tbody>\n",
       "    <tr>\n",
       "      <th>0</th>\n",
       "      <td>SNT-WORLD</td>\n",
       "      <td>NaN</td>\n",
       "      <td>NaN</td>\n",
       "      <td>NaN</td>\n",
       "    </tr>\n",
       "    <tr>\n",
       "      <th>1</th>\n",
       "      <td>Cash and cash equiv</td>\n",
       "      <td>NaN</td>\n",
       "      <td>NaN</td>\n",
       "      <td>NaN</td>\n",
       "    </tr>\n",
       "    <tr>\n",
       "      <th>2</th>\n",
       "      <td>Cash</td>\n",
       "      <td>NaN</td>\n",
       "      <td>NaN</td>\n",
       "      <td>NaN</td>\n",
       "    </tr>\n",
       "    <tr>\n",
       "      <th>3</th>\n",
       "      <td>Dollar Bloc</td>\n",
       "      <td>NaN</td>\n",
       "      <td>NaN</td>\n",
       "      <td>NaN</td>\n",
       "    </tr>\n",
       "    <tr>\n",
       "      <th>4</th>\n",
       "      <td>AUD_CCASH</td>\n",
       "      <td>C05702</td>\n",
       "      <td>AUD CASH(Alpha Committed)</td>\n",
       "      <td>NaN</td>\n",
       "    </tr>\n",
       "  </tbody>\n",
       "</table>\n",
       "</div>"
      ],
      "text/plain": [
       "                 cusip issuer_id       security_description nasdaq_bnd\n",
       "0            SNT-WORLD       NaN                        NaN        NaN\n",
       "1  Cash and cash equiv       NaN                        NaN        NaN\n",
       "2                 Cash       NaN                        NaN        NaN\n",
       "3          Dollar Bloc       NaN                        NaN        NaN\n",
       "4            AUD_CCASH    C05702  AUD CASH(Alpha Committed)        NaN"
      ]
     },
     "execution_count": 9,
     "metadata": {},
     "output_type": "execute_result"
    }
   ],
   "source": [
    "nasdaq.head()"
   ]
  },
  {
   "cell_type": "code",
   "execution_count": 8,
   "metadata": {},
   "outputs": [
    {
     "data": {
      "text/html": [
       "<div>\n",
       "<style scoped>\n",
       "    .dataframe tbody tr th:only-of-type {\n",
       "        vertical-align: middle;\n",
       "    }\n",
       "\n",
       "    .dataframe tbody tr th {\n",
       "        vertical-align: top;\n",
       "    }\n",
       "\n",
       "    .dataframe thead th {\n",
       "        text-align: right;\n",
       "    }\n",
       "</style>\n",
       "<table border=\"1\" class=\"dataframe\">\n",
       "  <thead>\n",
       "    <tr style=\"text-align: right;\">\n",
       "      <th></th>\n",
       "      <th>issuer_id</th>\n",
       "      <th>security_description</th>\n",
       "      <th>highest_controversy_level_answer_category</th>\n",
       "      <th>overall_global_compact_compliance_status</th>\n",
       "    </tr>\n",
       "  </thead>\n",
       "  <tbody>\n",
       "    <tr>\n",
       "      <th>0</th>\n",
       "      <td>SNT-WORLD</td>\n",
       "      <td>NaN</td>\n",
       "      <td>2.023855</td>\n",
       "      <td>NaN</td>\n",
       "    </tr>\n",
       "    <tr>\n",
       "      <th>1</th>\n",
       "      <td>Cash and cash equiv</td>\n",
       "      <td>NaN</td>\n",
       "      <td>2.711829</td>\n",
       "      <td>NaN</td>\n",
       "    </tr>\n",
       "    <tr>\n",
       "      <th>2</th>\n",
       "      <td>Cash</td>\n",
       "      <td>NaN</td>\n",
       "      <td>NaN</td>\n",
       "      <td>NaN</td>\n",
       "    </tr>\n",
       "    <tr>\n",
       "      <th>3</th>\n",
       "      <td>Dollar Bloc</td>\n",
       "      <td>NaN</td>\n",
       "      <td>NaN</td>\n",
       "      <td>NaN</td>\n",
       "    </tr>\n",
       "    <tr>\n",
       "      <th>4</th>\n",
       "      <td>NaN</td>\n",
       "      <td>CASH</td>\n",
       "      <td>NaN</td>\n",
       "      <td>NaN</td>\n",
       "    </tr>\n",
       "  </tbody>\n",
       "</table>\n",
       "</div>"
      ],
      "text/plain": [
       "             issuer_id security_description  \\\n",
       "0            SNT-WORLD                  NaN   \n",
       "1  Cash and cash equiv                  NaN   \n",
       "2                 Cash                  NaN   \n",
       "3          Dollar Bloc                  NaN   \n",
       "4                  NaN                 CASH   \n",
       "\n",
       "   highest_controversy_level_answer_category  \\\n",
       "0                                   2.023855   \n",
       "1                                   2.711829   \n",
       "2                                        NaN   \n",
       "3                                        NaN   \n",
       "4                                        NaN   \n",
       "\n",
       "  overall_global_compact_compliance_status  \n",
       "0                                      NaN  \n",
       "1                                      NaN  \n",
       "2                                      NaN  \n",
       "3                                      NaN  \n",
       "4                                      NaN  "
      ]
     },
     "execution_count": 8,
     "metadata": {},
     "output_type": "execute_result"
    }
   ],
   "source": [
    "sutainalytics.head()"
   ]
  },
  {
   "cell_type": "code",
   "execution_count": 6,
   "metadata": {},
   "outputs": [],
   "source": [
    "def clean_cols(col_name:str)->str:\n",
    "    \"\"\"\n",
    "    Cleans the column names by removing unwanted characters and spaces.\n",
    "    \"\"\"\n",
    "    # Remove unwanted characters and spaces\n",
    "    col_name = col_name.replace(\"(Wt Avg-PORT Delta NMV)\",\"\").replace(\" \", \"_\").replace(\"(\", \"\").replace(\")\", \"\").replace(\"-\", \"_\").lower()\n",
    "    return col_name"
   ]
  },
  {
   "cell_type": "code",
   "execution_count": 7,
   "metadata": {},
   "outputs": [],
   "source": [
    "nasdaq.columns = [clean_cols(col) for col in nasdaq.columns]\n",
    "sutainalytics.columns = [clean_cols(col) for col in sutainalytics.columns]"
   ]
  },
  {
   "cell_type": "code",
   "execution_count": 10,
   "metadata": {},
   "outputs": [],
   "source": [
    "def clean_df(df: pd.DataFrame, target_cols:list[str]) -> pd.DataFrame:\n",
    "    \"\"\"\n",
    "    Drop rows where all the target columns are empty (NaN).\n",
    "    \"\"\"\n",
    "    # Create a mask for rows where all target columns are NaN\n",
    "    mask = df[target_cols].isna().all(axis=1)\n",
    "    # Keep only rows where not all target columns are NaN\n",
    "    return df[~mask]"
   ]
  },
  {
   "cell_type": "code",
   "execution_count": 11,
   "metadata": {},
   "outputs": [],
   "source": [
    "nasdaq_clean = clean_df(nasdaq, [\"cusip\", \"nasdaq_bnd\"])"
   ]
  },
  {
   "cell_type": "code",
   "execution_count": null,
   "metadata": {},
   "outputs": [],
   "source": [
    "sutainalytics_clean = clean_df(sutainalytics, [\"issuer_id\", \"highest_controversy_level_answer_category\"])"
   ]
  }
 ],
 "metadata": {
  "kernelspec": {
   "display_name": ".venv",
   "language": "python",
   "name": "python3"
  },
  "language_info": {
   "codemirror_mode": {
    "name": "ipython",
    "version": 3
   },
   "file_extension": ".py",
   "mimetype": "text/x-python",
   "name": "python",
   "nbconvert_exporter": "python",
   "pygments_lexer": "ipython3",
   "version": "3.13.0"
  }
 },
 "nbformat": 4,
 "nbformat_minor": 2
}
