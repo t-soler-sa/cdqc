{
 "cells": [
  {
   "cell_type": "code",
   "execution_count": 1,
   "metadata": {},
   "outputs": [
    {
     "name": "stdout",
     "output_type": "stream",
     "text": [
      "Added to sys.path: c:\\Users\\n740789\\Documents\\clarity_data_quality_controls\n"
     ]
    }
   ],
   "source": [
    "import sys\n",
    "from pathlib import Path\n",
    "from datetime import datetime\n",
    "\n",
    "# Get the parent directory of current notebook dir, which is the repo root\n",
    "repo_root = Path.cwd().parent\n",
    "sys.path.insert(0, str(repo_root))\n",
    "\n",
    "# Verify the path is correct:\n",
    "print(f\"Added to sys.path: {repo_root}\")\n",
    "\n",
    "import pandas as pd\n",
    "\n",
    "\n",
    "# Now import your module\n",
    "from scripts.utils.config import get_config"
   ]
  },
  {
   "cell_type": "code",
   "execution_count": 2,
   "metadata": {},
   "outputs": [],
   "source": [
    "config = get_config(\"explore-sustainalytics-nasdaq-meetrics\", auto_date=False, fixed_date=\"202505\")\n",
    "logger = config[\"logger\"]\n",
    "sustain_dir = config[\"SUSTAINALYTICS_DATA_DIR\"]\n",
    "nasdaq_dir = config[\"NASDAQ_DATA_DIR\"]\n",
    "sutainalytics_path = config[\"paths\"][\"SUSTAINALYTICS_DATA_PATH\"]\n",
    "nasdaq_path = config[\"paths\"][\"NASDAQ_DATA_PATH\"]"
   ]
  },
  {
   "cell_type": "code",
   "execution_count": 3,
   "metadata": {},
   "outputs": [],
   "source": [
    "out_nasdaq_csv_file_path = nasdaq_dir / \"202505_esg_nasdad_flag.csv\"\n",
    "out_sustain_csv_file_path = sustain_dir / \"202505_esg_sustain_flag.csv\""
   ]
  },
  {
   "cell_type": "code",
   "execution_count": 4,
   "metadata": {},
   "outputs": [],
   "source": [
    "def clean_cols(col_name:str)->str:\n",
    "    \"\"\"\n",
    "    Cleans the column names by removing unwanted characters and spaces.\n",
    "    \"\"\"\n",
    "    # Remove unwanted characters and spaces\n",
    "    col_name = col_name.replace(\"(Wt Avg-PORT Delta NMV)\",\"\").replace(\" \", \"_\").replace(\"(\", \"\").replace(\")\", \"\").replace(\"-\", \"_\").lower()\n",
    "    return col_name\n",
    "\n",
    "def clean_df(df: pd.DataFrame, target_cols: list[str], how: str = \"all\") -> pd.DataFrame:\n",
    "    \"\"\"\n",
    "    Drop rows based on NaN values in target columns.\n",
    "\n",
    "    Parameters:\n",
    "    - df: The input DataFrame.\n",
    "    - target_cols: List of column names to check.\n",
    "    - how: \"all\" (drop rows if *all* target columns are NaN),\n",
    "           \"any\" (drop rows if *any* target column is NaN).\n",
    "    \"\"\"\n",
    "    if how not in {\"all\", \"any\"}:\n",
    "        raise ValueError(\"Parameter 'how' must be either 'all' or 'any'\")\n",
    "\n",
    "    # Create the mask\n",
    "    if how == \"all\":\n",
    "        mask = df[target_cols].isna().all(axis=1)\n",
    "    else:  # how == \"any\"\n",
    "        mask = df[target_cols].isna().any(axis=1)\n",
    "\n",
    "    return df[~mask]"
   ]
  },
  {
   "cell_type": "code",
   "execution_count": 5,
   "metadata": {},
   "outputs": [
    {
     "name": "stderr",
     "output_type": "stream",
     "text": [
      "c:\\Users\\n740789\\Documents\\clarity_data_quality_controls\\.venv\\Lib\\site-packages\\openpyxl\\styles\\stylesheet.py:237: UserWarning: Workbook contains no default style, apply openpyxl's default\n",
      "  warn(\"Workbook contains no default style, apply openpyxl's default\")\n",
      "c:\\Users\\n740789\\Documents\\clarity_data_quality_controls\\.venv\\Lib\\site-packages\\openpyxl\\styles\\stylesheet.py:237: UserWarning: Workbook contains no default style, apply openpyxl's default\n",
      "  warn(\"Workbook contains no default style, apply openpyxl's default\")\n"
     ]
    }
   ],
   "source": [
    "nasdaq = pd.read_excel(nasdaq_path, skiprows=3)\n",
    "sutainalytics = pd.read_excel(sutainalytics_path, skiprows=3)"
   ]
  },
  {
   "cell_type": "code",
   "execution_count": 6,
   "metadata": {},
   "outputs": [],
   "source": [
    "nasdaq.columns = [clean_cols(col) for col in nasdaq.columns]\n",
    "sutainalytics.columns = [clean_cols(col) for col in sutainalytics.columns]\n",
    "nasdaq_clean = clean_df(nasdaq, [\"cusip\", \"nasdaq_bnd\"], how=\"any\")\n",
    "sutainalytics_clean = clean_df(sutainalytics, [\"issuer_id\", \"security_description\"], how=\"any\")\n",
    "sutainalytics_clean = clean_df(sutainalytics_clean, [\"highest_controversy_level_answer_category\", \"overall_global_compact_compliance_status\"], how=\"all\")"
   ]
  },
  {
   "cell_type": "code",
   "execution_count": 7,
   "metadata": {},
   "outputs": [],
   "source": [
    "# save cleaned df into csv files\n",
    "#nasdaq_clean.to_csv(out_nasdaq_csv_file_path, index=False)\n",
    "#sutainalytics_clean.to_csv(out_sustain_csv_file_path, index=False)"
   ]
  },
  {
   "cell_type": "code",
   "execution_count": 8,
   "metadata": {},
   "outputs": [
    {
     "data": {
      "text/html": [
       "<div>\n",
       "<style scoped>\n",
       "    .dataframe tbody tr th:only-of-type {\n",
       "        vertical-align: middle;\n",
       "    }\n",
       "\n",
       "    .dataframe tbody tr th {\n",
       "        vertical-align: top;\n",
       "    }\n",
       "\n",
       "    .dataframe thead th {\n",
       "        text-align: right;\n",
       "    }\n",
       "</style>\n",
       "<table border=\"1\" class=\"dataframe\">\n",
       "  <thead>\n",
       "    <tr style=\"text-align: right;\">\n",
       "      <th></th>\n",
       "      <th>issuer_id</th>\n",
       "      <th>security_description</th>\n",
       "      <th>highest_controversy_level_answer_category</th>\n",
       "      <th>overall_global_compact_compliance_status</th>\n",
       "    </tr>\n",
       "  </thead>\n",
       "  <tbody>\n",
       "    <tr>\n",
       "      <th>174</th>\n",
       "      <td>R87118</td>\n",
       "      <td>BANCO SANTANDER MEXICO SA INSTITUC</td>\n",
       "      <td>3.0</td>\n",
       "      <td>Compliant</td>\n",
       "    </tr>\n",
       "    <tr>\n",
       "      <th>184</th>\n",
       "      <td>007699</td>\n",
       "      <td>BANCO SANTANDER SA</td>\n",
       "      <td>3.0</td>\n",
       "      <td>Compliant</td>\n",
       "    </tr>\n",
       "    <tr>\n",
       "      <th>185</th>\n",
       "      <td>007699</td>\n",
       "      <td>BANCO SANTANDER SA</td>\n",
       "      <td>3.0</td>\n",
       "      <td>Compliant</td>\n",
       "    </tr>\n",
       "    <tr>\n",
       "      <th>186</th>\n",
       "      <td>007699</td>\n",
       "      <td>BANCO SANTANDER SA</td>\n",
       "      <td>3.0</td>\n",
       "      <td>Compliant</td>\n",
       "    </tr>\n",
       "    <tr>\n",
       "      <th>187</th>\n",
       "      <td>007699</td>\n",
       "      <td>BANCO SANTANDER SA</td>\n",
       "      <td>3.0</td>\n",
       "      <td>Compliant</td>\n",
       "    </tr>\n",
       "  </tbody>\n",
       "</table>\n",
       "</div>"
      ],
      "text/plain": [
       "    issuer_id                security_description  \\\n",
       "174    R87118  BANCO SANTANDER MEXICO SA INSTITUC   \n",
       "184    007699                  BANCO SANTANDER SA   \n",
       "185    007699                  BANCO SANTANDER SA   \n",
       "186    007699                  BANCO SANTANDER SA   \n",
       "187    007699                  BANCO SANTANDER SA   \n",
       "\n",
       "     highest_controversy_level_answer_category  \\\n",
       "174                                        3.0   \n",
       "184                                        3.0   \n",
       "185                                        3.0   \n",
       "186                                        3.0   \n",
       "187                                        3.0   \n",
       "\n",
       "    overall_global_compact_compliance_status  \n",
       "174                                Compliant  \n",
       "184                                Compliant  \n",
       "185                                Compliant  \n",
       "186                                Compliant  \n",
       "187                                Compliant  "
      ]
     },
     "execution_count": 8,
     "metadata": {},
     "output_type": "execute_result"
    }
   ],
   "source": [
    "sutainalytics_clean.head()"
   ]
  },
  {
   "cell_type": "code",
   "execution_count": 9,
   "metadata": {},
   "outputs": [
    {
     "data": {
      "text/html": [
       "<div>\n",
       "<style scoped>\n",
       "    .dataframe tbody tr th:only-of-type {\n",
       "        vertical-align: middle;\n",
       "    }\n",
       "\n",
       "    .dataframe tbody tr th {\n",
       "        vertical-align: top;\n",
       "    }\n",
       "\n",
       "    .dataframe thead th {\n",
       "        text-align: right;\n",
       "    }\n",
       "</style>\n",
       "<table border=\"1\" class=\"dataframe\">\n",
       "  <thead>\n",
       "    <tr style=\"text-align: right;\">\n",
       "      <th></th>\n",
       "      <th>cusip</th>\n",
       "      <th>issuer_id</th>\n",
       "      <th>security_description</th>\n",
       "      <th>nasdaq_bnd</th>\n",
       "    </tr>\n",
       "  </thead>\n",
       "  <tbody>\n",
       "    <tr>\n",
       "      <th>1591</th>\n",
       "      <td>BDE0J4TT3</td>\n",
       "      <td>R65824</td>\n",
       "      <td>KUNTARAHOITUS OYJ MTN RegS</td>\n",
       "      <td>Green Bond</td>\n",
       "    </tr>\n",
       "    <tr>\n",
       "      <th>1593</th>\n",
       "      <td>BDE0K2X29</td>\n",
       "      <td>R62038</td>\n",
       "      <td>KFW MTN RegS</td>\n",
       "      <td>Green Bond</td>\n",
       "    </tr>\n",
       "    <tr>\n",
       "      <th>1609</th>\n",
       "      <td>BDE0WDPV7</td>\n",
       "      <td>95753A</td>\n",
       "      <td>NRW BANK MTN RegS</td>\n",
       "      <td>Green Bond</td>\n",
       "    </tr>\n",
       "    <tr>\n",
       "      <th>1614</th>\n",
       "      <td>BDE0ZLN71</td>\n",
       "      <td>R62035</td>\n",
       "      <td>BASQUE AUTONOMOUS COMMUNITY OF RegS</td>\n",
       "      <td>Sust. Bond</td>\n",
       "    </tr>\n",
       "    <tr>\n",
       "      <th>1616</th>\n",
       "      <td>BDE1098Z9</td>\n",
       "      <td>833653</td>\n",
       "      <td>SOCIETE NATIONALE SNCF SA  RegS</td>\n",
       "      <td>Green Bond</td>\n",
       "    </tr>\n",
       "  </tbody>\n",
       "</table>\n",
       "</div>"
      ],
      "text/plain": [
       "          cusip issuer_id                 security_description  nasdaq_bnd\n",
       "1591  BDE0J4TT3    R65824           KUNTARAHOITUS OYJ MTN RegS  Green Bond\n",
       "1593  BDE0K2X29    R62038                         KFW MTN RegS  Green Bond\n",
       "1609  BDE0WDPV7    95753A                    NRW BANK MTN RegS  Green Bond\n",
       "1614  BDE0ZLN71    R62035  BASQUE AUTONOMOUS COMMUNITY OF RegS  Sust. Bond\n",
       "1616  BDE1098Z9    833653      SOCIETE NATIONALE SNCF SA  RegS  Green Bond"
      ]
     },
     "execution_count": 9,
     "metadata": {},
     "output_type": "execute_result"
    }
   ],
   "source": [
    "nasdaq_clean.head()"
   ]
  },
  {
   "cell_type": "code",
   "execution_count": 10,
   "metadata": {},
   "outputs": [
    {
     "data": {
      "text/plain": [
       "array(['Green Bond', 'Sust. Bond', 'Social Bond', 'Linked Bond'],\n",
       "      dtype=object)"
      ]
     },
     "execution_count": 10,
     "metadata": {},
     "output_type": "execute_result"
    }
   ],
   "source": [
    "nasdaq_clean.nasdaq_bnd.unique()"
   ]
  },
  {
   "cell_type": "code",
   "execution_count": 11,
   "metadata": {},
   "outputs": [
    {
     "data": {
      "text/plain": [
       "array(['Compliant', 'Watchlist', 'Non-Compliant', nan], dtype=object)"
      ]
     },
     "execution_count": 11,
     "metadata": {},
     "output_type": "execute_result"
    }
   ],
   "source": [
    "sutainalytics_clean.overall_global_compact_compliance_status.unique()"
   ]
  },
  {
   "cell_type": "code",
   "execution_count": 17,
   "metadata": {},
   "outputs": [
    {
     "name": "stdout",
     "output_type": "stream",
     "text": [
      "THIS IS A DATAFRAME NAME esg_fact_security_nasdaq and below its columns\n",
      "'cusip': object,\n",
      "'issuer_id': object,\n",
      "'security_description': object,\n",
      "'nasdaq_bnd': object,\n",
      "\n",
      "\n",
      "\n",
      "\n",
      "THIS IS A DATAFRAME NAME esg_fact_issuer_sutainalytics and below its columns\n",
      "'issuer_id': object,\n",
      "'security_description': object,\n",
      "'highest_controversy_level_answer_category': object,\n",
      "'overall_global_compact_compliance_status': object,\n",
      "\n",
      "\n",
      "\n",
      "\n"
     ]
    }
   ],
   "source": [
    "# print columns datatype\n",
    "for name, df in zip([\"esg_fact_security_nasdaq\", \"esg_fact_issuer_sutainalytics\"],[nasdaq_clean, sutainalytics_clean]):\n",
    "    print(f\"THIS IS A DATAFRAME NAME {name} and below its columns\")\n",
    "    for c in df.columns:\n",
    "        print(f\"'{c}': {df[c].dtype},\")\n",
    "    print(\"\\n\\n\\n\")"
   ]
  },
  {
   "cell_type": "code",
   "execution_count": 16,
   "metadata": {},
   "outputs": [],
   "source": [
    "# convert sutainalytics_clean[\"highest_controversy_level_answer_category\"] to int\n",
    "sutainalytics_clean[\"highest_controversy_level_answer_category\"] = sutainalytics_clean[\"highest_controversy_level_answer_category\"].apply(lambda x : int(x) if pd.notna(x) else pd.NA).copy()"
   ]
  },
  {
   "cell_type": "code",
   "execution_count": null,
   "metadata": {},
   "outputs": [],
   "source": []
  }
 ],
 "metadata": {
  "kernelspec": {
   "display_name": ".venv",
   "language": "python",
   "name": "python3"
  },
  "language_info": {
   "codemirror_mode": {
    "name": "ipython",
    "version": 3
   },
   "file_extension": ".py",
   "mimetype": "text/x-python",
   "name": "python",
   "nbconvert_exporter": "python",
   "pygments_lexer": "ipython3",
   "version": "3.13.0"
  }
 },
 "nbformat": 4,
 "nbformat_minor": 2
}
