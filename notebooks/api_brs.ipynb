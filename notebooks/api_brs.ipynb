{
 "cells": [
  {
   "cell_type": "code",
   "execution_count": 2,
   "metadata": {},
   "outputs": [],
   "source": [
    "#import libraries for API Calls / Data Analysis\n",
    "import uuid,datetime,requests,pprint,math\n",
    "import numpy as np\n",
    "import pandas as pd\n",
    "import matplotlib.pyplot as plt"
   ]
  },
  {
   "cell_type": "code",
   "execution_count": 6,
   "metadata": {},
   "outputs": [],
   "source": [
    "#set Client Environment (from url), Aladdin Username & Password, and APIkey here\n",
    "client_env = 'santander'\n",
    "\n",
    "username = 'XXXXXXXX'\n",
    "pwd = 'XXXXXXXX'\n",
    "APIkey= 'xxxxxxxxxxxxxxxxxxxxxxxxxxxxxxxxxxxxxxxxxxxxxxxxxxxxxxxxxxxxxxxxxxxxxxxxxxxxxxxxxxx'"
   ]
  },
  {
   "cell_type": "code",
   "execution_count": 7,
   "metadata": {},
   "outputs": [],
   "source": [
    "today = datetime.date.today().strftime('%Y-%m-%d')"
   ]
  },
  {
   "cell_type": "code",
   "execution_count": 8,
   "metadata": {},
   "outputs": [],
   "source": [
    "#function to generate unique headers when called\n",
    "def generate_headers():\n",
    "    headers = {\n",
    "        'VND.com.blackrock.API-Key': APIkey,\n",
    "        'VND.com.blackrock.Origin-Timestamp': str(datetime.datetime.utcnow().replace(microsecond=0).astimezone().isoformat()),\n",
    "        'VND.com.blackrock.Request-ID': str(uuid.uuid1())\n",
    "    }\n",
    "    return headers"
   ]
  },
  {
   "cell_type": "code",
   "execution_count": 9,
   "metadata": {},
   "outputs": [],
   "source": [
    "def get_aladdin_securities(assets_list):\n",
    "    \"\"\"Get Aladdin identifiers function\"\"\"\n",
    "    #Detalle derivados\n",
    "    url1 = 'https://santander.blackrock.com/api/reference-data/securities/v1/security-master'\n",
    "    \n",
    "    each = 100\n",
    "    info_table = pd.DataFrame()\n",
    "    \n",
    "    for n in np.arange(0,len(assets_list), each):\n",
    "    \n",
    "        payload = {\n",
    "        'assetId': ','.join(assets_list[n:n+each]),\n",
    "        'assetIdType': 'ISIN',\n",
    "        }\n",
    "    \n",
    "        r = requests.get(url1, auth = (username, pwd), params = payload, headers = generate_headers()).json()\n",
    "    \n",
    "        securities_list = []\n",
    "        #loop through Securities results\n",
    "        for asset, value in r['assetByAssetId'].items():\n",
    "            sec_type = list(value.keys())[1]\n",
    "            securities_list.append(value[sec_type])\n",
    "    \n",
    "        #convert to DataFrame\n",
    "        df_aux = pd.json_normalize(securities_list)\n",
    "    \n",
    "        info_table = pd.concat([info_table, df_aux], axis=0, ignore_index=True)\n",
    "    return info_table"
   ]
  },
  {
   "cell_type": "code",
   "execution_count": null,
   "metadata": {},
   "outputs": [],
   "source": [
    "#LU2843778262 ISIN\n",
    "assets_list = ['ES0L02502075']\n",
    "asset_type = 'ISIN'\n",
    "securities = get_aladdin_securities(assets_list)\n"
   ]
  },
  {
   "cell_type": "code",
   "execution_count": 10,
   "metadata": {},
   "outputs": [],
   "source": [
    "df = pd.read_csv(\n",
    "    r\"C:\\Users\\n740789\\Documents\\Projects_local\\DataSets\\DATAFEED\\raw_dataset\\2025\\20250301_Production\\20250301_Equities_feed_new_strategies_filtered_old_names_iso_permId.csv\",\n",
    "    usecols=[\n",
    "            \"isin\",\n",
    "            \"instrument_type\",\n",
    "            \"issuer_name\",\n",
    "            \"issuer_country\",\n",
    "            \"permId\"],\n",
    "             \n",
    "    dtype={\n",
    "            \"isin\": str,\n",
    "            \"permId\": str\n",
    "        }\n",
    "    )   "
   ]
  },
  {
   "cell_type": "code",
   "execution_count": 11,
   "metadata": {},
   "outputs": [],
   "source": [
    "df.rename(columns={\"permId\": \"permid\"}, inplace=True)"
   ]
  },
  {
   "cell_type": "code",
   "execution_count": 5,
   "metadata": {},
   "outputs": [],
   "source": [
    "#get crossreference\n",
    "crossreference = pd.read_csv(r\"C:\\Users\\n740789\\Documents\\Projects_local\\DataSets\\crossreference\\Aladdin_Clarity_Issuers_20250301.csv\", \n",
    "                             dtype={\"CLARITY_AI\": str})\n",
    "\n",
    "crossreference.columns = [\"brs_id\", \"brs_issuer_name\", \"permid\", \"msci_id\", \"sustainalytics_id\"]"
   ]
  },
  {
   "cell_type": "code",
   "execution_count": 12,
   "metadata": {},
   "outputs": [],
   "source": [
    "# add \"brs_id\" to df from crossreference\n",
    "df = pd.merge(df, crossreference[[\"brs_id\", \"permid\"]], on=\"permid\", how=\"left\")"
   ]
  },
  {
   "cell_type": "code",
   "execution_count": 4,
   "metadata": {},
   "outputs": [
    {
     "name": "stdout",
     "output_type": "stream",
     "text": [
      "isin\n",
      "instrument_type\n",
      "issuer_name\n",
      "issuer_country\n",
      "gics2_industry\n",
      "region\n",
      "company_inheriting\n",
      "parent_company\n",
      "esg_score\n",
      "esg_score_relevance\n"
     ]
    }
   ],
   "source": [
    "for col in df.columns[:10]:\n",
    "    print(col)"
   ]
  },
  {
   "cell_type": "code",
   "execution_count": 13,
   "metadata": {},
   "outputs": [
    {
     "data": {
      "text/html": [
       "<div>\n",
       "<style scoped>\n",
       "    .dataframe tbody tr th:only-of-type {\n",
       "        vertical-align: middle;\n",
       "    }\n",
       "\n",
       "    .dataframe tbody tr th {\n",
       "        vertical-align: top;\n",
       "    }\n",
       "\n",
       "    .dataframe thead th {\n",
       "        text-align: right;\n",
       "    }\n",
       "</style>\n",
       "<table border=\"1\" class=\"dataframe\">\n",
       "  <thead>\n",
       "    <tr style=\"text-align: right;\">\n",
       "      <th></th>\n",
       "      <th>isin</th>\n",
       "      <th>instrument_type</th>\n",
       "      <th>issuer_name</th>\n",
       "      <th>issuer_country</th>\n",
       "      <th>permid</th>\n",
       "      <th>brs_id</th>\n",
       "    </tr>\n",
       "  </thead>\n",
       "  <tbody>\n",
       "    <tr>\n",
       "      <th>0</th>\n",
       "      <td>US0527M0W110</td>\n",
       "      <td>FIXED_INCOME</td>\n",
       "      <td>Autobahn Funding Company LLC</td>\n",
       "      <td>United States of America</td>\n",
       "      <td>5000594216</td>\n",
       "      <td>C16979</td>\n",
       "    </tr>\n",
       "    <tr>\n",
       "      <th>1</th>\n",
       "      <td>US69372AV254</td>\n",
       "      <td>FIXED_INCOME</td>\n",
       "      <td>PACCAR Financial Corp</td>\n",
       "      <td>United States of America</td>\n",
       "      <td>4295900643</td>\n",
       "      <td>693717</td>\n",
       "    </tr>\n",
       "    <tr>\n",
       "      <th>2</th>\n",
       "      <td>US74533AGH59</td>\n",
       "      <td>FIXED_INCOME</td>\n",
       "      <td>Puget Sound Energy Inc</td>\n",
       "      <td>United States of America</td>\n",
       "      <td>5000054387</td>\n",
       "      <td>745332</td>\n",
       "    </tr>\n",
       "    <tr>\n",
       "      <th>3</th>\n",
       "      <td>US74533AGQ58</td>\n",
       "      <td>FIXED_INCOME</td>\n",
       "      <td>Puget Sound Energy Inc</td>\n",
       "      <td>United States of America</td>\n",
       "      <td>5000054387</td>\n",
       "      <td>745332</td>\n",
       "    </tr>\n",
       "    <tr>\n",
       "      <th>4</th>\n",
       "      <td>XS1545823632</td>\n",
       "      <td>FIXED_INCOME</td>\n",
       "      <td>Morgan Stanley &amp; Co International PLC</td>\n",
       "      <td>United Kingdom of Great Britain and Northern I...</td>\n",
       "      <td>5000076412</td>\n",
       "      <td>R84910</td>\n",
       "    </tr>\n",
       "  </tbody>\n",
       "</table>\n",
       "</div>"
      ],
      "text/plain": [
       "           isin instrument_type                            issuer_name  \\\n",
       "0  US0527M0W110    FIXED_INCOME           Autobahn Funding Company LLC   \n",
       "1  US69372AV254    FIXED_INCOME                  PACCAR Financial Corp   \n",
       "2  US74533AGH59    FIXED_INCOME                 Puget Sound Energy Inc   \n",
       "3  US74533AGQ58    FIXED_INCOME                 Puget Sound Energy Inc   \n",
       "4  XS1545823632    FIXED_INCOME  Morgan Stanley & Co International PLC   \n",
       "\n",
       "                                      issuer_country      permid  brs_id  \n",
       "0                           United States of America  5000594216  C16979  \n",
       "1                           United States of America  4295900643  693717  \n",
       "2                           United States of America  5000054387  745332  \n",
       "3                           United States of America  5000054387  745332  \n",
       "4  United Kingdom of Great Britain and Northern I...  5000076412  R84910  "
      ]
     },
     "execution_count": 13,
     "metadata": {},
     "output_type": "execute_result"
    }
   ],
   "source": [
    "df.head()"
   ]
  },
  {
   "cell_type": "code",
   "execution_count": null,
   "metadata": {},
   "outputs": [],
   "source": []
  }
 ],
 "metadata": {
  "kernelspec": {
   "display_name": ".venv",
   "language": "python",
   "name": "python3"
  },
  "language_info": {
   "codemirror_mode": {
    "name": "ipython",
    "version": 3
   },
   "file_extension": ".py",
   "mimetype": "text/x-python",
   "name": "python",
   "nbconvert_exporter": "python",
   "pygments_lexer": "ipython3",
   "version": "3.12.0"
  }
 },
 "nbformat": 4,
 "nbformat_minor": 2
}
