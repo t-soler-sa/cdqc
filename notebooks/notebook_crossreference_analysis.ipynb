{
 "cells": [
  {
   "cell_type": "code",
   "execution_count": 1,
   "metadata": {},
   "outputs": [],
   "source": [
    "import sys\n",
    "import os\n",
    "from pathlib import Path\n",
    "\n",
    "import pandas as pd\n",
    "import numpy as np"
   ]
  },
  {
   "cell_type": "code",
   "execution_count": 2,
   "metadata": {},
   "outputs": [],
   "source": [
    "# Add the project\n",
    "sys.path.append(os.path.abspath(os.path.join(os.getcwd(), '..')))"
   ]
  },
  {
   "cell_type": "code",
   "execution_count": 3,
   "metadata": {},
   "outputs": [],
   "source": [
    "from scripts.utils.dataloaders import load_crossreference, load_clarity_data\n",
    "from scripts.utils.config import get_config"
   ]
  },
  {
   "cell_type": "code",
   "execution_count": 4,
   "metadata": {},
   "outputs": [],
   "source": [
    "config = get_config(\n",
    "    \"notebook-crossreference-explorer\", \n",
    "    interactive=False,\n",
    "    auto_date= False,\n",
    "    fixed_date=\"202505\")\n",
    "\n",
    "logger = config[\"logger\"]\n",
    "DATE = config[\"DATE\"]\n",
    "YEAR = config[\"YEAR\"]\n",
    "paths = config[\"paths\"]\n",
    "CROSSREFERENCE_PATH = paths[\"CROSSREFERENCE_PATH\"]\n",
    "DF_PATH = paths[\"CURRENT_DF_WOUTOVR_PATH\"]"
   ]
  },
  {
   "cell_type": "code",
   "execution_count": 5,
   "metadata": {},
   "outputs": [],
   "source": [
    "target_cols_clarity = [\"permid\", \"issuer_name\"]\n",
    "target_cols_brs = [\"aladdin_id\", \"issuer_name\"]\n",
    "target_cols_crossreference = [\"aladdin_id\", \"permid\", \"issuer_name\"]\n",
    "target_aladdin_id_erquest = [\n",
    "    \"000375\",\n",
    "    \"003001\",\n",
    "    \"007699\",\n",
    "    \"010199\",\n",
    "    \"055262\",\n",
    "    \"059456\",\n",
    "    \"072730\",\n",
    "    \"M58534\",\n",
    "    \"R48483\",\n",
    "    \"F05671\"\n",
    "]\n",
    "target_permid_request = [\n",
    "    \"5073622246\",\n",
    "    \"4295875200\", \n",
    "    \"4296393129\", \n",
    "    \"4296978549\",\n",
    "    \"5041079662\",\n",
    "]"
   ]
  },
  {
   "cell_type": "code",
   "execution_count": 6,
   "metadata": {},
   "outputs": [
    {
     "name": "stdout",
     "output_type": "stream",
     "text": [
      "2025-05-19 16:01:02,207 - scripts.utils.dataloaders - INFO - Loading Clarity data from: C:\\Users\\n740789\\Documents\\Projects_local\\DataSets\\DATAFEED\\ficheros_tratados\\2025\\20250501_Equities_feed_IssuerLevel_sinOVR.csv\n",
      "2025-05-19 16:01:02,996 - scripts.utils.dataloaders - INFO - Successfully loaded Clarity data from: C:\\Users\\n740789\\Documents\\Projects_local\\DataSets\\DATAFEED\\ficheros_tratados\\2025\\20250501_Equities_feed_IssuerLevel_sinOVR.csv\n"
     ]
    }
   ],
   "source": [
    "datafeed = load_clarity_data(DF_PATH, target_cols=target_cols_clarity)"
   ]
  },
  {
   "cell_type": "code",
   "execution_count": 7,
   "metadata": {},
   "outputs": [],
   "source": [
    "datafeed_permid_list = list(set(datafeed[\"permid\"].unique()))"
   ]
  },
  {
   "cell_type": "code",
   "execution_count": 8,
   "metadata": {},
   "outputs": [],
   "source": [
    "# let's load brs data\n",
    "path_snt_world = Path(r\"C:\\Users\\n740789\\Documents\\clarity_data_quality_controls\\excel_books\\aladdin_data\\bmk_portf_str\\snt_world_sntcor_corp_shares.xlsx\")\n",
    "snt_world_bmk = pd.read_excel(path_snt_world, sheet_name=\"portfolio_benchmarks\", skiprows=3)\n",
    "snt_world_ptf = pd.read_excel(path_snt_world, sheet_name=\"portfolio_carteras\", skiprows=3)"
   ]
  },
  {
   "cell_type": "code",
   "execution_count": 9,
   "metadata": {},
   "outputs": [],
   "source": []
  },
  {
   "cell_type": "code",
   "execution_count": 9,
   "metadata": {},
   "outputs": [],
   "source": [
    "# let's clean and filter the carteras and benchmark data\n",
    "snt_word_dfs_list = [snt_world_bmk, snt_world_ptf]\n",
    "\n",
    "snt_world_cleaned_list = []\n",
    "common_cols = [\"aladdin_id\", \"issuer_name\"]\n",
    "target_cols_bmk = common_cols + [\"benchmark_id\", \"sntcore_share_corps_flag\"]\n",
    "target_cols_ptf = common_cols + [\"portfolio_id\", \"sntcore_share_corps_flag\"]\n",
    "for df in snt_word_dfs_list:\n",
    "    df.columns = df.columns.str.lower().str.replace(\" \", \"_\")\n",
    "    df.dropna(subset=[\"aladdin_id\"], inplace=True)\n",
    "    if \"portfolio_id\" in df.columns:\n",
    "        df.rename(columns={\n",
    "            \"sntcore_share_corps_flag\":\"sntcore_share_corps_flag_bool\",\n",
    "            \"snt_core_breakdown_-_aligned_with_compliance_(sntcore_compl)_-_level_2\":\"sntcore_share_corps_flag\"\n",
    "            }, inplace=True)\n",
    "        df_filtered = df[target_cols_ptf]\n",
    "        df_filtered = df_filtered[df_filtered[\"sntcore_share_corps_flag\"].isin(['Corporates' 'Shares'])]\n",
    "        snt_world_cleaned_list.append(df_filtered)\n",
    "    else:\n",
    "        df_filtered = df[target_cols_bmk]\n",
    "        df_filtered = df_filtered[df_filtered[\"sntcore_share_corps_flag\"].isin(['Corporates' 'Shares'])]\n",
    "        snt_world_cleaned_list.append(df_filtered)\n",
    "\n",
    "\n",
    "snt_world_bmk_cleaned, snt_world_pth_cleaned = snt_world_cleaned_list\n",
    "del snt_word_dfs_list"
   ]
  },
  {
   "cell_type": "code",
   "execution_count": 10,
   "metadata": {},
   "outputs": [
    {
     "data": {
      "text/html": [
       "<div>\n",
       "<style scoped>\n",
       "    .dataframe tbody tr th:only-of-type {\n",
       "        vertical-align: middle;\n",
       "    }\n",
       "\n",
       "    .dataframe tbody tr th {\n",
       "        vertical-align: top;\n",
       "    }\n",
       "\n",
       "    .dataframe thead th {\n",
       "        text-align: right;\n",
       "    }\n",
       "</style>\n",
       "<table border=\"1\" class=\"dataframe\">\n",
       "  <thead>\n",
       "    <tr style=\"text-align: right;\">\n",
       "      <th></th>\n",
       "      <th>aladdin_id</th>\n",
       "      <th>issuer_name</th>\n",
       "      <th>portfolio_id</th>\n",
       "      <th>sntcore_share_corps_flag</th>\n",
       "    </tr>\n",
       "  </thead>\n",
       "  <tbody>\n",
       "  </tbody>\n",
       "</table>\n",
       "</div>"
      ],
      "text/plain": [
       "Empty DataFrame\n",
       "Columns: [aladdin_id, issuer_name, portfolio_id, sntcore_share_corps_flag]\n",
       "Index: []"
      ]
     },
     "execution_count": 10,
     "metadata": {},
     "output_type": "execute_result"
    }
   ],
   "source": [
    "snt_world_pth_cleaned"
   ]
  },
  {
   "cell_type": "code",
   "execution_count": 11,
   "metadata": {},
   "outputs": [
    {
     "name": "stdout",
     "output_type": "stream",
     "text": [
      "Index(['aladdin_id', 'issuer_name', 'benchmark_id',\n",
      "       'sntcore_share_corps_flag'],\n",
      "      dtype='object')\n",
      "\n",
      "\n",
      "Index(['aladdin_id', 'issuer_name', 'portfolio_id',\n",
      "       'sntcore_share_corps_flag'],\n",
      "      dtype='object')\n",
      "\n",
      "\n"
     ]
    }
   ],
   "source": [
    "for df in snt_world_cleaned_list:\n",
    "    print(f\"{df.columns}\")\n",
    "    print(\"\\n\")"
   ]
  },
  {
   "cell_type": "code",
   "execution_count": 12,
   "metadata": {},
   "outputs": [
    {
     "name": "stdout",
     "output_type": "stream",
     "text": [
      "[]\n",
      "\n",
      "\n",
      "[]\n",
      "\n",
      "\n"
     ]
    }
   ],
   "source": [
    "for df in snt_world_cleaned_list:\n",
    "    print(f\"{df.sntcore_share_corps_flag.unique()}\")\n",
    "    print(\"\\n\")"
   ]
  },
  {
   "cell_type": "code",
   "execution_count": 13,
   "metadata": {},
   "outputs": [],
   "source": [
    "# let's save the aladdin_ids of portfolios and benchmarks into a list\n",
    "snt_world_aladdin_id_list = list(\n",
    "    set(list(snt_world_bmk_cleaned.aladdin_id.unique()) + list(snt_world_pth_cleaned.aladdin_id.unique()))\n",
    "    )"
   ]
  },
  {
   "cell_type": "code",
   "execution_count": 14,
   "metadata": {},
   "outputs": [
    {
     "name": "stdout",
     "output_type": "stream",
     "text": [
      "0\n",
      "73401\n"
     ]
    }
   ],
   "source": [
    "print(len(snt_world_aladdin_id_list))\n",
    "print(len(datafeed_permid_list))"
   ]
  },
  {
   "cell_type": "code",
   "execution_count": 15,
   "metadata": {},
   "outputs": [],
   "source": [
    "crossreference_dir_path = Path(r\"C:\\Users\\n740789\\Documents\\clarity_data_quality_controls\\excel_books\\aladdin_data\\crossreference\")\n",
    "cross_202501_path = crossreference_dir_path / \"Aladdin_Clarity_Issuers_20250501.csv\"\n",
    "cross_202502_path = crossreference_dir_path / \"Aladdin_Clarity_Issuers_20250201.csv\"\n",
    "cross_202503_path = crossreference_dir_path / \"Aladdin_Clarity_Issuers_20250301.csv\"\n",
    "cross_202504_path = crossreference_dir_path / \"Aladdin_Clarity_Issuers_20250401.csv\"\n",
    "cross_202505_path = crossreference_dir_path / \"Aladdin_Clarity_Issuers_20250501.csv\"\n",
    "cross_brs_oneoff = crossreference_dir_path / \"Aladdin_Clarity_Issuers_brs_oneoff.csv\""
   ]
  },
  {
   "cell_type": "code",
   "execution_count": 16,
   "metadata": {},
   "outputs": [
    {
     "name": "stdout",
     "output_type": "stream",
     "text": [
      "2025-05-19 16:01:55,125 - scripts.utils.dataloaders - INFO - Loading crossreference data from: C:\\Users\\n740789\\Documents\\clarity_data_quality_controls\\excel_books\\aladdin_data\\crossreference\\Aladdin_Clarity_Issuers_20250501.csv\n",
      "2025-05-19 16:01:55,594 - scripts.utils.dataloaders - INFO - Cleaning columns and renaming crossreference data\n",
      "2025-05-19 16:01:55,597 - scripts.utils.dataloaders - INFO - Successfully loaded crossreference from: C:\\Users\\n740789\\Documents\\clarity_data_quality_controls\\excel_books\\aladdin_data\\crossreference\\Aladdin_Clarity_Issuers_20250501.csv\n",
      "2025-05-19 16:01:55,602 - scripts.utils.dataloaders - INFO - Loading crossreference data from: C:\\Users\\n740789\\Documents\\clarity_data_quality_controls\\excel_books\\aladdin_data\\crossreference\\Aladdin_Clarity_Issuers_20250501.csv\n",
      "2025-05-19 16:01:56,024 - scripts.utils.dataloaders - INFO - Cleaning columns and renaming crossreference data\n",
      "2025-05-19 16:01:56,027 - scripts.utils.dataloaders - INFO - Successfully loaded crossreference from: C:\\Users\\n740789\\Documents\\clarity_data_quality_controls\\excel_books\\aladdin_data\\crossreference\\Aladdin_Clarity_Issuers_20250501.csv\n",
      "2025-05-19 16:01:56,028 - scripts.utils.dataloaders - INFO - Loading crossreference data from: C:\\Users\\n740789\\Documents\\clarity_data_quality_controls\\excel_books\\aladdin_data\\crossreference\\Aladdin_Clarity_Issuers_20250201.csv\n",
      "2025-05-19 16:01:56,333 - scripts.utils.dataloaders - INFO - Cleaning columns and renaming crossreference data\n",
      "2025-05-19 16:01:56,336 - scripts.utils.dataloaders - INFO - Successfully loaded crossreference from: C:\\Users\\n740789\\Documents\\clarity_data_quality_controls\\excel_books\\aladdin_data\\crossreference\\Aladdin_Clarity_Issuers_20250201.csv\n",
      "2025-05-19 16:01:56,337 - scripts.utils.dataloaders - INFO - Loading crossreference data from: C:\\Users\\n740789\\Documents\\clarity_data_quality_controls\\excel_books\\aladdin_data\\crossreference\\Aladdin_Clarity_Issuers_20250301.csv\n",
      "2025-05-19 16:01:56,650 - scripts.utils.dataloaders - INFO - Cleaning columns and renaming crossreference data\n",
      "2025-05-19 16:01:56,654 - scripts.utils.dataloaders - INFO - Successfully loaded crossreference from: C:\\Users\\n740789\\Documents\\clarity_data_quality_controls\\excel_books\\aladdin_data\\crossreference\\Aladdin_Clarity_Issuers_20250301.csv\n",
      "2025-05-19 16:01:56,655 - scripts.utils.dataloaders - INFO - Loading crossreference data from: C:\\Users\\n740789\\Documents\\clarity_data_quality_controls\\excel_books\\aladdin_data\\crossreference\\Aladdin_Clarity_Issuers_20250401.csv\n",
      "2025-05-19 16:01:56,993 - scripts.utils.dataloaders - INFO - Cleaning columns and renaming crossreference data\n",
      "2025-05-19 16:01:56,995 - scripts.utils.dataloaders - INFO - Successfully loaded crossreference from: C:\\Users\\n740789\\Documents\\clarity_data_quality_controls\\excel_books\\aladdin_data\\crossreference\\Aladdin_Clarity_Issuers_20250401.csv\n",
      "2025-05-19 16:01:56,997 - scripts.utils.dataloaders - INFO - Loading crossreference data from: C:\\Users\\n740789\\Documents\\clarity_data_quality_controls\\excel_books\\aladdin_data\\crossreference\\Aladdin_Clarity_Issuers_20250501.csv\n",
      "2025-05-19 16:01:57,314 - scripts.utils.dataloaders - INFO - Cleaning columns and renaming crossreference data\n",
      "2025-05-19 16:01:57,316 - scripts.utils.dataloaders - INFO - Successfully loaded crossreference from: C:\\Users\\n740789\\Documents\\clarity_data_quality_controls\\excel_books\\aladdin_data\\crossreference\\Aladdin_Clarity_Issuers_20250501.csv\n",
      "2025-05-19 16:01:57,320 - scripts.utils.dataloaders - INFO - Loading crossreference data from: C:\\Users\\n740789\\Documents\\clarity_data_quality_controls\\excel_books\\aladdin_data\\crossreference\\Aladdin_Clarity_Issuers_brs_oneoff.csv\n",
      "2025-05-19 16:01:58,466 - scripts.utils.dataloaders - INFO - Cleaning columns and renaming crossreference data\n",
      "2025-05-19 16:01:58,474 - scripts.utils.dataloaders - INFO - Successfully loaded crossreference from: C:\\Users\\n740789\\Documents\\clarity_data_quality_controls\\excel_books\\aladdin_data\\crossreference\\Aladdin_Clarity_Issuers_brs_oneoff.csv\n"
     ]
    }
   ],
   "source": [
    "crossreference = load_crossreference(CROSSREFERENCE_PATH)\n",
    "cross_202501 = load_crossreference(cross_202501_path)\n",
    "cross_202502 = load_crossreference(cross_202502_path)\n",
    "cross_202503 = load_crossreference(cross_202503_path)\n",
    "cross_202504 = load_crossreference(cross_202504_path)\n",
    "cross_202505 = load_crossreference(cross_202505_path)\n",
    "cross_brs_oneoff = load_crossreference(cross_brs_oneoff)"
   ]
  },
  {
   "cell_type": "code",
   "execution_count": 17,
   "metadata": {},
   "outputs": [],
   "source": [
    "cross_df_list = [\n",
    "    cross_202501,\n",
    "    cross_202502,\n",
    "    cross_202503,\n",
    "    cross_202504,\n",
    "    cross_202505,\n",
    "    cross_brs_oneoff\n",
    "]"
   ]
  },
  {
   "cell_type": "code",
   "execution_count": 18,
   "metadata": {},
   "outputs": [
    {
     "name": "stdout",
     "output_type": "stream",
     "text": [
      "For the cross referecen of 202501 we are missing:\n",
      "Missing permid in cross_202501: 18207\n",
      "Missing aladdin_id in cross_202501: 0\n",
      "\n",
      "\n",
      "For the cross referecen of 202502 we are missing:\n",
      "Missing permid in cross_202502: 18271\n",
      "Missing aladdin_id in cross_202502: 0\n",
      "\n",
      "\n",
      "For the cross referecen of 202503 we are missing:\n",
      "Missing permid in cross_202503: 18208\n",
      "Missing aladdin_id in cross_202503: 0\n",
      "\n",
      "\n",
      "For the cross referecen of 202504 we are missing:\n",
      "Missing permid in cross_202504: 18207\n",
      "Missing aladdin_id in cross_202504: 0\n",
      "\n",
      "\n",
      "For the cross referecen of 202505 we are missing:\n",
      "Missing permid in cross_202505: 18207\n",
      "Missing aladdin_id in cross_202505: 0\n",
      "\n",
      "\n",
      "For the cross referecen of brs_oneoff we are missing:\n",
      "Missing permid in cross_brs_oneoff: 8147\n",
      "Missing aladdin_id in cross_brs_oneoff: 0\n",
      "\n",
      "\n"
     ]
    }
   ],
   "source": [
    "crosserefrence_dictionaries = {\n",
    "    \"cross_202501\" : {\n",
    "        \"cross_df\": cross_202501,\n",
    "        \"set_permid\": set(cross_202501[\"permid\"].unique()),\n",
    "        \"set_aladdin_id\": set(cross_202501[\"aladdin_id\"].unique()),\n",
    "    },\n",
    "    \"cross_202502\" : {\n",
    "        \"cross_df\": cross_202502,\n",
    "        \"set_permid\": set(cross_202502[\"permid\"].unique()),\n",
    "        \"set_aladdin_id\": set(cross_202502[\"aladdin_id\"].unique()),\n",
    "    },\n",
    "    \"cross_202503\" : {\n",
    "        \"cross_df\": cross_202503,\n",
    "        \"set_permid\": set(cross_202503[\"permid\"].unique()),\n",
    "        \"set_aladdin_id\": set(cross_202503[\"aladdin_id\"].unique()),\n",
    "    },\n",
    "    \"cross_202504\" : {\n",
    "        \"cross_df\": cross_202504,\n",
    "        \"set_permid\": set(cross_202504[\"permid\"].unique()),\n",
    "        \"set_aladdin_id\": set(cross_202504[\"aladdin_id\"].unique()),\n",
    "    },\n",
    "    \"cross_202505\" : {\n",
    "        \"cross_df\": cross_202505,\n",
    "        \"set_permid\": set(cross_202505[\"permid\"].unique()),\n",
    "        \"set_aladdin_id\": set(cross_202505[\"aladdin_id\"].unique()),\n",
    "    },\n",
    "    \"cross_brs_oneoff\" : {\n",
    "        \"cross_df\": cross_brs_oneoff,\n",
    "        \"set_permid\": set(cross_brs_oneoff[\"permid\"].unique()),\n",
    "        \"set_aladdin_id\": set(cross_brs_oneoff[\"aladdin_id\"].unique()),\n",
    "    }\n",
    "\n",
    "}\n",
    "\n",
    "datafeed_permid_set = set(datafeed_permid_list)\n",
    "snt_world_aladdin_id_set = set(snt_world_aladdin_id_list)\n",
    "\n",
    "\n",
    "for cross_name, cross_dict in crosserefrence_dictionaries.items():\n",
    "    missing_permid = datafeed_permid_set - cross_dict[\"set_permid\"]\n",
    "    missing_aladdin_id = snt_world_aladdin_id_set - cross_dict[\"set_aladdin_id\"]\n",
    "\n",
    "    cross_dict[\"missing_permid\"] = list(missing_permid)\n",
    "    cross_dict[\"missing_aladdin_id\"] = list(missing_aladdin_id)\n",
    "\n",
    "    logger.info(f\"\\nFor the cross referecen of {cross_name.replace(\"cross_\",\"\")} we are missing:\")\n",
    "    logger.info(f\"Missing permid in {cross_name}: {len(missing_permid)}\")\n",
    "    logger.info(f\"Missing aladdin_id in {cross_name}: {len(missing_aladdin_id)}\")\n",
    "    logger.info(\"\\n\")"
   ]
  }
 ],
 "metadata": {
  "kernelspec": {
   "display_name": ".venv",
   "language": "python",
   "name": "python3"
  },
  "language_info": {
   "codemirror_mode": {
    "name": "ipython",
    "version": 3
   },
   "file_extension": ".py",
   "mimetype": "text/x-python",
   "name": "python",
   "nbconvert_exporter": "python",
   "pygments_lexer": "ipython3",
   "version": "3.13.0"
  }
 },
 "nbformat": 4,
 "nbformat_minor": 2
}
