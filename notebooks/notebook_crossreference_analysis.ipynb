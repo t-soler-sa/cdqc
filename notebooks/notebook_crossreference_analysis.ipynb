{
 "cells": [
  {
   "cell_type": "code",
   "execution_count": 4,
   "metadata": {},
   "outputs": [],
   "source": [
    "import sys\n",
    "import os\n",
    "from pathlib import Path\n",
    "\n",
    "import pandas as pd\n",
    "import numpy as np"
   ]
  },
  {
   "cell_type": "code",
   "execution_count": 5,
   "metadata": {},
   "outputs": [],
   "source": [
    "# Add the project\n",
    "sys.path.append(os.path.abspath(os.path.join(os.getcwd(), '..')))"
   ]
  },
  {
   "cell_type": "code",
   "execution_count": 6,
   "metadata": {},
   "outputs": [],
   "source": [
    "from scripts.utils.dataloaders import load_crossreference, load_clarity_data\n",
    "from scripts.utils.config import get_config\n",
    "from scripts.utils.crossreference_data_qualtiy import analyze_cross_reference"
   ]
  },
  {
   "cell_type": "code",
   "execution_count": 7,
   "metadata": {},
   "outputs": [],
   "source": [
    "config = get_config(\n",
    "    \"notebook-crossreference-explorer\", \n",
    "    interactive=False,\n",
    "    auto_date= False,\n",
    "    fixed_date=\"202505\")\n",
    "\n",
    "logger = config[\"logger\"]\n",
    "DATE = config[\"DATE\"]\n",
    "YEAR = config[\"YEAR\"]\n",
    "paths = config[\"paths\"]\n",
    "CROSSREFERENCE_PATH = paths[\"CROSSREFERENCE_PATH\"]\n",
    "DF_PATH = paths[\"CURRENT_DF_WOUTOVR_PATH\"]"
   ]
  },
  {
   "cell_type": "code",
   "execution_count": 8,
   "metadata": {},
   "outputs": [],
   "source": [
    "target_cols_clarity = [\"permid\", \"issuer_name\"]\n",
    "target_cols_brs = [\"aladdin_id\", \"issuer_name\"]\n",
    "target_cols_crossreference = [\"aladdin_id\", \"permid\", \"issuer_name\"]\n",
    "target_aladdin_id_erquest = [\n",
    "    \"000375\",\n",
    "    \"003001\",\n",
    "    \"007699\",\n",
    "    \"010199\",\n",
    "    \"055262\",\n",
    "    \"059456\",\n",
    "    \"072730\",\n",
    "    \"M58534\",\n",
    "    \"R48483\",\n",
    "    \"F05671\"\n",
    "]\n",
    "target_permid_request = [\n",
    "    \"5073622246\",\n",
    "    \"4295875200\", \n",
    "    \"4296393129\", \n",
    "    \"4296978549\",\n",
    "    \"5041079662\",\n",
    "]"
   ]
  },
  {
   "cell_type": "code",
   "execution_count": 9,
   "metadata": {},
   "outputs": [],
   "source": [
    "cross_oneoff_20250530 = pd.read_excel(r\"C:\\Users\\n740789\\Downloads\\202050529_crossreference_brs_oneoff.xlsx\")"
   ]
  },
  {
   "cell_type": "code",
   "execution_count": 10,
   "metadata": {},
   "outputs": [
    {
     "name": "stdout",
     "output_type": "stream",
     "text": [
      "<class 'pandas.core.frame.DataFrame'>\n",
      "RangeIndex: 459150 entries, 0 to 459149\n",
      "Data columns (total 6 columns):\n",
      " #   Column       Non-Null Count   Dtype  \n",
      "---  ------       --------------   -----  \n",
      " 0   aladdin_id   459150 non-null  object \n",
      " 1   issuer_name  459150 non-null  object \n",
      " 2   Clarity      133018 non-null  float64\n",
      " 3   MSCI         64652 non-null   object \n",
      " 4   SUST         23341 non-null   float64\n",
      " 5   permid       447438 non-null  object \n",
      "dtypes: float64(2), object(4)\n",
      "memory usage: 21.0+ MB\n"
     ]
    }
   ],
   "source": [
    "cross_oneoff_20250530.rename(columns={\"issuer\":\"aladdin_id\", \"name\":\"issuer_name\", \"PERMID\":\"permid\"}, inplace=True)\n",
    "cross_oneoff_20250530.loc[:, \"permid\"] = cross_oneoff_20250530[\"permid\"].astype(str).str.strip()\n",
    "cross_oneoff_20250530.info()"
   ]
  },
  {
   "cell_type": "code",
   "execution_count": 11,
   "metadata": {},
   "outputs": [],
   "source": [
    "cross_brs = cross_oneoff_20250530[[\"aladdin_id\", \"permid\",\"issuer_name\"]].copy()"
   ]
  },
  {
   "cell_type": "code",
   "execution_count": 13,
   "metadata": {},
   "outputs": [
    {
     "name": "stdout",
     "output_type": "stream",
     "text": [
      "2025-06-02 14:52:50,208 - notebook-crossreference-explorer - INFO - Exact duplicate rows (with permid present): 12\n",
      "2025-06-02 14:53:27,728 - notebook-crossreference-explorer - INFO - Secondary IDs with >1 distinct aladdin_id: 30 (rows: 60)\n",
      "2025-06-02 14:53:43,729 - notebook-crossreference-explorer - INFO - Primary IDs with >1 distinct permid: 259 (rows: 518)\n",
      "2025-06-02 14:53:43,735 - notebook-crossreference-explorer - INFO - Rows without permid but duplicate aladdin_id: 28\n"
     ]
    }
   ],
   "source": [
    "analysis_results = analyze_cross_reference(\n",
    "    df=cross_brs,\n",
    "    main_id=\"aladdin_id\",\n",
    "    secondary_id=\"permid\",\n",
    "    out_dir = r\"C:\\Users\\n740789\\Downloads\\output_crossreference_analysis\",\n",
    "    logger=logger\n",
    ")"
   ]
  },
  {
   "cell_type": "code",
   "execution_count": null,
   "metadata": {},
   "outputs": [],
   "source": [
    "#crossreference_dir_path = Path(r\"C:\\Users\\n740789\\Documents\\clarity_data_quality_controls\\excel_books\\aladdin_data\\crossreference\")\n",
    "#cross_202501_path = crossreference_dir_path / \"Aladdin_Clarity_Issuers_20250501.csv\"\n",
    "#cross_202502_path = crossreference_dir_path / \"Aladdin_Clarity_Issuers_20250201.csv\"\n",
    "#cross_202503_path = crossreference_dir_path / \"Aladdin_Clarity_Issuers_20250301.csv\"\n",
    "#cross_202504_path = crossreference_dir_path / \"Aladdin_Clarity_Issuers_20250401.csv\"\n",
    "#cross_202505_path = crossreference_dir_path / \"Aladdin_Clarity_Issuers_20250501.csv\"\n",
    "#cross_brs_oneoff = crossreference_dir_path / \"202050529_crossreference_brs_oneoff.csv\"\n",
    "\n",
    "#crossreference = load_crossreference(CROSSREFERENCE_PATH)\n",
    "#cross_202501 = load_crossreference(cross_202501_path)\n",
    "#cross_202502 = load_crossreference(cross_202502_path)\n",
    "#cross_202503 = load_crossreference(cross_202503_path)\n",
    "#cross_202504 = load_crossreference(cross_202504_path)\n",
    "#cross_202505 = load_crossreference(cross_202505_path)\n",
    "#cross_brs_oneoff = load_crossreference(cross_brs_oneoff)\n",
    "\n",
    "#cross_df_list = [\n",
    "#    cross_202501,\n",
    "#    cross_202502,\n",
    "#    cross_202503,\n",
    "#    cross_202504,\n",
    "#    cross_202505,\n",
    "#    cross_brs_oneoff\n",
    "#]"
   ]
  },
  {
   "cell_type": "code",
   "execution_count": null,
   "metadata": {},
   "outputs": [],
   "source": [
    "#datafeed = load_clarity_data(DF_PATH, target_cols=target_cols_clarity)\n",
    "#datafeed_permid_list = list(set(datafeed[\"permid\"].unique()))\n",
    "\n",
    "# let's load brs data\n",
    "#path_snt_world = Path(r\"C:\\Users\\n740789\\Documents\\clarity_data_quality_controls\\excel_books\\aladdin_data\\bmk_portf_str\\snt_world_sntcor_corp_shares.xlsx\")\n",
    "#snt_world_bmk = pd.read_excel(path_snt_world, sheet_name=\"portfolio_benchmarks\", skiprows=3)\n",
    "#snt_world_ptf = pd.read_excel(path_snt_world, sheet_name=\"portfolio_carteras\", skiprows=3)\n",
    "\n",
    "# let's clean and filter the carteras and benchmark data\n",
    "#snt_word_dfs_list = [snt_world_bmk, snt_world_ptf]\n",
    "#\n",
    "#snt_world_cleaned_list = []\n",
    "#common_cols = [\"aladdin_id\", \"issuer_name\"]\n",
    "#target_cols_bmk = common_cols + [\"benchmark_id\", \"sntcore_share_corps_flag\"]\n",
    "#target_cols_ptf = common_cols + [\"portfolio_id\", \"sntcore_share_corps_flag\"]\n",
    "#for df in snt_word_dfs_list:\n",
    "#    df.columns = df.columns.str.lower().str.replace(\" \", \"_\")\n",
    "#    df.dropna(subset=[\"aladdin_id\"], inplace=True)\n",
    "#    if \"portfolio_id\" in df.columns:\n",
    "#        df.rename(columns={\n",
    "#            \"sntcore_share_corps_flag\":\"sntcore_share_corps_flag_bool\",\n",
    "#            \"snt_core_breakdown_-_aligned_with_compliance_(sntcore_compl)_-_level_2\":\"sntcore_share_corps_flag\"\n",
    "#            }, inplace=True)\n",
    "#        df_filtered = df[target_cols_ptf]\n",
    "#        df_filtered = df_filtered[df_filtered[\"sntcore_share_corps_flag\"].isin(['Corporates' 'Shares'])]\n",
    "#        snt_world_cleaned_list.append(df_filtered)\n",
    "#    else:\n",
    "#        df_filtered = df[target_cols_bmk]\n",
    "#        df_filtered = df_filtered[df_filtered[\"sntcore_share_corps_flag\"].isin(['Corporates' 'Shares'])]\n",
    "#        snt_world_cleaned_list.append(df_filtered)\n",
    "#\n",
    "#\n",
    "#snt_world_bmk_cleaned, snt_world_pth_cleaned = snt_world_cleaned_list\n",
    "#del snt_word_dfs_list\n",
    "\n",
    "# let's save the aladdin_ids of portfolios and benchmarks into a list\n",
    "#snt_world_aladdin_id_list = list(\n",
    "#    set(list(snt_world_bmk_cleaned.aladdin_id.unique()) + list(snt_world_pth_cleaned.aladdin_id.unique()))\n",
    "#    )\n",
    "\n",
    "\n",
    "\n",
    "#crosserefrence_dictionaries = {\n",
    "#    \"cross_202501\" : {\n",
    "#        \"cross_df\": cross_202501,\n",
    "#        \"set_permid\": set(cross_202501[\"permid\"].unique()),\n",
    "#        \"set_aladdin_id\": set(cross_202501[\"aladdin_id\"].unique()),\n",
    "#    },\n",
    "#    \"cross_202502\" : {\n",
    "#        \"cross_df\": cross_202502,\n",
    "#        \"set_permid\": set(cross_202502[\"permid\"].unique()),\n",
    "#        \"set_aladdin_id\": set(cross_202502[\"aladdin_id\"].unique()),\n",
    "#    },\n",
    "#    \"cross_202503\" : {\n",
    "#        \"cross_df\": cross_202503,\n",
    "#        \"set_permid\": set(cross_202503[\"permid\"].unique()),\n",
    "#        \"set_aladdin_id\": set(cross_202503[\"aladdin_id\"].unique()),\n",
    "#    },\n",
    "#    \"cross_202504\" : {\n",
    "#        \"cross_df\": cross_202504,\n",
    "#        \"set_permid\": set(cross_202504[\"permid\"].unique()),\n",
    "#        \"set_aladdin_id\": set(cross_202504[\"aladdin_id\"].unique()),\n",
    "#    },\n",
    "#    \"cross_202505\" : {\n",
    "#        \"cross_df\": cross_202505,\n",
    "#        \"set_permid\": set(cross_202505[\"permid\"].unique()),\n",
    "#        \"set_aladdin_id\": set(cross_202505[\"aladdin_id\"].unique()),\n",
    "#    },\n",
    "#    \"cross_brs_oneoff\" : {\n",
    "#        \"cross_df\": cross_brs_oneoff,\n",
    "#        \"set_permid\": set(cross_brs_oneoff[\"permid\"].unique()),\n",
    "#        \"set_aladdin_id\": set(cross_brs_oneoff[\"aladdin_id\"].unique()),\n",
    "#    }\n",
    "#\n",
    "#}\n",
    "#\n",
    "#datafeed_permid_set = set(datafeed_permid_list)\n",
    "#snt_world_aladdin_id_set = set(snt_world_aladdin_id_list)\n",
    "#\n",
    "#\n",
    "#for cross_name, cross_dict in crosserefrence_dictionaries.items():\n",
    "#    missing_permid = datafeed_permid_set - cross_dict[\"set_permid\"]\n",
    "#    missing_aladdin_id = snt_world_aladdin_id_set - cross_dict[\"set_aladdin_id\"]\n",
    "#\n",
    "#    cross_dict[\"missing_permid\"] = list(missing_permid)\n",
    "#    cross_dict[\"missing_aladdin_id\"] = list(missing_aladdin_id)\n",
    "#\n",
    "#    logger.info(f\"\\nFor the cross referecen of {cross_name.replace(\"cross_\",\"\")} we are missing:\")\n",
    "#    logger.info(f\"Missing permid in {cross_name}: {len(missing_permid)}\")\n",
    "#    logger.info(f\"Missing aladdin_id in {cross_name}: {len(missing_aladdin_id)}\")\n",
    "#    logger.info(\"\\n\")"
   ]
  }
 ],
 "metadata": {
  "kernelspec": {
   "display_name": ".venv",
   "language": "python",
   "name": "python3"
  },
  "language_info": {
   "codemirror_mode": {
    "name": "ipython",
    "version": 3
   },
   "file_extension": ".py",
   "mimetype": "text/x-python",
   "name": "python",
   "nbconvert_exporter": "python",
   "pygments_lexer": "ipython3",
   "version": "3.13.0"
  }
 },
 "nbformat": 4,
 "nbformat_minor": 2
}
