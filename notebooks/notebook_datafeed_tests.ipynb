{
 "cells": [
  {
   "cell_type": "code",
   "execution_count": 7,
   "metadata": {},
   "outputs": [],
   "source": [
    "import pandas as pd\n",
    "import numpy as np\n",
    "\n",
    "import sys\n",
    "import os\n",
    "\n",
    "# Add the project root (one level up from notebooks/) to sys.path\n",
    "sys.path.append(os.path.abspath(os.path.join(os.getcwd(), '..')))"
   ]
  },
  {
   "cell_type": "code",
   "execution_count": 9,
   "metadata": {},
   "outputs": [],
   "source": [
    "from scripts.utils.dataloaders import (\n",
    "    load_clarity_data,\n",
    "    load_overrides\n",
    ")\n",
    "from scripts.utils.config import get_config"
   ]
  },
  {
   "cell_type": "code",
   "execution_count": 10,
   "metadata": {},
   "outputs": [
    {
     "name": "stdout",
     "output_type": "stream",
     "text": [
      "2025-04-16 12:37:47,599 - scripts.utils.get_date - INFO - Date format is valid. Date set to 202504.\n",
      "Output directory for script pre-ovr-analysis is set to: C:\\Users\\n740789\\Documents\\clarity_data_quality_controls\\excel_books\\sri_data\\pre-ovr-analysis\n"
     ]
    }
   ],
   "source": [
    "# Get the common configuration for the Pre-OVR-Analysis script.\n",
    "config = get_config(\"pre-ovr-analysis\", interactive=False)\n",
    "logger = config[\"logger\"]\n",
    "DATE = config[\"DATE\"]\n",
    "YEAR = config[\"YEAR\"]\n",
    "DATE_PREV = config[\"DATE_PREV\"]\n",
    "REPO_DIR = config[\"REPO_DIR\"]\n",
    "DATAFEED_DIR = config[\"DATAFEED_DIR\"]\n",
    "SRI_DATA_DIR = config[\"SRI_DATA_DIR\"]\n",
    "paths = config[\"paths\"]\n",
    "# Use the paths from config\n",
    "DF_PREV_PATH = paths[\"PRE_DF_WOVR_PATH\"]\n",
    "DF_NEW_PATH = paths[\"CURRENT_DF_WOUTOVR_PATH\"]\n",
    "#CROSSREFERENCE_PATH = paths[\"CROSSREFERENCE_PATH\"]\n",
    "#BMK_PORTF_STR_PATH = paths[\"BMK_PORTF_STR_PATH\"]\n",
    "OVR_PATH = paths[\"OVR_PATH\"]\n",
    "#COMMITTEE_PATH = paths[\"COMMITTEE_PATH\"]\n",
    "## Define the output directory and file based on the configuration.\n",
    "#OUTPUT_DIR = config[\"OUTPUT_DIR\"]\n",
    "#OUTPUT_FILE = OUTPUT_DIR / f\"{DATE}_pre_ovr_analysis.xlsx\""
   ]
  },
  {
   "cell_type": "code",
   "execution_count": 11,
   "metadata": {},
   "outputs": [
    {
     "name": "stdout",
     "output_type": "stream",
     "text": [
      "2025-04-16 12:38:07,886 - scripts.utils.dataloaders - INFO - Loading Clarity data from: C:\\Users\\n740789\\Documents\\Projects_local\\DataSets\\DATAFEED\\ficheros_tratados\\2025\\20250401_Equities_feed_IssuerLevel_sinOVR.csv\n",
      "2025-04-16 12:38:09,714 - scripts.utils.dataloaders - INFO - Successfully loaded Clarity data from: C:\\Users\\n740789\\Documents\\Projects_local\\DataSets\\DATAFEED\\ficheros_tratados\\2025\\20250401_Equities_feed_IssuerLevel_sinOVR.csv\n"
     ]
    }
   ],
   "source": [
    "df = load_clarity_data(DF_NEW_PATH)"
   ]
  },
  {
   "cell_type": "code",
   "execution_count": 12,
   "metadata": {},
   "outputs": [
    {
     "name": "stdout",
     "output_type": "stream",
     "text": [
      "str_001_s\n",
      "str_002_ec\n",
      "str_003_ec\n",
      "str_004_asec\n",
      "str_005_ec\n",
      "str_006_sec\n",
      "str_007_sect\n",
      "str_003b_ec\n"
     ]
    }
   ],
   "source": [
    "for c in df.columns:\n",
    "    if \"str_00\" in c:\n",
    "        print(c)"
   ]
  },
  {
   "cell_type": "code",
   "execution_count": null,
   "metadata": {},
   "outputs": [],
   "source": []
  }
 ],
 "metadata": {
  "kernelspec": {
   "display_name": ".venv",
   "language": "python",
   "name": "python3"
  },
  "language_info": {
   "codemirror_mode": {
    "name": "ipython",
    "version": 3
   },
   "file_extension": ".py",
   "mimetype": "text/x-python",
   "name": "python",
   "nbconvert_exporter": "python",
   "pygments_lexer": "ipython3",
   "version": "3.13.0"
  }
 },
 "nbformat": 4,
 "nbformat_minor": 2
}
