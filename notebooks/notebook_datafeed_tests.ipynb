{
 "cells": [
  {
   "cell_type": "code",
   "execution_count": 1,
   "metadata": {},
   "outputs": [],
   "source": [
    "import pandas as pd\n",
    "import numpy as np\n",
    "\n",
    "import sys\n",
    "import os\n",
    "\n",
    "# Add the project root (one level up from notebooks/) to sys.path\n",
    "sys.path.append(os.path.abspath(os.path.join(os.getcwd(), '..')))"
   ]
  },
  {
   "cell_type": "code",
   "execution_count": 2,
   "metadata": {},
   "outputs": [],
   "source": [
    "from scripts.utils.dataloaders import (\n",
    "    load_clarity_data,\n",
    "    load_crossreference,\n",
    "    load_overrides,\n",
    "    load_aladdin_data\n",
    ")\n",
    "from scripts.utils.config import get_config\n",
    "from scripts.utils.clarity_data_quality_control_functions import get_issuer_level_df"
   ]
  },
  {
   "cell_type": "code",
   "execution_count": 3,
   "metadata": {},
   "outputs": [],
   "source": [
    "# Get the common configuration for the Pre-OVR-Analysis script.\n",
    "config = get_config(\n",
    "    \"notebook-datafeeds-explorer\", \n",
    "    interactive=False,\n",
    "    auto_date= False,\n",
    "    fixed_date= \"202506\",)\n",
    "\n",
    "\n",
    "logger = config[\"logger\"]\n",
    "DATE = config[\"DATE\"]\n",
    "YEAR = config[\"YEAR\"]\n",
    "DATE_PREV = config[\"DATE_PREV\"]\n",
    "REPO_DIR = config[\"REPO_DIR\"]\n",
    "DATAFEED_DIR = config[\"DATAFEED_DIR\"]\n",
    "SRI_DATA_DIR = config[\"SRI_DATA_DIR\"]\n",
    "paths = config[\"paths\"]\n",
    "# Use the paths from config\n",
    "DF_PREV_PATH = paths[\"PRE_DF_WOVR_PATH\"]\n",
    "DF_NEW_PATH = paths[\"CURRENT_DF_WOUTOVR_PATH\"]\n",
    "DF_NEW_WITH_OVR_PATH = paths[\"NEW_DF_WOVR_PATH\"]\n",
    "CROSSREFERENCE_PATH = paths[\"CROSSREFERENCE_PATH\"]\n",
    "BMK_PORTF_STR_PATH = paths[\"BMK_PORTF_STR_PATH\"]\n",
    "OVR_PATH = paths[\"OVR_PATH\"]\n",
    "#COMMITTEE_PATH = paths[\"COMMITTEE_PATH\"]\n",
    "## Define the output directory and file based on the configuration.\n",
    "#OUTPUT_DIR = config[\"OUTPUT_DIR\"]\n",
    "#OUTPUT_FILE = OUTPUT_DIR / f\"{DATE}_pre_ovr_analysis.xlsx\""
   ]
  },
  {
   "cell_type": "code",
   "execution_count": 4,
   "metadata": {},
   "outputs": [],
   "source": [
    "target_permid = [\n",
    "\"5073622246\",\n",
    "\"4295875200\",\n",
    "\"4296393129\",\n",
    "\"4296978549\",\n",
    "\"5041079662\",\n",
    "]\n",
    "target_cols = [\"permid\", \"aladdin_id\",\"issuer_name\"]\n",
    "targat_cols_brs = [\"aladdin_id\", \"issuer_name\"]\n",
    "target_aladdin_id = [\n",
    "    \"J66430\"]\n",
    "strategy_cols = [\n",
    "    \"str_001_s\",\n",
    "    \"str_002_ec\",\n",
    "    \"str_003_ec\",\n",
    "    \"str_003b_ec\",\n",
    "    \"str_004_asec\",\n",
    "    \"str_005_ec\",\n",
    "    \"str_006_sec\",\n",
    "    \"str_007_sect\",\n",
    "    \"str_sfdr8_aec\",\n",
    "    \"scs_001_sec\",\n",
    "    \"scs_002_ec\",\n",
    "]\n",
    "\n",
    "clarity_test_col = [\n",
    "    \"str_001_s\",\n",
    "    \"str_002_ec\",\n",
    "    \"str_003_ec\",\n",
    "    \"str_003b_ec\",\n",
    "    \"str_004_asec\",\n",
    "    \"str_005_ec\",\n",
    "    \"str_006_sec\",\n",
    "    \"str_007_sect\",\n",
    "    \"art_8_basicos\",\n",
    "    \"cs_001_sec\",\n",
    "    \"cs_002_ec\",\n",
    "]\n",
    "\n",
    "output_cols = target_cols + strategy_cols\n",
    "datafeet_output_cols = target_cols + clarity_test_col"
   ]
  },
  {
   "cell_type": "code",
   "execution_count": 5,
   "metadata": {},
   "outputs": [],
   "source": [
    "target_permids_may = [ pid for pid in\n",
    "    set(\n",
    "        [\"5080149298\",\n",
    "        \"5034819615\",\n",
    "        \"5080149298\",\n",
    "        \"5080149298\",\n",
    "        \"5080154505\",\n",
    "        \"5080149298\",\n",
    "        \"5083858869\",\n",
    "        \"5080149298\",\n",
    "        \"5080154505\",\n",
    "        \"5083858869\",\n",
    "        \"4296397806\",\n",
    "        \"5083858869\",\n",
    "        \"5080149298\",\n",
    "        \"5080149298\",\n",
    "        \"5080154505\",]\n",
    "    )\n",
    "]"
   ]
  },
  {
   "cell_type": "code",
   "execution_count": 6,
   "metadata": {},
   "outputs": [
    {
     "name": "stdout",
     "output_type": "stream",
     "text": [
      "['5083858869', '4296397806', '5034819615', '5080149298', '5080154505']\n"
     ]
    }
   ],
   "source": [
    "print(target_permids_may)"
   ]
  },
  {
   "cell_type": "code",
   "execution_count": 7,
   "metadata": {},
   "outputs": [],
   "source": [
    "def find_conflicting_permid(df: pd.DataFrame) -> pd.DataFrame:\n",
    "    # Step 1: Count unique permids per aladdin_id\n",
    "    permid_counts = df.groupby(\"aladdin_id\")[\"permid\"].nunique()\n",
    "\n",
    "    # Step 2: Filter aladdin_ids with more than one unique permid\n",
    "    conflicting_ids = permid_counts[permid_counts > 1].index\n",
    "\n",
    "    # Step 3: Return all rows in df where aladdin_id is in the list\n",
    "    return df[df[\"aladdin_id\"].isin(conflicting_ids)]"
   ]
  },
  {
   "cell_type": "code",
   "execution_count": 8,
   "metadata": {},
   "outputs": [
    {
     "name": "stdout",
     "output_type": "stream",
     "text": [
      "2025-06-03 12:27:55,236 - scripts.utils.dataloaders - INFO - Loading Clarity data from: C:\\Users\\n740789\\Documents\\Projects_local\\datasets\\datafeeds\\datafeeds_without_ovr\\2025\\20250601_df_issuer_level_without_ovr.csv\n",
      "2025-06-03 12:27:57,950 - scripts.utils.dataloaders - INFO - Successfully loaded Clarity data from: C:\\Users\\n740789\\Documents\\Projects_local\\datasets\\datafeeds\\datafeeds_without_ovr\\2025\\20250601_df_issuer_level_without_ovr.csv\n",
      "2025-06-03 12:27:57,951 - scripts.utils.dataloaders - INFO - Loading Clarity data from: C:\\Users\\n740789\\Documents\\Projects_local\\datasets\\datafeeds\\datafeeds_with_ovr\\202506_df_issuer_level_with_ovr.csv\n",
      "2025-06-03 12:28:00,751 - scripts.utils.dataloaders - INFO - Successfully loaded Clarity data from: C:\\Users\\n740789\\Documents\\Projects_local\\datasets\\datafeeds\\datafeeds_with_ovr\\202506_df_issuer_level_with_ovr.csv\n",
      "2025-06-03 12:28:00,754 - scripts.utils.dataloaders - INFO - Loading Clarity data from: C:\\Users\\n740789\\Documents\\Projects_local\\datasets\\datafeeds\\datafeeds_without_ovr\\2025\\20250601_df_issuer_level_without_ovr.csv\n",
      "2025-06-03 12:28:04,060 - scripts.utils.dataloaders - INFO - Successfully loaded Clarity data from: C:\\Users\\n740789\\Documents\\Projects_local\\datasets\\datafeeds\\datafeeds_without_ovr\\2025\\20250601_df_issuer_level_without_ovr.csv\n"
     ]
    }
   ],
   "source": [
    "datafeed_without_ovr = load_clarity_data(DF_NEW_PATH)\n",
    "datafeed_with_ovr = load_clarity_data(DF_NEW_WITH_OVR_PATH)\n",
    "datafeed = load_clarity_data(DF_NEW_PATH)\n",
    "datafeed.loc[:,\"permid\"] = datafeed[\"permid\"].astype(str)"
   ]
  },
  {
   "cell_type": "code",
   "execution_count": 9,
   "metadata": {},
   "outputs": [
    {
     "name": "stdout",
     "output_type": "stream",
     "text": [
      "permid\n"
     ]
    }
   ],
   "source": [
    "for c in datafeed.columns:\n",
    "    if c in [\"aladdin_id\",\"permid\"]:\n",
    "        print(f\"{c}\")"
   ]
  },
  {
   "cell_type": "code",
   "execution_count": 33,
   "metadata": {},
   "outputs": [],
   "source": [
    "#brs_carteras = get_issuer_level_df(load_aladdin_data(BMK_PORTF_STR_PATH, \"portfolio_carteras\"), \"aladdin_id\")\n",
    "#brs_benchmarks = get_issuer_level_df(load_aladdin_data(BMK_PORTF_STR_PATH, \"portfolio_benchmarks\"), \"aladdin_id\")\n",
    "\n",
    "#for df in [brs_carteras, brs_benchmarks]:\n",
    "#    df.loc[:,\"aladdin_id\"] = df[\"aladdin_id\"].astype(str)\n",
    "\n",
    "#brs_carteras_filtered = brs_carteras[brs_carteras.aladdin_id.isin(target_aladdin_id)][targat_cols_brs]\n",
    "#brs_benchmarks_filtered = brs_benchmarks[brs_benchmarks.aladdin_id.isin(target_aladdin_id)][targat_cols_brs]\n",
    "\n",
    "#for df_name, df in zip([\"carteras\",\"benchamrs\"],[brs_carteras_filtered, brs_benchmarks_filtered]):\n",
    "#    print(f\"Dataframe: {df_name}'s columns:\\n{df.info()}\\n\\n\")"
   ]
  },
  {
   "cell_type": "code",
   "execution_count": 10,
   "metadata": {},
   "outputs": [
    {
     "name": "stdout",
     "output_type": "stream",
     "text": [
      "2025-06-03 12:28:12,999 - scripts.utils.dataloaders - INFO - Loading crossreference data from: C:\\Users\\n740789\\Documents\\esg-sri-repos\\clarity_data_quality_controls\\excel_books\\aladdin_data\\crossreference\\Aladdin_Clarity_Issuers_20250601.csv\n",
      "2025-06-03 12:28:13,203 - scripts.utils.dataloaders - INFO - Cleaning columns and renaming crossreference data\n",
      "2025-06-03 12:28:13,206 - scripts.utils.dataloaders - INFO - Successfully loaded crossreference from: C:\\Users\\n740789\\Documents\\esg-sri-repos\\clarity_data_quality_controls\\excel_books\\aladdin_data\\crossreference\\Aladdin_Clarity_Issuers_20250601.csv\n"
     ]
    }
   ],
   "source": [
    "raw_crossreference = load_crossreference(CROSSREFERENCE_PATH)\n",
    "raw_crossreference.loc[:,\"aladdin_id\"] = raw_crossreference[\"aladdin_id\"].astype(str)\n",
    "raw_crossreference.loc[:,\"permid\"] = raw_crossreference[\"permid\"].astype(str)"
   ]
  },
  {
   "cell_type": "code",
   "execution_count": 11,
   "metadata": {},
   "outputs": [],
   "source": [
    "cross_duplicated_permid = find_conflicting_permid(raw_crossreference)"
   ]
  },
  {
   "cell_type": "code",
   "execution_count": 12,
   "metadata": {},
   "outputs": [
    {
     "name": "stdout",
     "output_type": "stream",
     "text": [
      "<class 'pandas.core.frame.DataFrame'>\n",
      "Index: 38 entries, 9658 to 120713\n",
      "Data columns (total 5 columns):\n",
      " #   Column       Non-Null Count  Dtype \n",
      "---  ------       --------------  ----- \n",
      " 0   aladdin_id   38 non-null     object\n",
      " 1   issuer_name  38 non-null     object\n",
      " 2   permid       38 non-null     object\n",
      " 3   msci         22 non-null     object\n",
      " 4   sust         4 non-null      object\n",
      "dtypes: object(5)\n",
      "memory usage: 1.8+ KB\n"
     ]
    }
   ],
   "source": [
    "cross_duplicated_permid.info()"
   ]
  },
  {
   "cell_type": "code",
   "execution_count": 13,
   "metadata": {},
   "outputs": [
    {
     "data": {
      "text/html": [
       "<div>\n",
       "<style scoped>\n",
       "    .dataframe tbody tr th:only-of-type {\n",
       "        vertical-align: middle;\n",
       "    }\n",
       "\n",
       "    .dataframe tbody tr th {\n",
       "        vertical-align: top;\n",
       "    }\n",
       "\n",
       "    .dataframe thead th {\n",
       "        text-align: right;\n",
       "    }\n",
       "</style>\n",
       "<table border=\"1\" class=\"dataframe\">\n",
       "  <thead>\n",
       "    <tr style=\"text-align: right;\">\n",
       "      <th></th>\n",
       "      <th>aladdin_id</th>\n",
       "      <th>issuer_name</th>\n",
       "      <th>permid</th>\n",
       "      <th>msci</th>\n",
       "      <th>sust</th>\n",
       "    </tr>\n",
       "  </thead>\n",
       "  <tbody>\n",
       "    <tr>\n",
       "      <th>9658</th>\n",
       "      <td>C06438</td>\n",
       "      <td>DAEKYO CO LTD</td>\n",
       "      <td>4295882050</td>\n",
       "      <td>IID000000002163522</td>\n",
       "      <td>NaN</td>\n",
       "    </tr>\n",
       "    <tr>\n",
       "      <th>9659</th>\n",
       "      <td>C06438</td>\n",
       "      <td>DAEKYO CO LTD</td>\n",
       "      <td>5040055894</td>\n",
       "      <td>IID000000002163522</td>\n",
       "      <td>NaN</td>\n",
       "    </tr>\n",
       "    <tr>\n",
       "      <th>16991</th>\n",
       "      <td>C85817</td>\n",
       "      <td>NATIONAL INSURANCE CO LTD</td>\n",
       "      <td>5000004308</td>\n",
       "      <td>NaN</td>\n",
       "      <td>NaN</td>\n",
       "    </tr>\n",
       "    <tr>\n",
       "      <th>16992</th>\n",
       "      <td>C85817</td>\n",
       "      <td>NATIONAL INSURANCE CO LTD</td>\n",
       "      <td>5000074128</td>\n",
       "      <td>NaN</td>\n",
       "      <td>NaN</td>\n",
       "    </tr>\n",
       "    <tr>\n",
       "      <th>30335</th>\n",
       "      <td>E91812</td>\n",
       "      <td>WITHUS CO LTD</td>\n",
       "      <td>4295882459</td>\n",
       "      <td>NaN</td>\n",
       "      <td>NaN</td>\n",
       "    </tr>\n",
       "  </tbody>\n",
       "</table>\n",
       "</div>"
      ],
      "text/plain": [
       "      aladdin_id                issuer_name      permid                msci  \\\n",
       "9658      C06438              DAEKYO CO LTD  4295882050  IID000000002163522   \n",
       "9659      C06438              DAEKYO CO LTD  5040055894  IID000000002163522   \n",
       "16991     C85817  NATIONAL INSURANCE CO LTD  5000004308                 NaN   \n",
       "16992     C85817  NATIONAL INSURANCE CO LTD  5000074128                 NaN   \n",
       "30335     E91812              WITHUS CO LTD  4295882459                 NaN   \n",
       "\n",
       "      sust  \n",
       "9658   NaN  \n",
       "9659   NaN  \n",
       "16991  NaN  \n",
       "16992  NaN  \n",
       "30335  NaN  "
      ]
     },
     "execution_count": 13,
     "metadata": {},
     "output_type": "execute_result"
    }
   ],
   "source": [
    "cross_duplicated_permid.head()"
   ]
  },
  {
   "cell_type": "code",
   "execution_count": 14,
   "metadata": {},
   "outputs": [],
   "source": [
    "#cross_duplicated_permid.to_csv(r\"C:\\Users\\n740789\\Downloads\\aladdin_issuers_with_multiple_permids.csv\", index=False)"
   ]
  },
  {
   "cell_type": "code",
   "execution_count": 15,
   "metadata": {},
   "outputs": [
    {
     "data": {
      "text/html": [
       "<div>\n",
       "<style scoped>\n",
       "    .dataframe tbody tr th:only-of-type {\n",
       "        vertical-align: middle;\n",
       "    }\n",
       "\n",
       "    .dataframe tbody tr th {\n",
       "        vertical-align: top;\n",
       "    }\n",
       "\n",
       "    .dataframe thead th {\n",
       "        text-align: right;\n",
       "    }\n",
       "</style>\n",
       "<table border=\"1\" class=\"dataframe\">\n",
       "  <thead>\n",
       "    <tr style=\"text-align: right;\">\n",
       "      <th></th>\n",
       "      <th>aladdin_id</th>\n",
       "      <th>issuer_name</th>\n",
       "      <th>permid</th>\n",
       "      <th>msci</th>\n",
       "      <th>sust</th>\n",
       "    </tr>\n",
       "  </thead>\n",
       "  <tbody>\n",
       "    <tr>\n",
       "      <th>116602</th>\n",
       "      <td>J66430</td>\n",
       "      <td>ABBOTT IRELAND FINANCING DAC</td>\n",
       "      <td>5065365677</td>\n",
       "      <td>IID000000002923125</td>\n",
       "      <td>2006365832</td>\n",
       "    </tr>\n",
       "  </tbody>\n",
       "</table>\n",
       "</div>"
      ],
      "text/plain": [
       "       aladdin_id                   issuer_name      permid  \\\n",
       "116602     J66430  ABBOTT IRELAND FINANCING DAC  5065365677   \n",
       "\n",
       "                      msci        sust  \n",
       "116602  IID000000002923125  2006365832  "
      ]
     },
     "execution_count": 15,
     "metadata": {},
     "output_type": "execute_result"
    }
   ],
   "source": [
    "cross_filtered = raw_crossreference[raw_crossreference.aladdin_id.isin(target_aladdin_id)]\n",
    "cross_filtered.head(10)"
   ]
  },
  {
   "cell_type": "code",
   "execution_count": 16,
   "metadata": {},
   "outputs": [
    {
     "data": {
      "text/html": [
       "<div>\n",
       "<style scoped>\n",
       "    .dataframe tbody tr th:only-of-type {\n",
       "        vertical-align: middle;\n",
       "    }\n",
       "\n",
       "    .dataframe tbody tr th {\n",
       "        vertical-align: top;\n",
       "    }\n",
       "\n",
       "    .dataframe thead th {\n",
       "        text-align: right;\n",
       "    }\n",
       "</style>\n",
       "<table border=\"1\" class=\"dataframe\">\n",
       "  <thead>\n",
       "    <tr style=\"text-align: right;\">\n",
       "      <th></th>\n",
       "      <th>aladdin_id</th>\n",
       "      <th>issuer_name</th>\n",
       "      <th>permid</th>\n",
       "      <th>msci</th>\n",
       "      <th>sust</th>\n",
       "    </tr>\n",
       "  </thead>\n",
       "  <tbody>\n",
       "    <tr>\n",
       "      <th>116602</th>\n",
       "      <td>J66430</td>\n",
       "      <td>ABBOTT IRELAND FINANCING DAC</td>\n",
       "      <td>5065365677</td>\n",
       "      <td>IID000000002923125</td>\n",
       "      <td>2006365832</td>\n",
       "    </tr>\n",
       "  </tbody>\n",
       "</table>\n",
       "</div>"
      ],
      "text/plain": [
       "       aladdin_id                   issuer_name      permid  \\\n",
       "116602     J66430  ABBOTT IRELAND FINANCING DAC  5065365677   \n",
       "\n",
       "                      msci        sust  \n",
       "116602  IID000000002923125  2006365832  "
      ]
     },
     "execution_count": 16,
     "metadata": {},
     "output_type": "execute_result"
    }
   ],
   "source": [
    "cross_filtered.head()"
   ]
  },
  {
   "cell_type": "code",
   "execution_count": 17,
   "metadata": {},
   "outputs": [],
   "source": [
    "#cross_aladdin_path = r\"C:\\Users\\n740789\\Documents\\clarity_data_quality_controls\\excel_books\\aladdin_data\\crossreference\\Aladdin_Clarity_Issuers_20250501_aladdin.csv\"\n",
    "#cross_aladdin = pd.read_csv(cross_aladdin_path)\n",
    "#cross_aladdin.columns = cross_aladdin.columns.str.lower()\n",
    "#cross_aladdin.rename(columns={\"aladdin_issuer\":\"aladdin_id\", \"clarity_ai\":\"permid\"}, inplace=True)\n",
    "# cross_aladdin_filtered = cross_aladdin[cross_aladdin.aladdin_id.isin(target_aladdin_id)]"
   ]
  },
  {
   "cell_type": "code",
   "execution_count": 18,
   "metadata": {},
   "outputs": [],
   "source": [
    "crossreference = raw_crossreference.drop_duplicates(subset=[\"permid\"]).dropna(subset=[\"permid\"])\n"
   ]
  },
  {
   "cell_type": "code",
   "execution_count": 19,
   "metadata": {},
   "outputs": [
    {
     "name": "stdout",
     "output_type": "stream",
     "text": [
      "<class 'pandas.core.frame.DataFrame'>\n",
      "Index: 131889 entries, 0 to 134880\n",
      "Data columns (total 5 columns):\n",
      " #   Column       Non-Null Count   Dtype \n",
      "---  ------       --------------   ----- \n",
      " 0   aladdin_id   131889 non-null  object\n",
      " 1   issuer_name  131889 non-null  object\n",
      " 2   permid       131889 non-null  object\n",
      " 3   msci         62070 non-null   object\n",
      " 4   sust         22592 non-null   object\n",
      "dtypes: object(5)\n",
      "memory usage: 6.0+ MB\n"
     ]
    }
   ],
   "source": [
    "crossreference.info()"
   ]
  },
  {
   "cell_type": "code",
   "execution_count": 20,
   "metadata": {},
   "outputs": [
    {
     "name": "stdout",
     "output_type": "stream",
     "text": [
      "Index(['isin', 'instrument_type', 'issuer_name', 'issuer_country',\n",
      "       'gics2_industry', 'region', 'company_inheriting', 'parent_company',\n",
      "       'esg_score', 'esg_score_relevance',\n",
      "       ...\n",
      "       'maxexp_gas_fuels_prod', 'exp_gas_fuels_part', 'minexp_gas_fuels_part',\n",
      "       'maxexp_gas_fuels_part', 'exp_oil_fuels_prod', 'minexp_oil_fuels_prod',\n",
      "       'maxexp_oil_fuels_prod', 'exp_oil_fuels_part', 'minexp_oil_fuels_part',\n",
      "       'maxexp_oil_fuels_part'],\n",
      "      dtype='object', length=276)\n"
     ]
    }
   ],
   "source": [
    "print(datafeed.columns)"
   ]
  },
  {
   "cell_type": "code",
   "execution_count": 23,
   "metadata": {},
   "outputs": [],
   "source": [
    "datafeed = datafeed.merge(crossreference[[\"aladdin_id\",\"permid\"]], how=\"left\", on=\"permid\")\n"
   ]
  },
  {
   "cell_type": "code",
   "execution_count": 24,
   "metadata": {},
   "outputs": [],
   "source": [
    "datafeed.loc[:,\"aladdin_id\"] = datafeed[\"aladdin_id\"].astype(str)"
   ]
  },
  {
   "cell_type": "code",
   "execution_count": 25,
   "metadata": {},
   "outputs": [],
   "source": [
    "datafeed_target_may = datafeed[datafeed.aladdin_id.isin(target_aladdin_id)][datafeet_output_cols].copy()"
   ]
  },
  {
   "cell_type": "code",
   "execution_count": 26,
   "metadata": {},
   "outputs": [
    {
     "data": {
      "text/html": [
       "<div>\n",
       "<style scoped>\n",
       "    .dataframe tbody tr th:only-of-type {\n",
       "        vertical-align: middle;\n",
       "    }\n",
       "\n",
       "    .dataframe tbody tr th {\n",
       "        vertical-align: top;\n",
       "    }\n",
       "\n",
       "    .dataframe thead th {\n",
       "        text-align: right;\n",
       "    }\n",
       "</style>\n",
       "<table border=\"1\" class=\"dataframe\">\n",
       "  <thead>\n",
       "    <tr style=\"text-align: right;\">\n",
       "      <th></th>\n",
       "      <th>permid</th>\n",
       "      <th>aladdin_id</th>\n",
       "      <th>issuer_name</th>\n",
       "      <th>str_001_s</th>\n",
       "      <th>str_002_ec</th>\n",
       "      <th>str_003_ec</th>\n",
       "      <th>str_003b_ec</th>\n",
       "      <th>str_004_asec</th>\n",
       "      <th>str_005_ec</th>\n",
       "      <th>str_006_sec</th>\n",
       "      <th>str_007_sect</th>\n",
       "      <th>art_8_basicos</th>\n",
       "      <th>cs_001_sec</th>\n",
       "      <th>cs_002_ec</th>\n",
       "    </tr>\n",
       "  </thead>\n",
       "  <tbody>\n",
       "    <tr>\n",
       "      <th>36869</th>\n",
       "      <td>5065365677</td>\n",
       "      <td>J66430</td>\n",
       "      <td>Abbott Ireland Financing DAC</td>\n",
       "      <td>FLAG</td>\n",
       "      <td>EXCLUDED</td>\n",
       "      <td>FLAG</td>\n",
       "      <td>OK</td>\n",
       "      <td>FLAG</td>\n",
       "      <td>OK</td>\n",
       "      <td>FLAG</td>\n",
       "      <td>OK</td>\n",
       "      <td>FLAG</td>\n",
       "      <td>OK</td>\n",
       "      <td>OK</td>\n",
       "    </tr>\n",
       "  </tbody>\n",
       "</table>\n",
       "</div>"
      ],
      "text/plain": [
       "           permid aladdin_id                   issuer_name str_001_s  \\\n",
       "36869  5065365677     J66430  Abbott Ireland Financing DAC      FLAG   \n",
       "\n",
       "      str_002_ec str_003_ec str_003b_ec str_004_asec str_005_ec str_006_sec  \\\n",
       "36869   EXCLUDED       FLAG          OK         FLAG         OK        FLAG   \n",
       "\n",
       "      str_007_sect art_8_basicos cs_001_sec cs_002_ec  \n",
       "36869           OK          FLAG         OK        OK  "
      ]
     },
     "execution_count": 26,
     "metadata": {},
     "output_type": "execute_result"
    }
   ],
   "source": [
    "datafeed_target_may.head()"
   ]
  },
  {
   "cell_type": "code",
   "execution_count": 49,
   "metadata": {},
   "outputs": [],
   "source": [
    "datafeed_target_may.to_csv(r\"C:\\Users\\n740789\\Downloads\\failed_sambau_upload_issuer.csv\", index=False)"
   ]
  },
  {
   "cell_type": "code",
   "execution_count": 50,
   "metadata": {},
   "outputs": [
    {
     "name": "stdout",
     "output_type": "stream",
     "text": [
      "isin\n",
      "instrument_type\n",
      "issuer_name\n",
      "issuer_country\n",
      "gics2_industry\n"
     ]
    }
   ],
   "source": [
    "for i, name in enumerate(datafeed.columns):\n",
    "    if i < 5:\n",
    "        print(f\"{name}\")"
   ]
  },
  {
   "cell_type": "code",
   "execution_count": 51,
   "metadata": {},
   "outputs": [
    {
     "name": "stdout",
     "output_type": "stream",
     "text": [
      "permid\n",
      "aladdin_id\n"
     ]
    }
   ],
   "source": [
    "for c in datafeed.columns:\n",
    "    if c in [\"aladdin_id\",\"permid\"]:\n",
    "        print(f\"{c}\")"
   ]
  },
  {
   "cell_type": "code",
   "execution_count": 52,
   "metadata": {},
   "outputs": [
    {
     "name": "stdout",
     "output_type": "stream",
     "text": [
      "str_001_s\n",
      "str_002_ec\n",
      "str_003_ec\n",
      "str_004_asec\n",
      "str_005_ec\n",
      "str_006_sec\n",
      "str_007_sect\n",
      "str_003b_ec\n"
     ]
    }
   ],
   "source": [
    "for c in datafeed.columns:\n",
    "    if \"str_00\" in c:\n",
    "        print(c)"
   ]
  },
  {
   "cell_type": "code",
   "execution_count": 53,
   "metadata": {},
   "outputs": [],
   "source": [
    "filtered_df = datafeed[(datafeed[\"aladdin_id\"].isin(target_aladdin_id)) | (datafeed[\"permid\"].isin(target_permid))][target_cols]"
   ]
  },
  {
   "cell_type": "code",
   "execution_count": 54,
   "metadata": {},
   "outputs": [
    {
     "name": "stdout",
     "output_type": "stream",
     "text": [
      "<class 'pandas.core.frame.DataFrame'>\n",
      "Index: 2 entries, 52806 to 66002\n",
      "Data columns (total 3 columns):\n",
      " #   Column       Non-Null Count  Dtype \n",
      "---  ------       --------------  ----- \n",
      " 0   permid       2 non-null      object\n",
      " 1   aladdin_id   2 non-null      object\n",
      " 2   issuer_name  2 non-null      object\n",
      "dtypes: object(3)\n",
      "memory usage: 64.0+ bytes\n"
     ]
    }
   ],
   "source": [
    "filtered_df.info()"
   ]
  },
  {
   "cell_type": "code",
   "execution_count": null,
   "metadata": {},
   "outputs": [],
   "source": []
  }
 ],
 "metadata": {
  "kernelspec": {
   "display_name": ".venv",
   "language": "python",
   "name": "python3"
  },
  "language_info": {
   "codemirror_mode": {
    "name": "ipython",
    "version": 3
   },
   "file_extension": ".py",
   "mimetype": "text/x-python",
   "name": "python",
   "nbconvert_exporter": "python",
   "pygments_lexer": "ipython3",
   "version": "3.13.0"
  }
 },
 "nbformat": 4,
 "nbformat_minor": 2
}
