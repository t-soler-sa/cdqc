{
 "cells": [
  {
   "cell_type": "code",
   "execution_count": 1,
   "metadata": {},
   "outputs": [],
   "source": [
    "import pandas as pd\n",
    "import numpy as np\n",
    "\n",
    "import sys\n",
    "import os\n",
    "\n",
    "# Add the project root (one level up from notebooks/) to sys.path\n",
    "sys.path.append(os.path.abspath(os.path.join(os.getcwd(), '..')))"
   ]
  },
  {
   "cell_type": "code",
   "execution_count": 2,
   "metadata": {},
   "outputs": [],
   "source": [
    "from scripts.utils.dataloaders import (\n",
    "    load_clarity_data,\n",
    "    load_crossreference,\n",
    "    load_overrides,\n",
    "    load_aladdin_data\n",
    ")\n",
    "from scripts.utils.config import get_config\n",
    "from scripts.utils.clarity_data_quality_control_functions import get_issuer_level_df"
   ]
  },
  {
   "cell_type": "code",
   "execution_count": 3,
   "metadata": {},
   "outputs": [],
   "source": [
    "# Get the common configuration for the Pre-OVR-Analysis script.\n",
    "config = get_config(\n",
    "    \"notebook-datafeeds-explorer\", \n",
    "    interactive=False,\n",
    "    auto_date= False,\n",
    "    fixed_date= \"202505\",)\n",
    "\n",
    "\n",
    "logger = config[\"logger\"]\n",
    "DATE = config[\"DATE\"]\n",
    "YEAR = config[\"YEAR\"]\n",
    "DATE_PREV = config[\"DATE_PREV\"]\n",
    "REPO_DIR = config[\"REPO_DIR\"]\n",
    "DATAFEED_DIR = config[\"DATAFEED_DIR\"]\n",
    "SRI_DATA_DIR = config[\"SRI_DATA_DIR\"]\n",
    "paths = config[\"paths\"]\n",
    "# Use the paths from config\n",
    "DF_PREV_PATH = paths[\"PRE_DF_WOVR_PATH\"]\n",
    "DF_NEW_PATH = paths[\"CURRENT_DF_WOUTOVR_PATH\"]\n",
    "CROSSREFERENCE_PATH = paths[\"CROSSREFERENCE_PATH\"]\n",
    "BMK_PORTF_STR_PATH = paths[\"BMK_PORTF_STR_PATH\"]\n",
    "OVR_PATH = paths[\"OVR_PATH\"]\n",
    "#COMMITTEE_PATH = paths[\"COMMITTEE_PATH\"]\n",
    "## Define the output directory and file based on the configuration.\n",
    "#OUTPUT_DIR = config[\"OUTPUT_DIR\"]\n",
    "#OUTPUT_FILE = OUTPUT_DIR / f\"{DATE}_pre_ovr_analysis.xlsx\""
   ]
  },
  {
   "cell_type": "code",
   "execution_count": 4,
   "metadata": {},
   "outputs": [],
   "source": [
    "target_permid = [\n",
    "\"5073622246\",\n",
    "\"4295875200\",\n",
    "\"4296393129\",\n",
    "\"4296978549\",\n",
    "\"5041079662\",\n",
    "]\n",
    "target_cols = [\"permid\", \"aladdin_id\",\"issuer_name\"]\n",
    "targat_cols_brs = [\"aladdin_id\", \"issuer_name\"]\n",
    "target_aladdin_id = [\n",
    "    \"000375\",\n",
    "    \"003001\",\n",
    "    \"007699\",\n",
    "    \"010199\",\n",
    "    \"055262\",\n",
    "    \"059456\",\n",
    "    \"072730\",\n",
    "    \"M58534\",\n",
    "    \"R48483\",\n",
    "    \"F05671\"]"
   ]
  },
  {
   "cell_type": "code",
   "execution_count": 5,
   "metadata": {},
   "outputs": [
    {
     "name": "stdout",
     "output_type": "stream",
     "text": [
      "2025-05-19 10:45:45,413 - scripts.utils.dataloaders - INFO - Loading Clarity data from: C:\\Users\\n740789\\Documents\\Projects_local\\DataSets\\DATAFEED\\ficheros_tratados\\2025\\20250501_Equities_feed_IssuerLevel_sinOVR.csv\n",
      "2025-05-19 10:45:50,822 - scripts.utils.dataloaders - INFO - Successfully loaded Clarity data from: C:\\Users\\n740789\\Documents\\Projects_local\\DataSets\\DATAFEED\\ficheros_tratados\\2025\\20250501_Equities_feed_IssuerLevel_sinOVR.csv\n"
     ]
    }
   ],
   "source": [
    "datafeed = load_clarity_data(DF_NEW_PATH)\n",
    "datafeed.loc[:,\"permid\"] = datafeed[\"permid\"].astype(str)"
   ]
  },
  {
   "cell_type": "code",
   "execution_count": 6,
   "metadata": {},
   "outputs": [
    {
     "name": "stdout",
     "output_type": "stream",
     "text": [
      "permid\n"
     ]
    }
   ],
   "source": [
    "for c in datafeed.columns:\n",
    "    if c in [\"aladdin_id\",\"permid\"]:\n",
    "        print(f\"{c}\")"
   ]
  },
  {
   "cell_type": "code",
   "execution_count": 7,
   "metadata": {},
   "outputs": [
    {
     "name": "stdout",
     "output_type": "stream",
     "text": [
      "2025-05-19 10:45:50,864 - scripts.utils.dataloaders - INFO - Loading portfolio_carteras data from C:\\Users\\n740789\\Documents\\clarity_data_quality_controls\\excel_books\\aladdin_data\\bmk_portf_str\\202505_strategies_snt world_portf_bmks.xlsx\n",
      "2025-05-19 10:46:12,310 - scripts.utils.dataloaders - INFO - Cleaning columns and converting data types for portfolio_carteras\n",
      "2025-05-19 10:46:12,312 - scripts.utils.dataloaders - INFO - Converting column 'aladdin_id' to string.\n",
      "2025-05-19 10:46:12,319 - scripts.utils.dataloaders - INFO - Converting column 'portfolio_id' to string.\n",
      "2025-05-19 10:46:12,322 - scripts.utils.dataloaders - INFO - Successfully loaded Aladdin data from: C:\\Users\\n740789\\Documents\\clarity_data_quality_controls\\excel_books\\aladdin_data\\bmk_portf_str\\202505_strategies_snt world_portf_bmks.xlsx\n",
      "2025-05-19 10:46:12,340 - scripts.utils.dataloaders - INFO - Loading portfolio_benchmarks data from C:\\Users\\n740789\\Documents\\clarity_data_quality_controls\\excel_books\\aladdin_data\\bmk_portf_str\\202505_strategies_snt world_portf_bmks.xlsx\n",
      "2025-05-19 10:47:28,747 - scripts.utils.dataloaders - INFO - Cleaning columns and converting data types for portfolio_benchmarks\n",
      "2025-05-19 10:47:28,750 - scripts.utils.dataloaders - INFO - Converting column 'aladdin_id' to string.\n",
      "2025-05-19 10:47:28,762 - scripts.utils.dataloaders - INFO - Converting column 'benchmark_id' to string.\n",
      "2025-05-19 10:47:28,768 - scripts.utils.dataloaders - INFO - Successfully loaded Aladdin data from: C:\\Users\\n740789\\Documents\\clarity_data_quality_controls\\excel_books\\aladdin_data\\bmk_portf_str\\202505_strategies_snt world_portf_bmks.xlsx\n"
     ]
    }
   ],
   "source": [
    "brs_carteras = get_issuer_level_df(load_aladdin_data(BMK_PORTF_STR_PATH, \"portfolio_carteras\"), \"aladdin_id\")\n",
    "brs_benchmarks = get_issuer_level_df(load_aladdin_data(BMK_PORTF_STR_PATH, \"portfolio_benchmarks\"), \"aladdin_id\")"
   ]
  },
  {
   "cell_type": "code",
   "execution_count": 8,
   "metadata": {},
   "outputs": [],
   "source": [
    "for df in [brs_carteras, brs_benchmarks]:\n",
    "    df.loc[:,\"aladdin_id\"] = df[\"aladdin_id\"].astype(str)"
   ]
  },
  {
   "cell_type": "code",
   "execution_count": 9,
   "metadata": {},
   "outputs": [],
   "source": [
    "brs_carteras_filtered = brs_carteras[brs_carteras.aladdin_id.isin(target_aladdin_id)][targat_cols_brs]\n",
    "brs_benchmarks_filtered = brs_benchmarks[brs_benchmarks.aladdin_id.isin(target_aladdin_id)][targat_cols_brs]"
   ]
  },
  {
   "cell_type": "code",
   "execution_count": 10,
   "metadata": {},
   "outputs": [
    {
     "name": "stdout",
     "output_type": "stream",
     "text": [
      "<class 'pandas.core.frame.DataFrame'>\n",
      "Index: 10 entries, 165 to 68345\n",
      "Data columns (total 2 columns):\n",
      " #   Column       Non-Null Count  Dtype \n",
      "---  ------       --------------  ----- \n",
      " 0   aladdin_id   10 non-null     object\n",
      " 1   issuer_name  10 non-null     object\n",
      "dtypes: object(2)\n",
      "memory usage: 240.0+ bytes\n",
      "Dataframe: carteras's columns:\n",
      "None\n",
      "\n",
      "\n",
      "<class 'pandas.core.frame.DataFrame'>\n",
      "Index: 10 entries, 72 to 32267\n",
      "Data columns (total 2 columns):\n",
      " #   Column       Non-Null Count  Dtype \n",
      "---  ------       --------------  ----- \n",
      " 0   aladdin_id   10 non-null     object\n",
      " 1   issuer_name  10 non-null     object\n",
      "dtypes: object(2)\n",
      "memory usage: 240.0+ bytes\n",
      "Dataframe: benchamrs's columns:\n",
      "None\n",
      "\n",
      "\n"
     ]
    }
   ],
   "source": [
    "for df_name, df in zip([\"carteras\",\"benchamrs\"],[brs_carteras_filtered, brs_benchmarks_filtered]):\n",
    "    print(f\"Dataframe: {df_name}'s columns:\\n{df.info()}\\n\\n\")"
   ]
  },
  {
   "cell_type": "code",
   "execution_count": 11,
   "metadata": {},
   "outputs": [
    {
     "name": "stdout",
     "output_type": "stream",
     "text": [
      "2025-05-19 10:47:28,940 - scripts.utils.dataloaders - INFO - Loading crossreference data from: C:\\Users\\n740789\\Documents\\clarity_data_quality_controls\\excel_books\\aladdin_data\\crossreference\\Aladdin_Clarity_Issuers_20250501.csv\n",
      "2025-05-19 10:47:29,243 - scripts.utils.dataloaders - INFO - Cleaning columns and renaming crossreference data\n",
      "2025-05-19 10:47:29,245 - scripts.utils.dataloaders - INFO - Successfully loaded crossreference from: C:\\Users\\n740789\\Documents\\clarity_data_quality_controls\\excel_books\\aladdin_data\\crossreference\\Aladdin_Clarity_Issuers_20250501.csv\n"
     ]
    }
   ],
   "source": [
    "raw_crossreference = load_crossreference(CROSSREFERENCE_PATH)\n",
    "raw_crossreference.loc[:,\"aladdin_id\"] = raw_crossreference[\"aladdin_id\"].astype(str)\n",
    "raw_crossreference.loc[:,\"permid\"] = raw_crossreference[\"permid\"].astype(str)"
   ]
  },
  {
   "cell_type": "code",
   "execution_count": 12,
   "metadata": {},
   "outputs": [
    {
     "name": "stdout",
     "output_type": "stream",
     "text": [
      "<class 'pandas.core.frame.DataFrame'>\n",
      "Index: 10 entries, 4180 to 133848\n",
      "Data columns (total 5 columns):\n",
      " #   Column       Non-Null Count  Dtype \n",
      "---  ------       --------------  ----- \n",
      " 0   aladdin_id   10 non-null     object\n",
      " 1   issuer_name  10 non-null     object\n",
      " 2   permid       10 non-null     object\n",
      " 3   msci         10 non-null     object\n",
      " 4   sust         9 non-null      object\n",
      "dtypes: object(5)\n",
      "memory usage: 480.0+ bytes\n"
     ]
    }
   ],
   "source": [
    "cross_filtered = raw_crossreference[raw_crossreference.aladdin_id.isin(target_aladdin_id)]\n",
    "cross_filtered.info()"
   ]
  },
  {
   "cell_type": "code",
   "execution_count": 13,
   "metadata": {},
   "outputs": [
    {
     "data": {
      "text/html": [
       "<div>\n",
       "<style scoped>\n",
       "    .dataframe tbody tr th:only-of-type {\n",
       "        vertical-align: middle;\n",
       "    }\n",
       "\n",
       "    .dataframe tbody tr th {\n",
       "        vertical-align: top;\n",
       "    }\n",
       "\n",
       "    .dataframe thead th {\n",
       "        text-align: right;\n",
       "    }\n",
       "</style>\n",
       "<table border=\"1\" class=\"dataframe\">\n",
       "  <thead>\n",
       "    <tr style=\"text-align: right;\">\n",
       "      <th></th>\n",
       "      <th>aladdin_id</th>\n",
       "      <th>issuer_name</th>\n",
       "      <th>permid</th>\n",
       "      <th>msci</th>\n",
       "      <th>sust</th>\n",
       "    </tr>\n",
       "  </thead>\n",
       "  <tbody>\n",
       "    <tr>\n",
       "      <th>4180</th>\n",
       "      <td>000375</td>\n",
       "      <td>BP PLC</td>\n",
       "      <td>4295894740</td>\n",
       "      <td>IID000000002140371</td>\n",
       "      <td>1008272712</td>\n",
       "    </tr>\n",
       "    <tr>\n",
       "      <th>4193</th>\n",
       "      <td>003001</td>\n",
       "      <td>AB SKF</td>\n",
       "      <td>4295890078</td>\n",
       "      <td>IID000000002144268</td>\n",
       "      <td>1008126516</td>\n",
       "    </tr>\n",
       "    <tr>\n",
       "      <th>4195</th>\n",
       "      <td>007699</td>\n",
       "      <td>BANCO SANTANDER SA</td>\n",
       "      <td>8589934205</td>\n",
       "      <td>IID000000002159005</td>\n",
       "      <td>1008202176</td>\n",
       "    </tr>\n",
       "    <tr>\n",
       "      <th>4202</th>\n",
       "      <td>010199</td>\n",
       "      <td>AKZO NOBEL NV</td>\n",
       "      <td>4295884730</td>\n",
       "      <td>IID000000002156536</td>\n",
       "      <td>1008204089</td>\n",
       "    </tr>\n",
       "    <tr>\n",
       "      <th>4273</th>\n",
       "      <td>055262</td>\n",
       "      <td>BASF SE</td>\n",
       "      <td>4295869198</td>\n",
       "      <td>IID000000002158653</td>\n",
       "      <td>1008261072</td>\n",
       "    </tr>\n",
       "  </tbody>\n",
       "</table>\n",
       "</div>"
      ],
      "text/plain": [
       "     aladdin_id         issuer_name      permid                msci  \\\n",
       "4180     000375              BP PLC  4295894740  IID000000002140371   \n",
       "4193     003001              AB SKF  4295890078  IID000000002144268   \n",
       "4195     007699  BANCO SANTANDER SA  8589934205  IID000000002159005   \n",
       "4202     010199       AKZO NOBEL NV  4295884730  IID000000002156536   \n",
       "4273     055262             BASF SE  4295869198  IID000000002158653   \n",
       "\n",
       "            sust  \n",
       "4180  1008272712  \n",
       "4193  1008126516  \n",
       "4195  1008202176  \n",
       "4202  1008204089  \n",
       "4273  1008261072  "
      ]
     },
     "execution_count": 13,
     "metadata": {},
     "output_type": "execute_result"
    }
   ],
   "source": [
    "cross_filtered.head()"
   ]
  },
  {
   "cell_type": "code",
   "execution_count": 14,
   "metadata": {},
   "outputs": [
    {
     "name": "stderr",
     "output_type": "stream",
     "text": [
      "C:\\Users\\n740789\\AppData\\Local\\Temp\\ipykernel_28316\\4088603939.py:2: DtypeWarning: Columns (2,3) have mixed types. Specify dtype option on import or set low_memory=False.\n",
      "  cross_aladdin = pd.read_csv(cross_aladdin_path)\n"
     ]
    }
   ],
   "source": [
    "cross_aladdin_path = r\"C:\\Users\\n740789\\Documents\\clarity_data_quality_controls\\excel_books\\aladdin_data\\crossreference\\Aladdin_Clarity_Issuers_20250501_aladdin.csv\"\n",
    "cross_aladdin = pd.read_csv(cross_aladdin_path)"
   ]
  },
  {
   "cell_type": "code",
   "execution_count": 15,
   "metadata": {},
   "outputs": [],
   "source": [
    "cross_aladdin.columns = cross_aladdin.columns.str.lower()\n",
    "cross_aladdin.rename(columns={\"aladdin_issuer\":\"aladdin_id\", \"clarity_ai\":\"permid\"}, inplace=True)"
   ]
  },
  {
   "cell_type": "code",
   "execution_count": 16,
   "metadata": {},
   "outputs": [],
   "source": [
    "cross_aladdin_filtered = cross_aladdin[cross_aladdin.aladdin_id.isin(target_aladdin_id)]"
   ]
  },
  {
   "cell_type": "code",
   "execution_count": 17,
   "metadata": {},
   "outputs": [
    {
     "data": {
      "text/html": [
       "<div>\n",
       "<style scoped>\n",
       "    .dataframe tbody tr th:only-of-type {\n",
       "        vertical-align: middle;\n",
       "    }\n",
       "\n",
       "    .dataframe tbody tr th {\n",
       "        vertical-align: top;\n",
       "    }\n",
       "\n",
       "    .dataframe thead th {\n",
       "        text-align: right;\n",
       "    }\n",
       "</style>\n",
       "<table border=\"1\" class=\"dataframe\">\n",
       "  <thead>\n",
       "    <tr style=\"text-align: right;\">\n",
       "      <th></th>\n",
       "      <th>aladdin_id</th>\n",
       "      <th>issuer_name</th>\n",
       "      <th>permid</th>\n",
       "      <th>msci</th>\n",
       "      <th>sust</th>\n",
       "    </tr>\n",
       "  </thead>\n",
       "  <tbody>\n",
       "    <tr>\n",
       "      <th>443</th>\n",
       "      <td>F05671</td>\n",
       "      <td>TESLA INC (PRE-REINCORPORATION)</td>\n",
       "      <td>4297089638</td>\n",
       "      <td>IID000000005574410</td>\n",
       "      <td>NaN</td>\n",
       "    </tr>\n",
       "    <tr>\n",
       "      <th>601</th>\n",
       "      <td>M58534</td>\n",
       "      <td>CVC CAPITAL PARTNERS PLC</td>\n",
       "      <td>5082516729</td>\n",
       "      <td>IID000000005133104</td>\n",
       "      <td>2.011649e+09</td>\n",
       "    </tr>\n",
       "    <tr>\n",
       "      <th>54496</th>\n",
       "      <td>R48483</td>\n",
       "      <td>ACCOR SA</td>\n",
       "      <td>4295866829</td>\n",
       "      <td>IID000000002148785</td>\n",
       "      <td>1.008527e+09</td>\n",
       "    </tr>\n",
       "  </tbody>\n",
       "</table>\n",
       "</div>"
      ],
      "text/plain": [
       "      aladdin_id                      issuer_name      permid  \\\n",
       "443       F05671  TESLA INC (PRE-REINCORPORATION)  4297089638   \n",
       "601       M58534         CVC CAPITAL PARTNERS PLC  5082516729   \n",
       "54496     R48483                         ACCOR SA  4295866829   \n",
       "\n",
       "                     msci          sust  \n",
       "443    IID000000005574410           NaN  \n",
       "601    IID000000005133104  2.011649e+09  \n",
       "54496  IID000000002148785  1.008527e+09  "
      ]
     },
     "execution_count": 17,
     "metadata": {},
     "output_type": "execute_result"
    }
   ],
   "source": [
    "cross_aladdin_filtered"
   ]
  },
  {
   "cell_type": "code",
   "execution_count": 18,
   "metadata": {},
   "outputs": [
    {
     "data": {
      "text/html": [
       "<div>\n",
       "<style scoped>\n",
       "    .dataframe tbody tr th:only-of-type {\n",
       "        vertical-align: middle;\n",
       "    }\n",
       "\n",
       "    .dataframe tbody tr th {\n",
       "        vertical-align: top;\n",
       "    }\n",
       "\n",
       "    .dataframe thead th {\n",
       "        text-align: right;\n",
       "    }\n",
       "</style>\n",
       "<table border=\"1\" class=\"dataframe\">\n",
       "  <thead>\n",
       "    <tr style=\"text-align: right;\">\n",
       "      <th></th>\n",
       "      <th>aladdin_id</th>\n",
       "      <th>issuer_name</th>\n",
       "      <th>permid</th>\n",
       "      <th>msci</th>\n",
       "      <th>sust</th>\n",
       "    </tr>\n",
       "  </thead>\n",
       "  <tbody>\n",
       "    <tr>\n",
       "      <th>0</th>\n",
       "      <td>Z27537</td>\n",
       "      <td>ARUNA ENERGIAS RENOVAVEIS LTDA</td>\n",
       "      <td>5090656669</td>\n",
       "      <td>IID000000006215085</td>\n",
       "      <td>NaN</td>\n",
       "    </tr>\n",
       "    <tr>\n",
       "      <th>1</th>\n",
       "      <td>Z27359</td>\n",
       "      <td>ALAMOS GOLD INC</td>\n",
       "      <td>5093618813</td>\n",
       "      <td>IID000000006213797</td>\n",
       "      <td>NaN</td>\n",
       "    </tr>\n",
       "    <tr>\n",
       "      <th>2</th>\n",
       "      <td>M83996</td>\n",
       "      <td>ALAMOS GOLD INC</td>\n",
       "      <td>5090737325</td>\n",
       "      <td>IID000000006213797</td>\n",
       "      <td>1.008762e+09</td>\n",
       "    </tr>\n",
       "    <tr>\n",
       "      <th>3</th>\n",
       "      <td>Z27264</td>\n",
       "      <td>PNC GOMTI HIGHWAYS PVT LTD</td>\n",
       "      <td>5079209310</td>\n",
       "      <td>IID000000006213522</td>\n",
       "      <td>NaN</td>\n",
       "    </tr>\n",
       "    <tr>\n",
       "      <th>4</th>\n",
       "      <td>Z27272</td>\n",
       "      <td>PNC BITHUR KANPUR HIGHWAYS PVT LTD</td>\n",
       "      <td>5079222200</td>\n",
       "      <td>IID000000006213486</td>\n",
       "      <td>NaN</td>\n",
       "    </tr>\n",
       "  </tbody>\n",
       "</table>\n",
       "</div>"
      ],
      "text/plain": [
       "  aladdin_id                         issuer_name      permid  \\\n",
       "0     Z27537      ARUNA ENERGIAS RENOVAVEIS LTDA  5090656669   \n",
       "1     Z27359                     ALAMOS GOLD INC  5093618813   \n",
       "2     M83996                     ALAMOS GOLD INC  5090737325   \n",
       "3     Z27264          PNC GOMTI HIGHWAYS PVT LTD  5079209310   \n",
       "4     Z27272  PNC BITHUR KANPUR HIGHWAYS PVT LTD  5079222200   \n",
       "\n",
       "                 msci          sust  \n",
       "0  IID000000006215085           NaN  \n",
       "1  IID000000006213797           NaN  \n",
       "2  IID000000006213797  1.008762e+09  \n",
       "3  IID000000006213522           NaN  \n",
       "4  IID000000006213486           NaN  "
      ]
     },
     "execution_count": 18,
     "metadata": {},
     "output_type": "execute_result"
    }
   ],
   "source": [
    "cross_aladdin.head()"
   ]
  },
  {
   "cell_type": "code",
   "execution_count": 19,
   "metadata": {},
   "outputs": [],
   "source": [
    "crossreference = raw_crossreference.drop_duplicates(subset=[\"permid\"]).dropna(subset=[\"permid\"])\n"
   ]
  },
  {
   "cell_type": "code",
   "execution_count": 20,
   "metadata": {},
   "outputs": [
    {
     "name": "stdout",
     "output_type": "stream",
     "text": [
      "<class 'pandas.core.frame.DataFrame'>\n",
      "Index: 131889 entries, 0 to 134880\n",
      "Data columns (total 5 columns):\n",
      " #   Column       Non-Null Count   Dtype \n",
      "---  ------       --------------   ----- \n",
      " 0   aladdin_id   131889 non-null  object\n",
      " 1   issuer_name  131889 non-null  object\n",
      " 2   permid       131889 non-null  object\n",
      " 3   msci         62070 non-null   object\n",
      " 4   sust         22592 non-null   object\n",
      "dtypes: object(5)\n",
      "memory usage: 6.0+ MB\n"
     ]
    }
   ],
   "source": [
    "crossreference.info()"
   ]
  },
  {
   "cell_type": "code",
   "execution_count": 21,
   "metadata": {},
   "outputs": [],
   "source": [
    "datafeed = datafeed.merge(crossreference[[\"aladdin_id\",\"permid\"]], how=\"left\", on=\"permid\")\n",
    "datafeed.loc[:,\"aladdin_id\"] = datafeed[\"aladdin_id\"].astype(str)"
   ]
  },
  {
   "cell_type": "code",
   "execution_count": 22,
   "metadata": {},
   "outputs": [
    {
     "name": "stdout",
     "output_type": "stream",
     "text": [
      "isin\n",
      "instrument_type\n",
      "issuer_name\n",
      "issuer_country\n",
      "gics2_industry\n"
     ]
    }
   ],
   "source": [
    "for i, name in enumerate(datafeed.columns):\n",
    "    if i < 5:\n",
    "        print(f\"{name}\")"
   ]
  },
  {
   "cell_type": "code",
   "execution_count": 23,
   "metadata": {},
   "outputs": [
    {
     "name": "stdout",
     "output_type": "stream",
     "text": [
      "permid\n",
      "aladdin_id\n"
     ]
    }
   ],
   "source": [
    "for c in datafeed.columns:\n",
    "    if c in [\"aladdin_id\",\"permid\"]:\n",
    "        print(f\"{c}\")"
   ]
  },
  {
   "cell_type": "code",
   "execution_count": 24,
   "metadata": {},
   "outputs": [
    {
     "name": "stdout",
     "output_type": "stream",
     "text": [
      "str_001_s\n",
      "str_002_ec\n",
      "str_003_ec\n",
      "str_004_asec\n",
      "str_005_ec\n",
      "str_006_sec\n",
      "str_007_sect\n",
      "str_003b_ec\n"
     ]
    }
   ],
   "source": [
    "for c in datafeed.columns:\n",
    "    if \"str_00\" in c:\n",
    "        print(c)"
   ]
  },
  {
   "cell_type": "code",
   "execution_count": 25,
   "metadata": {},
   "outputs": [],
   "source": [
    "filtered_df = datafeed[(datafeed[\"aladdin_id\"].isin(target_aladdin_id)) | (datafeed[\"permid\"].isin(target_permid))][target_cols]"
   ]
  },
  {
   "cell_type": "code",
   "execution_count": 26,
   "metadata": {},
   "outputs": [
    {
     "name": "stdout",
     "output_type": "stream",
     "text": [
      "<class 'pandas.core.frame.DataFrame'>\n",
      "Index: 8 entries, 1340 to 35819\n",
      "Data columns (total 3 columns):\n",
      " #   Column       Non-Null Count  Dtype \n",
      "---  ------       --------------  ----- \n",
      " 0   permid       8 non-null      object\n",
      " 1   aladdin_id   8 non-null      object\n",
      " 2   issuer_name  8 non-null      object\n",
      "dtypes: object(3)\n",
      "memory usage: 256.0+ bytes\n"
     ]
    }
   ],
   "source": [
    "filtered_df.info()"
   ]
  },
  {
   "cell_type": "code",
   "execution_count": null,
   "metadata": {},
   "outputs": [],
   "source": []
  }
 ],
 "metadata": {
  "kernelspec": {
   "display_name": ".venv",
   "language": "python",
   "name": "python3"
  },
  "language_info": {
   "codemirror_mode": {
    "name": "ipython",
    "version": 3
   },
   "file_extension": ".py",
   "mimetype": "text/x-python",
   "name": "python",
   "nbconvert_exporter": "python",
   "pygments_lexer": "ipython3",
   "version": "3.13.0"
  }
 },
 "nbformat": 4,
 "nbformat_minor": 2
}
