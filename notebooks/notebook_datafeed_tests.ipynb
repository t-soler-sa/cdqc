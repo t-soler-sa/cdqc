{
 "cells": [
  {
   "cell_type": "code",
   "execution_count": 22,
   "metadata": {},
   "outputs": [],
   "source": [
    "import pandas as pd\n",
    "import numpy as np\n",
    "\n",
    "import sys\n",
    "import os\n",
    "\n",
    "# Add the project root (one level up from notebooks/) to sys.path\n",
    "sys.path.append(os.path.abspath(os.path.join(os.getcwd(), '..')))"
   ]
  },
  {
   "cell_type": "code",
   "execution_count": 23,
   "metadata": {},
   "outputs": [],
   "source": [
    "from scripts.utils.dataloaders import (\n",
    "    load_clarity_data,\n",
    "    load_crossreference,\n",
    "    load_overrides,\n",
    "    load_aladdin_data\n",
    ")\n",
    "from scripts.utils.config import get_config\n",
    "from scripts.utils.clarity_data_quality_control_functions import get_issuer_level_df"
   ]
  },
  {
   "cell_type": "code",
   "execution_count": 24,
   "metadata": {},
   "outputs": [],
   "source": [
    "# Get the common configuration for the Pre-OVR-Analysis script.\n",
    "config = get_config(\n",
    "    \"notebook-datafeeds-explorer\", \n",
    "    interactive=False,\n",
    "    auto_date= False,\n",
    "    fixed_date= \"202505\",)\n",
    "\n",
    "\n",
    "logger = config[\"logger\"]\n",
    "DATE = config[\"DATE\"]\n",
    "YEAR = config[\"YEAR\"]\n",
    "DATE_PREV = config[\"DATE_PREV\"]\n",
    "REPO_DIR = config[\"REPO_DIR\"]\n",
    "DATAFEED_DIR = config[\"DATAFEED_DIR\"]\n",
    "SRI_DATA_DIR = config[\"SRI_DATA_DIR\"]\n",
    "paths = config[\"paths\"]\n",
    "# Use the paths from config\n",
    "DF_PREV_PATH = paths[\"PRE_DF_WOVR_PATH\"]\n",
    "DF_NEW_PATH = paths[\"CURRENT_DF_WOUTOVR_PATH\"]\n",
    "CROSSREFERENCE_PATH = paths[\"CROSSREFERENCE_PATH\"]\n",
    "BMK_PORTF_STR_PATH = paths[\"BMK_PORTF_STR_PATH\"]\n",
    "OVR_PATH = paths[\"OVR_PATH\"]\n",
    "#COMMITTEE_PATH = paths[\"COMMITTEE_PATH\"]\n",
    "## Define the output directory and file based on the configuration.\n",
    "#OUTPUT_DIR = config[\"OUTPUT_DIR\"]\n",
    "#OUTPUT_FILE = OUTPUT_DIR / f\"{DATE}_pre_ovr_analysis.xlsx\""
   ]
  },
  {
   "cell_type": "code",
   "execution_count": 40,
   "metadata": {},
   "outputs": [],
   "source": [
    "target_permid = [\n",
    "\"5073622246\",\n",
    "\"4295875200\",\n",
    "\"4296393129\",\n",
    "\"4296978549\",\n",
    "\"5041079662\",\n",
    "]\n",
    "target_cols = [\"permid\", \"aladdin_id\",\"issuer_name\"]\n",
    "targat_cols_brs = [\"aladdin_id\", \"issuer_name\"]\n",
    "target_aladdin_id = [\n",
    "    \"000375\",\n",
    "    \"003001\",\n",
    "    \"007699\",\n",
    "    \"010199\",\n",
    "    \"055262\",\n",
    "    \"059456\",\n",
    "    \"072730\",\n",
    "    \"M58534\",\n",
    "    \"R48483\",\n",
    "    \"F05671\"]"
   ]
  },
  {
   "cell_type": "code",
   "execution_count": null,
   "metadata": {},
   "outputs": [],
   "source": [
    "datafeed = load_clarity_data(DF_NEW_PATH)\n",
    "datafeed.loc[:,\"permid\"] = datafeed[\"permid\"].astype(str)"
   ]
  },
  {
   "cell_type": "code",
   "execution_count": null,
   "metadata": {},
   "outputs": [],
   "source": [
    "for c in datafeed.columns:\n",
    "    if c in [\"aladdin_id\",\"permid\"]:\n",
    "        print(f\"{c}\")"
   ]
  },
  {
   "cell_type": "code",
   "execution_count": null,
   "metadata": {},
   "outputs": [],
   "source": [
    "brs_carteras = get_issuer_level_df(load_aladdin_data(BMK_PORTF_STR_PATH, \"portfolio_carteras\"), \"aladdin_id\")\n",
    "brs_benchmarks = get_issuer_level_df(load_aladdin_data(BMK_PORTF_STR_PATH, \"portfolio_benchmarks\"), \"aladdin_id\")"
   ]
  },
  {
   "cell_type": "code",
   "execution_count": 28,
   "metadata": {},
   "outputs": [],
   "source": [
    "for df in [brs_carteras, brs_benchmarks]:\n",
    "    df.loc[:,\"aladdin_id\"] = df[\"aladdin_id\"].astype(str)"
   ]
  },
  {
   "cell_type": "code",
   "execution_count": 29,
   "metadata": {},
   "outputs": [],
   "source": [
    "brs_carteras_filtered = brs_carteras[brs_carteras.aladdin_id.isin(target_aladdin_id)][targat_cols_brs]\n",
    "brs_benchmarks_filtered = brs_benchmarks[brs_benchmarks.aladdin_id.isin(target_aladdin_id)][targat_cols_brs]"
   ]
  },
  {
   "cell_type": "code",
   "execution_count": null,
   "metadata": {},
   "outputs": [],
   "source": [
    "for df_name, df in zip([\"carteras\",\"benchamrs\"],[brs_carteras_filtered, brs_benchmarks_filtered]):\n",
    "    print(f\"Dataframe: {df_name}'s columns:\\n{df.info()}\\n\\n\")"
   ]
  },
  {
   "cell_type": "code",
   "execution_count": null,
   "metadata": {},
   "outputs": [],
   "source": [
    "raw_crossreference = load_crossreference(CROSSREFERENCE_PATH)\n",
    "raw_crossreference.loc[:,\"aladdin_id\"] = raw_crossreference[\"aladdin_id\"].astype(str)\n",
    "raw_crossreference.loc[:,\"permid\"] = raw_crossreference[\"permid\"].astype(str)"
   ]
  },
  {
   "cell_type": "code",
   "execution_count": null,
   "metadata": {},
   "outputs": [],
   "source": [
    "cross_filtered = raw_crossreference[raw_crossreference.aladdin_id.isin(target_aladdin_id)]\n",
    "cross_filtered.info()"
   ]
  },
  {
   "cell_type": "code",
   "execution_count": null,
   "metadata": {},
   "outputs": [],
   "source": [
    "cross_filtered.head()"
   ]
  },
  {
   "cell_type": "code",
   "execution_count": 45,
   "metadata": {},
   "outputs": [],
   "source": [
    "cross_alddin = r\"C:\\Users\\n740789\\Documents\\clarity_data_quality_controls\\excel_books\\aladdin_data\\crossreference\\Aladdin_Clarity_Issuers_20250501_aladdin.csv\"\n",
    "cross_mayo = pd.read_csv(cross_alddin)"
   ]
  },
  {
   "cell_type": "code",
   "execution_count": 46,
   "metadata": {},
   "outputs": [],
   "source": [
    "cross_mayo.columns = cross_mayo.columns.str.lower()\n",
    "cross_mayo.rename(columns={\"aladdin_issuer\":\"aladdin_id\", \"clarity_ai\":\"permid\"}, inplace=True)"
   ]
  },
  {
   "cell_type": "code",
   "execution_count": 47,
   "metadata": {},
   "outputs": [],
   "source": [
    "cross_mayo_filtered = cross_mayo[cross_mayo.aladdin_id.isin(target_aladdin_id)]"
   ]
  },
  {
   "cell_type": "code",
   "execution_count": null,
   "metadata": {},
   "outputs": [],
   "source": [
    "cross_mayo_filtered"
   ]
  },
  {
   "cell_type": "code",
   "execution_count": null,
   "metadata": {},
   "outputs": [],
   "source": [
    "cross_mayo.head()"
   ]
  },
  {
   "cell_type": "code",
   "execution_count": 14,
   "metadata": {},
   "outputs": [],
   "source": [
    "crossreference = raw_crossreference.drop_duplicates(subset=[\"permid\"]).dropna(subset=[\"permid\"])\n"
   ]
  },
  {
   "cell_type": "code",
   "execution_count": null,
   "metadata": {},
   "outputs": [],
   "source": [
    "crossreference.info()"
   ]
  },
  {
   "cell_type": "code",
   "execution_count": 16,
   "metadata": {},
   "outputs": [],
   "source": [
    "datafeed = datafeed.merge(crossreference[[\"aladdin_id\",\"permid\"]], how=\"left\", on=\"permid\")\n",
    "datafeed.loc[:,\"aladdin_id\"] = datafeed[\"aladdin_id\"].astype(str)"
   ]
  },
  {
   "cell_type": "code",
   "execution_count": null,
   "metadata": {},
   "outputs": [],
   "source": [
    "for i, name in enumerate(datafeed.columns):\n",
    "    if i < 5:\n",
    "        print(f\"{name}\")"
   ]
  },
  {
   "cell_type": "code",
   "execution_count": null,
   "metadata": {},
   "outputs": [],
   "source": [
    "for c in datafeed.columns:\n",
    "    if c in [\"aladdin_id\",\"permid\"]:\n",
    "        print(f\"{c}\")"
   ]
  },
  {
   "cell_type": "code",
   "execution_count": null,
   "metadata": {},
   "outputs": [],
   "source": [
    "for c in datafeed.columns:\n",
    "    if \"str_00\" in c:\n",
    "        print(c)"
   ]
  },
  {
   "cell_type": "code",
   "execution_count": 20,
   "metadata": {},
   "outputs": [],
   "source": [
    "filtered_df = datafeed[(datafeed[\"aladdin_id\"].isin(target_aladdin_id)) | (datafeed[\"permid\"].isin(target_permid))][target_cols]"
   ]
  },
  {
   "cell_type": "code",
   "execution_count": null,
   "metadata": {},
   "outputs": [],
   "source": [
    "filtered_df.info()"
   ]
  },
  {
   "cell_type": "code",
   "execution_count": null,
   "metadata": {},
   "outputs": [],
   "source": []
  }
 ],
 "metadata": {
  "kernelspec": {
   "display_name": ".venv",
   "language": "python",
   "name": "python3"
  },
  "language_info": {
   "codemirror_mode": {
    "name": "ipython",
    "version": 3
   },
   "file_extension": ".py",
   "mimetype": "text/x-python",
   "name": "python",
   "nbconvert_exporter": "python",
   "pygments_lexer": "ipython3",
   "version": "3.13.0"
  }
 },
 "nbformat": 4,
 "nbformat_minor": 2
}
