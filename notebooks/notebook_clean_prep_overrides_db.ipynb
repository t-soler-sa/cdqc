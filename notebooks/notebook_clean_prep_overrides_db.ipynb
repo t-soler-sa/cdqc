{
 "cells": [
  {
   "cell_type": "code",
   "execution_count": 1,
   "metadata": {},
   "outputs": [
    {
     "name": "stdout",
     "output_type": "stream",
     "text": [
      "Added to sys.path: c:\\Users\\n740789\\Documents\\clarity_data_quality_controls\n"
     ]
    }
   ],
   "source": [
    "import sys\n",
    "import warnings\n",
    "from pathlib import Path\n",
    "from typing import List, Tuple\n",
    "from itertools import chain\n",
    "from collections import defaultdict\n",
    "\n",
    "# Get the parent directory of current notebook dir, which is the repo root\n",
    "repo_root = Path.cwd().parent\n",
    "sys.path.insert(0, str(repo_root))\n",
    "\n",
    "# Verify the path is correct:\n",
    "print(f\"Added to sys.path: {repo_root}\")\n",
    "\n",
    "import pandas as pd\n",
    "\n",
    "# Import the centralized configuration\n",
    "from scripts.utils.config import get_config"
   ]
  },
  {
   "cell_type": "code",
   "execution_count": 2,
   "metadata": {},
   "outputs": [],
   "source": [
    "config = get_config(\"clean_override_db_for_dataplatform\", auto_date=False, fixed_date=\"202505\")\n",
    "logger = config[\"logger\"]\n",
    "override_dir =  config[\"SRI_DATA_DIR\"] / \"overrides\"\n",
    "overrides = config[\"paths\"][\"OVR_PATH\"]\n",
    "override_beta_path = override_dir / \"overrides_db_beta.xlsx\"\n",
    "override_out_file_path = override_dir / \"esg_overrides.csv\""
   ]
  },
  {
   "cell_type": "code",
   "execution_count": null,
   "metadata": {},
   "outputs": [],
   "source": []
  },
  {
   "cell_type": "code",
   "execution_count": 3,
   "metadata": {},
   "outputs": [],
   "source": [
    "target_cols = [\n",
    "    'creation_date',\n",
    "    'last_update_date',\n",
    "    'next_update_date',\n",
    "    'permid',\n",
    "    'brs_id',\n",
    "    'issuer_name',\n",
    "    'ovr_target',\n",
    "    'df_value',\n",
    "    'ovr_value',\n",
    "    'ovr_active',\n",
    "    'ovr_grounds_srating',\n",
    "    'ovr_grounds_exposure',\n",
    "    'ovr_grounds_controversy',\n",
    "    'ovr_grounds_committee',\n",
    "    'ovr_grounds_inheritance'\n",
    "]"
   ]
  },
  {
   "cell_type": "code",
   "execution_count": 4,
   "metadata": {},
   "outputs": [],
   "source": [
    "overrides_beta = pd.read_excel(override_beta_path, usecols=target_cols)\n",
    "overrides_alpha = pd.read_excel(overrides, usecols=target_cols)"
   ]
  },
  {
   "cell_type": "code",
   "execution_count": 5,
   "metadata": {},
   "outputs": [
    {
     "data": {
      "text/plain": [
       "ovr_value\n",
       "OK          873\n",
       "EXCLUDED    599\n",
       "FLAG        182\n",
       "NaN          18\n",
       "Name: count, dtype: int64"
      ]
     },
     "execution_count": 5,
     "metadata": {},
     "output_type": "execute_result"
    }
   ],
   "source": [
    "overrides_alpha.ovr_value.value_counts(dropna=False)"
   ]
  },
  {
   "cell_type": "code",
   "execution_count": 6,
   "metadata": {},
   "outputs": [
    {
     "data": {
      "text/plain": [
       "ovr_value\n",
       "OK          873\n",
       "EXCLUDED    599\n",
       "FLAG        182\n",
       "NaN          18\n",
       "Name: count, dtype: int64"
      ]
     },
     "execution_count": 6,
     "metadata": {},
     "output_type": "execute_result"
    }
   ],
   "source": [
    "overrides_beta.ovr_value.value_counts(dropna=False)"
   ]
  },
  {
   "cell_type": "code",
   "execution_count": 7,
   "metadata": {},
   "outputs": [],
   "source": [
    "check_cols = ['brs_id','permid','issuer_name',]\n",
    "\n",
    "missing_ovr_val_beta = overrides_beta[overrides_beta.ovr_value.isna()][check_cols].copy()\n",
    "missing_ovr_val_alpha = overrides_alpha[overrides_alpha.ovr_value.isna()][check_cols].copy()"
   ]
  },
  {
   "cell_type": "code",
   "execution_count": 8,
   "metadata": {},
   "outputs": [
    {
     "data": {
      "text/plain": [
       "True"
      ]
     },
     "execution_count": 8,
     "metadata": {},
     "output_type": "execute_result"
    }
   ],
   "source": [
    "# are the same missing_ovr_val_alpha and missing_ovr_val_beta?\n",
    "missing_ovr_val_beta.equals(missing_ovr_val_alpha)\n"
   ]
  },
  {
   "cell_type": "code",
   "execution_count": 9,
   "metadata": {},
   "outputs": [
    {
     "name": "stdout",
     "output_type": "stream",
     "text": [
      "'creation_date',\n",
      "'last_update_date',\n",
      "'next_update_date',\n",
      "'permid',\n",
      "'brs_id',\n",
      "'issuer_name',\n",
      "'ovr_target',\n",
      "'df_value',\n",
      "'ovr_value',\n",
      "'ovr_active',\n",
      "'ovr_grounds_srating',\n",
      "'ovr_grounds_exposure',\n",
      "'ovr_grounds_controversy',\n",
      "'ovr_grounds_committee',\n",
      "'ovr_grounds_inheritance',\n"
     ]
    }
   ],
   "source": [
    "for c in overrides_beta.columns:\n",
    "    print(f\"'{c}',\")"
   ]
  },
  {
   "cell_type": "code",
   "execution_count": 10,
   "metadata": {},
   "outputs": [],
   "source": [
    "# rename brs_id for \"issuer_id\"\n",
    "overrides_beta.rename(columns={\"brs_id\": \"issuer_id\"}, inplace=True)"
   ]
  },
  {
   "cell_type": "code",
   "execution_count": 12,
   "metadata": {},
   "outputs": [
    {
     "data": {
      "text/plain": [
       "ovr_active\n",
       "True     1502\n",
       "False     170\n",
       "Name: count, dtype: int64"
      ]
     },
     "execution_count": 12,
     "metadata": {},
     "output_type": "execute_result"
    }
   ],
   "source": [
    "overrides_beta.ovr_active.value_counts(dropna=False)"
   ]
  },
  {
   "cell_type": "code",
   "execution_count": 13,
   "metadata": {},
   "outputs": [],
   "source": [
    "# Let's keep only active overrides\n",
    "overrides_clean = overrides_beta[overrides_beta.ovr_active].copy()\n",
    "# Let's keep only overrides with no nan values on ovr_value\n",
    "overrides_clean = overrides_clean[overrides_clean.ovr_value.notna()].copy()"
   ]
  },
  {
   "cell_type": "code",
   "execution_count": 14,
   "metadata": {},
   "outputs": [
    {
     "data": {
      "text/plain": [
       "array(['art_8_basicos', 'str_001_s', 'str_002_ec', 'str_003_ec',\n",
       "       'str_003b_ec', 'str_004_asec', 'str_006_sec', 'cs_003_sec',\n",
       "       'cs_002_ec', 'cs_001_sec', 'str_005_ec'], dtype=object)"
      ]
     },
     "execution_count": 14,
     "metadata": {},
     "output_type": "execute_result"
    }
   ],
   "source": [
    "overrides_clean.ovr_target.unique()"
   ]
  },
  {
   "cell_type": "markdown",
   "metadata": {},
   "source": []
  },
  {
   "cell_type": "code",
   "execution_count": 15,
   "metadata": {},
   "outputs": [
    {
     "data": {
      "text/plain": [
       "array(['EXCLUDED', 'OK', 'FLAG'], dtype=object)"
      ]
     },
     "execution_count": 15,
     "metadata": {},
     "output_type": "execute_result"
    }
   ],
   "source": [
    "overrides_clean.ovr_value.unique()"
   ]
  },
  {
   "cell_type": "code",
   "execution_count": 16,
   "metadata": {},
   "outputs": [
    {
     "data": {
      "text/html": [
       "<div>\n",
       "<style scoped>\n",
       "    .dataframe tbody tr th:only-of-type {\n",
       "        vertical-align: middle;\n",
       "    }\n",
       "\n",
       "    .dataframe tbody tr th {\n",
       "        vertical-align: top;\n",
       "    }\n",
       "\n",
       "    .dataframe thead th {\n",
       "        text-align: right;\n",
       "    }\n",
       "</style>\n",
       "<table border=\"1\" class=\"dataframe\">\n",
       "  <thead>\n",
       "    <tr style=\"text-align: right;\">\n",
       "      <th></th>\n",
       "      <th>creation_date</th>\n",
       "      <th>last_update_date</th>\n",
       "      <th>next_update_date</th>\n",
       "      <th>permid</th>\n",
       "      <th>issuer_id</th>\n",
       "      <th>issuer_name</th>\n",
       "      <th>ovr_target</th>\n",
       "      <th>df_value</th>\n",
       "      <th>ovr_value</th>\n",
       "      <th>ovr_active</th>\n",
       "      <th>ovr_grounds_srating</th>\n",
       "      <th>ovr_grounds_exposure</th>\n",
       "      <th>ovr_grounds_controversy</th>\n",
       "      <th>ovr_grounds_committee</th>\n",
       "      <th>ovr_grounds_inheritance</th>\n",
       "    </tr>\n",
       "  </thead>\n",
       "  <tbody>\n",
       "  </tbody>\n",
       "</table>\n",
       "</div>"
      ],
      "text/plain": [
       "Empty DataFrame\n",
       "Columns: [creation_date, last_update_date, next_update_date, permid, issuer_id, issuer_name, ovr_target, df_value, ovr_value, ovr_active, ovr_grounds_srating, ovr_grounds_exposure, ovr_grounds_controversy, ovr_grounds_committee, ovr_grounds_inheritance]\n",
       "Index: []"
      ]
     },
     "execution_count": 16,
     "metadata": {},
     "output_type": "execute_result"
    }
   ],
   "source": [
    "overrides_clean[overrides_clean.ovr_value.isna()]"
   ]
  },
  {
   "cell_type": "code",
   "execution_count": 17,
   "metadata": {},
   "outputs": [
    {
     "data": {
      "text/html": [
       "<div>\n",
       "<style scoped>\n",
       "    .dataframe tbody tr th:only-of-type {\n",
       "        vertical-align: middle;\n",
       "    }\n",
       "\n",
       "    .dataframe tbody tr th {\n",
       "        vertical-align: top;\n",
       "    }\n",
       "\n",
       "    .dataframe thead th {\n",
       "        text-align: right;\n",
       "    }\n",
       "</style>\n",
       "<table border=\"1\" class=\"dataframe\">\n",
       "  <thead>\n",
       "    <tr style=\"text-align: right;\">\n",
       "      <th></th>\n",
       "      <th>creation_date</th>\n",
       "      <th>last_update_date</th>\n",
       "      <th>next_update_date</th>\n",
       "      <th>permid</th>\n",
       "      <th>issuer_id</th>\n",
       "      <th>issuer_name</th>\n",
       "      <th>ovr_target</th>\n",
       "      <th>df_value</th>\n",
       "      <th>ovr_value</th>\n",
       "      <th>ovr_active</th>\n",
       "      <th>ovr_grounds_srating</th>\n",
       "      <th>ovr_grounds_exposure</th>\n",
       "      <th>ovr_grounds_controversy</th>\n",
       "      <th>ovr_grounds_committee</th>\n",
       "      <th>ovr_grounds_inheritance</th>\n",
       "    </tr>\n",
       "  </thead>\n",
       "  <tbody>\n",
       "    <tr>\n",
       "      <th>5</th>\n",
       "      <td>2024-09-01</td>\n",
       "      <td>2024-09-01</td>\n",
       "      <td>2025-03-01</td>\n",
       "      <td>8589934175</td>\n",
       "      <td>949740</td>\n",
       "      <td>Wells Fargo &amp; Co</td>\n",
       "      <td>art_8_basicos</td>\n",
       "      <td>OK</td>\n",
       "      <td>EXCLUDED</td>\n",
       "      <td>True</td>\n",
       "      <td>NaN</td>\n",
       "      <td>NaN</td>\n",
       "      <td>NaN</td>\n",
       "      <td>NaN</td>\n",
       "      <td>x</td>\n",
       "    </tr>\n",
       "    <tr>\n",
       "      <th>6</th>\n",
       "      <td>2024-09-01</td>\n",
       "      <td>2024-09-01</td>\n",
       "      <td>2025-03-01</td>\n",
       "      <td>8589934312</td>\n",
       "      <td>128005</td>\n",
       "      <td>Credit Agricole SA</td>\n",
       "      <td>str_001_s</td>\n",
       "      <td>EXCLUDED</td>\n",
       "      <td>OK</td>\n",
       "      <td>True</td>\n",
       "      <td>NaN</td>\n",
       "      <td>NaN</td>\n",
       "      <td>NaN</td>\n",
       "      <td>NaN</td>\n",
       "      <td>x</td>\n",
       "    </tr>\n",
       "    <tr>\n",
       "      <th>7</th>\n",
       "      <td>2024-09-01</td>\n",
       "      <td>2024-09-01</td>\n",
       "      <td>2025-03-01</td>\n",
       "      <td>8589934312</td>\n",
       "      <td>128005</td>\n",
       "      <td>Credit Agricole SA</td>\n",
       "      <td>str_002_ec</td>\n",
       "      <td>EXCLUDED</td>\n",
       "      <td>OK</td>\n",
       "      <td>True</td>\n",
       "      <td>NaN</td>\n",
       "      <td>NaN</td>\n",
       "      <td>NaN</td>\n",
       "      <td>NaN</td>\n",
       "      <td>x</td>\n",
       "    </tr>\n",
       "    <tr>\n",
       "      <th>8</th>\n",
       "      <td>2024-09-01</td>\n",
       "      <td>2024-09-01</td>\n",
       "      <td>2025-03-01</td>\n",
       "      <td>8589934312</td>\n",
       "      <td>128005</td>\n",
       "      <td>Credit Agricole SA</td>\n",
       "      <td>str_003_ec</td>\n",
       "      <td>EXCLUDED</td>\n",
       "      <td>OK</td>\n",
       "      <td>True</td>\n",
       "      <td>NaN</td>\n",
       "      <td>NaN</td>\n",
       "      <td>NaN</td>\n",
       "      <td>NaN</td>\n",
       "      <td>x</td>\n",
       "    </tr>\n",
       "    <tr>\n",
       "      <th>9</th>\n",
       "      <td>2024-09-01</td>\n",
       "      <td>2024-09-01</td>\n",
       "      <td>2025-03-01</td>\n",
       "      <td>8589934312</td>\n",
       "      <td>128005</td>\n",
       "      <td>Credit Agricole SA</td>\n",
       "      <td>str_003b_ec</td>\n",
       "      <td>EXCLUDED</td>\n",
       "      <td>OK</td>\n",
       "      <td>True</td>\n",
       "      <td>NaN</td>\n",
       "      <td>NaN</td>\n",
       "      <td>NaN</td>\n",
       "      <td>NaN</td>\n",
       "      <td>x</td>\n",
       "    </tr>\n",
       "  </tbody>\n",
       "</table>\n",
       "</div>"
      ],
      "text/plain": [
       "  creation_date last_update_date next_update_date      permid issuer_id  \\\n",
       "5    2024-09-01       2024-09-01       2025-03-01  8589934175    949740   \n",
       "6    2024-09-01       2024-09-01       2025-03-01  8589934312    128005   \n",
       "7    2024-09-01       2024-09-01       2025-03-01  8589934312    128005   \n",
       "8    2024-09-01       2024-09-01       2025-03-01  8589934312    128005   \n",
       "9    2024-09-01       2024-09-01       2025-03-01  8589934312    128005   \n",
       "\n",
       "          issuer_name     ovr_target  df_value ovr_value  ovr_active  \\\n",
       "5    Wells Fargo & Co  art_8_basicos        OK  EXCLUDED        True   \n",
       "6  Credit Agricole SA      str_001_s  EXCLUDED        OK        True   \n",
       "7  Credit Agricole SA     str_002_ec  EXCLUDED        OK        True   \n",
       "8  Credit Agricole SA     str_003_ec  EXCLUDED        OK        True   \n",
       "9  Credit Agricole SA    str_003b_ec  EXCLUDED        OK        True   \n",
       "\n",
       "  ovr_grounds_srating ovr_grounds_exposure ovr_grounds_controversy  \\\n",
       "5                 NaN                  NaN                     NaN   \n",
       "6                 NaN                  NaN                     NaN   \n",
       "7                 NaN                  NaN                     NaN   \n",
       "8                 NaN                  NaN                     NaN   \n",
       "9                 NaN                  NaN                     NaN   \n",
       "\n",
       "  ovr_grounds_committee ovr_grounds_inheritance  \n",
       "5                   NaN                       x  \n",
       "6                   NaN                       x  \n",
       "7                   NaN                       x  \n",
       "8                   NaN                       x  \n",
       "9                   NaN                       x  "
      ]
     },
     "execution_count": 17,
     "metadata": {},
     "output_type": "execute_result"
    }
   ],
   "source": [
    "overrides_clean.head()"
   ]
  },
  {
   "cell_type": "code",
   "execution_count": 18,
   "metadata": {},
   "outputs": [],
   "source": [
    "def generate_identifiers(df):\n",
    "    # Mapping for ovr_target\n",
    "    target_map = {\n",
    "        'art_8_basicos': 'art08',\n",
    "        'str_001_s': 'str01',\n",
    "        'str_002_ec': 'str02',\n",
    "        'str_003_ec': 'str03',\n",
    "        'str_003b_ec': 'str3b',\n",
    "        'str_004_asec': 'str04',\n",
    "        'str_006_sec': 'str06',\n",
    "        'cs_003_sec': 'cs03',\n",
    "        'cs_002_ec': 'cs02',\n",
    "        'cs_001_sec': 'cs01',\n",
    "        'str_005_ec': 'str05',\n",
    "    }\n",
    "\n",
    "    # Mapping for ovr_value\n",
    "    value_map = {\n",
    "        'EXCLUDED': 'ex',\n",
    "        'OK': 'ok',\n",
    "        'FLAG': 'fl'\n",
    "    }\n",
    "\n",
    "    identifiers = []\n",
    "    counter = 1\n",
    "\n",
    "    for idx, row in df.iterrows():\n",
    "        base = 'ovr'\n",
    "\n",
    "        target_part = target_map.get(row['ovr_target'], 'unk')  # fallback 'unk'\n",
    "        value_part = value_map.get(row['ovr_value'], 'xx')      # fallback 'xx'\n",
    "        issuer_part = row['issuer_name'][:3].lower()\n",
    "\n",
    "        try:\n",
    "            date_part = pd.to_datetime(row['creation_date']).strftime('%Y%m%d')\n",
    "        except (ValueError, TypeError):\n",
    "            date_part = 'yyyymmdd' # fallback for missing dates\n",
    "\n",
    "        counter_part = f\"{counter:03d}\"\n",
    "\n",
    "        identifier = f\"{base}{target_part}{value_part}{issuer_part}{date_part}{counter_part}\"\n",
    "        identifiers.append(identifier)\n",
    "\n",
    "        counter += 1\n",
    "\n",
    "    return identifiers"
   ]
  },
  {
   "cell_type": "code",
   "execution_count": 19,
   "metadata": {},
   "outputs": [],
   "source": [
    "# generate override id\n",
    "overrides_clean['ovr_id'] = generate_identifiers(overrides_clean)\n",
    "# place override id at the beginning of the dataframe\n",
    "cols = overrides_clean.columns.tolist()\n",
    "cols.insert(0, cols.pop(cols.index('ovr_id')))\n",
    "overrides_clean = overrides_clean[cols]"
   ]
  },
  {
   "cell_type": "code",
   "execution_count": 20,
   "metadata": {},
   "outputs": [],
   "source": [
    "# save as csv file in override_out_file_path\n",
    "overrides_clean.to_csv(override_out_file_path, index=False)\n"
   ]
  },
  {
   "cell_type": "code",
   "execution_count": 22,
   "metadata": {},
   "outputs": [
    {
     "name": "stdout",
     "output_type": "stream",
     "text": [
      "'ovr_id': object,\n",
      "'creation_date': datetime64[ns],\n",
      "'last_update_date': datetime64[ns],\n",
      "'next_update_date': datetime64[ns],\n",
      "'permid': int64,\n",
      "'issuer_id': object,\n",
      "'issuer_name': object,\n",
      "'ovr_target': object,\n",
      "'df_value': object,\n",
      "'ovr_value': object,\n",
      "'ovr_active': bool,\n",
      "'ovr_grounds_srating': object,\n",
      "'ovr_grounds_exposure': object,\n",
      "'ovr_grounds_controversy': object,\n",
      "'ovr_grounds_committee': object,\n",
      "'ovr_grounds_inheritance': object,\n"
     ]
    }
   ],
   "source": [
    "# print columns datatype\n",
    "for c in overrides_clean.columns:\n",
    "    print(f\"'{c}': {overrides_clean[c].dtype},\")"
   ]
  },
  {
   "cell_type": "code",
   "execution_count": null,
   "metadata": {},
   "outputs": [],
   "source": []
  }
 ],
 "metadata": {
  "kernelspec": {
   "display_name": ".venv",
   "language": "python",
   "name": "python3"
  },
  "language_info": {
   "codemirror_mode": {
    "name": "ipython",
    "version": 3
   },
   "file_extension": ".py",
   "mimetype": "text/x-python",
   "name": "python",
   "nbconvert_exporter": "python",
   "pygments_lexer": "ipython3",
   "version": "3.13.0"
  }
 },
 "nbformat": 4,
 "nbformat_minor": 2
}
