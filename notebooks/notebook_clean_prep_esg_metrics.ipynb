{
 "cells": [
  {
   "cell_type": "code",
   "execution_count": 2,
   "metadata": {},
   "outputs": [
    {
     "name": "stdout",
     "output_type": "stream",
     "text": [
      "Added to sys.path: c:\\Users\\n740789\\Documents\\clarity_data_quality_controls\n"
     ]
    }
   ],
   "source": [
    "import sys\n",
    "from pathlib import Path\n",
    "from datetime import datetime\n",
    "\n",
    "# Get the parent directory of current notebook dir, which is the repo root\n",
    "repo_root = Path.cwd().parent\n",
    "sys.path.insert(0, str(repo_root))\n",
    "\n",
    "# Verify the path is correct:\n",
    "print(f\"Added to sys.path: {repo_root}\")\n",
    "\n",
    "import pandas as pd\n",
    "\n",
    "\n",
    "# Now import your module\n",
    "from scripts.utils.config import get_config"
   ]
  },
  {
   "cell_type": "code",
   "execution_count": 30,
   "metadata": {},
   "outputs": [],
   "source": [
    "metrics_map_path = Path(r\"C:\\Users\\n740789\\Documents\\clarity_data_quality_controls\\excel_books\\sri_data\\esg_metrics\\esg_metrics_table.csv\")\n",
    "metric_fina_path = Path(r\"C:\\Users\\n740789\\Documents\\clarity_data_quality_controls\\excel_books\\sri_data\\esg_metrics\\esg_dim_metrics.csv\")\n",
    "metrics = pd.read_csv(metrics_map_path)\n",
    "metrics_final = pd.read_csv(metric_fina_path)"
   ]
  },
  {
   "cell_type": "code",
   "execution_count": 28,
   "metadata": {},
   "outputs": [
    {
     "name": "stderr",
     "output_type": "stream",
     "text": [
      "C:\\Users\\n740789\\AppData\\Local\\Temp\\ipykernel_12004\\114998973.py:2: FutureWarning: Setting an item of incompatible dtype is deprecated and will raise in a future error of pandas. Value 'missing description' has dtype incompatible with float64, please explicitly cast to a compatible dtype first.\n",
      "  metrics_final.loc[:, \"description\"] = \"missing description\"\n"
     ]
    }
   ],
   "source": [
    "# add a column named \"description\" to the metrics_final dataframe with an emptpy string\n",
    "#metrics_final.loc[:, \"description\"] = \"missing description\""
   ]
  },
  {
   "cell_type": "code",
   "execution_count": 29,
   "metadata": {},
   "outputs": [],
   "source": [
    "# save metrics final in metric_fina_path\n",
    "#metrics_final.to_csv(metric_fina_path, index=False)"
   ]
  },
  {
   "cell_type": "code",
   "execution_count": 31,
   "metadata": {},
   "outputs": [
    {
     "name": "stdout",
     "output_type": "stream",
     "text": [
      "'metric_id': object,\n",
      "'metric_name': object,\n",
      "'metric_category': object,\n",
      "'metric_type': object,\n",
      "'data_provider': object,\n",
      "'description': object,\n"
     ]
    }
   ],
   "source": [
    "# print columns datatype\n",
    "for c in metrics_final.columns:\n",
    "    print(f\"'{c}': {metrics_final[c].dtype},\")"
   ]
  },
  {
   "cell_type": "code",
   "execution_count": 10,
   "metadata": {},
   "outputs": [],
   "source": [
    "metrics.sort_values(by=\"metric_id\", inplace=True)"
   ]
  },
  {
   "cell_type": "code",
   "execution_count": 13,
   "metadata": {},
   "outputs": [
    {
     "data": {
      "text/html": [
       "<div>\n",
       "<style scoped>\n",
       "    .dataframe tbody tr th:only-of-type {\n",
       "        vertical-align: middle;\n",
       "    }\n",
       "\n",
       "    .dataframe tbody tr th {\n",
       "        vertical-align: top;\n",
       "    }\n",
       "\n",
       "    .dataframe thead th {\n",
       "        text-align: right;\n",
       "    }\n",
       "</style>\n",
       "<table border=\"1\" class=\"dataframe\">\n",
       "  <thead>\n",
       "    <tr style=\"text-align: right;\">\n",
       "      <th></th>\n",
       "      <th>metric_id</th>\n",
       "      <th>metric_name</th>\n",
       "      <th>metric_category</th>\n",
       "      <th>metric_type</th>\n",
       "      <th>data_provider</th>\n",
       "    </tr>\n",
       "  </thead>\n",
       "  <tbody>\n",
       "    <tr>\n",
       "      <th>246</th>\n",
       "      <td>495</td>\n",
       "      <td>minexp_oil_fuels_part</td>\n",
       "      <td>Expousure Metrics</td>\n",
       "      <td>float64</td>\n",
       "      <td>Clarity.ai</td>\n",
       "    </tr>\n",
       "    <tr>\n",
       "      <th>247</th>\n",
       "      <td>496</td>\n",
       "      <td>maxexp_oil_fuels_part</td>\n",
       "      <td>Expousure Metrics</td>\n",
       "      <td>float64</td>\n",
       "      <td>Clarity.ai</td>\n",
       "    </tr>\n",
       "    <tr>\n",
       "      <th>248</th>\n",
       "      <td>497</td>\n",
       "      <td>group_policy</td>\n",
       "      <td>Group Policies</td>\n",
       "      <td>bool</td>\n",
       "      <td>Santander Group</td>\n",
       "    </tr>\n",
       "    <tr>\n",
       "      <th>249</th>\n",
       "      <td>498</td>\n",
       "      <td>defense_policy</td>\n",
       "      <td>Group Policies</td>\n",
       "      <td>bool</td>\n",
       "      <td>Santander Group</td>\n",
       "    </tr>\n",
       "    <tr>\n",
       "      <th>250</th>\n",
       "      <td>500</td>\n",
       "      <td>climate_policy</td>\n",
       "      <td>Group Policies</td>\n",
       "      <td>bool</td>\n",
       "      <td>Santander Group</td>\n",
       "    </tr>\n",
       "  </tbody>\n",
       "</table>\n",
       "</div>"
      ],
      "text/plain": [
       "     metric_id            metric_name    metric_category metric_type  \\\n",
       "246        495  minexp_oil_fuels_part  Expousure Metrics     float64   \n",
       "247        496  maxexp_oil_fuels_part  Expousure Metrics     float64   \n",
       "248        497           group_policy     Group Policies        bool   \n",
       "249        498         defense_policy     Group Policies        bool   \n",
       "250        500         climate_policy     Group Policies        bool   \n",
       "\n",
       "       data_provider  \n",
       "246       Clarity.ai  \n",
       "247       Clarity.ai  \n",
       "248  Santander Group  \n",
       "249  Santander Group  \n",
       "250  Santander Group  "
      ]
     },
     "execution_count": 13,
     "metadata": {},
     "output_type": "execute_result"
    }
   ],
   "source": [
    "metrics.tail()"
   ]
  },
  {
   "cell_type": "code",
   "execution_count": 6,
   "metadata": {},
   "outputs": [],
   "source": [
    "#\"metclascore\", \"metclascont, \"metclascore\""
   ]
  },
  {
   "cell_type": "code",
   "execution_count": 15,
   "metadata": {},
   "outputs": [
    {
     "data": {
      "text/plain": [
       "array(['int64', 'float64', 'string', 'bool'], dtype=object)"
      ]
     },
     "execution_count": 15,
     "metadata": {},
     "output_type": "execute_result"
    }
   ],
   "source": [
    "metrics.metric_type.unique()"
   ]
  },
  {
   "cell_type": "code",
   "execution_count": 12,
   "metadata": {},
   "outputs": [],
   "source": [
    "metrics.loc[metrics.metric_category==\"Group Policies\", \"data_provider\"] = \"Santander Group\""
   ]
  },
  {
   "cell_type": "code",
   "execution_count": null,
   "metadata": {},
   "outputs": [],
   "source": []
  }
 ],
 "metadata": {
  "kernelspec": {
   "display_name": ".venv",
   "language": "python",
   "name": "python3"
  },
  "language_info": {
   "codemirror_mode": {
    "name": "ipython",
    "version": 3
   },
   "file_extension": ".py",
   "mimetype": "text/x-python",
   "name": "python",
   "nbconvert_exporter": "python",
   "pygments_lexer": "ipython3",
   "version": "3.13.0"
  }
 },
 "nbformat": 4,
 "nbformat_minor": 2
}
